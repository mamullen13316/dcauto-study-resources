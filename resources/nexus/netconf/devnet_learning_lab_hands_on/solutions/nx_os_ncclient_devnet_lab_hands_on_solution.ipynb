{
 "cells": [
  {
   "cell_type": "code",
   "execution_count": 6,
   "id": "6bedd19c-93a5-48fa-9594-24d3fdacdd28",
   "metadata": {},
   "outputs": [],
   "source": [
    "# Imports\n",
    "from ncclient import manager\n",
    "from xmltodict import parse, unparse\n",
    "from lxml.etree import fromstring\n",
    "from pprint import pprint as pp"
   ]
  },
  {
   "cell_type": "code",
   "execution_count": 2,
   "id": "d014f088-1061-44d0-b9f9-0a8e53b12a80",
   "metadata": {},
   "outputs": [],
   "source": [
    "# Constants\n",
    "DEVICE = {\n",
    "    'host': '10.10.20.58',\n",
    "    'port': 830,\n",
    "    'username': 'admin',\n",
    "    'password': 'Cisco123',\n",
    "    'hostkey_verify': False,\n",
    "    'device_params': {\n",
    "        'name': 'nexus'\n",
    "    }\n",
    "}"
   ]
  },
  {
   "cell_type": "code",
   "execution_count": 14,
   "id": "4b3603f5-5232-43c7-a760-75f527b42282",
   "metadata": {},
   "outputs": [],
   "source": [
    "# Get NETCONF Capabilities\n",
    "with manager.connect(**DEVICE) as m:\n",
    "    caps = m.server_capabilities"
   ]
  },
  {
   "cell_type": "code",
   "execution_count": 16,
   "id": "a4765df3-4a80-4fbf-9c6f-8c507fc44fe8",
   "metadata": {},
   "outputs": [
    {
     "name": "stdout",
     "output_type": "stream",
     "text": [
      "urn:ietf:params:netconf:base:1.0\n",
      "urn:ietf:params:netconf:base:1.1\n",
      "urn:ietf:params:netconf:capability:writable-running:1.0\n",
      "urn:ietf:params:netconf:capability:rollback-on-error:1.0\n",
      "urn:ietf:params:netconf:capability:candidate:1.0\n",
      "urn:ietf:params:netconf:capability:validate:1.1\n",
      "urn:ietf:params:netconf:capability:confirmed-commit:1.1\n",
      "urn:ietf:params:netconf:capability:notification:1.0\n",
      "urn:ietf:params:netconf:capability:interleave:1.0\n",
      "urn:ietf:params:netconf:capability:with-defaults:1.0\n",
      "http://cisco.com/ns/yang/cisco-nx-os-device\n",
      "http://openconfig.net/yang/acl\n",
      "http://openconfig.net/yang/bfd\n",
      "http://openconfig.net/yang/bgp-policy\n",
      "http://openconfig.net/yang/interfaces\n",
      "http://openconfig.net/yang/interfaces/aggregate\n",
      "http://openconfig.net/yang/interfaces/ethernet\n",
      "http://openconfig.net/yang/interfaces/ip\n",
      "http://openconfig.net/yang/interfaces/ip-ext\n",
      "http://openconfig.net/yang/lacp\n",
      "http://openconfig.net/yang/lldp\n",
      "http://openconfig.net/yang/network-instance\n",
      "http://openconfig.net/yang/network-instance/policy\n",
      "http://openconfig.net/yang/ospf-policy\n",
      "http://openconfig.net/yang/platform\n",
      "http://openconfig.net/yang/platform/cpu\n",
      "http://openconfig.net/yang/platform/fan\n",
      "http://openconfig.net/yang/platform/linecard\n",
      "http://openconfig.net/yang/platform/port\n",
      "http://openconfig.net/yang/platform/psu\n",
      "http://openconfig.net/yang/platform/transceiver\n",
      "http://openconfig.net/yang/qos\n",
      "http://openconfig.net/yang/relay-agent\n",
      "http://openconfig.net/yang/routing-policy\n",
      "http://openconfig.net/yang/spanning-tree\n",
      "http://openconfig.net/yang/system\n",
      "http://openconfig.net/yang/telemetry\n",
      "http://openconfig.net/yang/vlan\n"
     ]
    }
   ],
   "source": [
    "# Print NETCONF Capabilities\n",
    "for c in caps:\n",
    "    print(c.split('?')[0])"
   ]
  },
  {
   "cell_type": "code",
   "execution_count": 65,
   "id": "4807d101-5746-4d54-8418-ca3ab2fd04b2",
   "metadata": {},
   "outputs": [],
   "source": [
    "# Construct filter to get serial number\n",
    "filter = '''\n",
    "<filter>\n",
    "    <System xmlns=\"http://cisco.com/ns/yang/cisco-nx-os-device\">\n",
    "        <serial/>\n",
    "    </System>\n",
    "</filter>\n",
    "'''"
   ]
  },
  {
   "cell_type": "code",
   "execution_count": 66,
   "id": "e52aeefc-2a46-455f-915f-a18f1a090cdd",
   "metadata": {},
   "outputs": [],
   "source": [
    "# Get the serial number\n",
    "with manager.connect(**DEVICE) as m:\n",
    "    r = m.get(filter=filter)"
   ]
  },
  {
   "cell_type": "code",
   "execution_count": 77,
   "id": "8d4fd68e-0df8-4657-921d-55825a41d44d",
   "metadata": {},
   "outputs": [
    {
     "name": "stdout",
     "output_type": "stream",
     "text": [
      "91OMZP37WBR\n"
     ]
    }
   ],
   "source": [
    "print(r.data_ele.find('.//{http://cisco.com/ns/yang/cisco-nx-os-device}serial').text)"
   ]
  },
  {
   "cell_type": "code",
   "execution_count": 88,
   "id": "7d477002-70c5-4166-ad2c-7fce0fceeafe",
   "metadata": {},
   "outputs": [
    {
     "data": {
      "text/plain": [
       "<Element config at 0x7ff0ec2a1140>"
      ]
     },
     "execution_count": 88,
     "metadata": {},
     "output_type": "execute_result"
    }
   ],
   "source": [
    "config = '''\n",
    "<config>\n",
    "    <System xmlns=\"http://cisco.com/ns/yang/cisco-nx-os-device\">\n",
    "        <intf-items>\n",
    "            <lb-items>\n",
    "                <LbRtdIf-list>\n",
    "                    <id>lo10</id>\n",
    "                    <descr>Test NETCONF LB</descr>\n",
    "                    <adminSt>up</adminSt>\n",
    "                </LbRtdIf-list>\n",
    "            </lb-items>\n",
    "        </intf-items>\n",
    "        <ipv4-items>\n",
    "            <inst-items>\n",
    "                <dom-items>\n",
    "                    <Dom-list>\n",
    "                        <name>default</name>\n",
    "                        <if-items>\n",
    "                            <If-list>\n",
    "                                <id>lo10</id>\n",
    "                                <addr-items>\n",
    "                                    <Addr-list>\n",
    "                                        <addr>1.1.1.2/32</addr>\n",
    "                                    </Addr-list>\n",
    "                                </addr-items>\n",
    "                            </If-list>\n",
    "                        </if-items>\n",
    "                    </Dom-list>\n",
    "                </dom-items>\n",
    "            </inst-items>\n",
    "        </ipv4-items>\n",
    "    </System>\n",
    "</config>\n",
    "'''\n",
    "fromstring(config)"
   ]
  },
  {
   "cell_type": "code",
   "execution_count": 89,
   "id": "3c46d928-86b3-4a3c-97c5-c2276568e98f",
   "metadata": {},
   "outputs": [],
   "source": [
    "# Create the interface\n",
    "with manager.connect(**DEVICE) as m:\n",
    "    r = m.edit_config(target='running', config=config)"
   ]
  },
  {
   "cell_type": "code",
   "execution_count": 90,
   "id": "32f92203-913e-4f0a-b3b7-670717006c3c",
   "metadata": {},
   "outputs": [
    {
     "name": "stdout",
     "output_type": "stream",
     "text": [
      "<?xml version=\"1.0\" encoding=\"UTF-8\"?>\n",
      "<rpc-reply xmlns:nxos=\"http://www.cisco.com/nxos:1.0\" xmlns:if=\"http://www.cisco.com/nxos:1.0:if_manager\" xmlns:nfcli=\"http://www.cisco.com/nxos:1.0:nfcli\" xmlns:vlan_mgr_cli=\"http://www.cisco.com/nxos:1.0:vlan_mgr_cli\" xmlns=\"urn:ietf:params:xml:ns:netconf:base:1.0\" message-id=\"urn:uuid:45eb0848-9fc3-4969-9964-45938cc67b69\">\n",
      "    <ok/>\n",
      "</rpc-reply>\n",
      "\n"
     ]
    }
   ],
   "source": [
    "# Display the response\n",
    "print(r)"
   ]
  },
  {
   "cell_type": "code",
   "execution_count": 175,
   "id": "cc9fe819-a38b-47a3-a67e-f7f7733e2f7a",
   "metadata": {},
   "outputs": [
    {
     "data": {
      "text/plain": [
       "<Element config at 0x7ff0ec1076c0>"
      ]
     },
     "execution_count": 175,
     "metadata": {},
     "output_type": "execute_result"
    }
   ],
   "source": [
    "# Create the BGP payload\n",
    "config = '''\n",
    "<config>\n",
    "    <System xmlns=\"http://cisco.com/ns/yang/cisco-nx-os-device\">\n",
    "        <bgp-items>\n",
    "            <inst-items>\n",
    "                <asn>65535</asn>\n",
    "                <dom-items>\n",
    "                    <Dom-list>\n",
    "                        <name>default</name>\n",
    "                        <rtrId>1.1.1.2</rtrId>\n",
    "                    </Dom-list>\n",
    "                </dom-items>\n",
    "            </inst-items>\n",
    "        </bgp-items>\n",
    "    </System>\n",
    "</config>\n",
    "'''\n",
    "fromstring(config)"
   ]
  },
  {
   "cell_type": "code",
   "execution_count": 176,
   "id": "6c20eb64-ff0d-42b9-ae58-9c8e4feaf2b7",
   "metadata": {},
   "outputs": [
    {
     "name": "stdout",
     "output_type": "stream",
     "text": [
      "<?xml version=\"1.0\" encoding=\"UTF-8\"?>\n",
      "<rpc-reply xmlns:nxos=\"http://www.cisco.com/nxos:1.0\" xmlns:if=\"http://www.cisco.com/nxos:1.0:if_manager\" xmlns:nfcli=\"http://www.cisco.com/nxos:1.0:nfcli\" xmlns:vlan_mgr_cli=\"http://www.cisco.com/nxos:1.0:vlan_mgr_cli\" xmlns=\"urn:ietf:params:xml:ns:netconf:base:1.0\" message-id=\"urn:uuid:d82bb6c2-0027-4876-86c4-386dfa31ed27\">\n",
      "    <ok/>\n",
      "</rpc-reply>\n",
      "\n"
     ]
    }
   ],
   "source": [
    "# Configure BGP\n",
    "with manager.connect(**DEVICE) as m:\n",
    "    r = m.edit_config(target='running', config=config)\n",
    "    print(r)"
   ]
  },
  {
   "cell_type": "code",
   "execution_count": 139,
   "id": "3e795877-638e-429e-8f30-f374dd6817e0",
   "metadata": {},
   "outputs": [
    {
     "data": {
      "text/plain": [
       "<Element config at 0x7ff0ec1b6900>"
      ]
     },
     "execution_count": 139,
     "metadata": {},
     "output_type": "execute_result"
    }
   ],
   "source": [
    "# Add BGP prefix\n",
    "config = '''\n",
    "<config>\n",
    "    <System xmlns=\"http://cisco.com/ns/yang/cisco-nx-os-device\">\n",
    "        <bgp-items>\n",
    "            <inst-items>\n",
    "                <dom-items>\n",
    "                    <Dom-list>\n",
    "                        <name>default</name>\n",
    "                        <af-items>\n",
    "                            <DomAf-list>\n",
    "                                <type>ipv4-ucast</type>\n",
    "                                <prefix-items>\n",
    "                                    <AdvPrefix-list>\n",
    "                                        <addr>1.1.1.2/32</addr>\n",
    "                                    </AdvPrefix-list>\n",
    "                                </prefix-items>\n",
    "                            </DomAf-list>\n",
    "                        </af-items>\n",
    "                    </Dom-list>\n",
    "                </dom-items>\n",
    "            </inst-items>\n",
    "        </bgp-items>\n",
    "    </System>\n",
    "</config>\n",
    "'''\n",
    "fromstring(config)"
   ]
  },
  {
   "cell_type": "code",
   "execution_count": 141,
   "id": "228bf988-345c-408c-8ed4-3bd8ca0e2c0a",
   "metadata": {},
   "outputs": [],
   "source": [
    "# Send the BGP prefix config\n",
    "with manager.connect(**DEVICE) as m:\n",
    "    r = m.edit_config(target='running', config=config)"
   ]
  },
  {
   "cell_type": "code",
   "execution_count": 121,
   "id": "89b9213c-9f83-4df2-95e2-c871d414d003",
   "metadata": {},
   "outputs": [
    {
     "name": "stdout",
     "output_type": "stream",
     "text": [
      "<?xml version=\"1.0\" encoding=\"UTF-8\"?>\n",
      "<rpc-reply xmlns:nxos=\"http://www.cisco.com/nxos:1.0\" xmlns:if=\"http://www.cisco.com/nxos:1.0:if_manager\" xmlns:nfcli=\"http://www.cisco.com/nxos:1.0:nfcli\" xmlns:vlan_mgr_cli=\"http://www.cisco.com/nxos:1.0:vlan_mgr_cli\" xmlns=\"urn:ietf:params:xml:ns:netconf:base:1.0\" message-id=\"urn:uuid:9e871231-1928-4990-8c93-e05f8312dc7a\">\n",
      "    <ok/>\n",
      "</rpc-reply>\n",
      "\n"
     ]
    }
   ],
   "source": [
    "# Display the response\n",
    "print(r)"
   ]
  },
  {
   "cell_type": "code",
   "execution_count": 122,
   "id": "e14e040e-e951-47ea-a8b7-a5e127229d18",
   "metadata": {},
   "outputs": [
    {
     "data": {
      "text/plain": [
       "<Element filter at 0x7ff0ec250240>"
      ]
     },
     "execution_count": 122,
     "metadata": {},
     "output_type": "execute_result"
    }
   ],
   "source": [
    "# Get the BGP prefix\n",
    "filter = '''\n",
    "<filter>\n",
    "    <System xmlns=\"http://cisco.com/ns/yang/cisco-nx-os-device\">\n",
    "        <bgp-items>\n",
    "            <inst-items>\n",
    "                <dom-items>\n",
    "                    <Dom-list>\n",
    "                        <name>default</name>\n",
    "                        <af-items>\n",
    "                            <DomAf-list>\n",
    "                                <type>ipv4-ucast</type>\n",
    "                                <prefix-items>\n",
    "                                    <AdvPrefix-list/>\n",
    "                                </prefix-items>\n",
    "                            </DomAf-list>\n",
    "                        </af-items>\n",
    "                    </Dom-list>\n",
    "                </dom-items>\n",
    "            </inst-items>\n",
    "        </bgp-items>\n",
    "    </System>\n",
    "</filter>\n",
    "'''\n",
    "fromstring(filter)"
   ]
  },
  {
   "cell_type": "code",
   "execution_count": 124,
   "id": "bb566271-3089-49e0-a893-a44aa1da1453",
   "metadata": {},
   "outputs": [
    {
     "name": "stdout",
     "output_type": "stream",
     "text": [
      "<?xml version=\"1.0\" encoding=\"UTF-8\"?>\n",
      "<rpc-reply xmlns:nxos=\"http://www.cisco.com/nxos:1.0\" xmlns:if=\"http://www.cisco.com/nxos:1.0:if_manager\" xmlns:nfcli=\"http://www.cisco.com/nxos:1.0:nfcli\" xmlns:vlan_mgr_cli=\"http://www.cisco.com/nxos:1.0:vlan_mgr_cli\" xmlns=\"urn:ietf:params:xml:ns:netconf:base:1.0\" message-id=\"urn:uuid:c6ab2bf6-68ab-453e-9bf6-d1e0122c8a66\">\n",
      "    <data>\n",
      "        <System xmlns=\"http://cisco.com/ns/yang/cisco-nx-os-device\">\n",
      "            <bgp-items>\n",
      "                <inst-items>\n",
      "                    <dom-items>\n",
      "                        <Dom-list>\n",
      "                            <name>default</name>\n",
      "                            <af-items>\n",
      "                                <DomAf-list>\n",
      "                                    <type>ipv4-ucast</type>\n",
      "                                    <prefix-items>\n",
      "                                        <AdvPrefix-list>\n",
      "                                            <addr>1.1.1.2/32</addr>\n",
      "                                        </AdvPrefix-list>\n",
      "                                        <AdvPrefix-list>\n",
      "                                            <addr>172.16.0.0/16</addr>\n",
      "                                        </AdvPrefix-list>\n",
      "                                    </prefix-items>\n",
      "                                </DomAf-list>\n",
      "                            </af-items>\n",
      "                        </Dom-list>\n",
      "                    </dom-items>\n",
      "                </inst-items>\n",
      "            </bgp-items>\n",
      "        </System>\n",
      "    </data>\n",
      "</rpc-reply>\n",
      "\n"
     ]
    }
   ],
   "source": [
    "# Get the serial number\n",
    "with manager.connect(**DEVICE) as m:\n",
    "    r = m.get_config(source='running', filter=filter)\n",
    "\n",
    "print(r)"
   ]
  },
  {
   "cell_type": "code",
   "execution_count": 172,
   "id": "274188cb-428b-4458-8b69-33bfb05e9cbb",
   "metadata": {},
   "outputs": [
    {
     "data": {
      "text/plain": [
       "<Element config at 0x7ff0ec11b200>"
      ]
     },
     "execution_count": 172,
     "metadata": {},
     "output_type": "execute_result"
    }
   ],
   "source": [
    "# Delete BGP prefix\n",
    "# Add the following attribute to the <prefix-items> tag:\n",
    "# xmlns:nc=\"urn:ietf:params:xml:ns:netconf:base:1.0\" nc:operation=\"delete\"\n",
    "\n",
    "# This abbreviated version also works:\n",
    "# operation=\"delete\"\n",
    "config = '''\n",
    "<config>\n",
    "    <System xmlns=\"http://cisco.com/ns/yang/cisco-nx-os-device\">\n",
    "        <bgp-items>\n",
    "            <inst-items>\n",
    "                <dom-items>\n",
    "                    <Dom-list>\n",
    "                        <name>default</name>\n",
    "                        <af-items>\n",
    "                            <DomAf-list>\n",
    "                                <type>ipv4-ucast</type>\n",
    "                                <prefix-items xmlns:nc=\"urn:ietf:params:xml:ns:netconf:base:1.0\" nc:operation=\"delete\">\n",
    "                                    <AdvPrefix-list>\n",
    "                                        <addr>1.1.1.2/32</addr>\n",
    "                                    </AdvPrefix-list>\n",
    "                                </prefix-items>\n",
    "                            </DomAf-list>\n",
    "                        </af-items>\n",
    "                    </Dom-list>\n",
    "                </dom-items>\n",
    "            </inst-items>\n",
    "        </bgp-items>\n",
    "    </System>\n",
    "</config>\n",
    "'''\n",
    "fromstring(config)"
   ]
  },
  {
   "cell_type": "code",
   "execution_count": 143,
   "id": "0bc24d12-5e3c-48ef-9ebc-d4c42f995c81",
   "metadata": {},
   "outputs": [],
   "source": [
    "# Send the BGP prefix config\n",
    "with manager.connect(**DEVICE) as m:\n",
    "    r = m.edit_config(target='running', config=config)"
   ]
  },
  {
   "cell_type": "code",
   "execution_count": 144,
   "id": "8b4cdc4e-497f-4dcc-969a-b06611e73405",
   "metadata": {},
   "outputs": [
    {
     "name": "stdout",
     "output_type": "stream",
     "text": [
      "<?xml version=\"1.0\" encoding=\"UTF-8\"?>\n",
      "<rpc-reply xmlns:nxos=\"http://www.cisco.com/nxos:1.0\" xmlns:if=\"http://www.cisco.com/nxos:1.0:if_manager\" xmlns:nfcli=\"http://www.cisco.com/nxos:1.0:nfcli\" xmlns:vlan_mgr_cli=\"http://www.cisco.com/nxos:1.0:vlan_mgr_cli\" xmlns=\"urn:ietf:params:xml:ns:netconf:base:1.0\" message-id=\"urn:uuid:de3b803a-93a8-4a7c-aac5-11a1458e6843\">\n",
      "    <ok/>\n",
      "</rpc-reply>\n",
      "\n"
     ]
    }
   ],
   "source": [
    "# Display the response\n",
    "print(r)"
   ]
  },
  {
   "cell_type": "markdown",
   "id": "9a6e53e1-015e-4734-970f-7e3d9042359e",
   "metadata": {},
   "source": [
    "---\n",
    "---"
   ]
  },
  {
   "cell_type": "code",
   "execution_count": 162,
   "id": "dc758410-6216-4cf7-920b-b292a6c6e02a",
   "metadata": {},
   "outputs": [
    {
     "data": {
      "text/plain": [
       "<Element config at 0x7ff0df64c6c0>"
      ]
     },
     "execution_count": 162,
     "metadata": {},
     "output_type": "execute_result"
    }
   ],
   "source": [
    "# Create OpenConfig payload to get loopback interfaces\n",
    "filter = '''\n",
    "<filter>\n",
    "    <interfaces xmlns=\"http://openconfig.net/yang/interfaces\">\n",
    "        <interface>\n",
    "            <name>lo10</name>\n",
    "            <config/>\n",
    "            <subinterfaces>\n",
    "                <subinterface>\n",
    "                    <index/>\n",
    "                    <ipv4>\n",
    "                        <addresses>\n",
    "                            <address>\n",
    "                                <ip/>\n",
    "                                <config/>\n",
    "                            </address>\n",
    "                        </addresses>\n",
    "                    </ipv4>\n",
    "                </subinterface>\n",
    "            </subinterfaces>\n",
    "        </interface>\n",
    "    </interfaces>\n",
    "</filter>\n",
    "'''\n",
    "fromstring(config)"
   ]
  },
  {
   "cell_type": "code",
   "execution_count": 163,
   "id": "65c3ec41-5f56-4301-9c45-66f1784abeb4",
   "metadata": {},
   "outputs": [
    {
     "name": "stdout",
     "output_type": "stream",
     "text": [
      "<?xml version=\"1.0\" encoding=\"UTF-8\"?>\n",
      "<rpc-reply xmlns:nxos=\"http://www.cisco.com/nxos:1.0\" xmlns:if=\"http://www.cisco.com/nxos:1.0:if_manager\" xmlns:nfcli=\"http://www.cisco.com/nxos:1.0:nfcli\" xmlns:vlan_mgr_cli=\"http://www.cisco.com/nxos:1.0:vlan_mgr_cli\" xmlns=\"urn:ietf:params:xml:ns:netconf:base:1.0\" message-id=\"urn:uuid:deb9e3f1-e464-48b2-96c6-1be431c1af15\">\n",
      "    <data>\n",
      "        <interfaces xmlns=\"http://openconfig.net/yang/interfaces\">\n",
      "            <interface>\n",
      "                <name>lo10</name>\n",
      "                <config>\n",
      "                    <description>Test NETCONF LB</description>\n",
      "                    <enabled>true</enabled>\n",
      "                    <name>lo10</name>\n",
      "                    <type xmlns:ianaift=\"urn:ietf:params:xml:ns:yang:iana-if-type\">ianaift:softwareLoopback</type>\n",
      "                </config>\n",
      "                <subinterfaces>\n",
      "                    <subinterface>\n",
      "                        <index>0</index>\n",
      "                        <ipv4 xmlns=\"http://openconfig.net/yang/interfaces/ip\">\n",
      "                            <addresses>\n",
      "                                <address>\n",
      "                                    <ip>1.1.1.2</ip>\n",
      "                                    <config>\n",
      "                                        <ip>1.1.1.2</ip>\n",
      "                                        <prefix-length>32</prefix-length>\n",
      "                                    </config>\n",
      "                                </address>\n",
      "                            </addresses>\n",
      "                        </ipv4>\n",
      "                    </subinterface>\n",
      "                </subinterfaces>\n",
      "            </interface>\n",
      "        </interfaces>\n",
      "    </data>\n",
      "</rpc-reply>\n",
      "\n"
     ]
    }
   ],
   "source": [
    "# Send the payload to get interface details\n",
    "with manager.connect(**DEVICE) as m:\n",
    "    r = m.get_config(source='running', filter=filter)\n",
    "\n",
    "print(r)"
   ]
  },
  {
   "cell_type": "code",
   "execution_count": 180,
   "id": "3868198e-38cc-480c-90dd-49311fa08719",
   "metadata": {},
   "outputs": [
    {
     "data": {
      "text/plain": [
       "<Element config at 0x7ff0ec1451c0>"
      ]
     },
     "execution_count": 180,
     "metadata": {},
     "output_type": "execute_result"
    }
   ],
   "source": [
    "# Create OpenConfig payload to add a loopback interface\n",
    "config = '''\n",
    "<config>\n",
    "    <interfaces xmlns=\"http://openconfig.net/yang/interfaces\">\n",
    "        <interface>\n",
    "            <name>lo12</name>\n",
    "            <config>\n",
    "                <name>lo12</name>\n",
    "                <enabled>true</enabled>\n",
    "                <type xmlns:ianaift=\"urn:ietf:params:xml:ns:yang:iana-if-type\">ianaift:softwareLoopback</type>\n",
    "                <description>OpenConfig Loopback</description>\n",
    "            </config>\n",
    "            <subinterfaces>\n",
    "                <subinterface>\n",
    "                    <index>0</index>\n",
    "                    <ipv4>\n",
    "                        <addresses>\n",
    "                            <address>\n",
    "                                <ip>1.1.1.12</ip>\n",
    "                                <config>\n",
    "                                    <ip>1.1.1.12</ip>\n",
    "                                    <prefix-length>32</prefix-length>\n",
    "                                </config>\n",
    "                            </address>\n",
    "                        </addresses>\n",
    "                    </ipv4>\n",
    "                </subinterface>\n",
    "            </subinterfaces>\n",
    "        </interface>\n",
    "    </interfaces>\n",
    "</config>\n",
    "'''\n",
    "\n",
    "fromstring(config)"
   ]
  },
  {
   "cell_type": "code",
   "execution_count": 181,
   "id": "5bbcca31-1116-4138-9292-837d62898a42",
   "metadata": {},
   "outputs": [
    {
     "name": "stdout",
     "output_type": "stream",
     "text": [
      "<?xml version=\"1.0\" encoding=\"UTF-8\"?>\n",
      "<rpc-reply xmlns:nxos=\"http://www.cisco.com/nxos:1.0\" xmlns:if=\"http://www.cisco.com/nxos:1.0:if_manager\" xmlns:nfcli=\"http://www.cisco.com/nxos:1.0:nfcli\" xmlns:vlan_mgr_cli=\"http://www.cisco.com/nxos:1.0:vlan_mgr_cli\" xmlns=\"urn:ietf:params:xml:ns:netconf:base:1.0\" message-id=\"urn:uuid:3817c10c-0052-45a4-847f-0d912bf87727\">\n",
      "    <ok/>\n",
      "</rpc-reply>\n",
      "\n"
     ]
    }
   ],
   "source": [
    "# Send the configuration payload\n",
    "with manager.connect(**DEVICE) as m:\n",
    "    r = m.edit_config(target='running', config=config)\n",
    "\n",
    "    print(r)"
   ]
  },
  {
   "cell_type": "code",
   "execution_count": null,
   "id": "cd7d29ed-b9ea-47cf-9ecf-9b1e67c489e9",
   "metadata": {},
   "outputs": [],
   "source": []
  }
 ],
 "metadata": {
  "kernelspec": {
   "display_name": "Python 3",
   "language": "python",
   "name": "python3"
  },
  "language_info": {
   "codemirror_mode": {
    "name": "ipython",
    "version": 3
   },
   "file_extension": ".py",
   "mimetype": "text/x-python",
   "name": "python",
   "nbconvert_exporter": "python",
   "pygments_lexer": "ipython3",
   "version": "3.9.4"
  }
 },
 "nbformat": 4,
 "nbformat_minor": 5
}
