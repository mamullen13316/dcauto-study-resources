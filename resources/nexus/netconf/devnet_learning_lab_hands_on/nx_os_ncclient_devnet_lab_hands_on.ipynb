{
 "cells": [
  {
   "cell_type": "markdown",
   "id": "d19b0600-dc8f-452a-803e-6a73ece80343",
   "metadata": {},
   "source": [
    "# DevNet NETCONF/YANG on Nexus Learning Lab Walkthrough\n",
    "\n",
    "## Hands-On Practice Environment for the DevNet Learning Lab Exercises\n",
    "\n",
    "---"
   ]
  },
  {
   "cell_type": "markdown",
   "id": "9dc734fb-2402-49a4-93ba-a5fcc221be9a",
   "metadata": {},
   "source": [
    "### Overview\n",
    "\n",
    "This Notebook provides a place to enter and test the commands found in the [DevNet NETCONF/YANG for Nexus Learning Lab](https://developer.cisco.com/learning/tracks/nxos-programmability/netconf-yang-nexus/yang_devnet-format_part1/step/1 \"DevNet NETCONF/YANG for Nexus Learning Lab\").\n",
    "\n",
    "You may use the NX-OS switch to run the lab exercises.  The device connection information below connects to the [DevNet Reservable Open NX-OS Sandbox](https://devnetsandbox.cisco.com/RM/Diagram/Index/0e22761d-f813-415d-a557-24fa0e17ab50?diagramType=Topology \"DevNet Reservable Open NX-OS Sandbox\").\n",
    "- The use of this specific DevNet lab requires a reservation plus connectivity via VPN.\n",
    "\n",
    "To drive the strongest learning retention, try to enter the code/payloads for each task in the Learning Lab guide on your own, without copying and pasting the code samples from the Learning Lab guide.\n",
    "- Yes, this means you should become comfortable manyally building the NETCONF XML payloads themselves.\n",
    "- Try to build your skills to the point that you can determine what the XML body of a NETCONF request should look like, based on the target XPath or information in the Learning Lab scenarios.\n",
    "- The point of this exercise is not to memorize XML payloads or complex Python code. The point is to become familiar enough with the `ncclient` syntax and NETCONF XML payload format that you feel comfortable building the code responses on your own.\n",
    "\n",
    "Although all of the code to successully complete these exercises is available in the Learning Lab Guide, there is a [solution document available](solutions/nx_os_ncclient_devnet_lab_hands_on_solution.ipynb \"DevNet NETCONF/YANG Sample Code\") which provides quick access to sample code.\n",
    "\n",
    "---"
   ]
  },
  {
   "cell_type": "markdown",
   "id": "9850651b-5865-4ab7-aa0c-453f1b37c86c",
   "metadata": {},
   "source": [
    "### Establish Imports & Constants to support connectivity to a Nexus switch, using the Python ncclient"
   ]
  },
  {
   "cell_type": "code",
   "execution_count": null,
   "id": "6bedd19c-93a5-48fa-9594-24d3fdacdd28",
   "metadata": {},
   "outputs": [],
   "source": [
    "# Import required Python modules\n",
    "from ncclient import manager\n",
    "from xmltodict import parse, unparse\n",
    "from lxml.etree import fromstring\n",
    "from pprint import pprint as pp"
   ]
  },
  {
   "cell_type": "code",
   "execution_count": null,
   "id": "d014f088-1061-44d0-b9f9-0a8e53b12a80",
   "metadata": {},
   "outputs": [],
   "source": [
    "# Constant variable to store `ncclient` connection information\n",
    "DEVICE = {\n",
    "    'host': '10.10.20.58',\n",
    "    'port': 830,\n",
    "    'username': 'admin',\n",
    "    'password': 'Cisco123',\n",
    "    'hostkey_verify': False,\n",
    "    'device_params': {\n",
    "        'name': 'nexus'\n",
    "    }\n",
    "}"
   ]
  },
  {
   "cell_type": "markdown",
   "id": "1bcba2b3-579a-466c-8da7-ba3603e67880",
   "metadata": {},
   "source": [
    "### Get NETCONF Capabilities and the Serial Number for Nexus Switch\n",
    "\n",
    "---"
   ]
  },
  {
   "cell_type": "code",
   "execution_count": null,
   "id": "4b3603f5-5232-43c7-a760-75f527b42282",
   "metadata": {},
   "outputs": [],
   "source": [
    "# Get NETCONF Capabilities\n",
    "\n",
    "# Enter your commands here\n"
   ]
  },
  {
   "cell_type": "code",
   "execution_count": null,
   "id": "a4765df3-4a80-4fbf-9c6f-8c507fc44fe8",
   "metadata": {},
   "outputs": [],
   "source": [
    "# Print NETCONF Capabilities\n",
    "\n",
    "# Enter your commands here\n"
   ]
  },
  {
   "cell_type": "code",
   "execution_count": null,
   "id": "4807d101-5746-4d54-8418-ca3ab2fd04b2",
   "metadata": {},
   "outputs": [],
   "source": [
    "# Construct filter to get serial number\n",
    "\n",
    "# Enter your commands here\n"
   ]
  },
  {
   "cell_type": "code",
   "execution_count": null,
   "id": "e52aeefc-2a46-455f-915f-a18f1a090cdd",
   "metadata": {},
   "outputs": [],
   "source": [
    "# Get the serial number\n",
    "\n",
    "# Enter your commands here\n"
   ]
  },
  {
   "cell_type": "code",
   "execution_count": null,
   "id": "8d4fd68e-0df8-4657-921d-55825a41d44d",
   "metadata": {},
   "outputs": [],
   "source": [
    "# Enter your commands here"
   ]
  },
  {
   "cell_type": "markdown",
   "id": "9782974d-59ac-4fa4-862f-a82b6365d06e",
   "metadata": {},
   "source": [
    "### Use NETCONF to Configure Interfaces\n",
    "\n",
    "---"
   ]
  },
  {
   "cell_type": "code",
   "execution_count": null,
   "id": "7d477002-70c5-4166-ad2c-7fce0fceeafe",
   "metadata": {},
   "outputs": [],
   "source": [
    "# Create a NETCONF XML playload which will create and configure a loopback interface\n",
    "\n",
    "# Enter your commands here\n"
   ]
  },
  {
   "cell_type": "code",
   "execution_count": null,
   "id": "a71d0f84-821a-4271-b3b0-85c7dc72d8c0",
   "metadata": {},
   "outputs": [],
   "source": [
    "# ** Optional **\n",
    "# Strictly for testing, use of the lxml.etree.fromstring method, to create an XML document from a string\n",
    "fromstring(config)"
   ]
  },
  {
   "cell_type": "code",
   "execution_count": null,
   "id": "3c46d928-86b3-4a3c-97c5-c2276568e98f",
   "metadata": {},
   "outputs": [],
   "source": [
    "# Send the NETCONF payload to create the loopback interface\n",
    "\n",
    "# Enter your commands here\n"
   ]
  },
  {
   "cell_type": "code",
   "execution_count": null,
   "id": "32f92203-913e-4f0a-b3b7-670717006c3c",
   "metadata": {},
   "outputs": [],
   "source": [
    "# Display the NETCONF response\n",
    "\n",
    "# Enter your commands here\n"
   ]
  },
  {
   "cell_type": "markdown",
   "id": "c267d0de-935c-49b0-aa72-72e9d7d7a59d",
   "metadata": {},
   "source": [
    "### Use NETCONF to Configure BGP\n",
    "\n",
    "---"
   ]
  },
  {
   "cell_type": "code",
   "execution_count": null,
   "id": "cc9fe819-a38b-47a3-a67e-f7f7733e2f7a",
   "metadata": {},
   "outputs": [],
   "source": [
    "# Create the NETCONF payload to configure BGP\n",
    "\n",
    "# Enter your commands here\n",
    "\n",
    "# Stictly for testing, use of the lxml.etree.fromstring method, to create an XML document from a string\n",
    "fromstring(config)"
   ]
  },
  {
   "cell_type": "code",
   "execution_count": null,
   "id": "6c20eb64-ff0d-42b9-ae58-9c8e4feaf2b7",
   "metadata": {},
   "outputs": [],
   "source": [
    "# Send the NETCONF payload to configure BGP\n",
    "\n",
    "# Enter your commands here\n"
   ]
  },
  {
   "cell_type": "code",
   "execution_count": null,
   "id": "3e795877-638e-429e-8f30-f374dd6817e0",
   "metadata": {},
   "outputs": [],
   "source": [
    "# Create a NETCONF payload to add a BGP prefix to the switch\n",
    "\n",
    "# Enter your commands here\n",
    "\n",
    "# ** Optional **\n",
    "# Strictly for testing, use of the lxml.etree.fromstring method, to create an XML document from a string\n",
    "\n",
    "# Enter your commands here\n"
   ]
  },
  {
   "cell_type": "code",
   "execution_count": null,
   "id": "228bf988-345c-408c-8ed4-3bd8ca0e2c0a",
   "metadata": {},
   "outputs": [],
   "source": [
    "# Send the NETCONF payload to implement the BGP prefix config\n",
    "\n",
    "# Enter your commands here\n"
   ]
  },
  {
   "cell_type": "code",
   "execution_count": null,
   "id": "89b9213c-9f83-4df2-95e2-c871d414d003",
   "metadata": {},
   "outputs": [],
   "source": [
    "# Display the NETCONF response\n",
    "\n",
    "# Enter your commands here\n"
   ]
  },
  {
   "cell_type": "code",
   "execution_count": null,
   "id": "e14e040e-e951-47ea-a8b7-a5e127229d18",
   "metadata": {},
   "outputs": [],
   "source": [
    "# Create a NETCONF payload to get the BGP prefix list\n",
    "\n",
    "# Enter your commands here\n",
    "\n",
    "# ** Optional **\n",
    "# Strictly for testing, use of the lxml.etree.fromstring method, to create an XML document from a string\n",
    "\n",
    "# Enter your commands here\n"
   ]
  },
  {
   "cell_type": "code",
   "execution_count": null,
   "id": "bb566271-3089-49e0-a893-a44aa1da1453",
   "metadata": {},
   "outputs": [],
   "source": [
    "# Send the NETCONF payload to get the serial number\n",
    "\n",
    "# Enter your commands here\n"
   ]
  },
  {
   "cell_type": "code",
   "execution_count": null,
   "id": "274188cb-428b-4458-8b69-33bfb05e9cbb",
   "metadata": {},
   "outputs": [],
   "source": [
    "# Create a NETCONF to delete a BGP prefix\n",
    "# Add the following attribute to the <prefix-items> tag:\n",
    "# xmlns:nc=\"urn:ietf:params:xml:ns:netconf:base:1.0\" nc:operation=\"delete\"\n",
    "\n",
    "# This abbreviated version also works:\n",
    "# operation=\"delete\"\n",
    "\n",
    "# Enter your commands here\n",
    "\n",
    "# ** Optional **\n",
    "# Strictly for testing, use of the lxml.etree.fromstring method, to create an XML document from a string\n",
    "\n",
    "# Enter your commands here\n"
   ]
  },
  {
   "cell_type": "code",
   "execution_count": null,
   "id": "0bc24d12-5e3c-48ef-9ebc-d4c42f995c81",
   "metadata": {},
   "outputs": [],
   "source": [
    "# Send NETCONF payload to remove the BGP prefix config\n",
    "\n",
    "# Enter your commands here\n"
   ]
  },
  {
   "cell_type": "code",
   "execution_count": null,
   "id": "8b4cdc4e-497f-4dcc-969a-b06611e73405",
   "metadata": {},
   "outputs": [],
   "source": [
    "# Display the NETCONF response\n",
    "\n",
    "# Enter your commands here\n"
   ]
  },
  {
   "cell_type": "markdown",
   "id": "9a6e53e1-015e-4734-970f-7e3d9042359e",
   "metadata": {},
   "source": [
    "---\n",
    "---"
   ]
  },
  {
   "cell_type": "code",
   "execution_count": null,
   "id": "dc758410-6216-4cf7-920b-b292a6c6e02a",
   "metadata": {},
   "outputs": [],
   "source": [
    "# Create an OpenConfig payload to get loopback interface configurations\n",
    "\n",
    "# Enter your commands here\n",
    "\n",
    "# ** Optional **\n",
    "# Strictly for testing, use of the lxml.etree.fromstring method, to create an XML document from a string\n",
    "\n",
    "# Enter your commands here\n"
   ]
  },
  {
   "cell_type": "code",
   "execution_count": null,
   "id": "65c3ec41-5f56-4301-9c45-66f1784abeb4",
   "metadata": {},
   "outputs": [],
   "source": [
    "# Send the payload to get interface details\n",
    "\n",
    "# Enter your commands here\n"
   ]
  },
  {
   "cell_type": "code",
   "execution_count": null,
   "id": "3868198e-38cc-480c-90dd-49311fa08719",
   "metadata": {},
   "outputs": [],
   "source": [
    "# Create an OpenConfig NETCONF payload to add a loopback interface\n",
    "\n",
    "# Enter your commands here\n",
    "\n",
    "# ** Optional **\n",
    "# Strictly for testing, use of the lxml.etree.fromstring method, to create an XML document from a string\n",
    "\n",
    "# Enter your commands here\n"
   ]
  },
  {
   "cell_type": "code",
   "execution_count": null,
   "id": "5bbcca31-1116-4138-9292-837d62898a42",
   "metadata": {},
   "outputs": [],
   "source": [
    "# Send the NETCONF configuration payload\n",
    "\n",
    "# Enter your commands here\n"
   ]
  },
  {
   "cell_type": "code",
   "execution_count": null,
   "id": "cd7d29ed-b9ea-47cf-9ecf-9b1e67c489e9",
   "metadata": {},
   "outputs": [],
   "source": []
  }
 ],
 "metadata": {
  "kernelspec": {
   "display_name": "Python 3",
   "language": "python",
   "name": "python3"
  },
  "language_info": {
   "codemirror_mode": {
    "name": "ipython",
    "version": 3
   },
   "file_extension": ".py",
   "mimetype": "text/x-python",
   "name": "python",
   "nbconvert_exporter": "python",
   "pygments_lexer": "ipython3",
   "version": "3.9.4"
  }
 },
 "nbformat": 4,
 "nbformat_minor": 5
}
