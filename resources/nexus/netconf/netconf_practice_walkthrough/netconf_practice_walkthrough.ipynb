{
 "cells": [
  {
   "cell_type": "markdown",
   "metadata": {},
   "source": [
    "# NX-OS NETCONF Practice Walkthrough\n",
    "\n",
    "## Explore YANG Models and Review Sample NX-OS NETCONF Python `ncclient` Code\n",
    "---\n"
   ]
  },
  {
   "cell_type": "markdown",
   "metadata": {},
   "source": [
    "\n",
    "### Explore YANG Models\n",
    "\n",
    "* The NX-OS YANG models are somewhat extensive and there tools available to help you navigate the model trees:\n",
    " 1. [`pyang`](https://github.com/mbj4668/pyang)\n",
    "  - Pros - simple, CLI tool, simple installation (via [Python pip](https://pypi.org/project/pyang/)), easy to use.\n",
    "  - Cons - Can be challenging to navigate through large models.\n",
    " 2. [YANG Suite](https://developer.cisco.com/yangsuite/)\n",
    "  - Pros - friendly GUI tool, variety of installation options ([Docker](https://developer.cisco.com/docs/yangsuite/) and [Python pip](https://github.com/CiscoDevNet/yangsuite)), easy to learn and use.\n",
    "  - Cons - Newer product which has some UI bugs.\n",
    " \n",
    " **Note:** This walkthrough contains sample NETCONF payloads generated with YANG Suite although the walkthrough does not describe how to use YANG Suite.  The walkthrough will include NETCONF payloads from the files in the [netconf_payloads](/lab/workspaces/auto-I/tree/resources/nexus/netconf/netconf_practice_walkthrough/netconf_payloads) directory.  You may use the NETCONF payload files for reference although you do not need to review them directly.\n",
    " \n",
    "---\n"
   ]
  },
  {
   "cell_type": "markdown",
   "metadata": {},
   "source": [
    "\n",
    "###  Interact with NX-OS YANG Modules Using Python **ncclient**\n",
    "\n",
    "* **ncclient** is a Python NETCONF client.\n",
    "* Not part of the Python Standard Library - install with **pip**:\n",
    "\n",
    "```shell\n",
    "# Already installed in the lab environment\n",
    "pip install ncclient\n",
    "```"
   ]
  },
  {
   "cell_type": "markdown",
   "metadata": {},
   "source": [
    "---\n",
    "### Import the 'manager' class from the 'ncclient' library & the 'xmltodict' module"
   ]
  },
  {
   "cell_type": "code",
   "execution_count": 1,
   "metadata": {},
   "outputs": [],
   "source": [
    "from ncclient import manager\n",
    "import xmltodict"
   ]
  },
  {
   "cell_type": "code",
   "execution_count": 2,
   "metadata": {},
   "outputs": [],
   "source": [
    "device = {\n",
    "    'host': '10.10.20.58',\n",
    "    'port': 830,\n",
    "    'username': 'admin',\n",
    "    'password': 'Cisco123',\n",
    "    'hostkey_verify': 'False',\n",
    "    'device_params': {\n",
    "        'name': 'nexus'\n",
    "    }\n",
    "}"
   ]
  },
  {
   "cell_type": "markdown",
   "metadata": {},
   "source": [
    "---\n",
    "### Get Nexus NETCONF capabilities"
   ]
  },
  {
   "cell_type": "code",
   "execution_count": 3,
   "metadata": {},
   "outputs": [],
   "source": [
    "with manager.connect(**device) as m:\n",
    "    caps = m.server_capabilities\n",
    "\n",
    "header_msg = f'{len(caps)} availabile NETCONF capabilities'\n",
    "header_border = (f'{\"-\" * len(header_msg)}')"
   ]
  },
  {
   "cell_type": "markdown",
   "metadata": {},
   "source": [
    "---\n",
    "### Print NETCONF capabilities"
   ]
  },
  {
   "cell_type": "code",
   "execution_count": 4,
   "metadata": {},
   "outputs": [
    {
     "name": "stdout",
     "output_type": "stream",
     "text": [
      "\n",
      "----------------------------------\n",
      "38 availabile NETCONF capabilities\n",
      "----------------------------------\n",
      "\n",
      "1. urn:ietf:params:netconf:base:1.0\n",
      "2. urn:ietf:params:netconf:base:1.1\n",
      "3. urn:ietf:params:netconf:capability:writable-running:1.0\n",
      "4. urn:ietf:params:netconf:capability:rollback-on-error:1.0\n",
      "5. urn:ietf:params:netconf:capability:candidate:1.0\n",
      "6. urn:ietf:params:netconf:capability:validate:1.1\n",
      "7. urn:ietf:params:netconf:capability:confirmed-commit:1.1\n",
      "8. urn:ietf:params:netconf:capability:notification:1.0\n",
      "9. urn:ietf:params:netconf:capability:interleave:1.0\n",
      "10. urn:ietf:params:netconf:capability:with-defaults:1.0?basic-mode=report-all\n",
      "11. http://cisco.com/ns/yang/cisco-nx-os-device?revision=2020-07-20&module=Cisco-NX-OS-device\n",
      "12. http://openconfig.net/yang/acl?revision=2019-11-27&module=openconfig-acl&deviations=cisco-nx-openconfig-acl-deviations\n",
      "13. http://openconfig.net/yang/bfd?revision=2019-10-25&module=openconfig-bfd&deviations=cisco-nx-openconfig-bfd-deviations\n",
      "14. http://openconfig.net/yang/bgp-policy?revision=2019-11-28&module=openconfig-bgp-policy&deviations=cisco-nx-openconfig-bgp-policy-deviations\n",
      "15. http://openconfig.net/yang/interfaces?revision=2017-07-14&module=openconfig-interfaces&deviations=cisco-nx-openconfig-interfaces-deviations\n",
      "16. http://openconfig.net/yang/interfaces/aggregate?revision=2017-07-14&module=openconfig-if-aggregate&deviations=cisco-nx-openconfig-if-aggregate-deviations\n",
      "17. http://openconfig.net/yang/interfaces/ethernet?revision=2017-07-14&module=openconfig-if-ethernet&deviations=cisco-nx-openconfig-if-ethernet-deviations\n",
      "18. http://openconfig.net/yang/interfaces/ip?revision=2018-01-05&module=openconfig-if-ip&deviations=cisco-nx-openconfig-if-ip-deviations\n",
      "19. http://openconfig.net/yang/interfaces/ip-ext?revision=2018-01-05&module=openconfig-if-ip-ext&deviations=cisco-nx-openconfig-if-ip-ext-deviations\n",
      "20. http://openconfig.net/yang/lacp?revision=2018-11-21&module=openconfig-lacp&deviations=cisco-nx-openconfig-lacp-deviations\n",
      "21. http://openconfig.net/yang/lldp?revision=2018-11-21&module=openconfig-lldp&deviations=cisco-nx-openconfig-lldp-deviations\n",
      "22. http://openconfig.net/yang/network-instance?revision=2018-11-21&module=openconfig-network-instance&deviations=cisco-nx-openconfig-network-instance-deviations\n",
      "23. http://openconfig.net/yang/network-instance/policy?revision=2018-11-21&module=openconfig-network-instance-policy&deviations=cisco-nx-openconfig-network-instance-policy-deviations\n",
      "24. http://openconfig.net/yang/ospf-policy?revision=2017-08-24&module=openconfig-ospf-policy&deviations=cisco-nx-openconfig-ospf-policy-deviations\n",
      "25. http://openconfig.net/yang/platform?revision=2019-04-16&module=openconfig-platform&deviations=cisco-nx-openconfig-platform-deviations\n",
      "26. http://openconfig.net/yang/platform/cpu?revision=2018-11-21&module=openconfig-platform-cpu&deviations=cisco-nx-openconfig-platform-cpu-deviations\n",
      "27. http://openconfig.net/yang/platform/fan?revision=2018-11-21&module=openconfig-platform-fan&deviations=cisco-nx-openconfig-platform-fan-deviations\n",
      "28. http://openconfig.net/yang/platform/linecard?revision=2018-11-21&module=openconfig-platform-linecard&deviations=cisco-nx-openconfig-platform-linecard-deviations\n",
      "29. http://openconfig.net/yang/platform/port?revision=2018-11-21&module=openconfig-platform-port&deviations=cisco-nx-openconfig-platform-port-deviations\n",
      "30. http://openconfig.net/yang/platform/psu?revision=2018-11-21&module=openconfig-platform-psu&deviations=cisco-nx-openconfig-platform-psu-deviations\n",
      "31. http://openconfig.net/yang/platform/transceiver?revision=2018-11-25&module=openconfig-platform-transceiver&deviations=cisco-nx-openconfig-platform-transceiver-deviations\n",
      "32. http://openconfig.net/yang/qos?revision=2019-11-28&module=openconfig-qos&deviations=cisco-nx-openconfig-qos-deviations\n",
      "33. http://openconfig.net/yang/relay-agent?revision=2018-11-21&module=openconfig-relay-agent&deviations=cisco-nx-openconfig-relay-agent-deviations\n",
      "34. http://openconfig.net/yang/routing-policy?revision=2018-11-21&module=openconfig-routing-policy&deviations=cisco-nx-openconfig-routing-policy-deviations\n",
      "35. http://openconfig.net/yang/spanning-tree?revision=2019-11-28&module=openconfig-spanning-tree&deviations=cisco-nx-openconfig-spanning-tree-deviations\n",
      "36. http://openconfig.net/yang/system?revision=2019-03-15&module=openconfig-system&deviations=cisco-nx-openconfig-system-deviations\n",
      "37. http://openconfig.net/yang/telemetry?revision=2018-11-21&module=openconfig-telemetry&deviations=cisco-nx-openconfig-telemetry-deviations\n",
      "38. http://openconfig.net/yang/vlan?revision=2018-11-21&module=openconfig-vlan&deviations=cisco-nx-openconfig-vlan-deviations\n"
     ]
    }
   ],
   "source": [
    "print(f'\\n{header_border}\\n'\n",
    "        f'{header_msg}\\n'\n",
    "        f'{header_border}\\n')\n",
    "\n",
    "for i, c in enumerate(caps):        \n",
    "    print(f'{i + 1}. {c}')"
   ]
  },
  {
   "cell_type": "markdown",
   "metadata": {},
   "source": [
    "---\n",
    "### Set the XML payload base path"
   ]
  },
  {
   "cell_type": "code",
   "execution_count": 5,
   "metadata": {},
   "outputs": [],
   "source": [
    "payload_base_path = 'netconf_payloads/'\n",
    "native = '1_native/'\n",
    "openconfig = '2_openconfig/'"
   ]
  },
  {
   "cell_type": "markdown",
   "metadata": {},
   "source": [
    "---\n",
    "### Configure dictionary of Native & OpenConfig YANG XML payloads"
   ]
  },
  {
   "cell_type": "code",
   "execution_count": 6,
   "metadata": {},
   "outputs": [
    {
     "name": "stdout",
     "output_type": "stream",
     "text": [
      "Native - Get Serial Number                         >> 1_serial_num_payload.xml\n",
      "Native - Get Ethernet1/1 Oper                      >> 2_get_eth1_1_payload.xml\n",
      "Native - Get Ethernet1/1 Config                    >> 3_get_config_eth1_1_payload.xml\n",
      "Native - Configure Ethernet1/10                    >> 4_edit_config_eth1_2_payload.xml\n",
      "Native - Get Ethernet 1/10 Config                  >> 5_get_config_eth1_2_payload.xml\n",
      "Native - Configure Web Server ACL                  >> 6_native_web_server_acl_payload.xml\n",
      "Native - Copy Run Start                            >> 7_copy_run_start_payload.xml\n",
      "OpenConfig - Configure Web Server ACL Seq. 10      >> 1_oc_create_seq_10_payload.xml\n",
      "OpenConfig - Configure Web Server ACL Seq. 20      >> 1a_oc_create_seq_20_payload.xml\n",
      "OpenConfig - Configure Web Server Int. Access Group >> 2_oc_apply_e1_2_access_group_payload.xml\n",
      "OpenConfig - Get Web ACL Config                    >> 3_oc_acl_get_config_payload.xml\n"
     ]
    }
   ],
   "source": [
    "payloads = {\n",
    "    'Native - Get Serial Number': '1_serial_num_payload.xml',\n",
    "    'Native - Get Ethernet1/1 Oper': '2_get_eth1_1_payload.xml',\n",
    "    'Native - Get Ethernet1/1 Config': '3_get_config_eth1_1_payload.xml',\n",
    "    'Native - Configure Ethernet1/10': '4_edit_config_eth1_2_payload.xml',\n",
    "    'Native - Get Ethernet 1/10 Config': '5_get_config_eth1_2_payload.xml',\n",
    "    'Native - Configure Web Server ACL': '6_native_web_server_acl_payload.xml',\n",
    "    'Native - Copy Run Start': '7_copy_run_start_payload.xml',\n",
    "    'OpenConfig - Configure Web Server ACL Seq. 10': '1_oc_create_seq_10_payload.xml',\n",
    "    'OpenConfig - Configure Web Server ACL Seq. 20': '1a_oc_create_seq_20_payload.xml',\n",
    "    'OpenConfig - Configure Web Server Int. Access Group': '2_oc_apply_e1_2_access_group_payload.xml',\n",
    "    'OpenConfig - Get Web ACL Config': '3_oc_acl_get_config_payload.xml'\n",
    "}\n",
    "\n",
    "for k, v in payloads.items():\n",
    "    print(f'{k:<50} >> {v}')"
   ]
  },
  {
   "cell_type": "markdown",
   "metadata": {},
   "source": [
    "---\n",
    "### Setup Nexus **get** serial number NETCONF filter"
   ]
  },
  {
   "cell_type": "code",
   "execution_count": 7,
   "metadata": {
    "tags": []
   },
   "outputs": [],
   "source": [
    "# Declare YANG Explorer XML payload file name\n",
    "file_name = f'{payload_base_path}{native}1_serial_num_payload.xml'\n",
    "\n",
    "# Access YANG Explorer XML payload file & convert to Python dictionary\n",
    "with open(file_name, 'r') as payload:\n",
    "    raw_filter = payload.read()\n",
    "    data = xmltodict.parse(raw_filter,\n",
    "                           dict_constructor=dict)\n",
    "\n",
    "# Parse the 'get' key from the dictionary & convert to XML \n",
    "nc_data = data['rpc']['get']\n",
    "filter = xmltodict.unparse(nc_data,\n",
    "                           full_document=False,\n",
    "                           pretty=True)"
   ]
  },
  {
   "cell_type": "code",
   "execution_count": 8,
   "metadata": {},
   "outputs": [
    {
     "name": "stdout",
     "output_type": "stream",
     "text": [
      "<rpc message-id=\"101\" xmlns=\"urn:ietf:params:xml:ns:netconf:base:1.0\">\n",
      "  <get>\n",
      "    <filter>\n",
      "      <System xmlns=\"http://cisco.com/ns/yang/cisco-nx-os-device\">\n",
      "        <serial/>\n",
      "      </System>\n",
      "    </filter>\n",
      "  </get>\n",
      "</rpc>\n",
      "\n",
      "{'rpc': {'@message-id': '101',\n",
      "         '@xmlns': 'urn:ietf:params:xml:ns:netconf:base:1.0',\n",
      "         'get': {'filter': {'System': {'@xmlns': 'http://cisco.com/ns/yang/cisco-nx-os-device',\n",
      "                                       'serial': None}}}}}\n",
      "\n",
      "{'filter': {'System': {'@xmlns': 'http://cisco.com/ns/yang/cisco-nx-os-device',\n",
      "                       'serial': None}}}\n",
      "\n",
      "<filter>\n",
      "\t<System xmlns=\"http://cisco.com/ns/yang/cisco-nx-os-device\">\n",
      "\t\t<serial></serial>\n",
      "\t</System>\n",
      "</filter>\n"
     ]
    }
   ],
   "source": [
    "from pprint import pprint as pp\n",
    "print(raw_filter)\n",
    "print()\n",
    "pp(data)\n",
    "print()\n",
    "pp(nc_data)\n",
    "print()\n",
    "print(filter)"
   ]
  },
  {
   "cell_type": "markdown",
   "metadata": {},
   "source": [
    "---\n",
    "### Print YANG Explorer XML output"
   ]
  },
  {
   "cell_type": "code",
   "execution_count": 9,
   "metadata": {},
   "outputs": [
    {
     "name": "stdout",
     "output_type": "stream",
     "text": [
      "<rpc message-id=\"101\" xmlns=\"urn:ietf:params:xml:ns:netconf:base:1.0\">\n",
      "  <get>\n",
      "    <filter>\n",
      "      <System xmlns=\"http://cisco.com/ns/yang/cisco-nx-os-device\">\n",
      "        <serial/>\n",
      "      </System>\n",
      "    </filter>\n",
      "  </get>\n",
      "</rpc>\n"
     ]
    }
   ],
   "source": [
    "print(raw_filter)"
   ]
  },
  {
   "cell_type": "markdown",
   "metadata": {},
   "source": [
    "---\n",
    "### Print ncclient filter"
   ]
  },
  {
   "cell_type": "code",
   "execution_count": 10,
   "metadata": {},
   "outputs": [
    {
     "name": "stdout",
     "output_type": "stream",
     "text": [
      "<filter>\n",
      "\t<System xmlns=\"http://cisco.com/ns/yang/cisco-nx-os-device\">\n",
      "\t\t<serial></serial>\n",
      "\t</System>\n",
      "</filter>\n"
     ]
    }
   ],
   "source": [
    "print(filter)"
   ]
  },
  {
   "cell_type": "markdown",
   "metadata": {},
   "source": [
    "---\n",
    "### Send NETCONF **get** request"
   ]
  },
  {
   "cell_type": "code",
   "execution_count": 11,
   "metadata": {},
   "outputs": [],
   "source": [
    "with manager.connect(**device) as m:\n",
    "    response = m.get(filter=filter)"
   ]
  },
  {
   "cell_type": "markdown",
   "metadata": {},
   "source": [
    "---\n",
    "### Print NETCONF reply"
   ]
  },
  {
   "cell_type": "code",
   "execution_count": 12,
   "metadata": {},
   "outputs": [
    {
     "name": "stdout",
     "output_type": "stream",
     "text": [
      "<?xml version=\"1.0\" encoding=\"UTF-8\"?>\n",
      "<rpc-reply xmlns:nxos=\"http://www.cisco.com/nxos:1.0\" xmlns:if=\"http://www.cisco.com/nxos:1.0:if_manager\" xmlns:nfcli=\"http://www.cisco.com/nxos:1.0:nfcli\" xmlns:vlan_mgr_cli=\"http://www.cisco.com/nxos:1.0:vlan_mgr_cli\" xmlns=\"urn:ietf:params:xml:ns:netconf:base:1.0\" message-id=\"urn:uuid:55f36536-f231-4496-b35e-2b7b7cc6439f\">\n",
      "    <data>\n",
      "        <System xmlns=\"http://cisco.com/ns/yang/cisco-nx-os-device\">\n",
      "            <serial>91OMZP37WBR</serial>\n",
      "        </System>\n",
      "    </data>\n",
      "</rpc-reply>\n",
      "\n"
     ]
    }
   ],
   "source": [
    "print(response.xml)"
   ]
  },
  {
   "cell_type": "markdown",
   "metadata": {},
   "source": [
    "---\n",
    "---\n",
    "### Setup Ethernet1/1 **get** operational data NETCONF filter"
   ]
  },
  {
   "cell_type": "code",
   "execution_count": 13,
   "metadata": {},
   "outputs": [],
   "source": [
    "# Declare YANG Explorer XML payload file name\n",
    "file_name = f'{payload_base_path}{native}2_get_eth1_1_payload.xml'\n",
    "\n",
    "# Access YANG Explorer XML payload file & convert to Python dictionary\n",
    "with open(file_name, 'r') as payload:\n",
    "    raw_filter = payload.read()\n",
    "    data = xmltodict.parse(raw_filter,\n",
    "                           dict_constructor=dict)\n",
    "\n",
    "# Parse the 'get' key from the dictionary & convert to XML \n",
    "nc_data = data['rpc']['get']\n",
    "filter = xmltodict.unparse(nc_data,\n",
    "                           full_document=False,\n",
    "                           pretty=True)"
   ]
  },
  {
   "cell_type": "markdown",
   "metadata": {},
   "source": [
    "---\n",
    "### Print YANG Explorer XML output"
   ]
  },
  {
   "cell_type": "code",
   "execution_count": 14,
   "metadata": {},
   "outputs": [
    {
     "name": "stdout",
     "output_type": "stream",
     "text": [
      "<rpc message-id=\"101\" xmlns=\"urn:ietf:params:xml:ns:netconf:base:1.0\">\n",
      "  <get>\n",
      "    <filter>\n",
      "      <System xmlns=\"http://cisco.com/ns/yang/cisco-nx-os-device\">\n",
      "        <intf-items>\n",
      "          <phys-items>\n",
      "            <PhysIf-list>\n",
      "              <id>eth1/1</id>\n",
      "            </PhysIf-list>\n",
      "          </phys-items>\n",
      "        </intf-items>\n",
      "      </System>\n",
      "    </filter>\n",
      "  </get>\n",
      "</rpc>\n"
     ]
    }
   ],
   "source": [
    "print(raw_filter)"
   ]
  },
  {
   "cell_type": "markdown",
   "metadata": {},
   "source": [
    "---\n",
    "### Print ncclient filter"
   ]
  },
  {
   "cell_type": "code",
   "execution_count": 15,
   "metadata": {},
   "outputs": [
    {
     "data": {
      "text/plain": [
       "\u001b[0;31mSignature:\u001b[0m \u001b[0mmanager\u001b[0m\u001b[0;34m.\u001b[0m\u001b[0mconnect\u001b[0m\u001b[0;34m(\u001b[0m\u001b[0;34m*\u001b[0m\u001b[0margs\u001b[0m\u001b[0;34m,\u001b[0m \u001b[0;34m**\u001b[0m\u001b[0mkwds\u001b[0m\u001b[0;34m)\u001b[0m\u001b[0;34m\u001b[0m\u001b[0;34m\u001b[0m\u001b[0m\n",
       "\u001b[0;31mDocstring:\u001b[0m <no docstring>\n",
       "\u001b[0;31mFile:\u001b[0m      /usr/local/lib/python3.9/site-packages/ncclient/manager.py\n",
       "\u001b[0;31mType:\u001b[0m      function\n"
      ]
     },
     "metadata": {},
     "output_type": "display_data"
    }
   ],
   "source": [
    "manager.connect?"
   ]
  },
  {
   "cell_type": "code",
   "execution_count": 16,
   "metadata": {},
   "outputs": [],
   "source": [
    "device = {\n",
    "    'host': '10.10.20.58',\n",
    "    'port': 830,\n",
    "    'username': 'admin',\n",
    "    'password': 'Cisco123',\n",
    "    'hostkey_verify': False,\n",
    "    'device_params': {\n",
    "        'name': 'nexus'\n",
    "    }\n",
    "}"
   ]
  },
  {
   "cell_type": "code",
   "execution_count": 17,
   "metadata": {},
   "outputs": [
    {
     "data": {
      "text/plain": [
       "['__class__',\n",
       " '__class_getitem__',\n",
       " '__contains__',\n",
       " '__delattr__',\n",
       " '__delitem__',\n",
       " '__dir__',\n",
       " '__doc__',\n",
       " '__eq__',\n",
       " '__format__',\n",
       " '__ge__',\n",
       " '__getattribute__',\n",
       " '__getitem__',\n",
       " '__gt__',\n",
       " '__hash__',\n",
       " '__init__',\n",
       " '__init_subclass__',\n",
       " '__ior__',\n",
       " '__iter__',\n",
       " '__le__',\n",
       " '__len__',\n",
       " '__lt__',\n",
       " '__ne__',\n",
       " '__new__',\n",
       " '__or__',\n",
       " '__reduce__',\n",
       " '__reduce_ex__',\n",
       " '__repr__',\n",
       " '__reversed__',\n",
       " '__ror__',\n",
       " '__setattr__',\n",
       " '__setitem__',\n",
       " '__sizeof__',\n",
       " '__str__',\n",
       " '__subclasshook__',\n",
       " 'clear',\n",
       " 'copy',\n",
       " 'fromkeys',\n",
       " 'get',\n",
       " 'items',\n",
       " 'keys',\n",
       " 'pop',\n",
       " 'popitem',\n",
       " 'setdefault',\n",
       " 'update',\n",
       " 'values']"
      ]
     },
     "execution_count": 17,
     "metadata": {},
     "output_type": "execute_result"
    }
   ],
   "source": [
    "dir(device)"
   ]
  },
  {
   "cell_type": "code",
   "execution_count": 18,
   "metadata": {},
   "outputs": [],
   "source": [
    "with manager.connect(**device) as conn:\n",
    "    r = conn.get(filter=filter)"
   ]
  },
  {
   "cell_type": "code",
   "execution_count": 19,
   "metadata": {},
   "outputs": [
    {
     "name": "stdout",
     "output_type": "stream",
     "text": [
      "{'rpc-reply': {'@message-id': 'urn:uuid:6af7816f-1d1d-4eaf-b199-6e9a434c3d09',\n",
      "               '@xmlns': 'urn:ietf:params:xml:ns:netconf:base:1.0',\n",
      "               '@xmlns:if': 'http://www.cisco.com/nxos:1.0:if_manager',\n",
      "               '@xmlns:nfcli': 'http://www.cisco.com/nxos:1.0:nfcli',\n",
      "               '@xmlns:nxos': 'http://www.cisco.com/nxos:1.0',\n",
      "               '@xmlns:vlan_mgr_cli': 'http://www.cisco.com/nxos:1.0:vlan_mgr_cli',\n",
      "               'data': {'System': {'@xmlns': 'http://cisco.com/ns/yang/cisco-nx-os-device',\n",
      "                                   'intf-items': {'phys-items': {'PhysIf-list': {'FECMode': 'auto',\n",
      "                                                                                 'accessVlan': 'vlan-1',\n",
      "                                                                                 'adminSt': 'down',\n",
      "                                                                                 'aggrmbrif-items': {'bdlPortNum': '0',\n",
      "                                                                                                     'channelingSt': 'unknown',\n",
      "                                                                                                     'flags': None,\n",
      "                                                                                                     'ltlProgrammed': 'false',\n",
      "                                                                                                     'operSt': 'down',\n",
      "                                                                                                     'summOperSt': 'down',\n",
      "                                                                                                     'uptime': '00:00:00:00.000'},\n",
      "                                                                                 'autoNeg': 'on',\n",
      "                                                                                 'beacon': 'off',\n",
      "                                                                                 'bw': '0',\n",
      "                                                                                 'controllerId': None,\n",
      "                                                                                 'dbgDot3Stats-items': {'alignmentErrors': '0',\n",
      "                                                                                                        'babble': '0',\n",
      "                                                                                                        'carrierSenseErrors': '0',\n",
      "                                                                                                        'controlInUnknownOpcodes': '0',\n",
      "                                                                                                        'deferredTransmissions': '0',\n",
      "                                                                                                        'excessiveCollisions': '0',\n",
      "                                                                                                        'fCSErrors': '0',\n",
      "                                                                                                        'frameTooLongs': '0',\n",
      "                                                                                                        'inPauseFrames': '0',\n",
      "                                                                                                        'inputdribble': '0',\n",
      "                                                                                                        'internalMacReceiveErrors': '0',\n",
      "                                                                                                        'internalMacTransmitErrors': '0',\n",
      "                                                                                                        'lateCollisions': '0',\n",
      "                                                                                                        'lostCarrierErrors': '0',\n",
      "                                                                                                        'multipleCollisionFrames': '0',\n",
      "                                                                                                        'noCarrierErrors': '0',\n",
      "                                                                                                        'outPauseFrames': '0',\n",
      "                                                                                                        'runts': '0',\n",
      "                                                                                                        'sQETTestErrors': '0',\n",
      "                                                                                                        'singleCollisionFrames': '0',\n",
      "                                                                                                        'symbolErrors': '0'},\n",
      "                                                                                 'dbgEtherStats-items': {'broadcastPkts': '0',\n",
      "                                                                                                         'cRCAlignErrors': '0',\n",
      "                                                                                                         'collisions': '0',\n",
      "                                                                                                         'dropEvents': '0',\n",
      "                                                                                                         'fragments': '0',\n",
      "                                                                                                         'ifdowndrop': '0',\n",
      "                                                                                                         'ignored': '0',\n",
      "                                                                                                         'jabbers': '0',\n",
      "                                                                                                         'multicastPkts': '0',\n",
      "                                                                                                         'octets': '0',\n",
      "                                                                                                         'overrun': '0',\n",
      "                                                                                                         'oversizePkts': '0',\n",
      "                                                                                                         'pkts': '0',\n",
      "                                                                                                         'pkts1024to1518Octets': '0',\n",
      "                                                                                                         'pkts128to255Octets': '0',\n",
      "                                                                                                         'pkts1519to1548Octets': '0',\n",
      "                                                                                                         'pkts256to511Octets': '0',\n",
      "                                                                                                         'pkts512to1023Octets': '0',\n",
      "                                                                                                         'pkts64Octets': '0',\n",
      "                                                                                                         'pkts65to127Octets': '0',\n",
      "                                                                                                         'rXNoErrors': '0',\n",
      "                                                                                                         'rxOversizePkts': '0',\n",
      "                                                                                                         'rxPkts1024to1518Octets': '0',\n",
      "                                                                                                         'rxPkts128to255Octets': '0',\n",
      "                                                                                                         'rxPkts1519to1548Octets': '0',\n",
      "                                                                                                         'rxPkts256to511Octets': '0',\n",
      "                                                                                                         'rxPkts512to1023Octets': '0',\n",
      "                                                                                                         'rxPkts64Octets': '0',\n",
      "                                                                                                         'rxPkts65to127Octets': '0',\n",
      "                                                                                                         'tXNoErrors': '0',\n",
      "                                                                                                         'txOversizePkts': '0',\n",
      "                                                                                                         'txPkts1024to1518Octets': '0',\n",
      "                                                                                                         'txPkts128to255Octets': '0',\n",
      "                                                                                                         'txPkts1519to1548Octets': '0',\n",
      "                                                                                                         'txPkts256to511Octets': '0',\n",
      "                                                                                                         'txPkts512to1023Octets': '0',\n",
      "                                                                                                         'txPkts64Octets': '0',\n",
      "                                                                                                         'txPkts65to127Octets': '0',\n",
      "                                                                                                         'underrun': '0',\n",
      "                                                                                                         'undersizePkts': '0',\n",
      "                                                                                                         'watchdog': '0'},\n",
      "                                                                                 'dbgIfHCIn-items': {'broadcastPkts': '0',\n",
      "                                                                                                     'multicastPkts': '0',\n",
      "                                                                                                     'octets': '0',\n",
      "                                                                                                     'ucastPkts': '0'},\n",
      "                                                                                 'dbgIfHCOut-items': {'broadcastPckts': '0',\n",
      "                                                                                                      'broadcastPkts': '0',\n",
      "                                                                                                      'multicastPkts': '0',\n",
      "                                                                                                      'octets': '0',\n",
      "                                                                                                      'ucastPkts': '0'},\n",
      "                                                                                 'dbgIfIn-items': {'broadcastPkts': '0',\n",
      "                                                                                                   'discards': '0',\n",
      "                                                                                                   'errors': '0',\n",
      "                                                                                                   'multicastPkts': '0',\n",
      "                                                                                                   'nUcastPkts': '0',\n",
      "                                                                                                   'noBuffer': '0',\n",
      "                                                                                                   'octetRate': '0',\n",
      "                                                                                                   'octets': '0',\n",
      "                                                                                                   'packetRate': '0',\n",
      "                                                                                                   'rateInterval': '300',\n",
      "                                                                                                   'ucastPkts': '0',\n",
      "                                                                                                   'unknownEtype': '0',\n",
      "                                                                                                   'unknownProtos': '0'},\n",
      "                                                                                 'dbgIfOut-items': {'broadcastPkts': '0',\n",
      "                                                                                                    'discards': '0',\n",
      "                                                                                                    'errors': '0',\n",
      "                                                                                                    'multicastPkts': '0',\n",
      "                                                                                                    'nUcastPkts': '0',\n",
      "                                                                                                    'octetRate': '0',\n",
      "                                                                                                    'octets': '0',\n",
      "                                                                                                    'packetRate': '0',\n",
      "                                                                                                    'qLen': '0',\n",
      "                                                                                                    'rateInterval': '300',\n",
      "                                                                                                    'ucastPkts': '0'},\n",
      "                                                                                 'delay': '1',\n",
      "                                                                                 'dfeAdaptiveTuning': 'enable',\n",
      "                                                                                 'dfeTuningDelay': '100',\n",
      "                                                                                 'dot1qEtherType': '33024',\n",
      "                                                                                 'duplex': 'auto',\n",
      "                                                                                 'eeep-items': {'eeeLat': 'variable',\n",
      "                                                                                                'eeeLpi': 'aggressive',\n",
      "                                                                                                'eeeState': 'not-applicable'},\n",
      "                                                                                 'hwifdetails-items': {'asic': '0',\n",
      "                                                                                                       'macBlockNum': '0',\n",
      "                                                                                                       'sPort': '0',\n",
      "                                                                                                       'slice': '0',\n",
      "                                                                                                       'vif': '1537'},\n",
      "                                                                                 'id': 'eth1/1',\n",
      "                                                                                 'inhBw': '4294967295',\n",
      "                                                                                 'layer': 'Layer2',\n",
      "                                                                                 'linkDebounce': '100',\n",
      "                                                                                 'linkDebounceLinkUp': '0',\n",
      "                                                                                 'linkLog': 'default',\n",
      "                                                                                 'linkLoopback': 'disable',\n",
      "                                                                                 'linkMacUpTimer': '0',\n",
      "                                                                                 'linkTransmitReset': 'enable',\n",
      "                                                                                 'loadp-items': {'loadIntvl1': '30',\n",
      "                                                                                                 'loadIntvl2': '300',\n",
      "                                                                                                 'loadIntvl3': '0'},\n",
      "                                                                                 'mdix': 'auto',\n",
      "                                                                                 'mediaType': 'none',\n",
      "                                                                                 'medium': 'broadcast',\n",
      "                                                                                 'mode': 'trunk',\n",
      "                                                                                 'mtu': '1500',\n",
      "                                                                                 'nativeVlan': 'vlan-1',\n",
      "                                                                                 'packetTimestampEgressSourceId': '0',\n",
      "                                                                                 'packetTimestampIngressSourceId': '0',\n",
      "                                                                                 'packetTimestampState': 'disable',\n",
      "                                                                                 'phys-items': {'accessVlan': 'vlan-1',\n",
      "                                                                                                'adminSt': 'down',\n",
      "                                                                                                'allowedVlans': '100-105',\n",
      "                                                                                                'backplaneMac': '00:BF:FA:82:01:01',\n",
      "                                                                                                'bundleBupId': '1',\n",
      "                                                                                                'bundleIndex': 'unspecified',\n",
      "                                                                                                'cachedUserCfgdFlags': 'admin_layer',\n",
      "                                                                                                'cfgAccessVlan': 'vlan-1',\n",
      "                                                                                                'cfgNativeVlan': 'vlan-1',\n",
      "                                                                                                'currErrIndex': '4294967295',\n",
      "                                                                                                'diags': 'none',\n",
      "                                                                                                'dynamicVlan': 'false',\n",
      "                                                                                                'encap': '3',\n",
      "                                                                                                'errDisTimerRunning': 'false',\n",
      "                                                                                                'errVlans': None,\n",
      "                                                                                                'fcot-items': {'baseResvd1': '0',\n",
      "                                                                                                               'baseResvd2': '0',\n",
      "                                                                                                               'baseResvd3': '0',\n",
      "                                                                                                               'baseResvd4': '0,0,0',\n",
      "                                                                                                               'brIn100MHz': '0',\n",
      "                                                                                                               'brMaxMargin': '0',\n",
      "                                                                                                               'brMinMargin': '0',\n",
      "                                                                                                               'ccex': '0',\n",
      "                                                                                                               'ccid': '0',\n",
      "                                                                                                               'connectType': '0',\n",
      "                                                                                                               'dateCode': None,\n",
      "                                                                                                               'description': None,\n",
      "                                                                                                               'diagMonType': '0',\n",
      "                                                                                                               'distIn100mFor9u': '0',\n",
      "                                                                                                               'distIn10mFor50u': '0',\n",
      "                                                                                                               'distIn10mFor60u': '0',\n",
      "                                                                                                               'distIn1mForCu': '0',\n",
      "                                                                                                               'distInKmFor9u': '0',\n",
      "                                                                                                               'encoding': '0',\n",
      "                                                                                                               'enhOption': '0',\n",
      "                                                                                                               'extOption': '0,0',\n",
      "                                                                                                               'fCTxType': '0',\n",
      "                                                                                                               'fcotNum': '0',\n",
      "                                                                                                               'fcotType': '0',\n",
      "                                                                                                               'flags': 'unknown',\n",
      "                                                                                                               'gigEthCC': '0',\n",
      "                                                                                                               'isFcotPresent': 'false',\n",
      "                                                                                                               'maxSpeed': '6',\n",
      "                                                                                                               'minSpeed': '6',\n",
      "                                                                                                               'partNumber': None,\n",
      "                                                                                                               'sff8472Compl': '0',\n",
      "                                                                                                               'state': 'unknown',\n",
      "                                                                                                               'transceiverType': 'copper',\n",
      "                                                                                                               'type': 'unknown',\n",
      "                                                                                                               'typeName': 'unknown',\n",
      "                                                                                                               'vendorData': '0,0,0,0,0,0,0,0,0,0,0,0,0,0,0,0,0,0,0,0,0,0,0,0,0,0,0,0,0,0,0,0',\n",
      "                                                                                                               'vendorId': '0,0,0',\n",
      "                                                                                                               'vendorName': None,\n",
      "                                                                                                               'vendorPn': None,\n",
      "                                                                                                               'vendorRev': None,\n",
      "                                                                                                               'vendorSn': None,\n",
      "                                                                                                               'versionId': None,\n",
      "                                                                                                               'xcvrCode': '0,0,0,0,0,0,0,0',\n",
      "                                                                                                               'xcvrExtId': '0',\n",
      "                                                                                                               'xcvrId': '0'},\n",
      "                                                                                                'gport': '134219777',\n",
      "                                                                                                'ifIndex': '436207616',\n",
      "                                                                                                'intf': 'present',\n",
      "                                                                                                'intfT': 'phy',\n",
      "                                                                                                'iod': '14',\n",
      "                                                                                                'lastErrors': '0,0,0,0',\n",
      "                                                                                                'lastLinkStChg': '1970-01-01T00:00:00.000+00:00',\n",
      "                                                                                                'media': '2',\n",
      "                                                                                                'nativeVlan': 'vlan-1',\n",
      "                                                                                                'numOfSI': '0',\n",
      "                                                                                                'operAutoNeg': 'on',\n",
      "                                                                                                'operBitset': None,\n",
      "                                                                                                'operDceMode': 'edge',\n",
      "                                                                                                'operDescr': None,\n",
      "                                                                                                'operDuplex': 'auto',\n",
      "                                                                                                'operEEERxWkTime': '0',\n",
      "                                                                                                'operEEEState': 'not-applicable',\n",
      "                                                                                                'operEEETxWkTime': '0',\n",
      "                                                                                                'operErrDisQual': 'up',\n",
      "                                                                                                'operFECMode': 'auto',\n",
      "                                                                                                'operFlowCtrl': None,\n",
      "                                                                                                'operLinkDebounce': '100',\n",
      "                                                                                                'operMdix': 'auto',\n",
      "                                                                                                'operMode': 'trunk',\n",
      "                                                                                                'operMtu': '1500',\n",
      "                                                                                                'operPhyEnSt': 'unknown',\n",
      "                                                                                                'operRouterMac': '00:BF:FA:82:1B:08',\n",
      "                                                                                                'operSpeed': 'auto',\n",
      "                                                                                                'operSt': 'down',\n",
      "                                                                                                'operStQual': 'admin-down',\n",
      "                                                                                                'operStQualCode': '0',\n",
      "                                                                                                'operTrunkStatus': 'trunk-bundle',\n",
      "                                                                                                'portCfgWaitFlags': '0',\n",
      "                                                                                                'portcap-items': {'autoneg': '1',\n",
      "                                                                                                                  'channel': '1',\n",
      "                                                                                                                  'cosRewrite': '1',\n",
      "                                                                                                                  'ctsCapable': '31',\n",
      "                                                                                                                  'duplex': 'full',\n",
      "                                                                                                                  'eeeCapVal': '0',\n",
      "                                                                                                                  'eeeFlapFlags': '0',\n",
      "                                                                                                                  'eeeWakeTimes10g': '0,0,0',\n",
      "                                                                                                                  'fcotCapable': '0',\n",
      "                                                                                                                  'id': 'unspecified',\n",
      "                                                                                                                  'linkDebounce': '1',\n",
      "                                                                                                                  'linkDebounceTime': '50',\n",
      "                                                                                                                  'mdix': '0',\n",
      "                                                                                                                  'model': '103,98,105,99,0,0,0,0,0,0,0,0,0,0,0,0,0,0,0,0,0,0,0,0,0,0,0,0,0,0,0,0',\n",
      "                                                                                                                  'portCap': '167772160',\n",
      "                                                                                                                  'portGroup': '255',\n",
      "                                                                                                                  'portGrpMbrs': None,\n",
      "                                                                                                                  'protoSupport': '16777235',\n",
      "                                                                                                                  'qosRxPrio': '0',\n",
      "                                                                                                                  'qosRxQueue': '8',\n",
      "                                                                                                                  'qosRxThold': '2',\n",
      "                                                                                                                  'qosTxPrio': '1',\n",
      "                                                                                                                  'qosTxQueue': '7',\n",
      "                                                                                                                  'qosTxThold': '4',\n",
      "                                                                                                                  'rateMode': '1',\n",
      "                                                                                                                  'rxFlowControl': '3',\n",
      "                                                                                                                  'span': '1',\n",
      "                                                                                                                  'speed': '100,1000,10000',\n",
      "                                                                                                                  'suppression': '1',\n",
      "                                                                                                                  'tosRewrite': '1',\n",
      "                                                                                                                  'trunkEncap': '1',\n",
      "                                                                                                                  'txFlowControl': '3',\n",
      "                                                                                                                  'type': '49,48,103,0,0,0,0,0,0,0,0,0,0,0,0,0,0,0,0,0,0,0,0,0,0,0,0,0,0,0,0,0',\n",
      "                                                                                                                  'udld': '1'},\n",
      "                                                                                                'primaryVlan': 'vlan-1',\n",
      "                                                                                                'resetCtr': '0',\n",
      "                                                                                                'shareState': 'dedicated',\n",
      "                                                                                                'siList': None,\n",
      "                                                                                                'txT': 'unknown',\n",
      "                                                                                                'usage': None,\n",
      "                                                                                                'userCfgdFlags': 'admin_layer',\n",
      "                                                                                                'vdcId': '1'},\n",
      "                                                                                 'physExtd-items': {'allowMultiTag': 'disable',\n",
      "                                                                                                    'autoExcludeVlans': None,\n",
      "                                                                                                    'bufferBoost': 'enable',\n",
      "                                                                                                    'chassisModuleSide': 'UnknownSlot',\n",
      "                                                                                                    'chassisNumber': '0',\n",
      "                                                                                                    'flowCtrlReceive': 'false',\n",
      "                                                                                                    'flowCtrlSend': 'false',\n",
      "                                                                                                    'id': 'eth1/1',\n",
      "                                                                                                    'portTypeFabric': 'no',\n",
      "                                                                                                    'routerMacIpv6Extract': 'disable',\n",
      "                                                                                                    'shutDownLan': 'disable',\n",
      "                                                                                                    'stormCtrlBCastLevel': '100.0',\n",
      "                                                                                                    'stormCtrlBCastPPS': '4294967295',\n",
      "                                                                                                    'stormCtrlMCastLevel': '100.0',\n",
      "                                                                                                    'stormCtrlMCastPPS': '4294967295',\n",
      "                                                                                                    'stormCtrlUCastLevel': '100.0',\n",
      "                                                                                                    'stormCtrlUCastPPS': '4294967295',\n",
      "                                                                                                    'switchportIsolated': 'disable',\n",
      "                                                                                                    'switchportMacLearn': 'enable',\n",
      "                                                                                                    'switchportVirtualEthernetBridge': 'disable'},\n",
      "                                                                                 'portT': 'unknown',\n",
      "                                                                                 'routerMac': '00:00:00:00:00:00',\n",
      "                                                                                 'rscdpIfPolCons-items': {'tDn': 'UNRES:uni/infra/cdpIfP-[default]'},\n",
      "                                                                                 'rshIfPolCons-items': {'tDn': 'UNRES:uni/infra/hintfpol-[default]'},\n",
      "                                                                                 'rsstormctrlIfPolCons-items': {'tDn': 'UNRES:uni/infra/stormctrlifp-[default]'},\n",
      "                                                                                 'rsstpIfPolCons-items': {'tDn': 'UNRES:uni/infra/ifpol-[default]'},\n",
      "                                                                                 'rtioPPhysConf-items': {'tDn': \"/System/ch-items/lcslot-items/LCSlot-list[id='1']/lc-items/leafport-items/LeafP-list[id='1']\"},\n",
      "                                                                                 'rtl2EthIf-items': {'RtL2EthIf-list': [{'tDn': \"/System/cdp-items/inst-items/if-items/If-list[id='eth1/1']\"},\n",
      "                                                                                                                        {'tDn': \"/System/lacp-items/inst-items/if-items/If-list[id='eth1/1']\"}]},\n",
      "                                                                                 'rtmbrIfs-items': {'tDn': \"/System/intf-items/aggr-items/AggrIf-list[id='po11']\"},\n",
      "                                                                                 'snmpTrapSt': 'enable',\n",
      "                                                                                 'spanMode': 'not-a-span-dest',\n",
      "                                                                                 'speed': 'auto',\n",
      "                                                                                 'speedGroup': 'auto',\n",
      "                                                                                 'stormctrlp-items': {'burstPps': '4294967295',\n",
      "                                                                                                      'burstRate': '100.0',\n",
      "                                                                                                      'rate': '100.0',\n",
      "                                                                                                      'ratePps': '4294967295',\n",
      "                                                                                                      'type': 'all'},\n",
      "                                                                                 'switchingSt': 'disabled',\n",
      "                                                                                 'trunkLog': 'default',\n",
      "                                                                                 'trunkVlans': '100-110',\n",
      "                                                                                 'uniDirectionalEthernet': 'disable',\n",
      "                                                                                 'usage': 'discovery',\n",
      "                                                                                 'userCfgdFlags': 'admin_layer',\n",
      "                                                                                 'voicePortCos': '-1',\n",
      "                                                                                 'voicePortTrust': '-1',\n",
      "                                                                                 'voiceVlanId': '0',\n",
      "                                                                                 'voiceVlanType': 'none'}}}}}}}\n"
     ]
    }
   ],
   "source": [
    "pp(xmltodict.parse(r.xml, dict_constructor=dict))"
   ]
  },
  {
   "cell_type": "code",
   "execution_count": 20,
   "metadata": {},
   "outputs": [
    {
     "name": "stdout",
     "output_type": "stream",
     "text": [
      "<filter>\n",
      "\t<System xmlns=\"http://cisco.com/ns/yang/cisco-nx-os-device\">\n",
      "\t\t<intf-items>\n",
      "\t\t\t<phys-items>\n",
      "\t\t\t\t<PhysIf-list>\n",
      "\t\t\t\t\t<id>eth1/1</id>\n",
      "\t\t\t\t</PhysIf-list>\n",
      "\t\t\t</phys-items>\n",
      "\t\t</intf-items>\n",
      "\t</System>\n",
      "</filter>\n"
     ]
    }
   ],
   "source": [
    "print(filter)"
   ]
  },
  {
   "cell_type": "markdown",
   "metadata": {},
   "source": [
    "---\n",
    "### Send NETCONF **get** request"
   ]
  },
  {
   "cell_type": "code",
   "execution_count": 21,
   "metadata": {},
   "outputs": [],
   "source": [
    "with manager.connect(**device) as m:\n",
    "    response = m.get(filter=filter)"
   ]
  },
  {
   "cell_type": "markdown",
   "metadata": {},
   "source": [
    "---\n",
    "### Print NETCONF reply"
   ]
  },
  {
   "cell_type": "code",
   "execution_count": 22,
   "metadata": {},
   "outputs": [
    {
     "name": "stdout",
     "output_type": "stream",
     "text": [
      "<?xml version=\"1.0\" encoding=\"UTF-8\"?>\n",
      "<rpc-reply xmlns:nxos=\"http://www.cisco.com/nxos:1.0\" xmlns:if=\"http://www.cisco.com/nxos:1.0:if_manager\" xmlns:nfcli=\"http://www.cisco.com/nxos:1.0:nfcli\" xmlns:vlan_mgr_cli=\"http://www.cisco.com/nxos:1.0:vlan_mgr_cli\" xmlns=\"urn:ietf:params:xml:ns:netconf:base:1.0\" message-id=\"urn:uuid:8242485d-89fb-4a73-b2f5-f68f6f74bdd7\">\n",
      "    <data>\n",
      "        <System xmlns=\"http://cisco.com/ns/yang/cisco-nx-os-device\">\n",
      "            <intf-items>\n",
      "                <phys-items>\n",
      "                    <PhysIf-list>\n",
      "                        <id>eth1/1</id>\n",
      "                        <FECMode>auto</FECMode>\n",
      "                        <accessVlan>vlan-1</accessVlan>\n",
      "                        <adminSt>down</adminSt>\n",
      "                        <aggrmbrif-items>\n",
      "                            <bdlPortNum>0</bdlPortNum>\n",
      "                            <channelingSt>unknown</channelingSt>\n",
      "                            <flags/>\n",
      "                            <ltlProgrammed>false</ltlProgrammed>\n",
      "                            <operSt>down</operSt>\n",
      "                            <summOperSt>down</summOperSt>\n",
      "                            <uptime>00:00:00:00.000</uptime>\n",
      "                        </aggrmbrif-items>\n",
      "                        <autoNeg>on</autoNeg>\n",
      "                        <beacon>off</beacon>\n",
      "                        <bw>0</bw>\n",
      "                        <controllerId/>\n",
      "                        <dbgDot3Stats-items>\n",
      "                            <alignmentErrors>0</alignmentErrors>\n",
      "                            <babble>0</babble>\n",
      "                            <carrierSenseErrors>0</carrierSenseErrors>\n",
      "                            <controlInUnknownOpcodes>0</controlInUnknownOpcodes>\n",
      "                            <deferredTransmissions>0</deferredTransmissions>\n",
      "                            <excessiveCollisions>0</excessiveCollisions>\n",
      "                            <fCSErrors>0</fCSErrors>\n",
      "                            <frameTooLongs>0</frameTooLongs>\n",
      "                            <inPauseFrames>0</inPauseFrames>\n",
      "                            <inputdribble>0</inputdribble>\n",
      "                            <internalMacReceiveErrors>0</internalMacReceiveErrors>\n",
      "                            <internalMacTransmitErrors>0</internalMacTransmitErrors>\n",
      "                            <lateCollisions>0</lateCollisions>\n",
      "                            <lostCarrierErrors>0</lostCarrierErrors>\n",
      "                            <multipleCollisionFrames>0</multipleCollisionFrames>\n",
      "                            <noCarrierErrors>0</noCarrierErrors>\n",
      "                            <outPauseFrames>0</outPauseFrames>\n",
      "                            <runts>0</runts>\n",
      "                            <sQETTestErrors>0</sQETTestErrors>\n",
      "                            <singleCollisionFrames>0</singleCollisionFrames>\n",
      "                            <symbolErrors>0</symbolErrors>\n",
      "                        </dbgDot3Stats-items>\n",
      "                        <dbgEtherStats-items>\n",
      "                            <broadcastPkts>0</broadcastPkts>\n",
      "                            <cRCAlignErrors>0</cRCAlignErrors>\n",
      "                            <collisions>0</collisions>\n",
      "                            <dropEvents>0</dropEvents>\n",
      "                            <fragments>0</fragments>\n",
      "                            <ifdowndrop>0</ifdowndrop>\n",
      "                            <ignored>0</ignored>\n",
      "                            <jabbers>0</jabbers>\n",
      "                            <multicastPkts>0</multicastPkts>\n",
      "                            <octets>0</octets>\n",
      "                            <overrun>0</overrun>\n",
      "                            <oversizePkts>0</oversizePkts>\n",
      "                            <pkts>0</pkts>\n",
      "                            <pkts1024to1518Octets>0</pkts1024to1518Octets>\n",
      "                            <pkts128to255Octets>0</pkts128to255Octets>\n",
      "                            <pkts1519to1548Octets>0</pkts1519to1548Octets>\n",
      "                            <pkts256to511Octets>0</pkts256to511Octets>\n",
      "                            <pkts512to1023Octets>0</pkts512to1023Octets>\n",
      "                            <pkts64Octets>0</pkts64Octets>\n",
      "                            <pkts65to127Octets>0</pkts65to127Octets>\n",
      "                            <rXNoErrors>0</rXNoErrors>\n",
      "                            <rxOversizePkts>0</rxOversizePkts>\n",
      "                            <rxPkts1024to1518Octets>0</rxPkts1024to1518Octets>\n",
      "                            <rxPkts128to255Octets>0</rxPkts128to255Octets>\n",
      "                            <rxPkts1519to1548Octets>0</rxPkts1519to1548Octets>\n",
      "                            <rxPkts256to511Octets>0</rxPkts256to511Octets>\n",
      "                            <rxPkts512to1023Octets>0</rxPkts512to1023Octets>\n",
      "                            <rxPkts64Octets>0</rxPkts64Octets>\n",
      "                            <rxPkts65to127Octets>0</rxPkts65to127Octets>\n",
      "                            <tXNoErrors>0</tXNoErrors>\n",
      "                            <txOversizePkts>0</txOversizePkts>\n",
      "                            <txPkts1024to1518Octets>0</txPkts1024to1518Octets>\n",
      "                            <txPkts128to255Octets>0</txPkts128to255Octets>\n",
      "                            <txPkts1519to1548Octets>0</txPkts1519to1548Octets>\n",
      "                            <txPkts256to511Octets>0</txPkts256to511Octets>\n",
      "                            <txPkts512to1023Octets>0</txPkts512to1023Octets>\n",
      "                            <txPkts64Octets>0</txPkts64Octets>\n",
      "                            <txPkts65to127Octets>0</txPkts65to127Octets>\n",
      "                            <underrun>0</underrun>\n",
      "                            <undersizePkts>0</undersizePkts>\n",
      "                            <watchdog>0</watchdog>\n",
      "                        </dbgEtherStats-items>\n",
      "                        <dbgIfHCIn-items>\n",
      "                            <broadcastPkts>0</broadcastPkts>\n",
      "                            <multicastPkts>0</multicastPkts>\n",
      "                            <octets>0</octets>\n",
      "                            <ucastPkts>0</ucastPkts>\n",
      "                        </dbgIfHCIn-items>\n",
      "                        <dbgIfHCOut-items>\n",
      "                            <broadcastPckts>0</broadcastPckts>\n",
      "                            <broadcastPkts>0</broadcastPkts>\n",
      "                            <multicastPkts>0</multicastPkts>\n",
      "                            <octets>0</octets>\n",
      "                            <ucastPkts>0</ucastPkts>\n",
      "                        </dbgIfHCOut-items>\n",
      "                        <dbgIfIn-items>\n",
      "                            <broadcastPkts>0</broadcastPkts>\n",
      "                            <discards>0</discards>\n",
      "                            <errors>0</errors>\n",
      "                            <multicastPkts>0</multicastPkts>\n",
      "                            <nUcastPkts>0</nUcastPkts>\n",
      "                            <noBuffer>0</noBuffer>\n",
      "                            <octetRate>0</octetRate>\n",
      "                            <octets>0</octets>\n",
      "                            <packetRate>0</packetRate>\n",
      "                            <rateInterval>300</rateInterval>\n",
      "                            <ucastPkts>0</ucastPkts>\n",
      "                            <unknownEtype>0</unknownEtype>\n",
      "                            <unknownProtos>0</unknownProtos>\n",
      "                        </dbgIfIn-items>\n",
      "                        <dbgIfOut-items>\n",
      "                            <broadcastPkts>0</broadcastPkts>\n",
      "                            <discards>0</discards>\n",
      "                            <errors>0</errors>\n",
      "                            <multicastPkts>0</multicastPkts>\n",
      "                            <nUcastPkts>0</nUcastPkts>\n",
      "                            <octetRate>0</octetRate>\n",
      "                            <octets>0</octets>\n",
      "                            <packetRate>0</packetRate>\n",
      "                            <qLen>0</qLen>\n",
      "                            <rateInterval>300</rateInterval>\n",
      "                            <ucastPkts>0</ucastPkts>\n",
      "                        </dbgIfOut-items>\n",
      "                        <delay>1</delay>\n",
      "                        <dfeAdaptiveTuning>enable</dfeAdaptiveTuning>\n",
      "                        <dfeTuningDelay>100</dfeTuningDelay>\n",
      "                        <dot1qEtherType>33024</dot1qEtherType>\n",
      "                        <duplex>auto</duplex>\n",
      "                        <eeep-items>\n",
      "                            <eeeLat>variable</eeeLat>\n",
      "                            <eeeLpi>aggressive</eeeLpi>\n",
      "                            <eeeState>not-applicable</eeeState>\n",
      "                        </eeep-items>\n",
      "                        <hwifdetails-items>\n",
      "                            <asic>0</asic>\n",
      "                            <macBlockNum>0</macBlockNum>\n",
      "                            <sPort>0</sPort>\n",
      "                            <slice>0</slice>\n",
      "                            <vif>1537</vif>\n",
      "                        </hwifdetails-items>\n",
      "                        <inhBw>4294967295</inhBw>\n",
      "                        <layer>Layer2</layer>\n",
      "                        <linkDebounce>100</linkDebounce>\n",
      "                        <linkDebounceLinkUp>0</linkDebounceLinkUp>\n",
      "                        <linkLog>default</linkLog>\n",
      "                        <linkLoopback>disable</linkLoopback>\n",
      "                        <linkMacUpTimer>0</linkMacUpTimer>\n",
      "                        <linkTransmitReset>enable</linkTransmitReset>\n",
      "                        <loadp-items>\n",
      "                            <loadIntvl1>30</loadIntvl1>\n",
      "                            <loadIntvl2>300</loadIntvl2>\n",
      "                            <loadIntvl3>0</loadIntvl3>\n",
      "                        </loadp-items>\n",
      "                        <mdix>auto</mdix>\n",
      "                        <mediaType>none</mediaType>\n",
      "                        <medium>broadcast</medium>\n",
      "                        <mode>trunk</mode>\n",
      "                        <mtu>1500</mtu>\n",
      "                        <nativeVlan>vlan-1</nativeVlan>\n",
      "                        <packetTimestampEgressSourceId>0</packetTimestampEgressSourceId>\n",
      "                        <packetTimestampIngressSourceId>0</packetTimestampIngressSourceId>\n",
      "                        <packetTimestampState>disable</packetTimestampState>\n",
      "                        <phys-items>\n",
      "                            <accessVlan>vlan-1</accessVlan>\n",
      "                            <adminSt>down</adminSt>\n",
      "                            <allowedVlans>100-105</allowedVlans>\n",
      "                            <backplaneMac>00:BF:FA:82:01:01</backplaneMac>\n",
      "                            <bundleBupId>1</bundleBupId>\n",
      "                            <bundleIndex>unspecified</bundleIndex>\n",
      "                            <cachedUserCfgdFlags>admin_layer</cachedUserCfgdFlags>\n",
      "                            <cfgAccessVlan>vlan-1</cfgAccessVlan>\n",
      "                            <cfgNativeVlan>vlan-1</cfgNativeVlan>\n",
      "                            <currErrIndex>4294967295</currErrIndex>\n",
      "                            <diags>none</diags>\n",
      "                            <dynamicVlan>false</dynamicVlan>\n",
      "                            <encap>3</encap>\n",
      "                            <errDisTimerRunning>false</errDisTimerRunning>\n",
      "                            <errVlans/>\n",
      "                            <fcot-items>\n",
      "                                <baseResvd1>0</baseResvd1>\n",
      "                                <baseResvd2>0</baseResvd2>\n",
      "                                <baseResvd3>0</baseResvd3>\n",
      "                                <baseResvd4>0,0,0</baseResvd4>\n",
      "                                <brIn100MHz>0</brIn100MHz>\n",
      "                                <brMaxMargin>0</brMaxMargin>\n",
      "                                <brMinMargin>0</brMinMargin>\n",
      "                                <ccex>0</ccex>\n",
      "                                <ccid>0</ccid>\n",
      "                                <connectType>0</connectType>\n",
      "                                <dateCode/>\n",
      "                                <description/>\n",
      "                                <diagMonType>0</diagMonType>\n",
      "                                <distIn100mFor9u>0</distIn100mFor9u>\n",
      "                                <distIn10mFor50u>0</distIn10mFor50u>\n",
      "                                <distIn10mFor60u>0</distIn10mFor60u>\n",
      "                                <distIn1mForCu>0</distIn1mForCu>\n",
      "                                <distInKmFor9u>0</distInKmFor9u>\n",
      "                                <encoding>0</encoding>\n",
      "                                <enhOption>0</enhOption>\n",
      "                                <extOption>0,0</extOption>\n",
      "                                <fCTxType>0</fCTxType>\n",
      "                                <fcotNum>0</fcotNum>\n",
      "                                <fcotType>0</fcotType>\n",
      "                                <flags>unknown</flags>\n",
      "                                <gigEthCC>0</gigEthCC>\n",
      "                                <isFcotPresent>false</isFcotPresent>\n",
      "                                <maxSpeed>6</maxSpeed>\n",
      "                                <minSpeed>6</minSpeed>\n",
      "                                <partNumber/>\n",
      "                                <sff8472Compl>0</sff8472Compl>\n",
      "                                <state>unknown</state>\n",
      "                                <transceiverType>copper</transceiverType>\n",
      "                                <type>unknown</type>\n",
      "                                <typeName>unknown</typeName>\n",
      "                                <vendorData>0,0,0,0,0,0,0,0,0,0,0,0,0,0,0,0,0,0,0,0,0,0,0,0,0,0,0,0,0,0,0,0</vendorData>\n",
      "                                <vendorId>0,0,0</vendorId>\n",
      "                                <vendorName/>\n",
      "                                <vendorPn/>\n",
      "                                <vendorRev/>\n",
      "                                <vendorSn/>\n",
      "                                <versionId/>\n",
      "                                <xcvrCode>0,0,0,0,0,0,0,0</xcvrCode>\n",
      "                                <xcvrExtId>0</xcvrExtId>\n",
      "                                <xcvrId>0</xcvrId>\n",
      "                            </fcot-items>\n",
      "                            <gport>134219777</gport>\n",
      "                            <ifIndex>436207616</ifIndex>\n",
      "                            <intf>present</intf>\n",
      "                            <intfT>phy</intfT>\n",
      "                            <iod>14</iod>\n",
      "                            <lastErrors>0,0,0,0</lastErrors>\n",
      "                            <lastLinkStChg>1970-01-01T00:00:00.000+00:00</lastLinkStChg>\n",
      "                            <media>2</media>\n",
      "                            <nativeVlan>vlan-1</nativeVlan>\n",
      "                            <numOfSI>0</numOfSI>\n",
      "                            <operAutoNeg>on</operAutoNeg>\n",
      "                            <operBitset/>\n",
      "                            <operDceMode>edge</operDceMode>\n",
      "                            <operDescr/>\n",
      "                            <operDuplex>auto</operDuplex>\n",
      "                            <operEEERxWkTime>0</operEEERxWkTime>\n",
      "                            <operEEEState>not-applicable</operEEEState>\n",
      "                            <operEEETxWkTime>0</operEEETxWkTime>\n",
      "                            <operErrDisQual>up</operErrDisQual>\n",
      "                            <operFECMode>auto</operFECMode>\n",
      "                            <operFlowCtrl/>\n",
      "                            <operLinkDebounce>100</operLinkDebounce>\n",
      "                            <operMdix>auto</operMdix>\n",
      "                            <operMode>trunk</operMode>\n",
      "                            <operMtu>1500</operMtu>\n",
      "                            <operPhyEnSt>unknown</operPhyEnSt>\n",
      "                            <operRouterMac>00:BF:FA:82:1B:08</operRouterMac>\n",
      "                            <operSpeed>auto</operSpeed>\n",
      "                            <operSt>down</operSt>\n",
      "                            <operStQual>admin-down</operStQual>\n",
      "                            <operStQualCode>0</operStQualCode>\n",
      "                            <operTrunkStatus>trunk-bundle</operTrunkStatus>\n",
      "                            <portCfgWaitFlags>0</portCfgWaitFlags>\n",
      "                            <portcap-items>\n",
      "                                <autoneg>1</autoneg>\n",
      "                                <channel>1</channel>\n",
      "                                <cosRewrite>1</cosRewrite>\n",
      "                                <ctsCapable>31</ctsCapable>\n",
      "                                <duplex>full</duplex>\n",
      "                                <eeeCapVal>0</eeeCapVal>\n",
      "                                <eeeFlapFlags>0</eeeFlapFlags>\n",
      "                                <eeeWakeTimes10g>0,0,0</eeeWakeTimes10g>\n",
      "                                <fcotCapable>0</fcotCapable>\n",
      "                                <id>unspecified</id>\n",
      "                                <linkDebounce>1</linkDebounce>\n",
      "                                <linkDebounceTime>50</linkDebounceTime>\n",
      "                                <mdix>0</mdix>\n",
      "                                <model>103,98,105,99,0,0,0,0,0,0,0,0,0,0,0,0,0,0,0,0,0,0,0,0,0,0,0,0,0,0,0,0</model>\n",
      "                                <portCap>167772160</portCap>\n",
      "                                <portGroup>255</portGroup>\n",
      "                                <portGrpMbrs/>\n",
      "                                <protoSupport>16777235</protoSupport>\n",
      "                                <qosRxPrio>0</qosRxPrio>\n",
      "                                <qosRxQueue>8</qosRxQueue>\n",
      "                                <qosRxThold>2</qosRxThold>\n",
      "                                <qosTxPrio>1</qosTxPrio>\n",
      "                                <qosTxQueue>7</qosTxQueue>\n",
      "                                <qosTxThold>4</qosTxThold>\n",
      "                                <rateMode>1</rateMode>\n",
      "                                <rxFlowControl>3</rxFlowControl>\n",
      "                                <span>1</span>\n",
      "                                <speed>100,1000,10000</speed>\n",
      "                                <suppression>1</suppression>\n",
      "                                <tosRewrite>1</tosRewrite>\n",
      "                                <trunkEncap>1</trunkEncap>\n",
      "                                <txFlowControl>3</txFlowControl>\n",
      "                                <type>49,48,103,0,0,0,0,0,0,0,0,0,0,0,0,0,0,0,0,0,0,0,0,0,0,0,0,0,0,0,0,0</type>\n",
      "                                <udld>1</udld>\n",
      "                            </portcap-items>\n",
      "                            <primaryVlan>vlan-1</primaryVlan>\n",
      "                            <resetCtr>0</resetCtr>\n",
      "                            <shareState>dedicated</shareState>\n",
      "                            <siList/>\n",
      "                            <txT>unknown</txT>\n",
      "                            <usage/>\n",
      "                            <userCfgdFlags>admin_layer</userCfgdFlags>\n",
      "                            <vdcId>1</vdcId>\n",
      "                        </phys-items>\n",
      "                        <physExtd-items>\n",
      "                            <allowMultiTag>disable</allowMultiTag>\n",
      "                            <autoExcludeVlans/>\n",
      "                            <bufferBoost>enable</bufferBoost>\n",
      "                            <chassisModuleSide>UnknownSlot</chassisModuleSide>\n",
      "                            <chassisNumber>0</chassisNumber>\n",
      "                            <flowCtrlReceive>false</flowCtrlReceive>\n",
      "                            <flowCtrlSend>false</flowCtrlSend>\n",
      "                            <id>eth1/1</id>\n",
      "                            <portTypeFabric>no</portTypeFabric>\n",
      "                            <routerMacIpv6Extract>disable</routerMacIpv6Extract>\n",
      "                            <shutDownLan>disable</shutDownLan>\n",
      "                            <stormCtrlBCastLevel>100.0</stormCtrlBCastLevel>\n",
      "                            <stormCtrlBCastPPS>4294967295</stormCtrlBCastPPS>\n",
      "                            <stormCtrlMCastLevel>100.0</stormCtrlMCastLevel>\n",
      "                            <stormCtrlMCastPPS>4294967295</stormCtrlMCastPPS>\n",
      "                            <stormCtrlUCastLevel>100.0</stormCtrlUCastLevel>\n",
      "                            <stormCtrlUCastPPS>4294967295</stormCtrlUCastPPS>\n",
      "                            <switchportIsolated>disable</switchportIsolated>\n",
      "                            <switchportMacLearn>enable</switchportMacLearn>\n",
      "                            <switchportVirtualEthernetBridge>disable</switchportVirtualEthernetBridge>\n",
      "                        </physExtd-items>\n",
      "                        <portT>unknown</portT>\n",
      "                        <routerMac>00:00:00:00:00:00</routerMac>\n",
      "                        <rscdpIfPolCons-items>\n",
      "                            <tDn>UNRES:uni/infra/cdpIfP-[default]</tDn>\n",
      "                        </rscdpIfPolCons-items>\n",
      "                        <rshIfPolCons-items>\n",
      "                            <tDn>UNRES:uni/infra/hintfpol-[default]</tDn>\n",
      "                        </rshIfPolCons-items>\n",
      "                        <rsstormctrlIfPolCons-items>\n",
      "                            <tDn>UNRES:uni/infra/stormctrlifp-[default]</tDn>\n",
      "                        </rsstormctrlIfPolCons-items>\n",
      "                        <rsstpIfPolCons-items>\n",
      "                            <tDn>UNRES:uni/infra/ifpol-[default]</tDn>\n",
      "                        </rsstpIfPolCons-items>\n",
      "                        <rtioPPhysConf-items>\n",
      "                            <tDn>/System/ch-items/lcslot-items/LCSlot-list[id=&apos;1&apos;]/lc-items/leafport-items/LeafP-list[id=&apos;1&apos;]</tDn>\n",
      "                        </rtioPPhysConf-items>\n",
      "                        <rtl2EthIf-items>\n",
      "                            <RtL2EthIf-list>\n",
      "                                <tDn>/System/cdp-items/inst-items/if-items/If-list[id=&apos;eth1/1&apos;]</tDn>\n",
      "                            </RtL2EthIf-list>\n",
      "                            <RtL2EthIf-list>\n",
      "                                <tDn>/System/lacp-items/inst-items/if-items/If-list[id=&apos;eth1/1&apos;]</tDn>\n",
      "                            </RtL2EthIf-list>\n",
      "                        </rtl2EthIf-items>\n",
      "                        <rtmbrIfs-items>\n",
      "                            <tDn>/System/intf-items/aggr-items/AggrIf-list[id=&apos;po11&apos;]</tDn>\n",
      "                        </rtmbrIfs-items>\n",
      "                        <snmpTrapSt>enable</snmpTrapSt>\n",
      "                        <spanMode>not-a-span-dest</spanMode>\n",
      "                        <speed>auto</speed>\n",
      "                        <speedGroup>auto</speedGroup>\n",
      "                        <stormctrlp-items>\n",
      "                            <burstPps>4294967295</burstPps>\n",
      "                            <burstRate>100.0</burstRate>\n",
      "                            <rate>100.0</rate>\n",
      "                            <ratePps>4294967295</ratePps>\n",
      "                            <type>all</type>\n",
      "                        </stormctrlp-items>\n",
      "                        <switchingSt>disabled</switchingSt>\n",
      "                        <trunkLog>default</trunkLog>\n",
      "                        <trunkVlans>100-110</trunkVlans>\n",
      "                        <uniDirectionalEthernet>disable</uniDirectionalEthernet>\n",
      "                        <usage>discovery</usage>\n",
      "                        <userCfgdFlags>admin_layer</userCfgdFlags>\n",
      "                        <voicePortCos>-1</voicePortCos>\n",
      "                        <voicePortTrust>-1</voicePortTrust>\n",
      "                        <voiceVlanId>0</voiceVlanId>\n",
      "                        <voiceVlanType>none</voiceVlanType>\n",
      "                    </PhysIf-list>\n",
      "                </phys-items>\n",
      "            </intf-items>\n",
      "        </System>\n",
      "    </data>\n",
      "</rpc-reply>\n",
      "\n"
     ]
    }
   ],
   "source": [
    "print(response.xml)"
   ]
  },
  {
   "cell_type": "markdown",
   "metadata": {},
   "source": [
    "---\n",
    "---\n",
    "### Setup Ethernet1/1 **get-config** NETCONF filter"
   ]
  },
  {
   "cell_type": "code",
   "execution_count": 23,
   "metadata": {},
   "outputs": [],
   "source": [
    "# Declare YANG Explorer XML payload file name\n",
    "file_name = f'{payload_base_path}{native}3_get_config_eth1_1_payload.xml'\n",
    "\n",
    "# Access YANG Explorer XML payload file & convert to Python dictionary\n",
    "with open(file_name, 'r') as payload:\n",
    "    raw_filter = payload.read()\n",
    "    data = xmltodict.parse(raw_filter,\n",
    "                           dict_constructor=dict)\n",
    "\n",
    "# Parse the 'get-config' key from the dictionary & convert to XML \n",
    "nc_data = data['rpc']['get-config']\n",
    "\n",
    "# Remove the 'source' item\n",
    "del nc_data['source']\n",
    "filter = xmltodict.unparse(nc_data,\n",
    "                           full_document=False,\n",
    "                           pretty=True)"
   ]
  },
  {
   "cell_type": "markdown",
   "metadata": {},
   "source": [
    "---\n",
    "### Print YANG Explorer XML output"
   ]
  },
  {
   "cell_type": "code",
   "execution_count": 24,
   "metadata": {},
   "outputs": [
    {
     "name": "stdout",
     "output_type": "stream",
     "text": [
      "<rpc message-id=\"101\" xmlns=\"urn:ietf:params:xml:ns:netconf:base:1.0\">\n",
      "  <get-config>\n",
      "    <source>\n",
      "      <running/>\n",
      "    </source>\n",
      "    <filter>\n",
      "      <System xmlns=\"http://cisco.com/ns/yang/cisco-nx-os-device\">\n",
      "        <ipv4-items>\n",
      "          <inst-items>\n",
      "            <dom-items>\n",
      "              <Dom-list>\n",
      "                <if-items>\n",
      "                  <If-list>\n",
      "                    <id>eth1/1</id>\n",
      "                  </If-list>\n",
      "                </if-items>\n",
      "              </Dom-list>\n",
      "            </dom-items>\n",
      "          </inst-items>\n",
      "        </ipv4-items>\n",
      "      </System>\n",
      "    </filter>\n",
      "  </get-config>\n",
      "</rpc>\n"
     ]
    }
   ],
   "source": [
    "print(raw_filter)"
   ]
  },
  {
   "cell_type": "markdown",
   "metadata": {},
   "source": [
    "---\n",
    "### Print ncclient filter"
   ]
  },
  {
   "cell_type": "code",
   "execution_count": 25,
   "metadata": {},
   "outputs": [
    {
     "name": "stdout",
     "output_type": "stream",
     "text": [
      "<filter>\n",
      "\t<System xmlns=\"http://cisco.com/ns/yang/cisco-nx-os-device\">\n",
      "\t\t<ipv4-items>\n",
      "\t\t\t<inst-items>\n",
      "\t\t\t\t<dom-items>\n",
      "\t\t\t\t\t<Dom-list>\n",
      "\t\t\t\t\t\t<if-items>\n",
      "\t\t\t\t\t\t\t<If-list>\n",
      "\t\t\t\t\t\t\t\t<id>eth1/1</id>\n",
      "\t\t\t\t\t\t\t</If-list>\n",
      "\t\t\t\t\t\t</if-items>\n",
      "\t\t\t\t\t</Dom-list>\n",
      "\t\t\t\t</dom-items>\n",
      "\t\t\t</inst-items>\n",
      "\t\t</ipv4-items>\n",
      "\t</System>\n",
      "</filter>\n"
     ]
    }
   ],
   "source": [
    "print(filter)"
   ]
  },
  {
   "cell_type": "code",
   "execution_count": 26,
   "metadata": {},
   "outputs": [],
   "source": [
    "device = {\n",
    "    'host': '10.10.20.58',\n",
    "    'port': 830,\n",
    "    'username': 'admin',\n",
    "    'password': 'Cisco123',\n",
    "    'hostkey_verify': False,\n",
    "    'device_params': {\n",
    "        'name': 'nexus'\n",
    "    }\n",
    "}"
   ]
  },
  {
   "cell_type": "code",
   "execution_count": 27,
   "metadata": {},
   "outputs": [],
   "source": [
    "with manager.connect(**device) as conn:\n",
    "    r = conn.get_config(source='running', filter=filter)"
   ]
  },
  {
   "cell_type": "code",
   "execution_count": 28,
   "metadata": {},
   "outputs": [
    {
     "name": "stdout",
     "output_type": "stream",
     "text": [
      "['ERROR_CLS', '__class__', '__delattr__', '__dict__', '__dir__', '__doc__', '__eq__', '__format__', '__ge__', '__getattribute__', '__gt__', '__hash__', '__init__', '__init_subclass__', '__le__', '__lt__', '__module__', '__ne__', '__new__', '__reduce__', '__reduce_ex__', '__repr__', '__setattr__', '__sizeof__', '__str__', '__subclasshook__', '__weakref__', '_data', '_errors', '_huge_tree', '_parsed', '_parsing_error_transform', '_parsing_hook', '_raw', '_root', 'data', 'data_ele', 'data_xml', 'error', 'errors', 'ok', 'parse', 'set_parsing_error_transform', 'xml']\n",
      "{'data': {'@xmlns': 'urn:ietf:params:xml:ns:netconf:base:1.0',\n",
      "          '@xmlns:if': 'http://www.cisco.com/nxos:1.0:if_manager',\n",
      "          '@xmlns:nfcli': 'http://www.cisco.com/nxos:1.0:nfcli',\n",
      "          '@xmlns:nxos': 'http://www.cisco.com/nxos:1.0',\n",
      "          '@xmlns:vlan_mgr_cli': 'http://www.cisco.com/nxos:1.0:vlan_mgr_cli',\n",
      "          'System': {'@xmlns': 'http://cisco.com/ns/yang/cisco-nx-os-device'}}}\n"
     ]
    }
   ],
   "source": [
    "print(dir(r))\n",
    "pp(xmltodict.parse(r.data_xml, dict_constructor=dict))"
   ]
  },
  {
   "cell_type": "markdown",
   "metadata": {},
   "source": [
    "---\n",
    "### Send NETCONF **get-config** request"
   ]
  },
  {
   "cell_type": "code",
   "execution_count": 29,
   "metadata": {},
   "outputs": [],
   "source": [
    "with manager.connect(**device) as m:\n",
    "    response = m.get_config(source=\"running\", filter=filter)"
   ]
  },
  {
   "cell_type": "markdown",
   "metadata": {},
   "source": [
    "---\n",
    "### Print NETCONF reply"
   ]
  },
  {
   "cell_type": "code",
   "execution_count": 30,
   "metadata": {},
   "outputs": [
    {
     "name": "stdout",
     "output_type": "stream",
     "text": [
      "<?xml version=\"1.0\" encoding=\"UTF-8\"?>\n",
      "<rpc-reply xmlns:nxos=\"http://www.cisco.com/nxos:1.0\" xmlns:if=\"http://www.cisco.com/nxos:1.0:if_manager\" xmlns:nfcli=\"http://www.cisco.com/nxos:1.0:nfcli\" xmlns:vlan_mgr_cli=\"http://www.cisco.com/nxos:1.0:vlan_mgr_cli\" xmlns=\"urn:ietf:params:xml:ns:netconf:base:1.0\" message-id=\"urn:uuid:3cdc0832-3efd-4c83-98e3-1b406f74b23a\">\n",
      "    <data>\n",
      "        <System xmlns=\"http://cisco.com/ns/yang/cisco-nx-os-device\"/>\n",
      "    </data>\n",
      "</rpc-reply>\n",
      "\n"
     ]
    }
   ],
   "source": [
    "print(response.xml)"
   ]
  },
  {
   "cell_type": "markdown",
   "metadata": {},
   "source": [
    "---\n",
    "---\n",
    "### Setup Ethernet1/10 **edit-config** NETCONF filter"
   ]
  },
  {
   "cell_type": "code",
   "execution_count": 31,
   "metadata": {},
   "outputs": [],
   "source": [
    "# Declare YANG Explorer XML payload file name\n",
    "file_name = f'{payload_base_path}{native}4_edit_config_eth1_2_payload.xml'\n",
    "\n",
    "# Access YANG Explorer XML payload file & convert to Python dictionary\n",
    "with open(file_name, 'r') as payload:\n",
    "    raw_config = payload.read()\n",
    "    data = xmltodict.parse(raw_config,\n",
    "                           dict_constructor=dict)\n",
    "\n",
    "# Parse the 'get-config' key from the dictionary & convert to XML \n",
    "nc_data = data['rpc']['edit-config']\n",
    "\n",
    "# Remove the 'target' item\n",
    "del nc_data['target']\n",
    "config = xmltodict.unparse(nc_data,\n",
    "                           full_document=False,\n",
    "                           pretty=True)"
   ]
  },
  {
   "cell_type": "markdown",
   "metadata": {},
   "source": [
    "---\n",
    "### Print YANG Explorer XML output"
   ]
  },
  {
   "cell_type": "code",
   "execution_count": 32,
   "metadata": {},
   "outputs": [
    {
     "name": "stdout",
     "output_type": "stream",
     "text": [
      "<rpc message-id=\"101\" xmlns=\"urn:ietf:params:xml:ns:netconf:base:1.0\">\n",
      "  <edit-config>\n",
      "    <target>\n",
      "      <running/>\n",
      "    </target>\n",
      "    <config>\n",
      "      <System xmlns=\"http://cisco.com/ns/yang/cisco-nx-os-device\">\n",
      "        <intf-items>\n",
      "          <phys-items>\n",
      "            <PhysIf-list>\n",
      "              <id>eth1/10</id>\n",
      "              <adminSt>up</adminSt>\n",
      "              <layer>Layer3</layer>\n",
      "              <userCfgdFlags>admin_layer,admin_state</userCfgdFlags>\n",
      "            </PhysIf-list>\n",
      "          </phys-items>\n",
      "        </intf-items>\n",
      "        <ipv4-items>\n",
      "          <inst-items>\n",
      "            <dom-items>\n",
      "              <Dom-list>\n",
      "                <name>default</name>\n",
      "                <if-items>\n",
      "                  <If-list>\n",
      "                    <id>eth1/10</id>\n",
      "                    <addr-items>\n",
      "                      <Addr-list>\n",
      "                        <addr>192.168.5.2/24</addr>\n",
      "                        <pref>0</pref>\n",
      "                        <tag>0</tag>\n",
      "                      </Addr-list>\n",
      "                    </addr-items>\n",
      "                  </If-list>\n",
      "                </if-items>\n",
      "              </Dom-list>\n",
      "            </dom-items>\n",
      "          </inst-items>\n",
      "        </ipv4-items>\n",
      "      </System>\n",
      "    </config>\n",
      "  </edit-config>\n",
      "</rpc>\n",
      "\n"
     ]
    }
   ],
   "source": [
    "print(raw_config)"
   ]
  },
  {
   "cell_type": "markdown",
   "metadata": {},
   "source": [
    "---\n",
    "### Print ncclient filter"
   ]
  },
  {
   "cell_type": "code",
   "execution_count": 33,
   "metadata": {},
   "outputs": [
    {
     "name": "stdout",
     "output_type": "stream",
     "text": [
      "<config>\n",
      "\t<System xmlns=\"http://cisco.com/ns/yang/cisco-nx-os-device\">\n",
      "\t\t<intf-items>\n",
      "\t\t\t<phys-items>\n",
      "\t\t\t\t<PhysIf-list>\n",
      "\t\t\t\t\t<id>eth1/10</id>\n",
      "\t\t\t\t\t<adminSt>up</adminSt>\n",
      "\t\t\t\t\t<layer>Layer3</layer>\n",
      "\t\t\t\t\t<userCfgdFlags>admin_layer,admin_state</userCfgdFlags>\n",
      "\t\t\t\t</PhysIf-list>\n",
      "\t\t\t</phys-items>\n",
      "\t\t</intf-items>\n",
      "\t\t<ipv4-items>\n",
      "\t\t\t<inst-items>\n",
      "\t\t\t\t<dom-items>\n",
      "\t\t\t\t\t<Dom-list>\n",
      "\t\t\t\t\t\t<name>default</name>\n",
      "\t\t\t\t\t\t<if-items>\n",
      "\t\t\t\t\t\t\t<If-list>\n",
      "\t\t\t\t\t\t\t\t<id>eth1/10</id>\n",
      "\t\t\t\t\t\t\t\t<addr-items>\n",
      "\t\t\t\t\t\t\t\t\t<Addr-list>\n",
      "\t\t\t\t\t\t\t\t\t\t<addr>192.168.5.2/24</addr>\n",
      "\t\t\t\t\t\t\t\t\t\t<pref>0</pref>\n",
      "\t\t\t\t\t\t\t\t\t\t<tag>0</tag>\n",
      "\t\t\t\t\t\t\t\t\t</Addr-list>\n",
      "\t\t\t\t\t\t\t\t</addr-items>\n",
      "\t\t\t\t\t\t\t</If-list>\n",
      "\t\t\t\t\t\t</if-items>\n",
      "\t\t\t\t\t</Dom-list>\n",
      "\t\t\t\t</dom-items>\n",
      "\t\t\t</inst-items>\n",
      "\t\t</ipv4-items>\n",
      "\t</System>\n",
      "</config>\n"
     ]
    }
   ],
   "source": [
    "print(config)"
   ]
  },
  {
   "cell_type": "code",
   "execution_count": 34,
   "metadata": {},
   "outputs": [],
   "source": [
    "config = \"\"\"\n",
    "<config>\n",
    "\t<System xmlns=\"http://cisco.com/ns/yang/cisco-nx-os-device\">\n",
    "\t\t<intf-items>\n",
    "\t\t\t<phys-items>\n",
    "\t\t\t\t<PhysIf-list>\n",
    "\t\t\t\t\t<id>eth1/10</id>\n",
    "\t\t\t\t\t<adminSt>up</adminSt>\n",
    "\t\t\t\t\t<layer>Layer3</layer>\n",
    "\t\t\t\t\t<userCfgdFlags>admin_layer,admin_state</userCfgdFlags>\n",
    "\t\t\t\t</PhysIf-list>\n",
    "\t\t\t</phys-items>\n",
    "\t\t</intf-items>\n",
    "\t\t<ipv4-items>\n",
    "\t\t\t<inst-items>\n",
    "\t\t\t\t<dom-items>\n",
    "\t\t\t\t\t<Dom-list>\n",
    "\t\t\t\t\t\t<name>default</name>\n",
    "\t\t\t\t\t\t<if-items>\n",
    "\t\t\t\t\t\t\t<If-list>\n",
    "\t\t\t\t\t\t\t\t<id>eth1/25</id>\n",
    "\t\t\t\t\t\t\t\t<addr-items>\n",
    "\t\t\t\t\t\t\t\t\t<Addr-list>\n",
    "\t\t\t\t\t\t\t\t\t\t<addr>192.168.5.2/24</addr>\n",
    "\t\t\t\t\t\t\t\t\t\t<pref>0</pref>\n",
    "\t\t\t\t\t\t\t\t\t\t<tag>0</tag>\n",
    "\t\t\t\t\t\t\t\t\t</Addr-list>\n",
    "\t\t\t\t\t\t\t\t</addr-items>\n",
    "\t\t\t\t\t\t\t</If-list>\n",
    "\t\t\t\t\t\t</if-items>\n",
    "\t\t\t\t\t</Dom-list>\n",
    "\t\t\t\t</dom-items>\n",
    "\t\t\t</inst-items>\n",
    "\t\t</ipv4-items>\n",
    "\t</System>\n",
    "</config>\n",
    "\"\"\".strip()"
   ]
  },
  {
   "cell_type": "markdown",
   "metadata": {},
   "source": [
    "---\n",
    "### Pre-check Nexus configuration via **vshell**"
   ]
  },
  {
   "cell_type": "markdown",
   "metadata": {},
   "source": [
    "```shell\n",
    "# Verify the pre-configuration interface state\n",
    "show run interface Ethernet1/2\n",
    "```"
   ]
  },
  {
   "cell_type": "code",
   "execution_count": 35,
   "metadata": {},
   "outputs": [],
   "source": [
    "with manager.connect(**device) as m:\n",
    "    r = m.edit_config(target='candidate', config=config)"
   ]
  },
  {
   "cell_type": "code",
   "execution_count": 36,
   "metadata": {},
   "outputs": [
    {
     "name": "stdout",
     "output_type": "stream",
     "text": [
      "<?xml version=\"1.0\" encoding=\"UTF-8\"?>\n",
      "<rpc-reply xmlns:nxos=\"http://www.cisco.com/nxos:1.0\" xmlns:if=\"http://www.cisco.com/nxos:1.0:if_manager\" xmlns:nfcli=\"http://www.cisco.com/nxos:1.0:nfcli\" xmlns:vlan_mgr_cli=\"http://www.cisco.com/nxos:1.0:vlan_mgr_cli\" xmlns=\"urn:ietf:params:xml:ns:netconf:base:1.0\" message-id=\"urn:uuid:c77d8945-76f9-4c38-b087-5c25c6ac4da2\">\n",
      "    <ok/>\n",
      "</rpc-reply>\n",
      "\n"
     ]
    }
   ],
   "source": [
    "print(r)"
   ]
  },
  {
   "cell_type": "code",
   "execution_count": null,
   "metadata": {},
   "outputs": [],
   "source": []
  },
  {
   "cell_type": "markdown",
   "metadata": {},
   "source": [
    "---\n",
    "### Send NETCONF **edit-config** request"
   ]
  },
  {
   "cell_type": "code",
   "execution_count": 37,
   "metadata": {},
   "outputs": [],
   "source": [
    "with manager.connect(**device) as m:\n",
    "    response = m.edit_config(target=\"candidate\", config=config)"
   ]
  },
  {
   "cell_type": "markdown",
   "metadata": {},
   "source": [
    "---\n",
    "### Print NETCONF reply"
   ]
  },
  {
   "cell_type": "code",
   "execution_count": 38,
   "metadata": {},
   "outputs": [
    {
     "name": "stdout",
     "output_type": "stream",
     "text": [
      "<?xml version=\"1.0\" encoding=\"UTF-8\"?>\n",
      "<rpc-reply xmlns:nxos=\"http://www.cisco.com/nxos:1.0\" xmlns:if=\"http://www.cisco.com/nxos:1.0:if_manager\" xmlns:nfcli=\"http://www.cisco.com/nxos:1.0:nfcli\" xmlns:vlan_mgr_cli=\"http://www.cisco.com/nxos:1.0:vlan_mgr_cli\" xmlns=\"urn:ietf:params:xml:ns:netconf:base:1.0\" message-id=\"urn:uuid:5310227a-ea8c-4b46-92de-80a34aee3907\">\n",
      "    <ok/>\n",
      "</rpc-reply>\n",
      "\n"
     ]
    }
   ],
   "source": [
    "print(response.xml)"
   ]
  },
  {
   "cell_type": "markdown",
   "metadata": {},
   "source": [
    "---\n",
    "### Commit **candidate** datastore to **running** datastore"
   ]
  },
  {
   "cell_type": "code",
   "execution_count": 39,
   "metadata": {},
   "outputs": [],
   "source": [
    "with manager.connect(**device) as m:\n",
    "    response = m.commit()"
   ]
  },
  {
   "cell_type": "markdown",
   "metadata": {},
   "source": [
    "---\n",
    "### Print NETCONF reply"
   ]
  },
  {
   "cell_type": "code",
   "execution_count": 40,
   "metadata": {},
   "outputs": [
    {
     "name": "stdout",
     "output_type": "stream",
     "text": [
      "<?xml version=\"1.0\" encoding=\"UTF-8\"?>\n",
      "<rpc-reply xmlns:nxos=\"http://www.cisco.com/nxos:1.0\" xmlns:if=\"http://www.cisco.com/nxos:1.0:if_manager\" xmlns:nfcli=\"http://www.cisco.com/nxos:1.0:nfcli\" xmlns:vlan_mgr_cli=\"http://www.cisco.com/nxos:1.0:vlan_mgr_cli\" xmlns=\"urn:ietf:params:xml:ns:netconf:base:1.0\" message-id=\"urn:uuid:89f991c7-6ea0-4044-bbbf-9d7fa4a88758\">\n",
      "    <ok/>\n",
      "</rpc-reply>\n",
      "\n"
     ]
    }
   ],
   "source": [
    "print(response.xml)"
   ]
  },
  {
   "cell_type": "markdown",
   "metadata": {},
   "source": [
    "---\n",
    "### Post-check Nexus configuration via **vshell**"
   ]
  },
  {
   "cell_type": "markdown",
   "metadata": {},
   "source": [
    "```shell\n",
    "# Verify the post-configuration interface state\n",
    "show run interface Ethernet1/10\n",
    "```"
   ]
  },
  {
   "cell_type": "markdown",
   "metadata": {},
   "source": [
    "---\n",
    "---\n",
    "### Setup Ethernet1/10 **get-config** NETCONF filter"
   ]
  },
  {
   "cell_type": "code",
   "execution_count": 41,
   "metadata": {},
   "outputs": [],
   "source": [
    "# Declare YANG Explorer XML payload file name\n",
    "file_name = f'{payload_base_path}{native}5_get_config_eth1_2_payload.xml'\n",
    "\n",
    "# Access YANG Explorer XML payload file & convert to Python dictionary\n",
    "with open(file_name, 'r') as payload:\n",
    "    raw_filter = payload.read()\n",
    "    data = xmltodict.parse(raw_filter,\n",
    "                           dict_constructor=dict)\n",
    "\n",
    "# Parse the 'get-config' key from the dictionary & convert to XML \n",
    "nc_data = data['rpc']['get-config']\n",
    "\n",
    "# Remove the 'source' item\n",
    "del nc_data['source']\n",
    "filter = xmltodict.unparse(nc_data,\n",
    "                           full_document=False,\n",
    "                           pretty=True)"
   ]
  },
  {
   "cell_type": "markdown",
   "metadata": {},
   "source": [
    "---\n",
    "### Print YANG Explorer XML output"
   ]
  },
  {
   "cell_type": "code",
   "execution_count": 42,
   "metadata": {},
   "outputs": [
    {
     "name": "stdout",
     "output_type": "stream",
     "text": [
      "<rpc message-id=\"101\" xmlns=\"urn:ietf:params:xml:ns:netconf:base:1.0\">\n",
      "  <get-config>\n",
      "    <source>\n",
      "      <running/>\n",
      "    </source>\n",
      "    <filter>\n",
      "      <System xmlns=\"http://cisco.com/ns/yang/cisco-nx-os-device\">\n",
      "        <intf-items>\n",
      "          <phys-items>\n",
      "            <PhysIf-list>\n",
      "              <id>eth1/10</id>\n",
      "            </PhysIf-list>\n",
      "          </phys-items>\n",
      "        </intf-items>\n",
      "        <ipv4-items>\n",
      "          <inst-items>\n",
      "            <dom-items>\n",
      "              <Dom-list>\n",
      "                <name>default</name>\n",
      "                <if-items>\n",
      "                  <If-list>\n",
      "                    <id>eth1/10</id>\n",
      "                  </If-list>\n",
      "                </if-items>\n",
      "              </Dom-list>\n",
      "            </dom-items>\n",
      "          </inst-items>\n",
      "        </ipv4-items>\n",
      "      </System>\n",
      "    </filter>\n",
      "  </get-config>\n",
      "</rpc>\n",
      "\n"
     ]
    }
   ],
   "source": [
    "print(raw_filter)"
   ]
  },
  {
   "cell_type": "markdown",
   "metadata": {},
   "source": [
    "---\n",
    "### Print ncclient filter"
   ]
  },
  {
   "cell_type": "code",
   "execution_count": 43,
   "metadata": {},
   "outputs": [
    {
     "name": "stdout",
     "output_type": "stream",
     "text": [
      "<filter>\n",
      "\t<System xmlns=\"http://cisco.com/ns/yang/cisco-nx-os-device\">\n",
      "\t\t<intf-items>\n",
      "\t\t\t<phys-items>\n",
      "\t\t\t\t<PhysIf-list>\n",
      "\t\t\t\t\t<id>eth1/10</id>\n",
      "\t\t\t\t</PhysIf-list>\n",
      "\t\t\t</phys-items>\n",
      "\t\t</intf-items>\n",
      "\t\t<ipv4-items>\n",
      "\t\t\t<inst-items>\n",
      "\t\t\t\t<dom-items>\n",
      "\t\t\t\t\t<Dom-list>\n",
      "\t\t\t\t\t\t<name>default</name>\n",
      "\t\t\t\t\t\t<if-items>\n",
      "\t\t\t\t\t\t\t<If-list>\n",
      "\t\t\t\t\t\t\t\t<id>eth1/10</id>\n",
      "\t\t\t\t\t\t\t</If-list>\n",
      "\t\t\t\t\t\t</if-items>\n",
      "\t\t\t\t\t</Dom-list>\n",
      "\t\t\t\t</dom-items>\n",
      "\t\t\t</inst-items>\n",
      "\t\t</ipv4-items>\n",
      "\t</System>\n",
      "</filter>\n"
     ]
    }
   ],
   "source": [
    "print(filter)"
   ]
  },
  {
   "cell_type": "markdown",
   "metadata": {},
   "source": [
    "---\n",
    "### Send NETCONF **get-config** request"
   ]
  },
  {
   "cell_type": "code",
   "execution_count": 44,
   "metadata": {},
   "outputs": [],
   "source": [
    "with manager.connect(**device) as m:\n",
    "    response = m.get_config(source=\"running\", filter=filter)"
   ]
  },
  {
   "cell_type": "markdown",
   "metadata": {},
   "source": [
    "---\n",
    "### Print NETCONF reply"
   ]
  },
  {
   "cell_type": "code",
   "execution_count": 45,
   "metadata": {},
   "outputs": [
    {
     "name": "stdout",
     "output_type": "stream",
     "text": [
      "<?xml version=\"1.0\" encoding=\"UTF-8\"?>\n",
      "<rpc-reply xmlns:nxos=\"http://www.cisco.com/nxos:1.0\" xmlns:if=\"http://www.cisco.com/nxos:1.0:if_manager\" xmlns:nfcli=\"http://www.cisco.com/nxos:1.0:nfcli\" xmlns:vlan_mgr_cli=\"http://www.cisco.com/nxos:1.0:vlan_mgr_cli\" xmlns=\"urn:ietf:params:xml:ns:netconf:base:1.0\" message-id=\"urn:uuid:5dd72e5c-7fa0-40e2-a1ef-1365ad50f101\">\n",
      "    <data>\n",
      "        <System xmlns=\"http://cisco.com/ns/yang/cisco-nx-os-device\">\n",
      "            <intf-items>\n",
      "                <phys-items>\n",
      "                    <PhysIf-list>\n",
      "                        <id>eth1/10</id>\n",
      "                        <FECMode>auto</FECMode>\n",
      "                        <accessVlan>unknown</accessVlan>\n",
      "                        <adminSt>up</adminSt>\n",
      "                        <autoNeg>on</autoNeg>\n",
      "                        <beacon>off</beacon>\n",
      "                        <bw>0</bw>\n",
      "                        <controllerId/>\n",
      "                        <delay>1</delay>\n",
      "                        <dfeAdaptiveTuning>enable</dfeAdaptiveTuning>\n",
      "                        <dfeTuningDelay>100</dfeTuningDelay>\n",
      "                        <dot1qEtherType>33024</dot1qEtherType>\n",
      "                        <duplex>auto</duplex>\n",
      "                        <eeep-items>\n",
      "                            <eeeLat>variable</eeeLat>\n",
      "                            <eeeLpi>aggressive</eeeLpi>\n",
      "                            <eeeState>not-applicable</eeeState>\n",
      "                        </eeep-items>\n",
      "                        <inhBw>4294967295</inhBw>\n",
      "                        <layer>Layer3</layer>\n",
      "                        <linkDebounce>100</linkDebounce>\n",
      "                        <linkDebounceLinkUp>0</linkDebounceLinkUp>\n",
      "                        <linkLog>default</linkLog>\n",
      "                        <linkLoopback>disable</linkLoopback>\n",
      "                        <linkMacUpTimer>0</linkMacUpTimer>\n",
      "                        <linkTransmitReset>enable</linkTransmitReset>\n",
      "                        <loadp-items>\n",
      "                            <loadIntvl1>30</loadIntvl1>\n",
      "                            <loadIntvl2>300</loadIntvl2>\n",
      "                            <loadIntvl3>0</loadIntvl3>\n",
      "                        </loadp-items>\n",
      "                        <mdix>auto</mdix>\n",
      "                        <mediaType>none</mediaType>\n",
      "                        <medium>broadcast</medium>\n",
      "                        <mode>access</mode>\n",
      "                        <mtu>1500</mtu>\n",
      "                        <nativeVlan>unknown</nativeVlan>\n",
      "                        <packetTimestampEgressSourceId>0</packetTimestampEgressSourceId>\n",
      "                        <packetTimestampIngressSourceId>0</packetTimestampIngressSourceId>\n",
      "                        <packetTimestampState>disable</packetTimestampState>\n",
      "                        <physExtd-items>\n",
      "                            <allowMultiTag>disable</allowMultiTag>\n",
      "                            <autoExcludeVlans/>\n",
      "                            <bufferBoost>enable</bufferBoost>\n",
      "                            <chassisModuleSide>UnknownSlot</chassisModuleSide>\n",
      "                            <chassisNumber>0</chassisNumber>\n",
      "                            <flowCtrlReceive>false</flowCtrlReceive>\n",
      "                            <flowCtrlSend>false</flowCtrlSend>\n",
      "                            <id>eth1/10</id>\n",
      "                            <portTypeFabric>no</portTypeFabric>\n",
      "                            <routerMacIpv6Extract>disable</routerMacIpv6Extract>\n",
      "                            <shutDownLan>disable</shutDownLan>\n",
      "                            <stormCtrlBCastLevel>100.0</stormCtrlBCastLevel>\n",
      "                            <stormCtrlBCastPPS>4294967295</stormCtrlBCastPPS>\n",
      "                            <stormCtrlMCastLevel>100.0</stormCtrlMCastLevel>\n",
      "                            <stormCtrlMCastPPS>4294967295</stormCtrlMCastPPS>\n",
      "                            <stormCtrlUCastLevel>100.0</stormCtrlUCastLevel>\n",
      "                            <stormCtrlUCastPPS>4294967295</stormCtrlUCastPPS>\n",
      "                            <switchportIsolated>disable</switchportIsolated>\n",
      "                            <switchportMacLearn>enable</switchportMacLearn>\n",
      "                            <switchportVirtualEthernetBridge>disable</switchportVirtualEthernetBridge>\n",
      "                        </physExtd-items>\n",
      "                        <portT>leaf</portT>\n",
      "                        <routerMac>00:00:00:00:00:00</routerMac>\n",
      "                        <rscdpIfPolCons-items>\n",
      "                            <tDn>UNRES:uni/infra/cdpIfP-[default]</tDn>\n",
      "                        </rscdpIfPolCons-items>\n",
      "                        <rshIfPolCons-items>\n",
      "                            <tDn>UNRES:uni/infra/hintfpol-[default]</tDn>\n",
      "                        </rshIfPolCons-items>\n",
      "                        <rsstormctrlIfPolCons-items>\n",
      "                            <tDn>UNRES:uni/infra/stormctrlifp-[default]</tDn>\n",
      "                        </rsstormctrlIfPolCons-items>\n",
      "                        <rsstpIfPolCons-items>\n",
      "                            <tDn>UNRES:uni/infra/ifpol-[default]</tDn>\n",
      "                        </rsstpIfPolCons-items>\n",
      "                        <rtvrfMbr-items>\n",
      "                            <tDn>/System/inst-items/Inst-list[name=&apos;default&apos;]</tDn>\n",
      "                        </rtvrfMbr-items>\n",
      "                        <snmpTrapSt>enable</snmpTrapSt>\n",
      "                        <spanMode>not-a-span-dest</spanMode>\n",
      "                        <speed>auto</speed>\n",
      "                        <speedGroup>auto</speedGroup>\n",
      "                        <stormctrlp-items>\n",
      "                            <burstPps>4294967295</burstPps>\n",
      "                            <burstRate>100.0</burstRate>\n",
      "                            <rate>100.0</rate>\n",
      "                            <ratePps>4294967295</ratePps>\n",
      "                            <type>all</type>\n",
      "                        </stormctrlp-items>\n",
      "                        <trunkLog>default</trunkLog>\n",
      "                        <trunkVlans>1-4094</trunkVlans>\n",
      "                        <uniDirectionalEthernet>disable</uniDirectionalEthernet>\n",
      "                        <usage>discovery</usage>\n",
      "                        <userCfgdFlags>admin_layer,admin_state</userCfgdFlags>\n",
      "                        <voicePortCos>-1</voicePortCos>\n",
      "                        <voicePortTrust>-1</voicePortTrust>\n",
      "                        <voiceVlanId>0</voiceVlanId>\n",
      "                        <voiceVlanType>none</voiceVlanType>\n",
      "                    </PhysIf-list>\n",
      "                </phys-items>\n",
      "            </intf-items>\n",
      "            <ipv4-items>\n",
      "                <inst-items>\n",
      "                    <dom-items>\n",
      "                        <Dom-list>\n",
      "                            <name>default</name>\n",
      "                        </Dom-list>\n",
      "                    </dom-items>\n",
      "                </inst-items>\n",
      "            </ipv4-items>\n",
      "        </System>\n",
      "    </data>\n",
      "</rpc-reply>\n",
      "\n"
     ]
    }
   ],
   "source": [
    "print(response.xml)"
   ]
  },
  {
   "cell_type": "markdown",
   "metadata": {},
   "source": [
    "---\n",
    "---\n",
    "\n",
    "### Install OpenConfig YANG Modules RPM on Nexus 9K Switch\n",
    "\n",
    "#### Before you continue, you must **manually** install the OpenConfig YANG modules on the Nexus 9K switch\n",
    "\n",
    "1. SSH to the Nexus switch and determine the software version with the `show version` command.\n",
    "2. Navigate to the [Cisco DevNet Artifactory](https://devhub.cisco.com/artifactory/open-nxos-agents/) site and choose the folder which matches the software version of your Nexus 9K.\n",
    "3. Navigate the folder structure and download the RPM file for OpenConfig YANG modules.\n",
    "    * The file for NX-OS version 9.3(5) is [mtx-openconfig-all-1.0.0.0-9.3.5.lib32_n9000.rpm](https://devhub.cisco.com/artifactory/open-nxos-agents/9.3-5/x86_64/mtx-openconfig-all-1.0.0.0-9.3.5.lib32_n9000.rpm).\n",
    "4. Use SCP to copy the OpenConfig YANG Module RPM file to the Nexus 9K.\n",
    "\n",
    "```bash\n",
    "# Example command to SCP the RPM file from your 'Downloads' directory to the Nexus 9K\n",
    "scp ~/Downloads/mtx-openconfig-all-1.0.0.0-9.3.5.lib32_n9000.rpm admin@10.10.20.58:mtx-openconfig-all-1.0.0.0-9.3.5.lib32_n9000.rpm\n",
    "```\n",
    "\n",
    "5. SSH to the Nexus 9K and use the following commands to enter the **Bash** shell:\n",
    "\n",
    "```bash\n",
    "! Enter configuration mode\n",
    "configure terminal\n",
    "\n",
    "! Enable the Bash shell\n",
    "feature bash-shell\n",
    "\n",
    "! Enter the Bash shell as the 'root' user\n",
    "run bash sudo su -\n",
    "\n",
    "! Install the OpenConfig YANG Model RPM on NX-OS version 9.x and earlier\n",
    "yum install -y /bootflash/mtx-openconfig-all-1.0.0.0-9.3.5.lib32_n9000.rpm\n",
    "\n",
    "! Install the OpenConfig YANG Model RPM on NX-OS version 10.x and later\n",
    "dnf install -y /bootflash/mtx-openconfig-all-1.0.0.0-9.3.5.lib32_n9000.rpm\n",
    "\n",
    "```"
   ]
  },
  {
   "cell_type": "code",
   "execution_count": 46,
   "metadata": {},
   "outputs": [
    {
     "name": "stdin",
     "output_type": "stream",
     "text": [
      "Press Return/Enter to continue:  \n"
     ]
    },
    {
     "data": {
      "text/plain": [
       "''"
      ]
     },
     "execution_count": 46,
     "metadata": {},
     "output_type": "execute_result"
    }
   ],
   "source": [
    "# Pause Jupyter run and wait for manual confirmation of OpenConfig YANG model RPM installation\n",
    "input('Press Return/Enter to continue: ')"
   ]
  },
  {
   "cell_type": "markdown",
   "metadata": {},
   "source": [
    "### Setup OpenConfig web server ACL, sequence 10 **edit-config** NETCONF filter"
   ]
  },
  {
   "cell_type": "code",
   "execution_count": 47,
   "metadata": {},
   "outputs": [],
   "source": [
    "# Declare YANG Explorer XML payload file name\n",
    "file_name = f'{payload_base_path}{openconfig}1_oc_create_seq_10_payload.xml'\n",
    "\n",
    "# Access YANG Explorer XML payload file & convert to Python dictionary\n",
    "with open(file_name, 'r') as payload:\n",
    "    raw_config = payload.read()\n",
    "    data = xmltodict.parse(raw_config,\n",
    "                           dict_constructor=dict)\n",
    "\n",
    "# Parse the 'edit-config' key from the dictionary & convert to XML \n",
    "nc_data = data['rpc']['edit-config']\n",
    "\n",
    "# Remove the 'target' item\n",
    "del nc_data['target']\n",
    "config = xmltodict.unparse(nc_data,\n",
    "                           full_document=False,\n",
    "                           pretty=True)"
   ]
  },
  {
   "cell_type": "markdown",
   "metadata": {},
   "source": [
    "---\n",
    "### Print YANG Explorer XML output"
   ]
  },
  {
   "cell_type": "code",
   "execution_count": 48,
   "metadata": {},
   "outputs": [
    {
     "name": "stdout",
     "output_type": "stream",
     "text": [
      "<rpc message-id=\"101\" xmlns=\"urn:ietf:params:xml:ns:netconf:base:1.0\">\n",
      "  <edit-config>\n",
      "    <target>\n",
      "      <running/>\n",
      "    </target>\n",
      "    <config>\n",
      "      <acl xmlns=\"http://openconfig.net/yang/acl\">\n",
      "        <acl-sets>\n",
      "          <acl-set>\n",
      "            <name>WEB-SERVER</name>\n",
      "            <type>ACL_IPV4</type>\n",
      "            <acl-entries>\n",
      "              <acl-entry>\n",
      "                <sequence-id>10</sequence-id>\n",
      "                <config>\n",
      "                  <sequence-id>10</sequence-id>\n",
      "                </config>\n",
      "                <ipv4>\n",
      "                  <config>\n",
      "                    <source-address>192.168.2.0/24</source-address>\n",
      "                    <destination-address>192.168.5.3/32</destination-address>\n",
      "                    <protocol>IP_TCP</protocol>\n",
      "                  </config>\n",
      "                </ipv4>\n",
      "                <transport>\n",
      "                  <config>\n",
      "                    <destination-port>80</destination-port>\n",
      "                  </config>\n",
      "                </transport>\n",
      "                <actions>\n",
      "                  <config>\n",
      "                    <forwarding-action>ACCEPT</forwarding-action>\n",
      "                  </config>\n",
      "                </actions>\n",
      "              </acl-entry>\n",
      "            </acl-entries>\n",
      "          </acl-set>\n",
      "        </acl-sets>\n",
      "      </acl>\n",
      "    </config>\n",
      "  </edit-config>\n",
      "</rpc>\n"
     ]
    }
   ],
   "source": [
    "print(raw_config)"
   ]
  },
  {
   "cell_type": "markdown",
   "metadata": {},
   "source": [
    "---\n",
    "### Print ncclient filter"
   ]
  },
  {
   "cell_type": "code",
   "execution_count": 49,
   "metadata": {},
   "outputs": [
    {
     "name": "stdout",
     "output_type": "stream",
     "text": [
      "<config>\n",
      "\t<acl xmlns=\"http://openconfig.net/yang/acl\">\n",
      "\t\t<acl-sets>\n",
      "\t\t\t<acl-set>\n",
      "\t\t\t\t<name>WEB-SERVER</name>\n",
      "\t\t\t\t<type>ACL_IPV4</type>\n",
      "\t\t\t\t<acl-entries>\n",
      "\t\t\t\t\t<acl-entry>\n",
      "\t\t\t\t\t\t<sequence-id>10</sequence-id>\n",
      "\t\t\t\t\t\t<config>\n",
      "\t\t\t\t\t\t\t<sequence-id>10</sequence-id>\n",
      "\t\t\t\t\t\t</config>\n",
      "\t\t\t\t\t\t<ipv4>\n",
      "\t\t\t\t\t\t\t<config>\n",
      "\t\t\t\t\t\t\t\t<source-address>192.168.2.0/24</source-address>\n",
      "\t\t\t\t\t\t\t\t<destination-address>192.168.5.3/32</destination-address>\n",
      "\t\t\t\t\t\t\t\t<protocol>IP_TCP</protocol>\n",
      "\t\t\t\t\t\t\t</config>\n",
      "\t\t\t\t\t\t</ipv4>\n",
      "\t\t\t\t\t\t<transport>\n",
      "\t\t\t\t\t\t\t<config>\n",
      "\t\t\t\t\t\t\t\t<destination-port>80</destination-port>\n",
      "\t\t\t\t\t\t\t</config>\n",
      "\t\t\t\t\t\t</transport>\n",
      "\t\t\t\t\t\t<actions>\n",
      "\t\t\t\t\t\t\t<config>\n",
      "\t\t\t\t\t\t\t\t<forwarding-action>ACCEPT</forwarding-action>\n",
      "\t\t\t\t\t\t\t</config>\n",
      "\t\t\t\t\t\t</actions>\n",
      "\t\t\t\t\t</acl-entry>\n",
      "\t\t\t\t</acl-entries>\n",
      "\t\t\t</acl-set>\n",
      "\t\t</acl-sets>\n",
      "\t</acl>\n",
      "</config>\n"
     ]
    }
   ],
   "source": [
    "print(config)"
   ]
  },
  {
   "cell_type": "markdown",
   "metadata": {},
   "source": [
    "---\n",
    "### Pre-check Nexus configuration via **vshell**"
   ]
  },
  {
   "cell_type": "markdown",
   "metadata": {},
   "source": [
    "```shell\n",
    "# Verify the pre-configuration ACL state\n",
    "show run | section access-list\n",
    "```"
   ]
  },
  {
   "cell_type": "code",
   "execution_count": 50,
   "metadata": {},
   "outputs": [],
   "source": [
    "m = manager.connect(**device)"
   ]
  },
  {
   "cell_type": "code",
   "execution_count": 51,
   "metadata": {},
   "outputs": [
    {
     "data": {
      "text/plain": [
       "<?xml version=\"1.0\" encoding=\"UTF-8\"?>\n",
       "<rpc-reply xmlns:nxos=\"http://www.cisco.com/nxos:1.0\" xmlns:if=\"http://www.cisco.com/nxos:1.0:if_manager\" xmlns:nfcli=\"http://www.cisco.com/nxos:1.0:nfcli\" xmlns:vlan_mgr_cli=\"http://www.cisco.com/nxos:1.0:vlan_mgr_cli\" xmlns=\"urn:ietf:params:xml:ns:netconf:base:1.0\" message-id=\"urn:uuid:d0487e8e-4a7c-4aee-b5cf-2309a14294b4\">\n",
       "    <ok/>\n",
       "</rpc-reply>"
      ]
     },
     "execution_count": 51,
     "metadata": {},
     "output_type": "execute_result"
    }
   ],
   "source": [
    "m.lock(target='candidate')"
   ]
  },
  {
   "cell_type": "code",
   "execution_count": 52,
   "metadata": {
    "tags": []
   },
   "outputs": [
    {
     "data": {
      "text/plain": [
       "<?xml version=\"1.0\" encoding=\"UTF-8\"?>\n",
       "<rpc-reply xmlns:nxos=\"http://www.cisco.com/nxos:1.0\" xmlns:if=\"http://www.cisco.com/nxos:1.0:if_manager\" xmlns:nfcli=\"http://www.cisco.com/nxos:1.0:nfcli\" xmlns:vlan_mgr_cli=\"http://www.cisco.com/nxos:1.0:vlan_mgr_cli\" xmlns=\"urn:ietf:params:xml:ns:netconf:base:1.0\" message-id=\"urn:uuid:a5b12f11-e354-4b88-801f-c5b833ff854e\">\n",
       "    <ok/>\n",
       "</rpc-reply>"
      ]
     },
     "execution_count": 52,
     "metadata": {},
     "output_type": "execute_result"
    }
   ],
   "source": [
    "m.edit_config(target='candidate', config=config)"
   ]
  },
  {
   "cell_type": "code",
   "execution_count": 53,
   "metadata": {},
   "outputs": [
    {
     "data": {
      "text/plain": [
       "<?xml version=\"1.0\" encoding=\"UTF-8\"?>\n",
       "<rpc-reply xmlns:nxos=\"http://www.cisco.com/nxos:1.0\" xmlns:if=\"http://www.cisco.com/nxos:1.0:if_manager\" xmlns:nfcli=\"http://www.cisco.com/nxos:1.0:nfcli\" xmlns:vlan_mgr_cli=\"http://www.cisco.com/nxos:1.0:vlan_mgr_cli\" xmlns=\"urn:ietf:params:xml:ns:netconf:base:1.0\" message-id=\"urn:uuid:1a924c24-5d27-43f2-8469-8f781c4d5d6f\">\n",
       "    <ok/>\n",
       "</rpc-reply>"
      ]
     },
     "execution_count": 53,
     "metadata": {},
     "output_type": "execute_result"
    }
   ],
   "source": [
    "m.unlock()"
   ]
  },
  {
   "cell_type": "code",
   "execution_count": 54,
   "metadata": {},
   "outputs": [
    {
     "data": {
      "text/plain": [
       "<?xml version=\"1.0\" encoding=\"UTF-8\"?>\n",
       "<rpc-reply xmlns:nxos=\"http://www.cisco.com/nxos:1.0\" xmlns:if=\"http://www.cisco.com/nxos:1.0:if_manager\" xmlns:nfcli=\"http://www.cisco.com/nxos:1.0:nfcli\" xmlns:vlan_mgr_cli=\"http://www.cisco.com/nxos:1.0:vlan_mgr_cli\" xmlns=\"urn:ietf:params:xml:ns:netconf:base:1.0\" message-id=\"urn:uuid:2f408051-1a6a-4100-8aa1-6f405e308cce\">\n",
       "    <ok/>\n",
       "</rpc-reply>"
      ]
     },
     "execution_count": 54,
     "metadata": {},
     "output_type": "execute_result"
    }
   ],
   "source": [
    "m.commit()"
   ]
  },
  {
   "cell_type": "markdown",
   "metadata": {},
   "source": [
    "---\n",
    "### Lock the **candidate** datastore and send the **edit-config** NETCONF request"
   ]
  },
  {
   "cell_type": "code",
   "execution_count": 55,
   "metadata": {},
   "outputs": [],
   "source": [
    "with manager.connect(**device) as m:\n",
    "    m.lock()\n",
    "    response = m.edit_config(target=\"candidate\", config=config)\n",
    "    m.unlock()"
   ]
  },
  {
   "cell_type": "markdown",
   "metadata": {},
   "source": [
    "---\n",
    "### Print NETCONF reply"
   ]
  },
  {
   "cell_type": "code",
   "execution_count": 56,
   "metadata": {},
   "outputs": [
    {
     "name": "stdout",
     "output_type": "stream",
     "text": [
      "<?xml version=\"1.0\" encoding=\"UTF-8\"?>\n",
      "<rpc-reply xmlns:nxos=\"http://www.cisco.com/nxos:1.0\" xmlns:if=\"http://www.cisco.com/nxos:1.0:if_manager\" xmlns:nfcli=\"http://www.cisco.com/nxos:1.0:nfcli\" xmlns:vlan_mgr_cli=\"http://www.cisco.com/nxos:1.0:vlan_mgr_cli\" xmlns=\"urn:ietf:params:xml:ns:netconf:base:1.0\" message-id=\"urn:uuid:d25b296a-e534-41fb-b84e-cc411a2c7f5d\">\n",
      "    <ok/>\n",
      "</rpc-reply>\n",
      "\n"
     ]
    }
   ],
   "source": [
    "print(response.xml)"
   ]
  },
  {
   "cell_type": "markdown",
   "metadata": {},
   "source": [
    "---\n",
    "### Commit the **candidate** datastore to the **running** datastore"
   ]
  },
  {
   "cell_type": "code",
   "execution_count": 57,
   "metadata": {},
   "outputs": [],
   "source": [
    "with manager.connect(**device) as m:\n",
    "    response = m.commit()"
   ]
  },
  {
   "cell_type": "markdown",
   "metadata": {},
   "source": [
    "---\n",
    "### Print NETCONF reply"
   ]
  },
  {
   "cell_type": "code",
   "execution_count": 58,
   "metadata": {},
   "outputs": [
    {
     "name": "stdout",
     "output_type": "stream",
     "text": [
      "<?xml version=\"1.0\" encoding=\"UTF-8\"?>\n",
      "<rpc-reply xmlns:nxos=\"http://www.cisco.com/nxos:1.0\" xmlns:if=\"http://www.cisco.com/nxos:1.0:if_manager\" xmlns:nfcli=\"http://www.cisco.com/nxos:1.0:nfcli\" xmlns:vlan_mgr_cli=\"http://www.cisco.com/nxos:1.0:vlan_mgr_cli\" xmlns=\"urn:ietf:params:xml:ns:netconf:base:1.0\" message-id=\"urn:uuid:8044b4c9-5300-462f-8979-e403204d0012\">\n",
      "    <ok/>\n",
      "</rpc-reply>\n",
      "\n"
     ]
    }
   ],
   "source": [
    "print(response.xml)"
   ]
  },
  {
   "cell_type": "markdown",
   "metadata": {},
   "source": [
    "---\n",
    "### Post-check Nexus configuration via **vshell**"
   ]
  },
  {
   "cell_type": "markdown",
   "metadata": {},
   "source": [
    "```shell\n",
    "# Verify the post-configuration ACL state\n",
    "show run | section access-list\n",
    "```"
   ]
  },
  {
   "cell_type": "markdown",
   "metadata": {},
   "source": [
    "---\n",
    "---\n",
    "### Setup OpenConfig web server ACL, sequence 20 **edit-config** NETCONF filter"
   ]
  },
  {
   "cell_type": "code",
   "execution_count": 59,
   "metadata": {},
   "outputs": [],
   "source": [
    "# Declare YANG Explorer XML payload file name\n",
    "file_name = f'{payload_base_path}{openconfig}1a_oc_create_seq_20_payload.xml'\n",
    "\n",
    "# Access YANG Explorer XML payload file & convert to Python dictionary\n",
    "with open(file_name, 'r') as payload:\n",
    "    raw_config = payload.read()\n",
    "    data = xmltodict.parse(raw_config,\n",
    "                           dict_constructor=dict)\n",
    "\n",
    "# Parse the 'edit-config' key from the dictionary & convert to XML \n",
    "nc_data = data['rpc']['edit-config']\n",
    "\n",
    "# Remove the 'target' item\n",
    "del nc_data['target']\n",
    "config = xmltodict.unparse(nc_data,\n",
    "                           full_document=False,\n",
    "                           pretty=True)"
   ]
  },
  {
   "cell_type": "markdown",
   "metadata": {},
   "source": [
    "---\n",
    "### Print YANG Explorer XML output"
   ]
  },
  {
   "cell_type": "code",
   "execution_count": 60,
   "metadata": {},
   "outputs": [
    {
     "name": "stdout",
     "output_type": "stream",
     "text": [
      "<rpc message-id=\"101\" xmlns=\"urn:ietf:params:xml:ns:netconf:base:1.0\">\n",
      "  <edit-config>\n",
      "    <target>\n",
      "      <running/>\n",
      "    </target>\n",
      "    <config>\n",
      "      <acl xmlns=\"http://openconfig.net/yang/acl\">\n",
      "        <acl-sets>\n",
      "          <acl-set>\n",
      "            <name>WEB-SERVER</name>\n",
      "            <type>ACL_IPV4</type>\n",
      "            <acl-entries>\n",
      "              <acl-entry>\n",
      "                <sequence-id>20</sequence-id>\n",
      "                <config>\n",
      "                  <sequence-id>20</sequence-id>\n",
      "                </config>\n",
      "                <ipv4>\n",
      "                  <config>\n",
      "                    <source-address>192.168.2.0/24</source-address>\n",
      "                    <destination-address>192.168.5.3/32</destination-address>\n",
      "                    <protocol>IP_ICMP</protocol>\n",
      "                  </config>\n",
      "                </ipv4>\n",
      "                <actions>\n",
      "                  <config>\n",
      "                    <forwarding-action>ACCEPT</forwarding-action>\n",
      "                  </config>\n",
      "                </actions>\n",
      "              </acl-entry>\n",
      "            </acl-entries>\n",
      "          </acl-set>\n",
      "        </acl-sets>\n",
      "      </acl>\n",
      "    </config>\n",
      "  </edit-config>\n",
      "</rpc>\n"
     ]
    }
   ],
   "source": [
    "print(raw_config)"
   ]
  },
  {
   "cell_type": "markdown",
   "metadata": {},
   "source": [
    "---\n",
    "### Print ncclient filter"
   ]
  },
  {
   "cell_type": "code",
   "execution_count": 61,
   "metadata": {},
   "outputs": [
    {
     "name": "stdout",
     "output_type": "stream",
     "text": [
      "<config>\n",
      "\t<acl xmlns=\"http://openconfig.net/yang/acl\">\n",
      "\t\t<acl-sets>\n",
      "\t\t\t<acl-set>\n",
      "\t\t\t\t<name>WEB-SERVER</name>\n",
      "\t\t\t\t<type>ACL_IPV4</type>\n",
      "\t\t\t\t<acl-entries>\n",
      "\t\t\t\t\t<acl-entry>\n",
      "\t\t\t\t\t\t<sequence-id>20</sequence-id>\n",
      "\t\t\t\t\t\t<config>\n",
      "\t\t\t\t\t\t\t<sequence-id>20</sequence-id>\n",
      "\t\t\t\t\t\t</config>\n",
      "\t\t\t\t\t\t<ipv4>\n",
      "\t\t\t\t\t\t\t<config>\n",
      "\t\t\t\t\t\t\t\t<source-address>192.168.2.0/24</source-address>\n",
      "\t\t\t\t\t\t\t\t<destination-address>192.168.5.3/32</destination-address>\n",
      "\t\t\t\t\t\t\t\t<protocol>IP_ICMP</protocol>\n",
      "\t\t\t\t\t\t\t</config>\n",
      "\t\t\t\t\t\t</ipv4>\n",
      "\t\t\t\t\t\t<actions>\n",
      "\t\t\t\t\t\t\t<config>\n",
      "\t\t\t\t\t\t\t\t<forwarding-action>ACCEPT</forwarding-action>\n",
      "\t\t\t\t\t\t\t</config>\n",
      "\t\t\t\t\t\t</actions>\n",
      "\t\t\t\t\t</acl-entry>\n",
      "\t\t\t\t</acl-entries>\n",
      "\t\t\t</acl-set>\n",
      "\t\t</acl-sets>\n",
      "\t</acl>\n",
      "</config>\n"
     ]
    }
   ],
   "source": [
    "print(config)"
   ]
  },
  {
   "cell_type": "markdown",
   "metadata": {},
   "source": [
    "---\n",
    "### Pre-check Nexus configuration via **vshell**"
   ]
  },
  {
   "cell_type": "markdown",
   "metadata": {},
   "source": [
    "```shell\n",
    "# Verify the pre-configuration ACL state\n",
    "show run | section access-list\n",
    "```"
   ]
  },
  {
   "cell_type": "markdown",
   "metadata": {},
   "source": [
    "---\n",
    "### Lock the **running** datastore and send the **edit-config** NETCONF request directly to the running configuration"
   ]
  },
  {
   "cell_type": "code",
   "execution_count": 62,
   "metadata": {},
   "outputs": [],
   "source": [
    "with manager.connect(**device) as m:\n",
    "    m.lock()\n",
    "    response = m.edit_config(target=\"running\", config=config)\n",
    "    m.unlock()"
   ]
  },
  {
   "cell_type": "markdown",
   "metadata": {},
   "source": [
    "---\n",
    "### Print NETCONF reply"
   ]
  },
  {
   "cell_type": "code",
   "execution_count": 63,
   "metadata": {},
   "outputs": [
    {
     "name": "stdout",
     "output_type": "stream",
     "text": [
      "<?xml version=\"1.0\" encoding=\"UTF-8\"?>\n",
      "<rpc-reply xmlns:nxos=\"http://www.cisco.com/nxos:1.0\" xmlns:if=\"http://www.cisco.com/nxos:1.0:if_manager\" xmlns:nfcli=\"http://www.cisco.com/nxos:1.0:nfcli\" xmlns:vlan_mgr_cli=\"http://www.cisco.com/nxos:1.0:vlan_mgr_cli\" xmlns=\"urn:ietf:params:xml:ns:netconf:base:1.0\" message-id=\"urn:uuid:d2bc9a95-ba06-41b9-ae6b-164649f77e41\">\n",
      "    <ok/>\n",
      "</rpc-reply>\n",
      "\n"
     ]
    }
   ],
   "source": [
    "print(response.xml)"
   ]
  },
  {
   "cell_type": "markdown",
   "metadata": {},
   "source": [
    "---\n",
    "### Post-check Nexus configuration via **vshell**"
   ]
  },
  {
   "cell_type": "markdown",
   "metadata": {},
   "source": [
    "```shell\n",
    "# Verify the post-configuration ACL state\n",
    "show run | section access-list\n",
    "```"
   ]
  },
  {
   "cell_type": "markdown",
   "metadata": {},
   "source": [
    "---\n",
    "---\n",
    "### Setup OpenConfig web server ACL, Ethernet1/10 access group outbound **edit-config** NETCONF filter"
   ]
  },
  {
   "cell_type": "code",
   "execution_count": 65,
   "metadata": {},
   "outputs": [],
   "source": [
    "# Declare YANG Explorer XML payload file name\n",
    "file_name = f'{payload_base_path}{openconfig}2_oc_apply_e1_10_access_group_payload.xml'\n",
    "\n",
    "# Access YANG Explorer XML payload file & convert to Python dictionary\n",
    "with open(file_name, 'r') as payload:\n",
    "    raw_config = payload.read()\n",
    "    data = xmltodict.parse(raw_config,\n",
    "                           dict_constructor=dict)\n",
    "\n",
    "# Parse the 'edit-config' key from the dictionary & convert to XML \n",
    "nc_data = data['rpc']['edit-config']\n",
    "\n",
    "# Remove the 'target' item\n",
    "del nc_data['target']\n",
    "config = xmltodict.unparse(nc_data,\n",
    "                           full_document=False,\n",
    "                           pretty=True)"
   ]
  },
  {
   "cell_type": "markdown",
   "metadata": {},
   "source": [
    "---\n",
    "### Print YANG Explorer XML output"
   ]
  },
  {
   "cell_type": "code",
   "execution_count": 66,
   "metadata": {},
   "outputs": [
    {
     "name": "stdout",
     "output_type": "stream",
     "text": [
      "<rpc message-id=\"101\" xmlns=\"urn:ietf:params:xml:ns:netconf:base:1.0\">\n",
      "  <edit-config>\n",
      "    <target>\n",
      "      <running/>\n",
      "    </target>\n",
      "    <config>\n",
      "      <acl xmlns=\"http://openconfig.net/yang/acl\">\n",
      "        <interfaces>\n",
      "          <interface>\n",
      "            <id>eth1/10</id>\n",
      "            <config>\n",
      "              <id>eth1/10</id>\n",
      "            </config>\n",
      "            <interface-ref>\n",
      "              <config>\n",
      "                <interface>eth1/10</interface>\n",
      "              </config>\n",
      "            </interface-ref>\n",
      "            <egress-acl-sets>\n",
      "              <egress-acl-set>\n",
      "                <set-name>WEB-SERVER</set-name>\n",
      "                <type>ACL_IPV4</type>\n",
      "                <config>\n",
      "                  <set-name>WEB-SERVER</set-name>\n",
      "                  <type>ACL_IPV4</type>\n",
      "                </config>\n",
      "              </egress-acl-set>\n",
      "            </egress-acl-sets>\n",
      "          </interface>\n",
      "        </interfaces>\n",
      "      </acl>\n",
      "    </config>\n",
      "  </edit-config>\n",
      "</rpc>\n"
     ]
    }
   ],
   "source": [
    "print(raw_config)"
   ]
  },
  {
   "cell_type": "markdown",
   "metadata": {},
   "source": [
    "---\n",
    "### Print ncclient filter"
   ]
  },
  {
   "cell_type": "code",
   "execution_count": 67,
   "metadata": {},
   "outputs": [
    {
     "name": "stdout",
     "output_type": "stream",
     "text": [
      "<config>\n",
      "\t<acl xmlns=\"http://openconfig.net/yang/acl\">\n",
      "\t\t<interfaces>\n",
      "\t\t\t<interface>\n",
      "\t\t\t\t<id>eth1/10</id>\n",
      "\t\t\t\t<config>\n",
      "\t\t\t\t\t<id>eth1/10</id>\n",
      "\t\t\t\t</config>\n",
      "\t\t\t\t<interface-ref>\n",
      "\t\t\t\t\t<config>\n",
      "\t\t\t\t\t\t<interface>eth1/10</interface>\n",
      "\t\t\t\t\t</config>\n",
      "\t\t\t\t</interface-ref>\n",
      "\t\t\t\t<egress-acl-sets>\n",
      "\t\t\t\t\t<egress-acl-set>\n",
      "\t\t\t\t\t\t<set-name>WEB-SERVER</set-name>\n",
      "\t\t\t\t\t\t<type>ACL_IPV4</type>\n",
      "\t\t\t\t\t\t<config>\n",
      "\t\t\t\t\t\t\t<set-name>WEB-SERVER</set-name>\n",
      "\t\t\t\t\t\t\t<type>ACL_IPV4</type>\n",
      "\t\t\t\t\t\t</config>\n",
      "\t\t\t\t\t</egress-acl-set>\n",
      "\t\t\t\t</egress-acl-sets>\n",
      "\t\t\t</interface>\n",
      "\t\t</interfaces>\n",
      "\t</acl>\n",
      "</config>\n"
     ]
    }
   ],
   "source": [
    "print(config)"
   ]
  },
  {
   "cell_type": "markdown",
   "metadata": {},
   "source": [
    "---\n",
    "### Pre-check Nexus configuration via **vshell**"
   ]
  },
  {
   "cell_type": "markdown",
   "metadata": {},
   "source": [
    "```shell\n",
    "# Verify the pre-configuration interface state\n",
    "show run interface Ethernet1/10\n",
    "```"
   ]
  },
  {
   "cell_type": "markdown",
   "metadata": {},
   "source": [
    "---\n",
    "### Send the NETCONF request directly to the **running** datastore, without lock"
   ]
  },
  {
   "cell_type": "code",
   "execution_count": 68,
   "metadata": {},
   "outputs": [],
   "source": [
    "with manager.connect(**device) as m:\n",
    "    response = m.edit_config(target=\"running\", config=config)"
   ]
  },
  {
   "cell_type": "markdown",
   "metadata": {},
   "source": [
    "---\n",
    "### Print NETCONF reply"
   ]
  },
  {
   "cell_type": "code",
   "execution_count": 69,
   "metadata": {},
   "outputs": [
    {
     "name": "stdout",
     "output_type": "stream",
     "text": [
      "<?xml version=\"1.0\" encoding=\"UTF-8\"?>\n",
      "<rpc-reply xmlns:nxos=\"http://www.cisco.com/nxos:1.0\" xmlns:if=\"http://www.cisco.com/nxos:1.0:if_manager\" xmlns:nfcli=\"http://www.cisco.com/nxos:1.0:nfcli\" xmlns:vlan_mgr_cli=\"http://www.cisco.com/nxos:1.0:vlan_mgr_cli\" xmlns=\"urn:ietf:params:xml:ns:netconf:base:1.0\" message-id=\"urn:uuid:5945062a-e478-45cc-b6c9-4779ca8a5e2b\">\n",
      "    <ok/>\n",
      "</rpc-reply>\n",
      "\n"
     ]
    }
   ],
   "source": [
    "print(response.xml)"
   ]
  },
  {
   "cell_type": "markdown",
   "metadata": {},
   "source": [
    "---\n",
    "### Post-check Nexus configuration via **vshell**"
   ]
  },
  {
   "cell_type": "markdown",
   "metadata": {},
   "source": [
    "```shell\n",
    "# Verify the post-configuration interface state\n",
    "show run interface Ethernet1/10\n",
    "```"
   ]
  },
  {
   "cell_type": "markdown",
   "metadata": {},
   "source": [
    "---\n",
    "### Secondary post-check Nexus configuration via **Terminal**"
   ]
  },
  {
   "cell_type": "markdown",
   "metadata": {},
   "source": [
    "```shell\n",
    "# Verify ICMP & TCP connectivity to the web server (192.168.5.3)\n",
    "ping -c 4 192.168.5.3\n",
    "\n",
    "curl -i http://192.168.5.3\n",
    "```"
   ]
  },
  {
   "cell_type": "markdown",
   "metadata": {},
   "source": [
    "---\n",
    "---\n",
    "### Setup OpenConfig web server ACL **get** NETCONF filter"
   ]
  },
  {
   "cell_type": "code",
   "execution_count": 70,
   "metadata": {},
   "outputs": [],
   "source": [
    "# Declare YANG Explorer XML payload file name\n",
    "file_name = f'{payload_base_path}{openconfig}3_oc_acl_get_config_payload.xml'\n",
    "\n",
    "# Access YANG Explorer XML payload file & convert to Python dictionary\n",
    "with open(file_name, 'r') as payload:\n",
    "    raw_filter = payload.read()\n",
    "    data = xmltodict.parse(raw_filter,\n",
    "                           dict_constructor=dict)\n",
    "\n",
    "# Parse the 'get-config' key from the dictionary & convert to XML \n",
    "nc_data = data['rpc']['get-config']\n",
    "\n",
    "# Remove the 'source' item\n",
    "del nc_data['source']\n",
    "filter = xmltodict.unparse(nc_data,\n",
    "                           full_document=False,\n",
    "                           pretty=True)"
   ]
  },
  {
   "cell_type": "markdown",
   "metadata": {},
   "source": [
    "---\n",
    "### Print YANG Explorer XML output"
   ]
  },
  {
   "cell_type": "code",
   "execution_count": 71,
   "metadata": {},
   "outputs": [
    {
     "name": "stdout",
     "output_type": "stream",
     "text": [
      "<rpc message-id=\"101\" xmlns=\"urn:ietf:params:xml:ns:netconf:base:1.0\">\n",
      "  <get-config>\n",
      "    <source>\n",
      "      <running/>\n",
      "    </source>\n",
      "    <filter>\n",
      "      <acl xmlns=\"http://openconfig.net/yang/acl\"/>\n",
      "    </filter>\n",
      "  </get-config>\n",
      "</rpc>\n"
     ]
    }
   ],
   "source": [
    "print(raw_filter)"
   ]
  },
  {
   "cell_type": "markdown",
   "metadata": {},
   "source": [
    "---\n",
    "### Print ncclient filter"
   ]
  },
  {
   "cell_type": "code",
   "execution_count": 72,
   "metadata": {},
   "outputs": [
    {
     "name": "stdout",
     "output_type": "stream",
     "text": [
      "<filter>\n",
      "\t<acl xmlns=\"http://openconfig.net/yang/acl\"></acl>\n",
      "</filter>\n"
     ]
    }
   ],
   "source": [
    "print(filter)"
   ]
  },
  {
   "cell_type": "markdown",
   "metadata": {},
   "source": [
    "---\n",
    "### Send NETCONF **get** request"
   ]
  },
  {
   "cell_type": "code",
   "execution_count": 73,
   "metadata": {},
   "outputs": [],
   "source": [
    "with manager.connect(**device) as m:\n",
    "    response = m.get(filter=filter)"
   ]
  },
  {
   "cell_type": "markdown",
   "metadata": {},
   "source": [
    "---\n",
    "### Print NETCONF reply"
   ]
  },
  {
   "cell_type": "code",
   "execution_count": 74,
   "metadata": {},
   "outputs": [
    {
     "name": "stdout",
     "output_type": "stream",
     "text": [
      "<?xml version=\"1.0\" encoding=\"UTF-8\"?>\n",
      "<rpc-reply xmlns:nxos=\"http://www.cisco.com/nxos:1.0\" xmlns:if=\"http://www.cisco.com/nxos:1.0:if_manager\" xmlns:nfcli=\"http://www.cisco.com/nxos:1.0:nfcli\" xmlns:vlan_mgr_cli=\"http://www.cisco.com/nxos:1.0:vlan_mgr_cli\" xmlns=\"urn:ietf:params:xml:ns:netconf:base:1.0\" message-id=\"urn:uuid:abe5a744-a857-4dbd-ba4e-c96260f5fc5b\">\n",
      "    <data>\n",
      "        <acl xmlns=\"http://openconfig.net/yang/acl\">\n",
      "            <interfaces>\n",
      "                <interface>\n",
      "                    <id>eth1/10</id>\n",
      "                    <config>\n",
      "                        <id>eth1/10</id>\n",
      "                    </config>\n",
      "                    <egress-acl-sets>\n",
      "                        <egress-acl-set>\n",
      "                            <set-name>WEB-SERVER</set-name>\n",
      "                            <type>ACL_IPV4</type>\n",
      "                            <config>\n",
      "                                <set-name>WEB-SERVER</set-name>\n",
      "                                <type>ACL_IPV4</type>\n",
      "                            </config>\n",
      "                        </egress-acl-set>\n",
      "                    </egress-acl-sets>\n",
      "                    <interface-ref>\n",
      "                        <config>\n",
      "                            <interface>eth1/10</interface>\n",
      "                        </config>\n",
      "                    </interface-ref>\n",
      "                </interface>\n",
      "            </interfaces>\n",
      "            <acl-sets>\n",
      "                <acl-set>\n",
      "                    <name>WEB-SERVER</name>\n",
      "                    <type>ACL_IPV4</type>\n",
      "                    <acl-entries>\n",
      "                        <acl-entry>\n",
      "                            <sequence-id>20</sequence-id>\n",
      "                            <actions>\n",
      "                                <config>\n",
      "                                    <forwarding-action>ACCEPT</forwarding-action>\n",
      "                                </config>\n",
      "                            </actions>\n",
      "                            <config>\n",
      "                                <sequence-id>20</sequence-id>\n",
      "                            </config>\n",
      "                            <ipv4>\n",
      "                                <config>\n",
      "                                    <destination-address>192.168.5.3/32</destination-address>\n",
      "                                    <protocol>IP_ICMP</protocol>\n",
      "                                    <source-address>192.168.2.0/24</source-address>\n",
      "                                </config>\n",
      "                            </ipv4>\n",
      "                        </acl-entry>\n",
      "                    </acl-entries>\n",
      "                    <config>\n",
      "                        <name>WEB-SERVER</name>\n",
      "                        <type>ACL_IPV4</type>\n",
      "                    </config>\n",
      "                </acl-set>\n",
      "            </acl-sets>\n",
      "        </acl>\n",
      "    </data>\n",
      "</rpc-reply>\n",
      "\n"
     ]
    }
   ],
   "source": [
    "print(response.xml)"
   ]
  },
  {
   "cell_type": "markdown",
   "metadata": {},
   "source": [
    "---\n",
    "---\n",
    "### Setup copy of the running **datastore** to the startup **datastore** NETCONF payload"
   ]
  },
  {
   "cell_type": "code",
   "execution_count": 75,
   "metadata": {},
   "outputs": [],
   "source": [
    "# Declare YANG Explorer XML payload file name\n",
    "file_name = f'{payload_base_path}{native}7_copy_run_start_payload.xml'\n",
    "\n",
    "# Access YANG Explorer XML payload file & convert to Python dictionary\n",
    "with open(file_name, 'r') as payload:\n",
    "    raw_payload = payload.read()\n",
    "    data = xmltodict.parse(raw_payload,\n",
    "                           dict_constructor=dict)\n",
    "\n",
    "# Parse the 'rpc' key from the dictionary & convert to XML \n",
    "nc_data = data['rpc']\n",
    "\n",
    "# Remove the '@message-id' and @xmlns items\n",
    "del nc_data['@message-id']\n",
    "del nc_data['@xmlns']\n",
    "payload = xmltodict.unparse(nc_data,\n",
    "                           full_document=False,\n",
    "                           pretty=True)"
   ]
  },
  {
   "cell_type": "markdown",
   "metadata": {},
   "source": [
    "---\n",
    "### Print YANG Explorer XML output"
   ]
  },
  {
   "cell_type": "code",
   "execution_count": 76,
   "metadata": {},
   "outputs": [
    {
     "name": "stdout",
     "output_type": "stream",
     "text": [
      "<rpc message-id=\"101\" xmlns=\"urn:ietf:params:xml:ns:netconf:base:1.0\">\n",
      "  <copy_running_config_src xmlns=\"http://cisco.com/ns/yang/cisco-nx-os-device\">\n",
      "    <startup-config/>\n",
      "  </copy_running_config_src>\n",
      "</rpc>\n"
     ]
    }
   ],
   "source": [
    "print(raw_payload)"
   ]
  },
  {
   "cell_type": "markdown",
   "metadata": {},
   "source": [
    "---\n",
    "### Print ncclient payload"
   ]
  },
  {
   "cell_type": "code",
   "execution_count": 77,
   "metadata": {},
   "outputs": [
    {
     "name": "stdout",
     "output_type": "stream",
     "text": [
      "<copy_running_config_src xmlns=\"http://cisco.com/ns/yang/cisco-nx-os-device\">\n",
      "\t<startup-config></startup-config>\n",
      "</copy_running_config_src>\n"
     ]
    }
   ],
   "source": [
    "print(payload)"
   ]
  },
  {
   "cell_type": "markdown",
   "metadata": {},
   "source": [
    "---\n",
    "### Pre-check Nexus **running** vs **startu**p configuration via **vshell**"
   ]
  },
  {
   "cell_type": "markdown",
   "metadata": {},
   "source": [
    "```shell\n",
    "# Verify the pre-copy interface & ACL state\n",
    "show run interface Ethernet1/10\n",
    "\n",
    "show run | sec access-list\n",
    "```"
   ]
  },
  {
   "cell_type": "markdown",
   "metadata": {},
   "source": [
    "---\n",
    "### Send NETCONF **dispatch** request"
   ]
  },
  {
   "cell_type": "code",
   "execution_count": 78,
   "metadata": {},
   "outputs": [],
   "source": [
    "# Parse the root node from the XML payload\n",
    "from lxml.etree import fromstring\n",
    "save_rpc = fromstring(payload)\n",
    "\n",
    "# Alternate payload format\n",
    "\"\"\"\n",
    "save_rpc = '''\n",
    "<copy xmlns=\"http://cisco.com/ns/yang/cisco-nx-os-device\">\n",
    "    <source>running</source>\n",
    "    <destination>startup</destination>\n",
    "</copy>\n",
    "'''\n",
    "\"\"\"\n",
    "\n",
    "# Send NETCONF request\n",
    "with manager.connect(**device) as m:\n",
    "    response = m.dispatch(save_rpc)"
   ]
  },
  {
   "cell_type": "markdown",
   "metadata": {},
   "source": [
    "---\n",
    "### Print NETCONF reply"
   ]
  },
  {
   "cell_type": "code",
   "execution_count": 79,
   "metadata": {},
   "outputs": [
    {
     "name": "stdout",
     "output_type": "stream",
     "text": [
      "<?xml version=\"1.0\" encoding=\"UTF-8\"?>\n",
      "<rpc-reply xmlns:nxos=\"http://www.cisco.com/nxos:1.0\" xmlns:if=\"http://www.cisco.com/nxos:1.0:if_manager\" xmlns:nfcli=\"http://www.cisco.com/nxos:1.0:nfcli\" xmlns:vlan_mgr_cli=\"http://www.cisco.com/nxos:1.0:vlan_mgr_cli\" xmlns=\"urn:ietf:params:xml:ns:netconf:base:1.0\" message-id=\"urn:uuid:328b7160-ee45-4f8c-ae7c-b39414eb855d\">\n",
      "    <ok/>\n",
      "</rpc-reply>\n",
      "\n"
     ]
    }
   ],
   "source": [
    "print(response.xml)"
   ]
  },
  {
   "cell_type": "markdown",
   "metadata": {},
   "source": [
    "---\n",
    "### Post-check Nexus **running** vs **startu**p configuration via **vshell**"
   ]
  },
  {
   "cell_type": "markdown",
   "metadata": {},
   "source": [
    "```shell\n",
    "# Verify the post-copy interface & ACL state\n",
    "show run interface Ethernet1/10\n",
    "\n",
    "show run | sec access-list\n",
    "```"
   ]
  },
  {
   "cell_type": "markdown",
   "metadata": {},
   "source": [
    "---"
   ]
  },
  {
   "cell_type": "code",
   "execution_count": null,
   "metadata": {},
   "outputs": [],
   "source": []
  }
 ],
 "metadata": {
  "kernelspec": {
   "display_name": "Python 3",
   "language": "python",
   "name": "python3"
  },
  "language_info": {
   "codemirror_mode": {
    "name": "ipython",
    "version": 3
   },
   "file_extension": ".py",
   "mimetype": "text/x-python",
   "name": "python",
   "nbconvert_exporter": "python",
   "pygments_lexer": "ipython3",
   "version": "3.9.4"
  }
 },
 "nbformat": 4,
 "nbformat_minor": 4
}
