{
 "cells": [
  {
   "cell_type": "markdown",
   "metadata": {},
   "source": [
    "# NX-OS NETCONF Practice Walkthrough\n",
    "\n",
    "## Explore YANG Models and Review Sample NX-OS NETCONF Python `ncclient` Code\n",
    "---\n"
   ]
  },
  {
   "cell_type": "markdown",
   "metadata": {},
   "source": [
    "\n",
    "### Explore YANG Models\n",
    "\n",
    "* The NX-OS YANG models are somewhat extensive and there tools available to help you navigate the model trees:\n",
    " 1. [`pyang`](https://github.com/mbj4668/pyang)\n",
    "  - Pros - simple, CLI tool, simple installation (via [Python pip](https://pypi.org/project/pyang/)), easy to use.\n",
    "  - Cons - Can be challenging to navigate through large models.\n",
    " 2. [YANG Suite](https://developer.cisco.com/yangsuite/)\n",
    "  - Pros - friendly GUI tool, variety of installation options ([Docker](https://developer.cisco.com/docs/yangsuite/) and [Python pip](https://github.com/CiscoDevNet/yangsuite)), easy to learn and use.\n",
    "  - Cons - Newer product which has some UI bugs.\n",
    " \n",
    " **Note:** This walkthrough contains sample NETCONF payloads generated with YANG Suite although the walkthrough does not describe how to use YANG Suite.  The walkthrough will include NETCONF payloads from the files in the [netconf_payloads](/lab/workspaces/auto-I/tree/resources/nexus/netconf/netconf_practice_walkthrough/netconf_payloads) directory.  You may use the NETCONF payload files for reference although you do not need to review them directly.\n",
    " \n",
    "---\n"
   ]
  },
  {
   "cell_type": "markdown",
   "metadata": {},
   "source": [
    "\n",
    "###  Interact with NX-OS YANG Modules Using Python **ncclient**\n",
    "\n",
    "* **ncclient** is a Python NETCONF client.\n",
    "* Not part of the Python Standard Library - install with **pip**:\n",
    "\n",
    "```shell\n",
    "# Already installed in the lab environment\n",
    "pip install ncclient\n",
    "```"
   ]
  },
  {
   "cell_type": "markdown",
   "metadata": {},
   "source": [
    "---\n",
    "### Import the 'manager' class from the 'ncclient' library & the 'xmltodict' module"
   ]
  },
  {
   "cell_type": "code",
   "execution_count": 1,
   "metadata": {},
   "outputs": [],
   "source": [
    "from ncclient import manager\n",
    "import xmltodict"
   ]
  },
  {
   "cell_type": "code",
   "execution_count": 2,
   "metadata": {},
   "outputs": [],
   "source": [
    "device = {\n",
    "    'host': '10.10.20.58',\n",
    "    'port': 830,\n",
    "    'username': 'admin',\n",
    "    'password': 'Cisco123',\n",
    "    'hostkey_verify': 'False',\n",
    "    'device_params': {\n",
    "        'name': 'nexus'\n",
    "    }\n",
    "}"
   ]
  },
  {
   "cell_type": "markdown",
   "metadata": {},
   "source": [
    "---\n",
    "### Get Nexus NETCONF capabilities"
   ]
  },
  {
   "cell_type": "code",
   "execution_count": 3,
   "metadata": {},
   "outputs": [],
   "source": [
    "with manager.connect(**device) as m:\n",
    "    caps = m.server_capabilities\n",
    "\n",
    "header_msg = f'{len(caps)} availabile NETCONF capabilities'\n",
    "header_border = (f'{\"-\" * len(header_msg)}')"
   ]
  },
  {
   "cell_type": "markdown",
   "metadata": {},
   "source": [
    "---\n",
    "### Print NETCONF capabilities"
   ]
  },
  {
   "cell_type": "code",
   "execution_count": 4,
   "metadata": {},
   "outputs": [
    {
     "name": "stdout",
     "output_type": "stream",
     "text": [
      "\n",
      "----------------------------------\n",
      "38 availabile NETCONF capabilities\n",
      "----------------------------------\n",
      "\n",
      "1. urn:ietf:params:netconf:base:1.0\n",
      "2. urn:ietf:params:netconf:base:1.1\n",
      "3. urn:ietf:params:netconf:capability:writable-running:1.0\n",
      "4. urn:ietf:params:netconf:capability:rollback-on-error:1.0\n",
      "5. urn:ietf:params:netconf:capability:candidate:1.0\n",
      "6. urn:ietf:params:netconf:capability:validate:1.1\n",
      "7. urn:ietf:params:netconf:capability:confirmed-commit:1.1\n",
      "8. urn:ietf:params:netconf:capability:notification:1.0\n",
      "9. urn:ietf:params:netconf:capability:interleave:1.0\n",
      "10. urn:ietf:params:netconf:capability:with-defaults:1.0?basic-mode=report-all\n",
      "11. http://cisco.com/ns/yang/cisco-nx-os-device?revision=2020-07-20&module=Cisco-NX-OS-device\n",
      "12. http://openconfig.net/yang/acl?revision=2019-11-27&module=openconfig-acl&deviations=cisco-nx-openconfig-acl-deviations\n",
      "13. http://openconfig.net/yang/bfd?revision=2019-10-25&module=openconfig-bfd&deviations=cisco-nx-openconfig-bfd-deviations\n",
      "14. http://openconfig.net/yang/bgp-policy?revision=2019-11-28&module=openconfig-bgp-policy&deviations=cisco-nx-openconfig-bgp-policy-deviations\n",
      "15. http://openconfig.net/yang/interfaces?revision=2017-07-14&module=openconfig-interfaces&deviations=cisco-nx-openconfig-interfaces-deviations\n",
      "16. http://openconfig.net/yang/interfaces/aggregate?revision=2017-07-14&module=openconfig-if-aggregate&deviations=cisco-nx-openconfig-if-aggregate-deviations\n",
      "17. http://openconfig.net/yang/interfaces/ethernet?revision=2017-07-14&module=openconfig-if-ethernet&deviations=cisco-nx-openconfig-if-ethernet-deviations\n",
      "18. http://openconfig.net/yang/interfaces/ip?revision=2018-01-05&module=openconfig-if-ip&deviations=cisco-nx-openconfig-if-ip-deviations\n",
      "19. http://openconfig.net/yang/interfaces/ip-ext?revision=2018-01-05&module=openconfig-if-ip-ext&deviations=cisco-nx-openconfig-if-ip-ext-deviations\n",
      "20. http://openconfig.net/yang/lacp?revision=2018-11-21&module=openconfig-lacp&deviations=cisco-nx-openconfig-lacp-deviations\n",
      "21. http://openconfig.net/yang/lldp?revision=2018-11-21&module=openconfig-lldp&deviations=cisco-nx-openconfig-lldp-deviations\n",
      "22. http://openconfig.net/yang/network-instance?revision=2018-11-21&module=openconfig-network-instance&deviations=cisco-nx-openconfig-network-instance-deviations\n",
      "23. http://openconfig.net/yang/network-instance/policy?revision=2018-11-21&module=openconfig-network-instance-policy&deviations=cisco-nx-openconfig-network-instance-policy-deviations\n",
      "24. http://openconfig.net/yang/ospf-policy?revision=2017-08-24&module=openconfig-ospf-policy&deviations=cisco-nx-openconfig-ospf-policy-deviations\n",
      "25. http://openconfig.net/yang/platform?revision=2019-04-16&module=openconfig-platform&deviations=cisco-nx-openconfig-platform-deviations\n",
      "26. http://openconfig.net/yang/platform/cpu?revision=2018-11-21&module=openconfig-platform-cpu&deviations=cisco-nx-openconfig-platform-cpu-deviations\n",
      "27. http://openconfig.net/yang/platform/fan?revision=2018-11-21&module=openconfig-platform-fan&deviations=cisco-nx-openconfig-platform-fan-deviations\n",
      "28. http://openconfig.net/yang/platform/linecard?revision=2018-11-21&module=openconfig-platform-linecard&deviations=cisco-nx-openconfig-platform-linecard-deviations\n",
      "29. http://openconfig.net/yang/platform/port?revision=2018-11-21&module=openconfig-platform-port&deviations=cisco-nx-openconfig-platform-port-deviations\n",
      "30. http://openconfig.net/yang/platform/psu?revision=2018-11-21&module=openconfig-platform-psu&deviations=cisco-nx-openconfig-platform-psu-deviations\n",
      "31. http://openconfig.net/yang/platform/transceiver?revision=2018-11-25&module=openconfig-platform-transceiver&deviations=cisco-nx-openconfig-platform-transceiver-deviations\n",
      "32. http://openconfig.net/yang/qos?revision=2019-11-28&module=openconfig-qos&deviations=cisco-nx-openconfig-qos-deviations\n",
      "33. http://openconfig.net/yang/relay-agent?revision=2018-11-21&module=openconfig-relay-agent&deviations=cisco-nx-openconfig-relay-agent-deviations\n",
      "34. http://openconfig.net/yang/routing-policy?revision=2018-11-21&module=openconfig-routing-policy&deviations=cisco-nx-openconfig-routing-policy-deviations\n",
      "35. http://openconfig.net/yang/spanning-tree?revision=2019-11-28&module=openconfig-spanning-tree&deviations=cisco-nx-openconfig-spanning-tree-deviations\n",
      "36. http://openconfig.net/yang/system?revision=2019-03-15&module=openconfig-system&deviations=cisco-nx-openconfig-system-deviations\n",
      "37. http://openconfig.net/yang/telemetry?revision=2018-11-21&module=openconfig-telemetry&deviations=cisco-nx-openconfig-telemetry-deviations\n",
      "38. http://openconfig.net/yang/vlan?revision=2018-11-21&module=openconfig-vlan&deviations=cisco-nx-openconfig-vlan-deviations\n"
     ]
    }
   ],
   "source": [
    "print(f'\\n{header_border}\\n'\n",
    "        f'{header_msg}\\n'\n",
    "        f'{header_border}\\n')\n",
    "\n",
    "for i, c in enumerate(caps):        \n",
    "    print(f'{i + 1}. {c}')"
   ]
  },
  {
   "cell_type": "markdown",
   "metadata": {},
   "source": [
    "---\n",
    "### Set the XML payload base path"
   ]
  },
  {
   "cell_type": "code",
   "execution_count": 5,
   "metadata": {},
   "outputs": [],
   "source": [
    "payload_base_path = 'code/1_netconf_mdp/4_yang_exp_output/'\n",
    "native = '1_native/'\n",
    "openconfig = '2_openconfig/'"
   ]
  },
  {
   "cell_type": "markdown",
   "metadata": {},
   "source": [
    "---\n",
    "### Configure dictionary of Native & OpenConfig YANG XML payloads"
   ]
  },
  {
   "cell_type": "code",
   "execution_count": 6,
   "metadata": {},
   "outputs": [
    {
     "name": "stdout",
     "output_type": "stream",
     "text": [
      "Native - Get Serial Number                         >> 1_serial_num_payload.xml\n",
      "Native - Get Ethernet1/1 Oper                      >> 2_get_eth1_1_payload.xml\n",
      "Native - Get Ethernet1/1 Config                    >> 3_get_config_eth1_1_payload.xml\n",
      "Native - Configure Ethernet1/2                     >> 4_edit_config_eth1_2_payload.xml\n",
      "Native - Get Ethernet 1/2 Config                   >> 5_get_config_eth1_2_payload.xml\n",
      "Native - Configure Web Server ACL                  >> 6_native_web_server_acl_payload.xml\n",
      "Native - Copy Run Start                            >> 7_copy_run_start_payload.xml\n",
      "OpenConfig - Configure Web Server ACL Seq. 10      >> 1_oc_create_seq_10_payload.xml\n",
      "OpenConfig - Configure Web Server ACL Seq. 20      >> 1a_oc_create_seq_20_payload.xml\n",
      "OpenConfig - Configure Web Server Int. Access Group >> 2_oc_apply_e1_2_access_group_payload.xml\n",
      "OpenConfig - Get Web ACL Config                    >> 3_oc_acl_get_config_payload.xml\n"
     ]
    }
   ],
   "source": [
    "payloads = {\n",
    "    'Native - Get Serial Number': '1_serial_num_payload.xml',\n",
    "    'Native - Get Ethernet1/1 Oper': '2_get_eth1_1_payload.xml',\n",
    "    'Native - Get Ethernet1/1 Config': '3_get_config_eth1_1_payload.xml',\n",
    "    'Native - Configure Ethernet1/2': '4_edit_config_eth1_2_payload.xml',\n",
    "    'Native - Get Ethernet 1/2 Config': '5_get_config_eth1_2_payload.xml',\n",
    "    'Native - Configure Web Server ACL': '6_native_web_server_acl_payload.xml',\n",
    "    'Native - Copy Run Start': '7_copy_run_start_payload.xml',\n",
    "    'OpenConfig - Configure Web Server ACL Seq. 10': '1_oc_create_seq_10_payload.xml',\n",
    "    'OpenConfig - Configure Web Server ACL Seq. 20': '1a_oc_create_seq_20_payload.xml',\n",
    "    'OpenConfig - Configure Web Server Int. Access Group': '2_oc_apply_e1_2_access_group_payload.xml',\n",
    "    'OpenConfig - Get Web ACL Config': '3_oc_acl_get_config_payload.xml'\n",
    "}\n",
    "\n",
    "for k, v in payloads.items():\n",
    "    print(f'{k:<50} >> {v}')"
   ]
  },
  {
   "cell_type": "markdown",
   "metadata": {},
   "source": [
    "---\n",
    "### Setup Nexus **get** serial number NETCONF filter"
   ]
  },
  {
   "cell_type": "code",
   "execution_count": 18,
   "metadata": {
    "tags": []
   },
   "outputs": [],
   "source": [
    "# Declare YANG Explorer XML payload file name\n",
    "file_name = f'{payload_base_path}{native}1_serial_num_payload.xml'\n",
    "\n",
    "# Access YANG Explorer XML payload file & convert to Python dictionary\n",
    "with open(file_name, 'r') as payload:\n",
    "    raw_filter = payload.read()\n",
    "    data = xmltodict.parse(raw_filter,\n",
    "                           dict_constructor=dict)\n",
    "\n",
    "# Parse the 'get' key from the dictionary & convert to XML \n",
    "nc_data = data['rpc']['get']\n",
    "filter = xmltodict.unparse(nc_data,\n",
    "                           full_document=False,\n",
    "                           pretty=True)"
   ]
  },
  {
   "cell_type": "code",
   "execution_count": 19,
   "metadata": {},
   "outputs": [
    {
     "name": "stdout",
     "output_type": "stream",
     "text": [
      "<rpc message-id=\"101\" xmlns=\"urn:ietf:params:xml:ns:netconf:base:1.0\">\n",
      "  <get>\n",
      "    <filter>\n",
      "      <System xmlns=\"http://cisco.com/ns/yang/cisco-nx-os-device\">\n",
      "        <serial/>\n",
      "      </System>\n",
      "    </filter>\n",
      "  </get>\n",
      "</rpc>\n",
      "\n",
      "{'rpc': {'@message-id': '101',\n",
      "         '@xmlns': 'urn:ietf:params:xml:ns:netconf:base:1.0',\n",
      "         'get': {'filter': {'System': {'@xmlns': 'http://cisco.com/ns/yang/cisco-nx-os-device',\n",
      "                                       'serial': None}}}}}\n",
      "\n",
      "{'filter': {'System': {'@xmlns': 'http://cisco.com/ns/yang/cisco-nx-os-device',\n",
      "                       'serial': None}}}\n",
      "\n",
      "<filter>\n",
      "\t<System xmlns=\"http://cisco.com/ns/yang/cisco-nx-os-device\">\n",
      "\t\t<serial></serial>\n",
      "\t</System>\n",
      "</filter>\n"
     ]
    }
   ],
   "source": [
    "from pprint import pprint as pp\n",
    "print(raw_filter)\n",
    "print()\n",
    "pp(data)\n",
    "print()\n",
    "pp(nc_data)\n",
    "print()\n",
    "print(filter)"
   ]
  },
  {
   "cell_type": "markdown",
   "metadata": {},
   "source": [
    "---\n",
    "### Print YANG Explorer XML output"
   ]
  },
  {
   "cell_type": "code",
   "execution_count": 20,
   "metadata": {},
   "outputs": [
    {
     "name": "stdout",
     "output_type": "stream",
     "text": [
      "<rpc message-id=\"101\" xmlns=\"urn:ietf:params:xml:ns:netconf:base:1.0\">\n",
      "  <get>\n",
      "    <filter>\n",
      "      <System xmlns=\"http://cisco.com/ns/yang/cisco-nx-os-device\">\n",
      "        <serial/>\n",
      "      </System>\n",
      "    </filter>\n",
      "  </get>\n",
      "</rpc>\n"
     ]
    }
   ],
   "source": [
    "print(raw_filter)"
   ]
  },
  {
   "cell_type": "markdown",
   "metadata": {},
   "source": [
    "---\n",
    "### Print ncclient filter"
   ]
  },
  {
   "cell_type": "code",
   "execution_count": 21,
   "metadata": {},
   "outputs": [
    {
     "name": "stdout",
     "output_type": "stream",
     "text": [
      "<filter>\n",
      "\t<System xmlns=\"http://cisco.com/ns/yang/cisco-nx-os-device\">\n",
      "\t\t<serial></serial>\n",
      "\t</System>\n",
      "</filter>\n"
     ]
    }
   ],
   "source": [
    "print(filter)"
   ]
  },
  {
   "cell_type": "markdown",
   "metadata": {},
   "source": [
    "---\n",
    "### Send NETCONF **get** request"
   ]
  },
  {
   "cell_type": "code",
   "execution_count": 22,
   "metadata": {},
   "outputs": [],
   "source": [
    "with manager.connect(**device) as m:\n",
    "    response = m.get(filter=filter)"
   ]
  },
  {
   "cell_type": "markdown",
   "metadata": {},
   "source": [
    "---\n",
    "### Print NETCONF reply"
   ]
  },
  {
   "cell_type": "code",
   "execution_count": 23,
   "metadata": {},
   "outputs": [
    {
     "name": "stdout",
     "output_type": "stream",
     "text": [
      "<?xml version=\"1.0\" encoding=\"UTF-8\"?>\n",
      "<rpc-reply xmlns:nxos=\"http://www.cisco.com/nxos:1.0\" xmlns:if=\"http://www.cisco.com/nxos:1.0:if_manager\" xmlns:nfcli=\"http://www.cisco.com/nxos:1.0:nfcli\" xmlns:vlan_mgr_cli=\"http://www.cisco.com/nxos:1.0:vlan_mgr_cli\" xmlns=\"urn:ietf:params:xml:ns:netconf:base:1.0\" message-id=\"urn:uuid:1b05dc8e-c162-414d-bb4d-4de101e646eb\">\n",
      "    <data>\n",
      "        <System xmlns=\"http://cisco.com/ns/yang/cisco-nx-os-device\">\n",
      "            <serial>91OMZP37WBR</serial>\n",
      "        </System>\n",
      "    </data>\n",
      "</rpc-reply>\n",
      "\n"
     ]
    }
   ],
   "source": [
    "print(response.xml)"
   ]
  },
  {
   "cell_type": "markdown",
   "metadata": {},
   "source": [
    "---\n",
    "---\n",
    "### Setup Ethernet1/1 **get** operational data NETCONF filter"
   ]
  },
  {
   "cell_type": "code",
   "execution_count": 24,
   "metadata": {},
   "outputs": [],
   "source": [
    "# Declare YANG Explorer XML payload file name\n",
    "file_name = f'{payload_base_path}{native}2_get_eth1_1_payload.xml'\n",
    "\n",
    "# Access YANG Explorer XML payload file & convert to Python dictionary\n",
    "with open(file_name, 'r') as payload:\n",
    "    raw_filter = payload.read()\n",
    "    data = xmltodict.parse(raw_filter,\n",
    "                           dict_constructor=dict)\n",
    "\n",
    "# Parse the 'get' key from the dictionary & convert to XML \n",
    "nc_data = data['rpc']['get']\n",
    "filter = xmltodict.unparse(nc_data,\n",
    "                           full_document=False,\n",
    "                           pretty=True)"
   ]
  },
  {
   "cell_type": "markdown",
   "metadata": {},
   "source": [
    "---\n",
    "### Print YANG Explorer XML output"
   ]
  },
  {
   "cell_type": "code",
   "execution_count": 25,
   "metadata": {},
   "outputs": [
    {
     "name": "stdout",
     "output_type": "stream",
     "text": [
      "<rpc message-id=\"101\" xmlns=\"urn:ietf:params:xml:ns:netconf:base:1.0\">\n",
      "  <get>\n",
      "    <filter>\n",
      "      <System xmlns=\"http://cisco.com/ns/yang/cisco-nx-os-device\">\n",
      "        <intf-items>\n",
      "          <phys-items>\n",
      "            <PhysIf-list>\n",
      "              <id>eth1/1</id>\n",
      "            </PhysIf-list>\n",
      "          </phys-items>\n",
      "        </intf-items>\n",
      "      </System>\n",
      "    </filter>\n",
      "  </get>\n",
      "</rpc>\n"
     ]
    }
   ],
   "source": [
    "print(raw_filter)"
   ]
  },
  {
   "cell_type": "markdown",
   "metadata": {},
   "source": [
    "---\n",
    "### Print ncclient filter"
   ]
  },
  {
   "cell_type": "code",
   "execution_count": 30,
   "metadata": {},
   "outputs": [
    {
     "data": {
      "text/plain": [
       "\u001b[0;31mSignature:\u001b[0m \u001b[0mmanager\u001b[0m\u001b[0;34m.\u001b[0m\u001b[0mconnect\u001b[0m\u001b[0;34m(\u001b[0m\u001b[0;34m*\u001b[0m\u001b[0margs\u001b[0m\u001b[0;34m,\u001b[0m \u001b[0;34m**\u001b[0m\u001b[0mkwds\u001b[0m\u001b[0;34m)\u001b[0m\u001b[0;34m\u001b[0m\u001b[0;34m\u001b[0m\u001b[0m\n",
       "\u001b[0;31mDocstring:\u001b[0m <no docstring>\n",
       "\u001b[0;31mFile:\u001b[0m      /usr/local/lib/python3.8/site-packages/ncclient/manager.py\n",
       "\u001b[0;31mType:\u001b[0m      function\n"
      ]
     },
     "metadata": {},
     "output_type": "display_data"
    }
   ],
   "source": [
    "manager.connect?"
   ]
  },
  {
   "cell_type": "code",
   "execution_count": 35,
   "metadata": {},
   "outputs": [],
   "source": [
    "device = {\n",
    "    'host': '10.10.20.58',\n",
    "    'port': 830,\n",
    "    'username': 'admin',\n",
    "    'password': 'Cisco123',\n",
    "    'hostkey_verify': False,\n",
    "    'device_params': {\n",
    "        'name': 'nexus'\n",
    "    }\n",
    "}"
   ]
  },
  {
   "cell_type": "code",
   "execution_count": 39,
   "metadata": {},
   "outputs": [
    {
     "data": {
      "text/plain": [
       "['HUGE_TREE_DEFAULT',\n",
       " '_Manager__set_async_mode',\n",
       " '_Manager__set_raise_mode',\n",
       " '_Manager__set_timeout',\n",
       " '__class__',\n",
       " '__delattr__',\n",
       " '__dict__',\n",
       " '__dir__',\n",
       " '__doc__',\n",
       " '__enter__',\n",
       " '__eq__',\n",
       " '__exit__',\n",
       " '__format__',\n",
       " '__ge__',\n",
       " '__getattr__',\n",
       " '__getattribute__',\n",
       " '__gt__',\n",
       " '__hash__',\n",
       " '__init__',\n",
       " '__init_subclass__',\n",
       " '__le__',\n",
       " '__lt__',\n",
       " '__module__',\n",
       " '__ne__',\n",
       " '__new__',\n",
       " '__reduce__',\n",
       " '__reduce_ex__',\n",
       " '__repr__',\n",
       " '__setattr__',\n",
       " '__sizeof__',\n",
       " '__str__',\n",
       " '__subclasshook__',\n",
       " '__weakref__',\n",
       " '_async_mode',\n",
       " '_device_handler',\n",
       " '_huge_tree',\n",
       " '_raise_mode',\n",
       " '_session',\n",
       " '_timeout',\n",
       " '_vendor_operations',\n",
       " 'async_mode',\n",
       " 'channel_id',\n",
       " 'channel_name',\n",
       " 'client_capabilities',\n",
       " 'connected',\n",
       " 'execute',\n",
       " 'huge_tree',\n",
       " 'locked',\n",
       " 'raise_mode',\n",
       " 'rpc',\n",
       " 'scp',\n",
       " 'server_capabilities',\n",
       " 'session',\n",
       " 'session_id',\n",
       " 'take_notification',\n",
       " 'timeout']"
      ]
     },
     "execution_count": 39,
     "metadata": {},
     "output_type": "execute_result"
    }
   ],
   "source": [
    "dir(conn)"
   ]
  },
  {
   "cell_type": "code",
   "execution_count": 41,
   "metadata": {},
   "outputs": [],
   "source": [
    "with manager.connect(**device) as conn:\n",
    "    r = conn.get(filter=filter)"
   ]
  },
  {
   "cell_type": "code",
   "execution_count": 44,
   "metadata": {},
   "outputs": [
    {
     "name": "stdout",
     "output_type": "stream",
     "text": [
      "{'rpc-reply': {'@message-id': 'urn:uuid:6c9eea87-ef56-4776-aa33-cd48c7c425d9',\n",
      "               '@xmlns': 'urn:ietf:params:xml:ns:netconf:base:1.0',\n",
      "               '@xmlns:if': 'http://www.cisco.com/nxos:1.0:if_manager',\n",
      "               '@xmlns:nfcli': 'http://www.cisco.com/nxos:1.0:nfcli',\n",
      "               '@xmlns:nxos': 'http://www.cisco.com/nxos:1.0',\n",
      "               '@xmlns:vlan_mgr_cli': 'http://www.cisco.com/nxos:1.0:vlan_mgr_cli',\n",
      "               'data': {'System': {'@xmlns': 'http://cisco.com/ns/yang/cisco-nx-os-device',\n",
      "                                   'intf-items': {'phys-items': {'PhysIf-list': {'FECMode': 'auto',\n",
      "                                                                                 'accessVlan': 'vlan-1',\n",
      "                                                                                 'adminSt': 'down',\n",
      "                                                                                 'aggrmbrif-items': {'bdlPortNum': '0',\n",
      "                                                                                                     'channelingSt': 'unknown',\n",
      "                                                                                                     'flags': None,\n",
      "                                                                                                     'ltlProgrammed': 'false',\n",
      "                                                                                                     'operSt': 'down',\n",
      "                                                                                                     'summOperSt': 'down',\n",
      "                                                                                                     'uptime': '00:00:00:00.000'},\n",
      "                                                                                 'autoNeg': 'on',\n",
      "                                                                                 'beacon': 'off',\n",
      "                                                                                 'bw': '0',\n",
      "                                                                                 'controllerId': None,\n",
      "                                                                                 'dbgDot3Stats-items': {'alignmentErrors': '0',\n",
      "                                                                                                        'babble': '0',\n",
      "                                                                                                        'carrierSenseErrors': '0',\n",
      "                                                                                                        'controlInUnknownOpcodes': '0',\n",
      "                                                                                                        'deferredTransmissions': '0',\n",
      "                                                                                                        'excessiveCollisions': '0',\n",
      "                                                                                                        'fCSErrors': '0',\n",
      "                                                                                                        'frameTooLongs': '0',\n",
      "                                                                                                        'inPauseFrames': '0',\n",
      "                                                                                                        'inputdribble': '0',\n",
      "                                                                                                        'internalMacReceiveErrors': '0',\n",
      "                                                                                                        'internalMacTransmitErrors': '227607808',\n",
      "                                                                                                        'lateCollisions': '0',\n",
      "                                                                                                        'lostCarrierErrors': '0',\n",
      "                                                                                                        'multipleCollisionFrames': '0',\n",
      "                                                                                                        'noCarrierErrors': '0',\n",
      "                                                                                                        'outPauseFrames': '0',\n",
      "                                                                                                        'runts': '0',\n",
      "                                                                                                        'sQETTestErrors': '0',\n",
      "                                                                                                        'singleCollisionFrames': '0',\n",
      "                                                                                                        'symbolErrors': '0'},\n",
      "                                                                                 'dbgEtherStats-items': {'broadcastPkts': '0',\n",
      "                                                                                                         'cRCAlignErrors': '0',\n",
      "                                                                                                         'collisions': '0',\n",
      "                                                                                                         'dropEvents': '0',\n",
      "                                                                                                         'fragments': '0',\n",
      "                                                                                                         'ifdowndrop': '0',\n",
      "                                                                                                         'ignored': '0',\n",
      "                                                                                                         'jabbers': '0',\n",
      "                                                                                                         'multicastPkts': '639139147084201984',\n",
      "                                                                                                         'octets': '0',\n",
      "                                                                                                         'overrun': '0',\n",
      "                                                                                                         'oversizePkts': '0',\n",
      "                                                                                                         'pkts': '639007207568532704',\n",
      "                                                                                                         'pkts1024to1518Octets': '0',\n",
      "                                                                                                         'pkts128to255Octets': '0',\n",
      "                                                                                                         'pkts1519to1548Octets': '0',\n",
      "                                                                                                         'pkts256to511Octets': '0',\n",
      "                                                                                                         'pkts512to1023Octets': '0',\n",
      "                                                                                                         'pkts64Octets': '0',\n",
      "                                                                                                         'pkts65to127Octets': '711196741122129920',\n",
      "                                                                                                         'rXNoErrors': '0',\n",
      "                                                                                                         'rxOversizePkts': '0',\n",
      "                                                                                                         'rxPkts1024to1518Octets': '0',\n",
      "                                                                                                         'rxPkts128to255Octets': '0',\n",
      "                                                                                                         'rxPkts1519to1548Octets': '0',\n",
      "                                                                                                         'rxPkts256to511Octets': '0',\n",
      "                                                                                                         'rxPkts512to1023Octets': '0',\n",
      "                                                                                                         'rxPkts64Octets': '0',\n",
      "                                                                                                         'rxPkts65to127Octets': '0',\n",
      "                                                                                                         'tXNoErrors': '639007207568532704',\n",
      "                                                                                                         'txOversizePkts': '0',\n",
      "                                                                                                         'txPkts1024to1518Octets': '0',\n",
      "                                                                                                         'txPkts128to255Octets': '0',\n",
      "                                                                                                         'txPkts1519to1548Octets': '0',\n",
      "                                                                                                         'txPkts256to511Octets': '0',\n",
      "                                                                                                         'txPkts512to1023Octets': '0',\n",
      "                                                                                                         'txPkts64Octets': '0',\n",
      "                                                                                                         'txPkts65to127Octets': '711196741122129920',\n",
      "                                                                                                         'underrun': '0',\n",
      "                                                                                                         'undersizePkts': '0',\n",
      "                                                                                                         'watchdog': '0'},\n",
      "                                                                                 'dbgIfHCIn-items': {'broadcastPkts': '0',\n",
      "                                                                                                     'multicastPkts': '0',\n",
      "                                                                                                     'octets': '0',\n",
      "                                                                                                     'ucastPkts': '0'},\n",
      "                                                                                 'dbgIfHCOut-items': {'broadcastPckts': '0',\n",
      "                                                                                                      'broadcastPkts': '0',\n",
      "                                                                                                      'multicastPkts': '639139147084201984',\n",
      "                                                                                                      'octets': '0',\n",
      "                                                                                                      'ucastPkts': '18446612134193882336'},\n",
      "                                                                                 'dbgIfIn-items': {'broadcastPkts': '0',\n",
      "                                                                                                   'discards': '0',\n",
      "                                                                                                   'errors': '0',\n",
      "                                                                                                   'multicastPkts': '0',\n",
      "                                                                                                   'nUcastPkts': '0',\n",
      "                                                                                                   'noBuffer': '0',\n",
      "                                                                                                   'octetRate': '0',\n",
      "                                                                                                   'octets': '0',\n",
      "                                                                                                   'packetRate': '0',\n",
      "                                                                                                   'rateInterval': '300',\n",
      "                                                                                                   'ucastPkts': '0',\n",
      "                                                                                                   'unknownEtype': '0',\n",
      "                                                                                                   'unknownProtos': '0'},\n",
      "                                                                                 'dbgIfOut-items': {'broadcastPkts': '0',\n",
      "                                                                                                    'discards': '0',\n",
      "                                                                                                    'errors': '227607808',\n",
      "                                                                                                    'multicastPkts': '639139147084201984',\n",
      "                                                                                                    'nUcastPkts': '639139147084201984',\n",
      "                                                                                                    'octetRate': '0',\n",
      "                                                                                                    'octets': '0',\n",
      "                                                                                                    'packetRate': '0',\n",
      "                                                                                                    'qLen': '0',\n",
      "                                                                                                    'rateInterval': '300',\n",
      "                                                                                                    'ucastPkts': '18446612134193882336'},\n",
      "                                                                                 'delay': '1',\n",
      "                                                                                 'dfeAdaptiveTuning': 'enable',\n",
      "                                                                                 'dfeTuningDelay': '100',\n",
      "                                                                                 'dot1qEtherType': '33024',\n",
      "                                                                                 'duplex': 'auto',\n",
      "                                                                                 'eeep-items': {'eeeLat': 'variable',\n",
      "                                                                                                'eeeLpi': 'aggressive',\n",
      "                                                                                                'eeeState': 'not-applicable'},\n",
      "                                                                                 'hwifdetails-items': {'asic': '0',\n",
      "                                                                                                       'macBlockNum': '0',\n",
      "                                                                                                       'sPort': '0',\n",
      "                                                                                                       'slice': '0',\n",
      "                                                                                                       'vif': '1537'},\n",
      "                                                                                 'id': 'eth1/1',\n",
      "                                                                                 'inhBw': '4294967295',\n",
      "                                                                                 'layer': 'Layer2',\n",
      "                                                                                 'linkDebounce': '100',\n",
      "                                                                                 'linkDebounceLinkUp': '0',\n",
      "                                                                                 'linkLog': 'default',\n",
      "                                                                                 'linkLoopback': 'disable',\n",
      "                                                                                 'linkMacUpTimer': '0',\n",
      "                                                                                 'linkTransmitReset': 'enable',\n",
      "                                                                                 'loadp-items': {'loadIntvl1': '30',\n",
      "                                                                                                 'loadIntvl2': '300',\n",
      "                                                                                                 'loadIntvl3': '0'},\n",
      "                                                                                 'mdix': 'auto',\n",
      "                                                                                 'mediaType': 'none',\n",
      "                                                                                 'medium': 'broadcast',\n",
      "                                                                                 'mode': 'trunk',\n",
      "                                                                                 'mtu': '1500',\n",
      "                                                                                 'nativeVlan': 'vlan-1',\n",
      "                                                                                 'packetTimestampEgressSourceId': '0',\n",
      "                                                                                 'packetTimestampIngressSourceId': '0',\n",
      "                                                                                 'packetTimestampState': 'disable',\n",
      "                                                                                 'phys-items': {'accessVlan': 'vlan-1',\n",
      "                                                                                                'adminSt': 'down',\n",
      "                                                                                                'allowedVlans': '100-105',\n",
      "                                                                                                'backplaneMac': '00:BF:DF:95:01:01',\n",
      "                                                                                                'bundleBupId': '1',\n",
      "                                                                                                'bundleIndex': 'unspecified',\n",
      "                                                                                                'cachedUserCfgdFlags': 'admin_layer',\n",
      "                                                                                                'cfgAccessVlan': 'vlan-1',\n",
      "                                                                                                'cfgNativeVlan': 'vlan-1',\n",
      "                                                                                                'currErrIndex': '4294967295',\n",
      "                                                                                                'diags': 'none',\n",
      "                                                                                                'dynamicVlan': 'false',\n",
      "                                                                                                'encap': '3',\n",
      "                                                                                                'errDisTimerRunning': 'false',\n",
      "                                                                                                'errVlans': None,\n",
      "                                                                                                'fcot-items': {'baseResvd1': '0',\n",
      "                                                                                                               'baseResvd2': '0',\n",
      "                                                                                                               'baseResvd3': '0',\n",
      "                                                                                                               'baseResvd4': '0,0,0',\n",
      "                                                                                                               'brIn100MHz': '0',\n",
      "                                                                                                               'brMaxMargin': '0',\n",
      "                                                                                                               'brMinMargin': '0',\n",
      "                                                                                                               'ccex': '0',\n",
      "                                                                                                               'ccid': '0',\n",
      "                                                                                                               'connectType': '0',\n",
      "                                                                                                               'dateCode': None,\n",
      "                                                                                                               'description': None,\n",
      "                                                                                                               'diagMonType': '0',\n",
      "                                                                                                               'distIn100mFor9u': '0',\n",
      "                                                                                                               'distIn10mFor50u': '0',\n",
      "                                                                                                               'distIn10mFor60u': '0',\n",
      "                                                                                                               'distIn1mForCu': '0',\n",
      "                                                                                                               'distInKmFor9u': '0',\n",
      "                                                                                                               'encoding': '0',\n",
      "                                                                                                               'enhOption': '0',\n",
      "                                                                                                               'extOption': '0,0',\n",
      "                                                                                                               'fCTxType': '0',\n",
      "                                                                                                               'fcotNum': '0',\n",
      "                                                                                                               'fcotType': '0',\n",
      "                                                                                                               'flags': 'unknown',\n",
      "                                                                                                               'gigEthCC': '0',\n",
      "                                                                                                               'isFcotPresent': 'false',\n",
      "                                                                                                               'maxSpeed': '6',\n",
      "                                                                                                               'minSpeed': '6',\n",
      "                                                                                                               'partNumber': None,\n",
      "                                                                                                               'sff8472Compl': '0',\n",
      "                                                                                                               'state': 'unknown',\n",
      "                                                                                                               'transceiverType': 'copper',\n",
      "                                                                                                               'type': 'unknown',\n",
      "                                                                                                               'typeName': 'unknown',\n",
      "                                                                                                               'vendorData': '0,0,0,0,0,0,0,0,0,0,0,0,0,0,0,0,0,0,0,0,0,0,0,0,0,0,0,0,0,0,0,0',\n",
      "                                                                                                               'vendorId': '0,0,0',\n",
      "                                                                                                               'vendorName': None,\n",
      "                                                                                                               'vendorPn': None,\n",
      "                                                                                                               'vendorRev': None,\n",
      "                                                                                                               'vendorSn': None,\n",
      "                                                                                                               'versionId': None,\n",
      "                                                                                                               'xcvrCode': '0,0,0,0,0,0,0,0',\n",
      "                                                                                                               'xcvrExtId': '0',\n",
      "                                                                                                               'xcvrId': '0'},\n",
      "                                                                                                'gport': '134219777',\n",
      "                                                                                                'ifIndex': '436207616',\n",
      "                                                                                                'intf': 'present',\n",
      "                                                                                                'intfT': 'phy',\n",
      "                                                                                                'iod': '14',\n",
      "                                                                                                'lastErrors': '0,0,0,0',\n",
      "                                                                                                'lastLinkStChg': '1970-01-01T00:00:00.000+00:00',\n",
      "                                                                                                'media': '2',\n",
      "                                                                                                'nativeVlan': 'vlan-1',\n",
      "                                                                                                'numOfSI': '0',\n",
      "                                                                                                'operAutoNeg': 'on',\n",
      "                                                                                                'operBitset': None,\n",
      "                                                                                                'operDceMode': 'edge',\n",
      "                                                                                                'operDescr': None,\n",
      "                                                                                                'operDuplex': 'auto',\n",
      "                                                                                                'operEEERxWkTime': '0',\n",
      "                                                                                                'operEEEState': 'not-applicable',\n",
      "                                                                                                'operEEETxWkTime': '0',\n",
      "                                                                                                'operErrDisQual': 'up',\n",
      "                                                                                                'operFECMode': 'auto',\n",
      "                                                                                                'operFlowCtrl': None,\n",
      "                                                                                                'operLinkDebounce': '100',\n",
      "                                                                                                'operMdix': 'auto',\n",
      "                                                                                                'operMode': 'trunk',\n",
      "                                                                                                'operMtu': '1500',\n",
      "                                                                                                'operPhyEnSt': 'unknown',\n",
      "                                                                                                'operRouterMac': '00:BF:DF:95:1B:08',\n",
      "                                                                                                'operSpeed': 'auto',\n",
      "                                                                                                'operSt': 'down',\n",
      "                                                                                                'operStQual': 'admin-down',\n",
      "                                                                                                'operStQualCode': '0',\n",
      "                                                                                                'operTrunkStatus': 'trunk-bundle',\n",
      "                                                                                                'portCfgWaitFlags': '0',\n",
      "                                                                                                'portcap-items': {'autoneg': '1',\n",
      "                                                                                                                  'channel': '1',\n",
      "                                                                                                                  'cosRewrite': '1',\n",
      "                                                                                                                  'ctsCapable': '31',\n",
      "                                                                                                                  'duplex': 'full',\n",
      "                                                                                                                  'eeeCapVal': '0',\n",
      "                                                                                                                  'eeeFlapFlags': '0',\n",
      "                                                                                                                  'eeeWakeTimes10g': '0,0,0',\n",
      "                                                                                                                  'fcotCapable': '0',\n",
      "                                                                                                                  'id': 'unspecified',\n",
      "                                                                                                                  'linkDebounce': '1',\n",
      "                                                                                                                  'linkDebounceTime': '50',\n",
      "                                                                                                                  'mdix': '0',\n",
      "                                                                                                                  'model': '103,98,105,99,0,0,0,0,0,0,0,0,0,0,0,0,0,0,0,0,0,0,0,0,0,0,0,0,0,0,0,0',\n",
      "                                                                                                                  'portCap': '167772160',\n",
      "                                                                                                                  'portGroup': '255',\n",
      "                                                                                                                  'portGrpMbrs': None,\n",
      "                                                                                                                  'protoSupport': '16777235',\n",
      "                                                                                                                  'qosRxPrio': '0',\n",
      "                                                                                                                  'qosRxQueue': '8',\n",
      "                                                                                                                  'qosRxThold': '2',\n",
      "                                                                                                                  'qosTxPrio': '1',\n",
      "                                                                                                                  'qosTxQueue': '7',\n",
      "                                                                                                                  'qosTxThold': '4',\n",
      "                                                                                                                  'rateMode': '1',\n",
      "                                                                                                                  'rxFlowControl': '3',\n",
      "                                                                                                                  'span': '1',\n",
      "                                                                                                                  'speed': '100,1000,10000',\n",
      "                                                                                                                  'suppression': '1',\n",
      "                                                                                                                  'tosRewrite': '1',\n",
      "                                                                                                                  'trunkEncap': '1',\n",
      "                                                                                                                  'txFlowControl': '3',\n",
      "                                                                                                                  'type': '49,48,103,0,0,0,0,0,0,0,0,0,0,0,0,0,0,0,0,0,0,0,0,0,0,0,0,0,0,0,0,0',\n",
      "                                                                                                                  'udld': '1'},\n",
      "                                                                                                'primaryVlan': 'vlan-1',\n",
      "                                                                                                'resetCtr': '0',\n",
      "                                                                                                'shareState': 'dedicated',\n",
      "                                                                                                'siList': None,\n",
      "                                                                                                'txT': 'unknown',\n",
      "                                                                                                'usage': None,\n",
      "                                                                                                'userCfgdFlags': 'admin_layer',\n",
      "                                                                                                'vdcId': '1'},\n",
      "                                                                                 'physExtd-items': {'allowMultiTag': 'disable',\n",
      "                                                                                                    'autoExcludeVlans': None,\n",
      "                                                                                                    'bufferBoost': 'enable',\n",
      "                                                                                                    'chassisModuleSide': 'UnknownSlot',\n",
      "                                                                                                    'chassisNumber': '0',\n",
      "                                                                                                    'flowCtrlReceive': 'false',\n",
      "                                                                                                    'flowCtrlSend': 'false',\n",
      "                                                                                                    'id': 'eth1/1',\n",
      "                                                                                                    'portTypeFabric': 'no',\n",
      "                                                                                                    'routerMacIpv6Extract': 'disable',\n",
      "                                                                                                    'shutDownLan': 'disable',\n",
      "                                                                                                    'stormCtrlBCastLevel': '100.0',\n",
      "                                                                                                    'stormCtrlBCastPPS': '4294967295',\n",
      "                                                                                                    'stormCtrlMCastLevel': '100.0',\n",
      "                                                                                                    'stormCtrlMCastPPS': '4294967295',\n",
      "                                                                                                    'stormCtrlUCastLevel': '100.0',\n",
      "                                                                                                    'stormCtrlUCastPPS': '4294967295',\n",
      "                                                                                                    'switchportIsolated': 'disable',\n",
      "                                                                                                    'switchportMacLearn': 'enable',\n",
      "                                                                                                    'switchportVirtualEthernetBridge': 'disable'},\n",
      "                                                                                 'portT': 'unknown',\n",
      "                                                                                 'routerMac': '00:00:00:00:00:00',\n",
      "                                                                                 'rscdpIfPolCons-items': {'tDn': 'UNRES:uni/infra/cdpIfP-[default]'},\n",
      "                                                                                 'rshIfPolCons-items': {'tDn': 'UNRES:uni/infra/hintfpol-[default]'},\n",
      "                                                                                 'rsstormctrlIfPolCons-items': {'tDn': 'UNRES:uni/infra/stormctrlifp-[default]'},\n",
      "                                                                                 'rsstpIfPolCons-items': {'tDn': 'UNRES:uni/infra/ifpol-[default]'},\n",
      "                                                                                 'rtioPPhysConf-items': {'tDn': \"/System/ch-items/lcslot-items/LCSlot-list[id='1']/lc-items/leafport-items/LeafP-list[id='1']\"},\n",
      "                                                                                 'rtl2EthIf-items': {'RtL2EthIf-list': [{'tDn': \"/System/cdp-items/inst-items/if-items/If-list[id='eth1/1']\"},\n",
      "                                                                                                                        {'tDn': \"/System/lacp-items/inst-items/if-items/If-list[id='eth1/1']\"}]},\n",
      "                                                                                 'rtmbrIfs-items': {'tDn': \"/System/intf-items/aggr-items/AggrIf-list[id='po11']\"},\n",
      "                                                                                 'snmpTrapSt': 'enable',\n",
      "                                                                                 'spanMode': 'not-a-span-dest',\n",
      "                                                                                 'speed': 'auto',\n",
      "                                                                                 'speedGroup': 'auto',\n",
      "                                                                                 'stormctrlp-items': {'burstPps': '4294967295',\n",
      "                                                                                                      'burstRate': '100.0',\n",
      "                                                                                                      'rate': '100.0',\n",
      "                                                                                                      'ratePps': '4294967295',\n",
      "                                                                                                      'type': 'all'},\n",
      "                                                                                 'switchingSt': 'disabled',\n",
      "                                                                                 'trunkLog': 'default',\n",
      "                                                                                 'trunkVlans': '100-110',\n",
      "                                                                                 'uniDirectionalEthernet': 'disable',\n",
      "                                                                                 'usage': 'discovery',\n",
      "                                                                                 'userCfgdFlags': 'admin_layer',\n",
      "                                                                                 'voicePortCos': '-1',\n",
      "                                                                                 'voicePortTrust': '-1',\n",
      "                                                                                 'voiceVlanId': '0',\n",
      "                                                                                 'voiceVlanType': 'none'}}}}}}}\n"
     ]
    }
   ],
   "source": [
    "pp(xmltodict.parse(r.xml, dict_constructor=dict))"
   ]
  },
  {
   "cell_type": "code",
   "execution_count": 26,
   "metadata": {},
   "outputs": [
    {
     "name": "stdout",
     "output_type": "stream",
     "text": [
      "<filter>\n",
      "\t<System xmlns=\"http://cisco.com/ns/yang/cisco-nx-os-device\">\n",
      "\t\t<intf-items>\n",
      "\t\t\t<phys-items>\n",
      "\t\t\t\t<PhysIf-list>\n",
      "\t\t\t\t\t<id>eth1/1</id>\n",
      "\t\t\t\t</PhysIf-list>\n",
      "\t\t\t</phys-items>\n",
      "\t\t</intf-items>\n",
      "\t</System>\n",
      "</filter>\n"
     ]
    }
   ],
   "source": [
    "print(filter)"
   ]
  },
  {
   "cell_type": "markdown",
   "metadata": {},
   "source": [
    "---\n",
    "### Send NETCONF **get** request"
   ]
  },
  {
   "cell_type": "code",
   "execution_count": null,
   "metadata": {},
   "outputs": [],
   "source": [
    "with manager.connect(**device) as m:\n",
    "    response = m.get(filter=filter)"
   ]
  },
  {
   "cell_type": "markdown",
   "metadata": {},
   "source": [
    "---\n",
    "### Print NETCONF reply"
   ]
  },
  {
   "cell_type": "code",
   "execution_count": null,
   "metadata": {},
   "outputs": [],
   "source": [
    "print(response.xml)"
   ]
  },
  {
   "cell_type": "markdown",
   "metadata": {},
   "source": [
    "---\n",
    "---\n",
    "### Setup Ethernet1/1 **get-config** NETCONF filter"
   ]
  },
  {
   "cell_type": "code",
   "execution_count": 45,
   "metadata": {},
   "outputs": [],
   "source": [
    "# Declare YANG Explorer XML payload file name\n",
    "file_name = f'{payload_base_path}{native}3_get_config_eth1_1_payload.xml'\n",
    "\n",
    "# Access YANG Explorer XML payload file & convert to Python dictionary\n",
    "with open(file_name, 'r') as payload:\n",
    "    raw_filter = payload.read()\n",
    "    data = xmltodict.parse(raw_filter,\n",
    "                           dict_constructor=dict)\n",
    "\n",
    "# Parse the 'get-config' key from the dictionary & convert to XML \n",
    "nc_data = data['rpc']['get-config']\n",
    "\n",
    "# Remove the 'source' item\n",
    "del nc_data['source']\n",
    "filter = xmltodict.unparse(nc_data,\n",
    "                           full_document=False,\n",
    "                           pretty=True)"
   ]
  },
  {
   "cell_type": "markdown",
   "metadata": {},
   "source": [
    "---\n",
    "### Print YANG Explorer XML output"
   ]
  },
  {
   "cell_type": "code",
   "execution_count": 46,
   "metadata": {},
   "outputs": [
    {
     "name": "stdout",
     "output_type": "stream",
     "text": [
      "<rpc message-id=\"101\" xmlns=\"urn:ietf:params:xml:ns:netconf:base:1.0\">\n",
      "  <get-config>\n",
      "    <source>\n",
      "      <running/>\n",
      "    </source>\n",
      "    <filter>\n",
      "      <System xmlns=\"http://cisco.com/ns/yang/cisco-nx-os-device\">\n",
      "        <ipv4-items>\n",
      "          <inst-items>\n",
      "            <dom-items>\n",
      "              <Dom-list>\n",
      "                <if-items>\n",
      "                  <If-list>\n",
      "                    <id>eth1/1</id>\n",
      "                  </If-list>\n",
      "                </if-items>\n",
      "              </Dom-list>\n",
      "            </dom-items>\n",
      "          </inst-items>\n",
      "        </ipv4-items>\n",
      "      </System>\n",
      "    </filter>\n",
      "  </get-config>\n",
      "</rpc>\n"
     ]
    }
   ],
   "source": [
    "print(raw_filter)"
   ]
  },
  {
   "cell_type": "markdown",
   "metadata": {},
   "source": [
    "---\n",
    "### Print ncclient filter"
   ]
  },
  {
   "cell_type": "code",
   "execution_count": 47,
   "metadata": {},
   "outputs": [
    {
     "name": "stdout",
     "output_type": "stream",
     "text": [
      "<filter>\n",
      "\t<System xmlns=\"http://cisco.com/ns/yang/cisco-nx-os-device\">\n",
      "\t\t<ipv4-items>\n",
      "\t\t\t<inst-items>\n",
      "\t\t\t\t<dom-items>\n",
      "\t\t\t\t\t<Dom-list>\n",
      "\t\t\t\t\t\t<if-items>\n",
      "\t\t\t\t\t\t\t<If-list>\n",
      "\t\t\t\t\t\t\t\t<id>eth1/1</id>\n",
      "\t\t\t\t\t\t\t</If-list>\n",
      "\t\t\t\t\t\t</if-items>\n",
      "\t\t\t\t\t</Dom-list>\n",
      "\t\t\t\t</dom-items>\n",
      "\t\t\t</inst-items>\n",
      "\t\t</ipv4-items>\n",
      "\t</System>\n",
      "</filter>\n"
     ]
    }
   ],
   "source": [
    "print(filter)"
   ]
  },
  {
   "cell_type": "code",
   "execution_count": 48,
   "metadata": {},
   "outputs": [],
   "source": [
    "device = {\n",
    "    'host': '10.10.20.58',\n",
    "    'port': 830,\n",
    "    'username': 'admin',\n",
    "    'password': 'Cisco123',\n",
    "    'hostkey_verify': False,\n",
    "    'device_params': {\n",
    "        'name': 'nexus'\n",
    "    }\n",
    "}"
   ]
  },
  {
   "cell_type": "code",
   "execution_count": 53,
   "metadata": {},
   "outputs": [],
   "source": [
    "with manager.connect(**device) as conn:\n",
    "    r = conn.get_config(source='running', filter=filter)"
   ]
  },
  {
   "cell_type": "code",
   "execution_count": 57,
   "metadata": {},
   "outputs": [
    {
     "name": "stdout",
     "output_type": "stream",
     "text": [
      "['ERROR_CLS', '__class__', '__delattr__', '__dict__', '__dir__', '__doc__', '__eq__', '__format__', '__ge__', '__getattribute__', '__gt__', '__hash__', '__init__', '__init_subclass__', '__le__', '__lt__', '__module__', '__ne__', '__new__', '__reduce__', '__reduce_ex__', '__repr__', '__setattr__', '__sizeof__', '__str__', '__subclasshook__', '__weakref__', '_data', '_device_handler', '_errors', '_huge_tree', '_parsed', '_parsing_hook', '_raw', '_root', 'data', 'data_ele', 'data_xml', 'error', 'errors', 'ok', 'parse', 'xml']\n",
      "{'data': {'@xmlns': 'urn:ietf:params:xml:ns:netconf:base:1.0',\n",
      "          '@xmlns:if': 'http://www.cisco.com/nxos:1.0:if_manager',\n",
      "          '@xmlns:nfcli': 'http://www.cisco.com/nxos:1.0:nfcli',\n",
      "          '@xmlns:nxos': 'http://www.cisco.com/nxos:1.0',\n",
      "          '@xmlns:vlan_mgr_cli': 'http://www.cisco.com/nxos:1.0:vlan_mgr_cli',\n",
      "          'System': {'@xmlns': 'http://cisco.com/ns/yang/cisco-nx-os-device'}}}\n"
     ]
    }
   ],
   "source": [
    "print(dir(r))\n",
    "pp(xmltodict.parse(r.data_xml, dict_constructor=dict))"
   ]
  },
  {
   "cell_type": "markdown",
   "metadata": {},
   "source": [
    "---\n",
    "### Send NETCONF **get-config** request"
   ]
  },
  {
   "cell_type": "code",
   "execution_count": 58,
   "metadata": {},
   "outputs": [],
   "source": [
    "with manager.connect(**device) as m:\n",
    "    response = m.get_config(source=\"running\", filter=filter)"
   ]
  },
  {
   "cell_type": "markdown",
   "metadata": {},
   "source": [
    "---\n",
    "### Print NETCONF reply"
   ]
  },
  {
   "cell_type": "code",
   "execution_count": 59,
   "metadata": {},
   "outputs": [
    {
     "name": "stdout",
     "output_type": "stream",
     "text": [
      "<?xml version=\"1.0\" encoding=\"UTF-8\"?>\n",
      "<rpc-reply xmlns:nxos=\"http://www.cisco.com/nxos:1.0\" xmlns:if=\"http://www.cisco.com/nxos:1.0:if_manager\" xmlns:nfcli=\"http://www.cisco.com/nxos:1.0:nfcli\" xmlns:vlan_mgr_cli=\"http://www.cisco.com/nxos:1.0:vlan_mgr_cli\" xmlns=\"urn:ietf:params:xml:ns:netconf:base:1.0\" message-id=\"urn:uuid:b9107c9e-a80d-4de9-8c70-d63bde426fa9\">\n",
      "    <data>\n",
      "        <System xmlns=\"http://cisco.com/ns/yang/cisco-nx-os-device\"/>\n",
      "    </data>\n",
      "</rpc-reply>\n",
      "\n"
     ]
    }
   ],
   "source": [
    "print(response.xml)"
   ]
  },
  {
   "cell_type": "markdown",
   "metadata": {},
   "source": [
    "---\n",
    "---\n",
    "### Setup Ethernet1/2 **edit-config** NETCONF filter"
   ]
  },
  {
   "cell_type": "code",
   "execution_count": 60,
   "metadata": {},
   "outputs": [],
   "source": [
    "# Declare YANG Explorer XML payload file name\n",
    "file_name = f'{payload_base_path}{native}4_edit_config_eth1_2_payload.xml'\n",
    "\n",
    "# Access YANG Explorer XML payload file & convert to Python dictionary\n",
    "with open(file_name, 'r') as payload:\n",
    "    raw_config = payload.read()\n",
    "    data = xmltodict.parse(raw_config,\n",
    "                           dict_constructor=dict)\n",
    "\n",
    "# Parse the 'get-config' key from the dictionary & convert to XML \n",
    "nc_data = data['rpc']['edit-config']\n",
    "\n",
    "# Remove the 'target' item\n",
    "del nc_data['target']\n",
    "config = xmltodict.unparse(nc_data,\n",
    "                           full_document=False,\n",
    "                           pretty=True)"
   ]
  },
  {
   "cell_type": "markdown",
   "metadata": {},
   "source": [
    "---\n",
    "### Print YANG Explorer XML output"
   ]
  },
  {
   "cell_type": "code",
   "execution_count": 61,
   "metadata": {},
   "outputs": [
    {
     "name": "stdout",
     "output_type": "stream",
     "text": [
      "<rpc message-id=\"101\" xmlns=\"urn:ietf:params:xml:ns:netconf:base:1.0\">\n",
      "  <edit-config>\n",
      "    <target>\n",
      "      <running/>\n",
      "    </target>\n",
      "    <config>\n",
      "      <System xmlns=\"http://cisco.com/ns/yang/cisco-nx-os-device\">\n",
      "        <intf-items>\n",
      "          <phys-items>\n",
      "            <PhysIf-list>\n",
      "              <id>eth1/2</id>\n",
      "              <adminSt>up</adminSt>\n",
      "              <layer>Layer3</layer>\n",
      "              <userCfgdFlags>admin_layer,admin_state</userCfgdFlags>\n",
      "            </PhysIf-list>\n",
      "          </phys-items>\n",
      "        </intf-items>\n",
      "        <ipv4-items>\n",
      "          <inst-items>\n",
      "            <dom-items>\n",
      "              <Dom-list>\n",
      "                <name>default</name>\n",
      "                <if-items>\n",
      "                  <If-list>\n",
      "                    <id>eth1/2</id>\n",
      "                    <addr-items>\n",
      "                      <Addr-list>\n",
      "                        <addr>192.168.5.2/24</addr>\n",
      "                        <pref>0</pref>\n",
      "                        <tag>0</tag>\n",
      "                      </Addr-list>\n",
      "                    </addr-items>\n",
      "                  </If-list>\n",
      "                </if-items>\n",
      "              </Dom-list>\n",
      "            </dom-items>\n",
      "          </inst-items>\n",
      "        </ipv4-items>\n",
      "      </System>\n",
      "    </config>\n",
      "  </edit-config>\n",
      "</rpc>\n",
      "\n"
     ]
    }
   ],
   "source": [
    "print(raw_config)"
   ]
  },
  {
   "cell_type": "markdown",
   "metadata": {},
   "source": [
    "---\n",
    "### Print ncclient filter"
   ]
  },
  {
   "cell_type": "code",
   "execution_count": 62,
   "metadata": {},
   "outputs": [
    {
     "name": "stdout",
     "output_type": "stream",
     "text": [
      "<config>\n",
      "\t<System xmlns=\"http://cisco.com/ns/yang/cisco-nx-os-device\">\n",
      "\t\t<intf-items>\n",
      "\t\t\t<phys-items>\n",
      "\t\t\t\t<PhysIf-list>\n",
      "\t\t\t\t\t<id>eth1/2</id>\n",
      "\t\t\t\t\t<adminSt>up</adminSt>\n",
      "\t\t\t\t\t<layer>Layer3</layer>\n",
      "\t\t\t\t\t<userCfgdFlags>admin_layer,admin_state</userCfgdFlags>\n",
      "\t\t\t\t</PhysIf-list>\n",
      "\t\t\t</phys-items>\n",
      "\t\t</intf-items>\n",
      "\t\t<ipv4-items>\n",
      "\t\t\t<inst-items>\n",
      "\t\t\t\t<dom-items>\n",
      "\t\t\t\t\t<Dom-list>\n",
      "\t\t\t\t\t\t<name>default</name>\n",
      "\t\t\t\t\t\t<if-items>\n",
      "\t\t\t\t\t\t\t<If-list>\n",
      "\t\t\t\t\t\t\t\t<id>eth1/2</id>\n",
      "\t\t\t\t\t\t\t\t<addr-items>\n",
      "\t\t\t\t\t\t\t\t\t<Addr-list>\n",
      "\t\t\t\t\t\t\t\t\t\t<addr>192.168.5.2/24</addr>\n",
      "\t\t\t\t\t\t\t\t\t\t<pref>0</pref>\n",
      "\t\t\t\t\t\t\t\t\t\t<tag>0</tag>\n",
      "\t\t\t\t\t\t\t\t\t</Addr-list>\n",
      "\t\t\t\t\t\t\t\t</addr-items>\n",
      "\t\t\t\t\t\t\t</If-list>\n",
      "\t\t\t\t\t\t</if-items>\n",
      "\t\t\t\t\t</Dom-list>\n",
      "\t\t\t\t</dom-items>\n",
      "\t\t\t</inst-items>\n",
      "\t\t</ipv4-items>\n",
      "\t</System>\n",
      "</config>\n"
     ]
    }
   ],
   "source": [
    "print(config)"
   ]
  },
  {
   "cell_type": "code",
   "execution_count": 64,
   "metadata": {},
   "outputs": [],
   "source": [
    "config = \"\"\"\n",
    "<config>\n",
    "\t<System xmlns=\"http://cisco.com/ns/yang/cisco-nx-os-device\">\n",
    "\t\t<intf-items>\n",
    "\t\t\t<phys-items>\n",
    "\t\t\t\t<PhysIf-list>\n",
    "\t\t\t\t\t<id>eth1/2</id>\n",
    "\t\t\t\t\t<adminSt>up</adminSt>\n",
    "\t\t\t\t\t<layer>Layer3</layer>\n",
    "\t\t\t\t\t<userCfgdFlags>admin_layer,admin_state</userCfgdFlags>\n",
    "\t\t\t\t</PhysIf-list>\n",
    "\t\t\t</phys-items>\n",
    "\t\t</intf-items>\n",
    "\t\t<ipv4-items>\n",
    "\t\t\t<inst-items>\n",
    "\t\t\t\t<dom-items>\n",
    "\t\t\t\t\t<Dom-list>\n",
    "\t\t\t\t\t\t<name>default</name>\n",
    "\t\t\t\t\t\t<if-items>\n",
    "\t\t\t\t\t\t\t<If-list>\n",
    "\t\t\t\t\t\t\t\t<id>eth1/25</id>\n",
    "\t\t\t\t\t\t\t\t<addr-items>\n",
    "\t\t\t\t\t\t\t\t\t<Addr-list>\n",
    "\t\t\t\t\t\t\t\t\t\t<addr>192.168.5.2/24</addr>\n",
    "\t\t\t\t\t\t\t\t\t\t<pref>0</pref>\n",
    "\t\t\t\t\t\t\t\t\t\t<tag>0</tag>\n",
    "\t\t\t\t\t\t\t\t\t</Addr-list>\n",
    "\t\t\t\t\t\t\t\t</addr-items>\n",
    "\t\t\t\t\t\t\t</If-list>\n",
    "\t\t\t\t\t\t</if-items>\n",
    "\t\t\t\t\t</Dom-list>\n",
    "\t\t\t\t</dom-items>\n",
    "\t\t\t</inst-items>\n",
    "\t\t</ipv4-items>\n",
    "\t</System>\n",
    "</config>\n",
    "\"\"\".strip()"
   ]
  },
  {
   "cell_type": "markdown",
   "metadata": {},
   "source": [
    "---\n",
    "### Pre-check Nexus configuration via **vshell**"
   ]
  },
  {
   "cell_type": "markdown",
   "metadata": {},
   "source": [
    "```shell\n",
    "# Verify the pre-configuration interface state\n",
    "show run interface Ethernet1/2\n",
    "```"
   ]
  },
  {
   "cell_type": "code",
   "execution_count": 67,
   "metadata": {},
   "outputs": [],
   "source": [
    "with manager.connect(**device) as m:\n",
    "    r = m.edit_config(target='candidate', config=config)"
   ]
  },
  {
   "cell_type": "code",
   "execution_count": 69,
   "metadata": {},
   "outputs": [
    {
     "name": "stdout",
     "output_type": "stream",
     "text": [
      "<?xml version=\"1.0\" encoding=\"UTF-8\"?>\n",
      "<rpc-reply xmlns:nxos=\"http://www.cisco.com/nxos:1.0\" xmlns:if=\"http://www.cisco.com/nxos:1.0:if_manager\" xmlns:nfcli=\"http://www.cisco.com/nxos:1.0:nfcli\" xmlns:vlan_mgr_cli=\"http://www.cisco.com/nxos:1.0:vlan_mgr_cli\" xmlns=\"urn:ietf:params:xml:ns:netconf:base:1.0\" message-id=\"urn:uuid:26616b4b-eebd-4056-beaf-7f4438ffa086\">\n",
      "    <ok/>\n",
      "</rpc-reply>\n",
      "\n"
     ]
    }
   ],
   "source": [
    "print(r)"
   ]
  },
  {
   "cell_type": "code",
   "execution_count": null,
   "metadata": {},
   "outputs": [],
   "source": []
  },
  {
   "cell_type": "markdown",
   "metadata": {},
   "source": [
    "---\n",
    "### Send NETCONF **edit-config** request"
   ]
  },
  {
   "cell_type": "code",
   "execution_count": null,
   "metadata": {},
   "outputs": [],
   "source": [
    "with manager.connect(**device) as m:\n",
    "    response = m.edit_config(target=\"candidate\", config=config)"
   ]
  },
  {
   "cell_type": "markdown",
   "metadata": {},
   "source": [
    "---\n",
    "### Print NETCONF reply"
   ]
  },
  {
   "cell_type": "code",
   "execution_count": null,
   "metadata": {},
   "outputs": [],
   "source": [
    "print(response.xml)"
   ]
  },
  {
   "cell_type": "markdown",
   "metadata": {},
   "source": [
    "---\n",
    "### Commit **candidate** datastore to **running** datastore"
   ]
  },
  {
   "cell_type": "code",
   "execution_count": 70,
   "metadata": {},
   "outputs": [],
   "source": [
    "with manager.connect(**device) as m:\n",
    "    response = m.commit()"
   ]
  },
  {
   "cell_type": "markdown",
   "metadata": {},
   "source": [
    "---\n",
    "### Print NETCONF reply"
   ]
  },
  {
   "cell_type": "code",
   "execution_count": 71,
   "metadata": {},
   "outputs": [
    {
     "name": "stdout",
     "output_type": "stream",
     "text": [
      "<?xml version=\"1.0\" encoding=\"UTF-8\"?>\n",
      "<rpc-reply xmlns:nxos=\"http://www.cisco.com/nxos:1.0\" xmlns:if=\"http://www.cisco.com/nxos:1.0:if_manager\" xmlns:nfcli=\"http://www.cisco.com/nxos:1.0:nfcli\" xmlns:vlan_mgr_cli=\"http://www.cisco.com/nxos:1.0:vlan_mgr_cli\" xmlns=\"urn:ietf:params:xml:ns:netconf:base:1.0\" message-id=\"urn:uuid:a5c1ba39-a429-4783-bdd8-6e6ec5568b4e\">\n",
      "    <ok/>\n",
      "</rpc-reply>\n",
      "\n"
     ]
    }
   ],
   "source": [
    "print(response.xml)"
   ]
  },
  {
   "cell_type": "markdown",
   "metadata": {},
   "source": [
    "---\n",
    "### Post-check Nexus configuration via **vshell**"
   ]
  },
  {
   "cell_type": "markdown",
   "metadata": {},
   "source": [
    "```shell\n",
    "# Verify the post-configuration interface state\n",
    "show run interface Ethernet1/2\n",
    "```"
   ]
  },
  {
   "cell_type": "markdown",
   "metadata": {},
   "source": [
    "---\n",
    "---\n",
    "### Setup Ethernet1/2 **get-config** NETCONF filter"
   ]
  },
  {
   "cell_type": "code",
   "execution_count": null,
   "metadata": {},
   "outputs": [],
   "source": [
    "# Declare YANG Explorer XML payload file name\n",
    "file_name = f'{payload_base_path}{native}5_get_config_eth1_2_payload.xml'\n",
    "\n",
    "# Access YANG Explorer XML payload file & convert to Python dictionary\n",
    "with open(file_name, 'r') as payload:\n",
    "    raw_filter = payload.read()\n",
    "    data = xmltodict.parse(raw_filter,\n",
    "                           dict_constructor=dict)\n",
    "\n",
    "# Parse the 'get-config' key from the dictionary & convert to XML \n",
    "nc_data = data['rpc']['get-config']\n",
    "\n",
    "# Remove the 'source' item\n",
    "del nc_data['source']\n",
    "filter = xmltodict.unparse(nc_data,\n",
    "                           full_document=False,\n",
    "                           pretty=True)"
   ]
  },
  {
   "cell_type": "markdown",
   "metadata": {},
   "source": [
    "---\n",
    "### Print YANG Explorer XML output"
   ]
  },
  {
   "cell_type": "code",
   "execution_count": null,
   "metadata": {},
   "outputs": [],
   "source": [
    "print(raw_filter)"
   ]
  },
  {
   "cell_type": "markdown",
   "metadata": {},
   "source": [
    "---\n",
    "### Print ncclient filter"
   ]
  },
  {
   "cell_type": "code",
   "execution_count": null,
   "metadata": {},
   "outputs": [],
   "source": [
    "print(filter)"
   ]
  },
  {
   "cell_type": "markdown",
   "metadata": {},
   "source": [
    "---\n",
    "### Send NETCONF **get-config** request"
   ]
  },
  {
   "cell_type": "code",
   "execution_count": null,
   "metadata": {},
   "outputs": [],
   "source": [
    "with manager.connect(**device) as m:\n",
    "    response = m.get_config(source=\"running\", filter=filter)"
   ]
  },
  {
   "cell_type": "markdown",
   "metadata": {},
   "source": [
    "---\n",
    "### Print NETCONF reply"
   ]
  },
  {
   "cell_type": "code",
   "execution_count": null,
   "metadata": {},
   "outputs": [],
   "source": [
    "print(response.xml)"
   ]
  },
  {
   "cell_type": "markdown",
   "metadata": {},
   "source": [
    "---\n",
    "---\n",
    "### Setup OpenConfig web server ACL, sequence 10 **edit-config** NETCONF filter"
   ]
  },
  {
   "cell_type": "code",
   "execution_count": 87,
   "metadata": {},
   "outputs": [],
   "source": [
    "# Declare YANG Explorer XML payload file name\n",
    "file_name = f'{payload_base_path}{openconfig}1_oc_create_seq_10_payload.xml'\n",
    "\n",
    "# Access YANG Explorer XML payload file & convert to Python dictionary\n",
    "with open(file_name, 'r') as payload:\n",
    "    raw_config = payload.read()\n",
    "    data = xmltodict.parse(raw_config,\n",
    "                           dict_constructor=dict)\n",
    "\n",
    "# Parse the 'edit-config' key from the dictionary & convert to XML \n",
    "nc_data = data['rpc']['edit-config']\n",
    "\n",
    "# Remove the 'target' item\n",
    "del nc_data['target']\n",
    "config = xmltodict.unparse(nc_data,\n",
    "                           full_document=False,\n",
    "                           pretty=True)"
   ]
  },
  {
   "cell_type": "markdown",
   "metadata": {},
   "source": [
    "---\n",
    "### Print YANG Explorer XML output"
   ]
  },
  {
   "cell_type": "code",
   "execution_count": 76,
   "metadata": {},
   "outputs": [
    {
     "name": "stdout",
     "output_type": "stream",
     "text": [
      "<rpc message-id=\"101\" xmlns=\"urn:ietf:params:xml:ns:netconf:base:1.0\">\n",
      "  <edit-config>\n",
      "    <target>\n",
      "      <running/>\n",
      "    </target>\n",
      "    <config>\n",
      "      <acl xmlns=\"http://openconfig.net/yang/acl\">\n",
      "        <acl-sets>\n",
      "          <acl-set>\n",
      "            <name>WEB-SERVER</name>\n",
      "            <type>ACL_IPV4</type>\n",
      "            <acl-entries>\n",
      "              <acl-entry>\n",
      "                <sequence-id>10</sequence-id>\n",
      "                <config>\n",
      "                  <sequence-id>10</sequence-id>\n",
      "                </config>\n",
      "                <ipv4>\n",
      "                  <config>\n",
      "                    <source-address>192.168.2.0/24</source-address>\n",
      "                    <destination-address>192.168.5.3/32</destination-address>\n",
      "                    <protocol>IP_TCP</protocol>\n",
      "                  </config>\n",
      "                </ipv4>\n",
      "                <transport>\n",
      "                  <config>\n",
      "                    <destination-port>80</destination-port>\n",
      "                  </config>\n",
      "                </transport>\n",
      "                <actions>\n",
      "                  <config>\n",
      "                    <forwarding-action>ACCEPT</forwarding-action>\n",
      "                  </config>\n",
      "                </actions>\n",
      "              </acl-entry>\n",
      "            </acl-entries>\n",
      "          </acl-set>\n",
      "        </acl-sets>\n",
      "      </acl>\n",
      "    </config>\n",
      "  </edit-config>\n",
      "</rpc>\n"
     ]
    }
   ],
   "source": [
    "print(raw_config)"
   ]
  },
  {
   "cell_type": "markdown",
   "metadata": {},
   "source": [
    "---\n",
    "### Print ncclient filter"
   ]
  },
  {
   "cell_type": "code",
   "execution_count": 88,
   "metadata": {},
   "outputs": [
    {
     "name": "stdout",
     "output_type": "stream",
     "text": [
      "<config>\n",
      "\t<acl xmlns=\"http://openconfig.net/yang/acl\">\n",
      "\t\t<acl-sets>\n",
      "\t\t\t<acl-set>\n",
      "\t\t\t\t<name>WEB-SERVER</name>\n",
      "\t\t\t\t<type>ACL_IPV4</type>\n",
      "\t\t\t\t<acl-entries>\n",
      "\t\t\t\t\t<acl-entry>\n",
      "\t\t\t\t\t\t<sequence-id>10</sequence-id>\n",
      "\t\t\t\t\t\t<config>\n",
      "\t\t\t\t\t\t\t<sequence-id>10</sequence-id>\n",
      "\t\t\t\t\t\t</config>\n",
      "\t\t\t\t\t\t<ipv4>\n",
      "\t\t\t\t\t\t\t<config>\n",
      "\t\t\t\t\t\t\t\t<source-address>192.168.2.0/24</source-address>\n",
      "\t\t\t\t\t\t\t\t<destination-address>192.168.5.3/32</destination-address>\n",
      "\t\t\t\t\t\t\t\t<protocol>IP_TCP</protocol>\n",
      "\t\t\t\t\t\t\t</config>\n",
      "\t\t\t\t\t\t</ipv4>\n",
      "\t\t\t\t\t\t<transport>\n",
      "\t\t\t\t\t\t\t<config>\n",
      "\t\t\t\t\t\t\t\t<destination-port>80</destination-port>\n",
      "\t\t\t\t\t\t\t</config>\n",
      "\t\t\t\t\t\t</transport>\n",
      "\t\t\t\t\t\t<actions>\n",
      "\t\t\t\t\t\t\t<config>\n",
      "\t\t\t\t\t\t\t\t<forwarding-action>ACCEPT</forwarding-action>\n",
      "\t\t\t\t\t\t\t</config>\n",
      "\t\t\t\t\t\t</actions>\n",
      "\t\t\t\t\t</acl-entry>\n",
      "\t\t\t\t</acl-entries>\n",
      "\t\t\t</acl-set>\n",
      "\t\t</acl-sets>\n",
      "\t</acl>\n",
      "</config>\n"
     ]
    }
   ],
   "source": [
    "print(config)"
   ]
  },
  {
   "cell_type": "markdown",
   "metadata": {},
   "source": [
    "---\n",
    "### Pre-check Nexus configuration via **vshell**"
   ]
  },
  {
   "cell_type": "markdown",
   "metadata": {},
   "source": [
    "```shell\n",
    "# Verify the pre-configuration ACL state\n",
    "show run | section access-list\n",
    "```"
   ]
  },
  {
   "cell_type": "code",
   "execution_count": 78,
   "metadata": {},
   "outputs": [],
   "source": [
    "m = manager.connect(**device)"
   ]
  },
  {
   "cell_type": "code",
   "execution_count": 79,
   "metadata": {},
   "outputs": [
    {
     "data": {
      "text/plain": [
       "<?xml version=\"1.0\" encoding=\"UTF-8\"?>\n",
       "<rpc-reply xmlns:nxos=\"http://www.cisco.com/nxos:1.0\" xmlns:if=\"http://www.cisco.com/nxos:1.0:if_manager\" xmlns:nfcli=\"http://www.cisco.com/nxos:1.0:nfcli\" xmlns:vlan_mgr_cli=\"http://www.cisco.com/nxos:1.0:vlan_mgr_cli\" xmlns=\"urn:ietf:params:xml:ns:netconf:base:1.0\" message-id=\"urn:uuid:00eea5f3-713f-42f3-8533-9ef8025b4d42\">\n",
       "    <ok/>\n",
       "</rpc-reply>"
      ]
     },
     "execution_count": 79,
     "metadata": {},
     "output_type": "execute_result"
    }
   ],
   "source": [
    "m.lock(target='candidate')"
   ]
  },
  {
   "cell_type": "code",
   "execution_count": 80,
   "metadata": {},
   "outputs": [
    {
     "data": {
      "text/plain": [
       "<?xml version=\"1.0\" encoding=\"UTF-8\"?>\n",
       "<rpc-reply xmlns:nxos=\"http://www.cisco.com/nxos:1.0\" xmlns:if=\"http://www.cisco.com/nxos:1.0:if_manager\" xmlns:nfcli=\"http://www.cisco.com/nxos:1.0:nfcli\" xmlns:vlan_mgr_cli=\"http://www.cisco.com/nxos:1.0:vlan_mgr_cli\" xmlns=\"urn:ietf:params:xml:ns:netconf:base:1.0\" message-id=\"urn:uuid:7691478f-fccd-4cd9-a8a9-24623a5ca5be\">\n",
       "    <ok/>\n",
       "</rpc-reply>"
      ]
     },
     "execution_count": 80,
     "metadata": {},
     "output_type": "execute_result"
    }
   ],
   "source": [
    "m.edit_config(target='candidate', config=config)"
   ]
  },
  {
   "cell_type": "code",
   "execution_count": 81,
   "metadata": {},
   "outputs": [
    {
     "data": {
      "text/plain": [
       "<?xml version=\"1.0\" encoding=\"UTF-8\"?>\n",
       "<rpc-reply xmlns:nxos=\"http://www.cisco.com/nxos:1.0\" xmlns:if=\"http://www.cisco.com/nxos:1.0:if_manager\" xmlns:nfcli=\"http://www.cisco.com/nxos:1.0:nfcli\" xmlns:vlan_mgr_cli=\"http://www.cisco.com/nxos:1.0:vlan_mgr_cli\" xmlns=\"urn:ietf:params:xml:ns:netconf:base:1.0\" message-id=\"urn:uuid:108a4f22-f945-4f77-b185-3a5bcfb935b1\">\n",
       "    <ok/>\n",
       "</rpc-reply>"
      ]
     },
     "execution_count": 81,
     "metadata": {},
     "output_type": "execute_result"
    }
   ],
   "source": [
    "m.unlock()"
   ]
  },
  {
   "cell_type": "code",
   "execution_count": 82,
   "metadata": {},
   "outputs": [
    {
     "data": {
      "text/plain": [
       "<?xml version=\"1.0\" encoding=\"UTF-8\"?>\n",
       "<rpc-reply xmlns:nxos=\"http://www.cisco.com/nxos:1.0\" xmlns:if=\"http://www.cisco.com/nxos:1.0:if_manager\" xmlns:nfcli=\"http://www.cisco.com/nxos:1.0:nfcli\" xmlns:vlan_mgr_cli=\"http://www.cisco.com/nxos:1.0:vlan_mgr_cli\" xmlns=\"urn:ietf:params:xml:ns:netconf:base:1.0\" message-id=\"urn:uuid:1b73d700-7a0f-4442-9252-fd092cc8d483\">\n",
       "    <ok/>\n",
       "</rpc-reply>"
      ]
     },
     "execution_count": 82,
     "metadata": {},
     "output_type": "execute_result"
    }
   ],
   "source": [
    "m.commit()"
   ]
  },
  {
   "cell_type": "markdown",
   "metadata": {},
   "source": [
    "---\n",
    "### Lock the **candidate** datastore and send the **edit-config** NETCONF request"
   ]
  },
  {
   "cell_type": "code",
   "execution_count": 89,
   "metadata": {},
   "outputs": [],
   "source": [
    "with manager.connect(**device) as m:\n",
    "    m.lock()\n",
    "    response = m.edit_config(target=\"candidate\", config=config)\n",
    "    m.unlock()"
   ]
  },
  {
   "cell_type": "markdown",
   "metadata": {},
   "source": [
    "---\n",
    "### Print NETCONF reply"
   ]
  },
  {
   "cell_type": "code",
   "execution_count": 90,
   "metadata": {},
   "outputs": [
    {
     "name": "stdout",
     "output_type": "stream",
     "text": [
      "<?xml version=\"1.0\" encoding=\"UTF-8\"?>\n",
      "<rpc-reply xmlns:nxos=\"http://www.cisco.com/nxos:1.0\" xmlns:if=\"http://www.cisco.com/nxos:1.0:if_manager\" xmlns:nfcli=\"http://www.cisco.com/nxos:1.0:nfcli\" xmlns:vlan_mgr_cli=\"http://www.cisco.com/nxos:1.0:vlan_mgr_cli\" xmlns=\"urn:ietf:params:xml:ns:netconf:base:1.0\" message-id=\"urn:uuid:0eea4872-7cc1-47ce-b854-ddabbd6dc263\">\n",
      "    <ok/>\n",
      "</rpc-reply>\n",
      "\n"
     ]
    }
   ],
   "source": [
    "print(response.xml)"
   ]
  },
  {
   "cell_type": "markdown",
   "metadata": {},
   "source": [
    "---\n",
    "### Commit the **candidate** datastore to the **running** datastore"
   ]
  },
  {
   "cell_type": "code",
   "execution_count": 91,
   "metadata": {},
   "outputs": [],
   "source": [
    "with manager.connect(**device) as m:\n",
    "    response = m.commit()"
   ]
  },
  {
   "cell_type": "markdown",
   "metadata": {},
   "source": [
    "---\n",
    "### Print NETCONF reply"
   ]
  },
  {
   "cell_type": "code",
   "execution_count": 92,
   "metadata": {},
   "outputs": [
    {
     "name": "stdout",
     "output_type": "stream",
     "text": [
      "<?xml version=\"1.0\" encoding=\"UTF-8\"?>\n",
      "<rpc-reply xmlns:nxos=\"http://www.cisco.com/nxos:1.0\" xmlns:if=\"http://www.cisco.com/nxos:1.0:if_manager\" xmlns:nfcli=\"http://www.cisco.com/nxos:1.0:nfcli\" xmlns:vlan_mgr_cli=\"http://www.cisco.com/nxos:1.0:vlan_mgr_cli\" xmlns=\"urn:ietf:params:xml:ns:netconf:base:1.0\" message-id=\"urn:uuid:4ae88bf3-991f-47ca-a7d8-8d0157548a1f\">\n",
      "    <ok/>\n",
      "</rpc-reply>\n",
      "\n"
     ]
    }
   ],
   "source": [
    "print(response.xml)"
   ]
  },
  {
   "cell_type": "markdown",
   "metadata": {},
   "source": [
    "---\n",
    "### Post-check Nexus configuration via **vshell**"
   ]
  },
  {
   "cell_type": "markdown",
   "metadata": {},
   "source": [
    "```shell\n",
    "# Verify the post-configuration ACL state\n",
    "show run | section access-list\n",
    "```"
   ]
  },
  {
   "cell_type": "markdown",
   "metadata": {},
   "source": [
    "---\n",
    "---\n",
    "### Setup OpenConfig web server ACL, sequence 20 **edit-config** NETCONF filter"
   ]
  },
  {
   "cell_type": "code",
   "execution_count": null,
   "metadata": {},
   "outputs": [],
   "source": [
    "# Declare YANG Explorer XML payload file name\n",
    "file_name = f'{payload_base_path}{openconfig}1a_oc_create_seq_20_payload.xml'\n",
    "\n",
    "# Access YANG Explorer XML payload file & convert to Python dictionary\n",
    "with open(file_name, 'r') as payload:\n",
    "    raw_config = payload.read()\n",
    "    data = xmltodict.parse(raw_config,\n",
    "                           dict_constructor=dict)\n",
    "\n",
    "# Parse the 'edit-config' key from the dictionary & convert to XML \n",
    "nc_data = data['rpc']['edit-config']\n",
    "\n",
    "# Remove the 'target' item\n",
    "del nc_data['target']\n",
    "config = xmltodict.unparse(nc_data,\n",
    "                           full_document=False,\n",
    "                           pretty=True)"
   ]
  },
  {
   "cell_type": "markdown",
   "metadata": {},
   "source": [
    "---\n",
    "### Print YANG Explorer XML output"
   ]
  },
  {
   "cell_type": "code",
   "execution_count": null,
   "metadata": {},
   "outputs": [],
   "source": [
    "print(raw_config)"
   ]
  },
  {
   "cell_type": "markdown",
   "metadata": {},
   "source": [
    "---\n",
    "### Print ncclient filter"
   ]
  },
  {
   "cell_type": "code",
   "execution_count": null,
   "metadata": {},
   "outputs": [],
   "source": [
    "print(config)"
   ]
  },
  {
   "cell_type": "markdown",
   "metadata": {},
   "source": [
    "---\n",
    "### Pre-check Nexus configuration via **vshell**"
   ]
  },
  {
   "cell_type": "markdown",
   "metadata": {},
   "source": [
    "```shell\n",
    "# Verify the pre-configuration ACL state\n",
    "show run | section access-list\n",
    "```"
   ]
  },
  {
   "cell_type": "markdown",
   "metadata": {},
   "source": [
    "---\n",
    "### Lock the **running** datastore and send the **edit-config** NETCONF request directly to the running configuration"
   ]
  },
  {
   "cell_type": "code",
   "execution_count": null,
   "metadata": {},
   "outputs": [],
   "source": [
    "with manager.connect(**device) as m:\n",
    "    m.lock()\n",
    "    response = m.edit_config(target=\"running\", config=config)\n",
    "    m.unlock()"
   ]
  },
  {
   "cell_type": "markdown",
   "metadata": {},
   "source": [
    "---\n",
    "### Print NETCONF reply"
   ]
  },
  {
   "cell_type": "code",
   "execution_count": null,
   "metadata": {},
   "outputs": [],
   "source": [
    "print(response.xml)"
   ]
  },
  {
   "cell_type": "markdown",
   "metadata": {},
   "source": [
    "---\n",
    "### Post-check Nexus configuration via **vshell**"
   ]
  },
  {
   "cell_type": "markdown",
   "metadata": {},
   "source": [
    "```shell\n",
    "# Verify the post-configuration ACL state\n",
    "show run | section access-list\n",
    "```"
   ]
  },
  {
   "cell_type": "markdown",
   "metadata": {},
   "source": [
    "---\n",
    "---\n",
    "### Setup OpenConfig web server ACL, Ethernet1/2 access group outbound **edit-config** NETCONF filter"
   ]
  },
  {
   "cell_type": "code",
   "execution_count": null,
   "metadata": {},
   "outputs": [],
   "source": [
    "# Declare YANG Explorer XML payload file name\n",
    "file_name = f'{payload_base_path}{openconfig}2_oc_apply_e1_2_access_group_payload.xml'\n",
    "\n",
    "# Access YANG Explorer XML payload file & convert to Python dictionary\n",
    "with open(file_name, 'r') as payload:\n",
    "    raw_config = payload.read()\n",
    "    data = xmltodict.parse(raw_config,\n",
    "                           dict_constructor=dict)\n",
    "\n",
    "# Parse the 'edit-config' key from the dictionary & convert to XML \n",
    "nc_data = data['rpc']['edit-config']\n",
    "\n",
    "# Remove the 'target' item\n",
    "del nc_data['target']\n",
    "config = xmltodict.unparse(nc_data,\n",
    "                           full_document=False,\n",
    "                           pretty=True)"
   ]
  },
  {
   "cell_type": "markdown",
   "metadata": {},
   "source": [
    "---\n",
    "### Print YANG Explorer XML output"
   ]
  },
  {
   "cell_type": "code",
   "execution_count": null,
   "metadata": {},
   "outputs": [],
   "source": [
    "print(raw_config)"
   ]
  },
  {
   "cell_type": "markdown",
   "metadata": {},
   "source": [
    "---\n",
    "### Print ncclient filter"
   ]
  },
  {
   "cell_type": "code",
   "execution_count": null,
   "metadata": {},
   "outputs": [],
   "source": [
    "print(config)"
   ]
  },
  {
   "cell_type": "markdown",
   "metadata": {},
   "source": [
    "---\n",
    "### Pre-check Nexus configuration via **vshell**"
   ]
  },
  {
   "cell_type": "markdown",
   "metadata": {},
   "source": [
    "```shell\n",
    "# Verify the pre-configuration interface state\n",
    "show run interface Ethernet1/2\n",
    "```"
   ]
  },
  {
   "cell_type": "markdown",
   "metadata": {},
   "source": [
    "---\n",
    "### Send the NETCONF request directly to the **running** datastore, without lock"
   ]
  },
  {
   "cell_type": "code",
   "execution_count": null,
   "metadata": {},
   "outputs": [],
   "source": [
    "with manager.connect(**device) as m:\n",
    "    response = m.edit_config(target=\"running\", config=config)"
   ]
  },
  {
   "cell_type": "markdown",
   "metadata": {},
   "source": [
    "---\n",
    "### Print NETCONF reply"
   ]
  },
  {
   "cell_type": "code",
   "execution_count": null,
   "metadata": {},
   "outputs": [],
   "source": [
    "print(response.xml)"
   ]
  },
  {
   "cell_type": "markdown",
   "metadata": {},
   "source": [
    "---\n",
    "### Post-check Nexus configuration via **vshell**"
   ]
  },
  {
   "cell_type": "markdown",
   "metadata": {},
   "source": [
    "```shell\n",
    "# Verify the post-configuration interface state\n",
    "show run interface Ethernet1/2\n",
    "```"
   ]
  },
  {
   "cell_type": "markdown",
   "metadata": {},
   "source": [
    "---\n",
    "### Secondary post-check Nexus configuration via **Terminal**"
   ]
  },
  {
   "cell_type": "markdown",
   "metadata": {},
   "source": [
    "```shell\n",
    "# Verify ICMP & TCP connectivity to the web server (192.168.5.3)\n",
    "ping -c 4 192.168.5.3\n",
    "\n",
    "curl -i http://192.168.5.3\n",
    "```"
   ]
  },
  {
   "cell_type": "markdown",
   "metadata": {},
   "source": [
    "---\n",
    "---\n",
    "### Setup OpenConfig web server ACL **get** NETCONF filter"
   ]
  },
  {
   "cell_type": "code",
   "execution_count": null,
   "metadata": {},
   "outputs": [],
   "source": [
    "# Declare YANG Explorer XML payload file name\n",
    "file_name = f'{payload_base_path}{openconfig}3_oc_acl_get_config_payload.xml'\n",
    "\n",
    "# Access YANG Explorer XML payload file & convert to Python dictionary\n",
    "with open(file_name, 'r') as payload:\n",
    "    raw_filter = payload.read()\n",
    "    data = xmltodict.parse(raw_filter,\n",
    "                           dict_constructor=dict)\n",
    "\n",
    "# Parse the 'get-config' key from the dictionary & convert to XML \n",
    "nc_data = data['rpc']['get-config']\n",
    "\n",
    "# Remove the 'source' item\n",
    "del nc_data['source']\n",
    "filter = xmltodict.unparse(nc_data,\n",
    "                           full_document=False,\n",
    "                           pretty=True)"
   ]
  },
  {
   "cell_type": "markdown",
   "metadata": {},
   "source": [
    "---\n",
    "### Print YANG Explorer XML output"
   ]
  },
  {
   "cell_type": "code",
   "execution_count": null,
   "metadata": {},
   "outputs": [],
   "source": [
    "print(raw_filter)"
   ]
  },
  {
   "cell_type": "markdown",
   "metadata": {},
   "source": [
    "---\n",
    "### Print ncclient filter"
   ]
  },
  {
   "cell_type": "code",
   "execution_count": null,
   "metadata": {},
   "outputs": [],
   "source": [
    "print(filter)"
   ]
  },
  {
   "cell_type": "markdown",
   "metadata": {},
   "source": [
    "---\n",
    "### Send NETCONF **get** request"
   ]
  },
  {
   "cell_type": "code",
   "execution_count": null,
   "metadata": {},
   "outputs": [],
   "source": [
    "with manager.connect(**device) as m:\n",
    "    response = m.get(filter=filter)"
   ]
  },
  {
   "cell_type": "markdown",
   "metadata": {},
   "source": [
    "---\n",
    "### Print NETCONF reply"
   ]
  },
  {
   "cell_type": "code",
   "execution_count": null,
   "metadata": {},
   "outputs": [],
   "source": [
    "print(response.xml)"
   ]
  },
  {
   "cell_type": "markdown",
   "metadata": {},
   "source": [
    "---\n",
    "---\n",
    "### Setup copy of the running **datastore** to the startup **datastore** NETCONF payload"
   ]
  },
  {
   "cell_type": "code",
   "execution_count": 93,
   "metadata": {},
   "outputs": [],
   "source": [
    "# Declare YANG Explorer XML payload file name\n",
    "file_name = f'{payload_base_path}{native}7_copy_run_start_payload.xml'\n",
    "\n",
    "# Access YANG Explorer XML payload file & convert to Python dictionary\n",
    "with open(file_name, 'r') as payload:\n",
    "    raw_payload = payload.read()\n",
    "    data = xmltodict.parse(raw_payload,\n",
    "                           dict_constructor=dict)\n",
    "\n",
    "# Parse the 'rpc' key from the dictionary & convert to XML \n",
    "nc_data = data['rpc']\n",
    "\n",
    "# Remove the '@message-id' and @xmlns items\n",
    "del nc_data['@message-id']\n",
    "del nc_data['@xmlns']\n",
    "payload = xmltodict.unparse(nc_data,\n",
    "                           full_document=False,\n",
    "                           pretty=True)"
   ]
  },
  {
   "cell_type": "markdown",
   "metadata": {},
   "source": [
    "---\n",
    "### Print YANG Explorer XML output"
   ]
  },
  {
   "cell_type": "code",
   "execution_count": 94,
   "metadata": {},
   "outputs": [
    {
     "name": "stdout",
     "output_type": "stream",
     "text": [
      "<rpc message-id=\"101\" xmlns=\"urn:ietf:params:xml:ns:netconf:base:1.0\">\n",
      "  <copy_running_config_src xmlns=\"http://cisco.com/ns/yang/cisco-nx-os-device\">\n",
      "    <startup-config/>\n",
      "  </copy_running_config_src>\n",
      "</rpc>\n"
     ]
    }
   ],
   "source": [
    "print(raw_payload)"
   ]
  },
  {
   "cell_type": "markdown",
   "metadata": {},
   "source": [
    "---\n",
    "### Print ncclient payload"
   ]
  },
  {
   "cell_type": "code",
   "execution_count": 95,
   "metadata": {},
   "outputs": [
    {
     "name": "stdout",
     "output_type": "stream",
     "text": [
      "<copy_running_config_src xmlns=\"http://cisco.com/ns/yang/cisco-nx-os-device\">\n",
      "\t<startup-config></startup-config>\n",
      "</copy_running_config_src>\n"
     ]
    }
   ],
   "source": [
    "print(payload)"
   ]
  },
  {
   "cell_type": "markdown",
   "metadata": {},
   "source": [
    "---\n",
    "### Pre-check Nexus **running** vs **startu**p configuration via **vshell**"
   ]
  },
  {
   "cell_type": "markdown",
   "metadata": {},
   "source": [
    "```shell\n",
    "# Verify the pre-copy interface & ACL state\n",
    "show run interface Ethernet1/2\n",
    "\n",
    "show run | sec access-list\n",
    "```"
   ]
  },
  {
   "cell_type": "markdown",
   "metadata": {},
   "source": [
    "---\n",
    "### Send NETCONF **dispatch** request"
   ]
  },
  {
   "cell_type": "code",
   "execution_count": 96,
   "metadata": {},
   "outputs": [],
   "source": [
    "# Parse the root node from the XML payload\n",
    "from lxml.etree import fromstring\n",
    "save_rpc = fromstring(payload)\n",
    "\n",
    "# Alternate payload format\n",
    "\"\"\"\n",
    "save_rpc = '''\n",
    "<copy xmlns=\"http://cisco.com/ns/yang/cisco-nx-os-device\">\n",
    "    <source>running</source>\n",
    "    <destination>startup</destination>\n",
    "</copy>\n",
    "'''\n",
    "\"\"\"\n",
    "\n",
    "# Send NETCONF request\n",
    "with manager.connect(**device) as m:\n",
    "    response = m.dispatch(save_rpc)"
   ]
  },
  {
   "cell_type": "markdown",
   "metadata": {},
   "source": [
    "---\n",
    "### Print NETCONF reply"
   ]
  },
  {
   "cell_type": "code",
   "execution_count": 97,
   "metadata": {},
   "outputs": [
    {
     "name": "stdout",
     "output_type": "stream",
     "text": [
      "<?xml version=\"1.0\" encoding=\"UTF-8\"?>\n",
      "<rpc-reply xmlns:nxos=\"http://www.cisco.com/nxos:1.0\" xmlns:if=\"http://www.cisco.com/nxos:1.0:if_manager\" xmlns:nfcli=\"http://www.cisco.com/nxos:1.0:nfcli\" xmlns:vlan_mgr_cli=\"http://www.cisco.com/nxos:1.0:vlan_mgr_cli\" xmlns=\"urn:ietf:params:xml:ns:netconf:base:1.0\" message-id=\"urn:uuid:e54cee2a-8783-4dd7-8d1b-88aa1d7fa6dd\">\n",
      "    <ok/>\n",
      "</rpc-reply>\n",
      "\n"
     ]
    }
   ],
   "source": [
    "print(response.xml)"
   ]
  },
  {
   "cell_type": "markdown",
   "metadata": {},
   "source": [
    "---\n",
    "### Post-check Nexus **running** vs **startu**p configuration via **vshell**"
   ]
  },
  {
   "cell_type": "markdown",
   "metadata": {},
   "source": [
    "```shell\n",
    "# Verify the post-copy interface & ACL state\n",
    "show run interface Ethernet1/2\n",
    "\n",
    "show run | sec access-list\n",
    "```"
   ]
  },
  {
   "cell_type": "markdown",
   "metadata": {},
   "source": [
    "---"
   ]
  },
  {
   "cell_type": "code",
   "execution_count": null,
   "metadata": {},
   "outputs": [],
   "source": []
  }
 ],
 "metadata": {
  "kernelspec": {
   "display_name": "Python 3",
   "language": "python",
   "name": "python3"
  },
  "language_info": {
   "codemirror_mode": {
    "name": "ipython",
    "version": 3
   },
   "file_extension": ".py",
   "mimetype": "text/x-python",
   "name": "python",
   "nbconvert_exporter": "python",
   "pygments_lexer": "ipython3",
   "version": "3.9.4"
  }
 },
 "nbformat": 4,
 "nbformat_minor": 4
}
