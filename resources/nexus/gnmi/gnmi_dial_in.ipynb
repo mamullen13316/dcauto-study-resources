{
 "cells": [
  {
   "cell_type": "markdown",
   "id": "a69d6696-286b-4b42-ba8f-8b9892eeb6f6",
   "metadata": {},
   "source": [
    "# Python Script to Consume Model-Driven Telemetry from an Open NX-OS switch\n",
    "\n",
    "---\n",
    "\n",
    "## Overview\n",
    "\n",
    "This notebook walks through the process of subscribing to model-driven telemetry data on a Cisco NX-OS switch and then examining the resulting data.  The companion Python script [gnmi.py](gnmi.py \"gnmi.py\") will demonstrate real-time consumption of model-driven telemetry.\n",
    "\n",
    "---\n"
   ]
  },
  {
   "cell_type": "markdown",
   "id": "38d85a1b-d254-4e32-ac45-f2fa9da61100",
   "metadata": {},
   "source": [
    "## References\n",
    "\n",
    "- [Data Center Telemetry and Network Automation Using gNMI and OpenConfig White Paper](https://www.cisco.com/c/en/us/products/collateral/switches/nexus-9000-series-switches/white-paper-c11-744191.html \"Data Center Telemetry and Network Automation Using gNMI and OpenConfig White Paper\")\n",
    "- [Telemetry in Action: NETCONF and gNMI with a Custom-Built Collector](https://blogs.cisco.com/datacenter/telemetry-in-action-netconf-and-gnmi-with-a-custom-built-collector \"Telemetry in Action: NETCONF and gNMI with a Custom-Built Collector\")\n",
    "- [Git repository reference for `cisco_gnmi` library](https://github.com/cisco-ie/cisco-gnmi-python \"Git repository reference for cisco_gnmi library\")\n",
    "\n",
    "---\n"
   ]
  },
  {
   "cell_type": "markdown",
   "id": "da90d7d8-8cbf-460d-97ee-da401da6dedc",
   "metadata": {},
   "source": [
    "## Walkthrough\n"
   ]
  },
  {
   "cell_type": "code",
   "execution_count": 1,
   "id": "5dd32bbd-1e10-4ced-9db3-569f3fcc7fbb",
   "metadata": {},
   "outputs": [],
   "source": [
    "# Import the 'ClientBuilder' class from the 'cisco_gnmi' library\n",
    "from cisco_gnmi import ClientBuilder"
   ]
  },
  {
   "cell_type": "code",
   "execution_count": 1,
   "id": "65419bb7-9113-40b5-bc3a-7845ea2aadf9",
   "metadata": {},
   "outputs": [],
   "source": [
    "# Import the 'loads' method from the 'json' module, to convert JSON strings to Python objects\n",
    "from json import loads"
   ]
  },
  {
   "cell_type": "code",
   "execution_count": 1,
   "id": "591552de-2d66-4d60-ac02-84c054afa37e",
   "metadata": {},
   "outputs": [],
   "source": [
    "# Import the 'unparse' method from the 'xmltodict' module, to convert Python objects to XML documents\n",
    "from xmltodict import unparse"
   ]
  },
  {
   "cell_type": "code",
   "execution_count": 1,
   "id": "d53eff84-f48c-46d1-9cf1-03d650d9b8b6",
   "metadata": {},
   "outputs": [],
   "source": [
    "# Import the 'pprint (Pretty Print)' method from the 'pprint' module (as 'pp'), to display more readable output for complex objects\n",
    "from pprint import pprint as pp"
   ]
  },
  {
   "cell_type": "code",
   "execution_count": 112,
   "id": "b9c9efe8-da38-4f75-857c-987718b1292c",
   "metadata": {
    "tags": []
   },
   "outputs": [],
   "source": [
    "# Set constants for gNMI connectivity to NX-OS switch\n",
    "GNMI_SWITCH = '10.10.20.58:50051'\n",
    "USER = 'admin'\n",
    "PWD = 'Cisco123'"
   ]
  },
  {
   "cell_type": "code",
   "execution_count": 112,
   "id": "4795ed98-3ff4-4585-a9ce-d3ae3e1b250a",
   "metadata": {
    "tags": []
   },
   "outputs": [],
   "source": [
    "# Set an XPath which reads real-time CPU performance statistics\n",
    "CPU_XPATH = 'components/component[name=\"cpu0\"]/cpu/utilization/state/instant'"
   ]
  },
  {
   "cell_type": "code",
   "execution_count": 113,
   "id": "2ff09027-ae7d-4b3a-9b62-428b1e5c1bf0",
   "metadata": {
    "tags": []
   },
   "outputs": [],
   "source": [
    "# Add values to a new ClientBuilder object, to connect to the NX-OS switch\n",
    "builder = ClientBuilder(GNMI_SWITCH)\n",
    "builder.set_os('NX-OS')\n",
    "builder.set_call_authentication(USER, PWD)"
   ]
  },
  {
   "cell_type": "code",
   "execution_count": 113,
   "id": "bd3bf5e9-4889-4cb4-a2f3-8e38f992eb3d",
   "metadata": {
    "tags": []
   },
   "outputs": [],
   "source": [
    "# Set the ClientBuilder object certificate file and override hostname\n",
    "  # These values will be specific to each individual NX-OS switch\n",
    "builder.set_secure_from_file('./gnmi.pem')\n",
    "builder.set_ssl_target_override('sbx-n9kv')"
   ]
  },
  {
   "cell_type": "code",
   "execution_count": 113,
   "id": "3b5631f9-a8ed-4039-930d-6fc339772cfd",
   "metadata": {
    "tags": []
   },
   "outputs": [],
   "source": [
    "# Construct the ClientBuilder object\n",
    "client = builder.construct()"
   ]
  },
  {
   "cell_type": "code",
   "execution_count": null,
   "id": "5cddd973-c960-43ed-a13d-01a97245219d",
   "metadata": {
    "tags": []
   },
   "outputs": [],
   "source": [
    "# Convert the XPath value to a gNMI path\n",
    "gnmi_xpath = client.parse_xpath_to_gnmi_path(CPU_XPATH)"
   ]
  },
  {
   "cell_type": "code",
   "execution_count": 114,
   "id": "dd3146bf-db20-41ac-9334-6b87b9caa81c",
   "metadata": {
    "tags": []
   },
   "outputs": [
    {
     "data": {
      "text/plain": [
       "['__abstractmethods__',\n",
       " '__cause__',\n",
       " '__class__',\n",
       " '__context__',\n",
       " '__del__',\n",
       " '__delattr__',\n",
       " '__dict__',\n",
       " '__dir__',\n",
       " '__doc__',\n",
       " '__eq__',\n",
       " '__format__',\n",
       " '__ge__',\n",
       " '__getattribute__',\n",
       " '__gt__',\n",
       " '__hash__',\n",
       " '__init__',\n",
       " '__init_subclass__',\n",
       " '__iter__',\n",
       " '__le__',\n",
       " '__lt__',\n",
       " '__module__',\n",
       " '__ne__',\n",
       " '__new__',\n",
       " '__next__',\n",
       " '__reduce__',\n",
       " '__reduce_ex__',\n",
       " '__repr__',\n",
       " '__setattr__',\n",
       " '__setstate__',\n",
       " '__sizeof__',\n",
       " '__str__',\n",
       " '__subclasshook__',\n",
       " '__suppress_context__',\n",
       " '__traceback__',\n",
       " '__weakref__',\n",
       " '_abc_impl',\n",
       " '_call',\n",
       " '_deadline',\n",
       " '_is_complete',\n",
       " '_next',\n",
       " '_repr',\n",
       " '_response_deserializer',\n",
       " '_state',\n",
       " 'add_callback',\n",
       " 'add_done_callback',\n",
       " 'args',\n",
       " 'cancel',\n",
       " 'cancelled',\n",
       " 'code',\n",
       " 'debug_error_string',\n",
       " 'details',\n",
       " 'done',\n",
       " 'exception',\n",
       " 'initial_metadata',\n",
       " 'is_active',\n",
       " 'next',\n",
       " 'result',\n",
       " 'running',\n",
       " 'time_remaining',\n",
       " 'traceback',\n",
       " 'trailing_metadata',\n",
       " 'with_traceback']"
      ]
     },
     "execution_count": 114,
     "metadata": {},
     "output_type": "execute_result"
    }
   ],
   "source": [
    "# Subscribe to the xPath and review the attributes and method of the resulting variable (sub)\n",
    "sub = client.subscribe_xpaths(CPU_XPATH)\n",
    "dir(sub)"
   ]
  },
  {
   "cell_type": "code",
   "execution_count": null,
   "id": "ee5f97f4-a454-4d9a-bd7d-634c614064a3",
   "metadata": {},
   "outputs": [
    {
     "name": "stdout",
     "output_type": "stream",
     "text": [
      "True\n"
     ]
    }
   ],
   "source": [
    "# Display the gNMI subscription status\n",
    "print(sub.is_active())"
   ]
  },
  {
   "cell_type": "code",
   "execution_count": null,
   "id": "3e5e814c-441f-4765-8ca6-751ff3e8ce92",
   "metadata": {},
   "outputs": [
    {
     "name": "stdout",
     "output_type": "stream",
     "text": [
      "True\n"
     ]
    }
   ],
   "source": [
    "# Display the current iteration of the gNMI subscription value (CPU utilization)\n",
    "print(sub.next())"
   ]
  },
  {
   "cell_type": "code",
   "execution_count": null,
   "id": "652146b8-b0c1-43a5-aa7e-b7666800db75",
   "metadata": {},
   "outputs": [
    {
     "name": "stdout",
     "output_type": "stream",
     "text": [
      "True\n"
     ]
    }
   ],
   "source": [
    "# Display the gNMI subscription details\n",
    "print(sub.details())"
   ]
  },
  {
   "cell_type": "code",
   "execution_count": 25,
   "id": "abf0bb63-b542-43ae-9205-c013fb26a56a",
   "metadata": {},
   "outputs": [],
   "source": [
    "# Collect the available OpenConfig XPath data points from the ClientBuilder object (client)\n",
    "xpaths = client.get_xpaths('openconfig-platform:components/component')"
   ]
  },
  {
   "cell_type": "code",
   "execution_count": 29,
   "id": "a72eed93-e11a-44e7-b688-4c2cdc4b312e",
   "metadata": {},
   "outputs": [
    {
     "name": "stdout",
     "output_type": "stream",
     "text": [
      "notification {\n",
      "  timestamp: 1620891529573074921\n",
      "  update {\n",
      "    path {\n",
      "      origin: \"openconfig\"\n",
      "      elem {\n",
      "        name: \"openconfig-platform:components\"\n",
      "      }\n",
      "      elem {\n",
      "        name: \"component\"\n",
      "      }\n",
      "    }\n",
      "    val {\n",
      "      json_val: \"[{\\\"name\\\":\\\"15\\\",\\\"state\\\":{\\\"empty\\\":true,\\\"id\\\":\\\"15\\\",\\\"location\\\":\\\"front\\\",\\\"type\\\":\\\"LINECARD\\\"},\\\"linecard\\\":{\\\"state\\\":{\\\"slot-id\\\":\\\"15\\\"}}},{\\\"name\\\":\\\"3\\\",\\\"state\\\":{\\\"empty\\\":true,\\\"id\\\":\\\"3\\\",\\\"location\\\":\\\"front\\\",\\\"type\\\":\\\"LINECARD\\\"},\\\"linecard\\\":{\\\"state\\\":{\\\"slot-id\\\":\\\"3\\\"}}},{\\\"name\\\":\\\"4\\\",\\\"state\\\":{\\\"empty\\\":true,\\\"id\\\":\\\"4\\\",\\\"location\\\":\\\"front\\\",\\\"type\\\":\\\"LINECARD\\\"},\\\"linecard\\\":{\\\"state\\\":{\\\"slot-id\\\":\\\"4\\\"}}},{\\\"name\\\":\\\"12\\\",\\\"state\\\":{\\\"empty\\\":true,\\\"id\\\":\\\"12\\\",\\\"location\\\":\\\"front\\\",\\\"type\\\":\\\"LINECARD\\\"},\\\"linecard\\\":{\\\"state\\\":{\\\"slot-id\\\":\\\"12\\\"}}},{\\\"name\\\":\\\"11\\\",\\\"state\\\":{\\\"empty\\\":true,\\\"id\\\":\\\"11\\\",\\\"location\\\":\\\"front\\\",\\\"type\\\":\\\"LINECARD\\\"},\\\"linecard\\\":{\\\"state\\\":{\\\"slot-id\\\":\\\"11\\\"}}},{\\\"name\\\":\\\"2\\\",\\\"state\\\":{\\\"empty\\\":true,\\\"id\\\":\\\"2\\\",\\\"location\\\":\\\"front\\\",\\\"type\\\":\\\"LINECARD\\\"},\\\"linecard\\\":{\\\"state\\\":{\\\"slot-id\\\":\\\"2\\\"}}},{\\\"name\\\":\\\"1\\\",\\\"state\\\":{\\\"name\\\":\\\"N9K-X9564v\\\",\\\"memory\\\":{\\\"available\\\":\\\"8129609728\\\",\\\"utilized\\\":\\\"4085252096\\\"},\\\"description\\\":\\\"Nexus 9000v 64 port Ethernet Module\\\",\\\"empty\\\":false,\\\"hardware-version\\\":\\\"0.0\\\",\\\"id\\\":\\\"1\\\",\\\"location\\\":\\\"front\\\",\\\"mfg-date\\\":\\\"2006-12-25\\\",\\\"mfg-name\\\":\\\"Cisco Systems, Inc.\\\",\\\"oper-status\\\":\\\"ACTIVE\\\",\\\"part-no\\\":\\\"73-99064-01\\\",\\\"removable\\\":true,\\\"serial-no\\\":\\\"9OW8JB5XF53\\\",\\\"software-version\\\":\\\"9.3(5)\\\",\\\"type\\\":\\\"LINECARD\\\"},\\\"linecard\\\":{\\\"state\\\":{\\\"power-admin-state\\\":\\\"POWER_ENABLED\\\",\\\"slot-id\\\":\\\"1\\\"}}},{\\\"name\\\":\\\"5\\\",\\\"state\\\":{\\\"empty\\\":true,\\\"id\\\":\\\"5\\\",\\\"location\\\":\\\"front\\\",\\\"type\\\":\\\"LINECARD\\\"},\\\"linecard\\\":{\\\"state\\\":{\\\"slot-id\\\":\\\"5\\\"}}},{\\\"name\\\":\\\"7\\\",\\\"state\\\":{\\\"empty\\\":true,\\\"id\\\":\\\"7\\\",\\\"location\\\":\\\"front\\\",\\\"type\\\":\\\"LINECARD\\\"},\\\"linecard\\\":{\\\"state\\\":{\\\"slot-id\\\":\\\"7\\\"}}},{\\\"name\\\":\\\"16\\\",\\\"state\\\":{\\\"empty\\\":true,\\\"id\\\":\\\"16\\\",\\\"location\\\":\\\"front\\\",\\\"type\\\":\\\"LINECARD\\\"},\\\"linecard\\\":{\\\"state\\\":{\\\"slot-id\\\":\\\"16\\\"}}},{\\\"name\\\":\\\"6\\\",\\\"state\\\":{\\\"empty\\\":true,\\\"id\\\":\\\"6\\\",\\\"location\\\":\\\"front\\\",\\\"type\\\":\\\"LINECARD\\\"},\\\"linecard\\\":{\\\"state\\\":{\\\"slot-id\\\":\\\"6\\\"}}},{\\\"name\\\":\\\"14\\\",\\\"state\\\":{\\\"empty\\\":true,\\\"id\\\":\\\"14\\\",\\\"location\\\":\\\"front\\\",\\\"type\\\":\\\"LINECARD\\\"},\\\"linecard\\\":{\\\"state\\\":{\\\"slot-id\\\":\\\"14\\\"}}},{\\\"name\\\":\\\"8\\\",\\\"state\\\":{\\\"empty\\\":true,\\\"id\\\":\\\"8\\\",\\\"location\\\":\\\"front\\\",\\\"type\\\":\\\"LINECARD\\\"},\\\"linecard\\\":{\\\"state\\\":{\\\"slot-id\\\":\\\"8\\\"}}},{\\\"name\\\":\\\"13\\\",\\\"state\\\":{\\\"empty\\\":true,\\\"id\\\":\\\"13\\\",\\\"location\\\":\\\"front\\\",\\\"type\\\":\\\"LINECARD\\\"},\\\"linecard\\\":{\\\"state\\\":{\\\"slot-id\\\":\\\"13\\\"}}},{\\\"name\\\":\\\"9\\\",\\\"state\\\":{\\\"empty\\\":true,\\\"id\\\":\\\"9\\\",\\\"location\\\":\\\"front\\\",\\\"type\\\":\\\"LINECARD\\\"},\\\"linecard\\\":{\\\"state\\\":{\\\"slot-id\\\":\\\"9\\\"}}},{\\\"name\\\":\\\"10\\\",\\\"state\\\":{\\\"empty\\\":true,\\\"id\\\":\\\"10\\\",\\\"location\\\":\\\"front\\\",\\\"type\\\":\\\"LINECARD\\\"},\\\"linecard\\\":{\\\"state\\\":{\\\"slot-id\\\":\\\"10\\\"}}},{\\\"name\\\":\\\"25\\\",\\\"state\\\":{\\\"empty\\\":true,\\\"id\\\":\\\"25\\\",\\\"location\\\":\\\"rear\\\",\\\"type\\\":\\\"FABRIC\\\"},\\\"linecard\\\":{\\\"state\\\":{\\\"slot-id\\\":\\\"25\\\"}}},{\\\"name\\\":\\\"21\\\",\\\"state\\\":{\\\"empty\\\":true,\\\"id\\\":\\\"21\\\",\\\"location\\\":\\\"rear\\\",\\\"type\\\":\\\"FABRIC\\\"},\\\"linecard\\\":{\\\"state\\\":{\\\"slot-id\\\":\\\"21\\\"}}},{\\\"name\\\":\\\"22\\\",\\\"state\\\":{\\\"empty\\\":true,\\\"id\\\":\\\"22\\\",\\\"location\\\":\\\"rear\\\",\\\"type\\\":\\\"FABRIC\\\"},\\\"linecard\\\":{\\\"state\\\":{\\\"slot-id\\\":\\\"22\\\"}}},{\\\"name\\\":\\\"23\\\",\\\"state\\\":{\\\"empty\\\":true,\\\"id\\\":\\\"23\\\",\\\"location\\\":\\\"rear\\\",\\\"type\\\":\\\"FABRIC\\\"},\\\"linecard\\\":{\\\"state\\\":{\\\"slot-id\\\":\\\"23\\\"}}},{\\\"name\\\":\\\"26\\\",\\\"state\\\":{\\\"empty\\\":true,\\\"id\\\":\\\"26\\\",\\\"location\\\":\\\"rear\\\",\\\"type\\\":\\\"FABRIC\\\"},\\\"linecard\\\":{\\\"state\\\":{\\\"slot-id\\\":\\\"26\\\"}}},{\\\"name\\\":\\\"24\\\",\\\"state\\\":{\\\"empty\\\":true,\\\"id\\\":\\\"24\\\",\\\"location\\\":\\\"rear\\\",\\\"type\\\":\\\"FABRIC\\\"},\\\"linecard\\\":{\\\"state\\\":{\\\"slot-id\\\":\\\"24\\\"}}},{\\\"name\\\":\\\"28\\\",\\\"state\\\":{\\\"empty\\\":true,\\\"id\\\":\\\"28\\\",\\\"location\\\":\\\"front\\\",\\\"type\\\":\\\"CPU\\\"},\\\"linecard\\\":{\\\"state\\\":{\\\"slot-id\\\":\\\"28\\\"}}},{\\\"name\\\":\\\"27\\\",\\\"state\\\":{\\\"name\\\":\\\"N9K-vSUP\\\",\\\"memory\\\":{\\\"available\\\":\\\"8129609728\\\",\\\"utilized\\\":\\\"4085252096\\\"},\\\"description\\\":\\\"Virtual Supervisor Module\\\",\\\"empty\\\":false,\\\"hardware-version\\\":\\\"0.0\\\",\\\"id\\\":\\\"27\\\",\\\"location\\\":\\\"front\\\",\\\"mfg-date\\\":\\\"2006-12-25\\\",\\\"mfg-name\\\":\\\"Cisco Systems, Inc.\\\",\\\"oper-status\\\":\\\"ACTIVE\\\",\\\"part-no\\\":\\\"73-15279-01\\\",\\\"removable\\\":true,\\\"serial-no\\\":\\\"9FJTZNHQ62X\\\",\\\"software-version\\\":\\\"9.3(5)\\\",\\\"type\\\":\\\"CPU\\\"},\\\"linecard\\\":{\\\"state\\\":{\\\"power-admin-state\\\":\\\"POWER_ENABLED\\\",\\\"slot-id\\\":\\\"27\\\"}}},{\\\"name\\\":\\\"30\\\",\\\"state\\\":{\\\"empty\\\":true,\\\"id\\\":\\\"30\\\",\\\"location\\\":\\\"rear\\\",\\\"type\\\":\\\"FRU\\\"},\\\"linecard\\\":{\\\"state\\\":{\\\"slot-id\\\":\\\"30\\\"}}},{\\\"name\\\":\\\"29\\\",\\\"state\\\":{\\\"empty\\\":true,\\\"id\\\":\\\"29\\\",\\\"location\\\":\\\"rear\\\",\\\"type\\\":\\\"FRU\\\"},\\\"linecard\\\":{\\\"state\\\":{\\\"slot-id\\\":\\\"29\\\"}}},{\\\"name\\\":\\\"cpu2\\\",\\\"cpu\\\":{\\\"utilization\\\":{\\\"state\\\":{\\\"avg\\\":6,\\\"instant\\\":2,\\\"max\\\":18,\\\"min\\\":2,\\\"max-time\\\":\\\"1620891503\\\",\\\"min-time\\\":\\\"1620891491\\\"}}}},{\\\"name\\\":\\\"cpu3\\\",\\\"cpu\\\":{\\\"utilization\\\":{\\\"state\\\":{\\\"avg\\\":11,\\\"instant\\\":3,\\\"max\\\":49,\\\"min\\\":1,\\\"max-time\\\":\\\"1620891503\\\",\\\"min-time\\\":\\\"1620891491\\\"}}}},{\\\"name\\\":\\\"ALL\\\",\\\"cpu\\\":{\\\"utilization\\\":{\\\"state\\\":{\\\"avg\\\":7,\\\"instant\\\":2,\\\"max\\\":28,\\\"min\\\":2,\\\"max-time\\\":\\\"1620891503\\\",\\\"min-time\\\":\\\"1620891509\\\"}}}},{\\\"name\\\":\\\"cpu1\\\",\\\"cpu\\\":{\\\"utilization\\\":{\\\"state\\\":{\\\"avg\\\":5,\\\"instant\\\":0,\\\"max\\\":20,\\\"min\\\":0,\\\"max-time\\\":\\\"1620891503\\\",\\\"min-time\\\":\\\"1620891509\\\"}}}},{\\\"name\\\":\\\"cpu0\\\",\\\"cpu\\\":{\\\"utilization\\\":{\\\"state\\\":{\\\"avg\\\":6,\\\"instant\\\":2,\\\"max\\\":22,\\\"min\\\":2,\\\"max-time\\\":\\\"1620891503\\\",\\\"min-time\\\":\\\"1620891485\\\"}}}},{\\\"name\\\":\\\"eth1/14\\\",\\\"transceiver\\\":{\\\"state\\\":{\\\"date-code\\\":\\\"0000-00-00T00:00:00Z+00:00\\\",\\\"form-factor\\\":\\\"OTHER\\\",\\\"present\\\":\\\"NOT_PRESENT\\\",\\\"serial-no\\\":\\\"\\\",\\\"vendor\\\":\\\"\\\",\\\"vendor-part\\\":\\\"\\\",\\\"vendor-rev\\\":\\\"\\\"}}},{\\\"name\\\":\\\"eth1/9\\\",\\\"transceiver\\\":{\\\"state\\\":{\\\"date-code\\\":\\\"0000-00-00T00:00:00Z+00:00\\\",\\\"form-factor\\\":\\\"OTHER\\\",\\\"present\\\":\\\"NOT_PRESENT\\\",\\\"serial-no\\\":\\\"\\\",\\\"vendor\\\":\\\"\\\",\\\"vendor-part\\\":\\\"\\\",\\\"vendor-rev\\\":\\\"\\\"}}},{\\\"name\\\":\\\"eth1/47\\\",\\\"transceiver\\\":{\\\"state\\\":{\\\"date-code\\\":\\\"0000-00-00T00:00:00Z+00:00\\\",\\\"form-factor\\\":\\\"OTHER\\\",\\\"present\\\":\\\"NOT_PRESENT\\\",\\\"serial-no\\\":\\\"\\\",\\\"vendor\\\":\\\"\\\",\\\"vendor-part\\\":\\\"\\\",\\\"vendor-rev\\\":\\\"\\\"}}},{\\\"name\\\":\\\"eth1/29\\\",\\\"transceiver\\\":{\\\"state\\\":{\\\"date-code\\\":\\\"0000-00-00T00:00:00Z+00:00\\\",\\\"form-factor\\\":\\\"OTHER\\\",\\\"present\\\":\\\"NOT_PRESENT\\\",\\\"serial-no\\\":\\\"\\\",\\\"vendor\\\":\\\"\\\",\\\"vendor-part\\\":\\\"\\\",\\\"vendor-rev\\\":\\\"\\\"}}},{\\\"name\\\":\\\"eth1/13\\\",\\\"transceiver\\\":{\\\"state\\\":{\\\"date-code\\\":\\\"0000-00-00T00:00:00Z+00:00\\\",\\\"form-factor\\\":\\\"OTHER\\\",\\\"present\\\":\\\"NOT_PRESENT\\\",\\\"serial-no\\\":\\\"\\\",\\\"vendor\\\":\\\"\\\",\\\"vendor-part\\\":\\\"\\\",\\\"vendor-rev\\\":\\\"\\\"}}},{\\\"name\\\":\\\"eth1/12\\\",\\\"transceiver\\\":{\\\"state\\\":{\\\"date-code\\\":\\\"0000-00-00T00:00:00Z+00:00\\\",\\\"form-factor\\\":\\\"OTHER\\\",\\\"present\\\":\\\"NOT_PRESENT\\\",\\\"serial-no\\\":\\\"\\\",\\\"vendor\\\":\\\"\\\",\\\"vendor-part\\\":\\\"\\\",\\\"vendor-rev\\\":\\\"\\\"}}},{\\\"name\\\":\\\"eth1/40\\\",\\\"transceiver\\\":{\\\"state\\\":{\\\"date-code\\\":\\\"0000-00-00T00:00:00Z+00:00\\\",\\\"form-factor\\\":\\\"OTHER\\\",\\\"present\\\":\\\"NOT_PRESENT\\\",\\\"serial-no\\\":\\\"\\\",\\\"vendor\\\":\\\"\\\",\\\"vendor-part\\\":\\\"\\\",\\\"vendor-rev\\\":\\\"\\\"}}},{\\\"name\\\":\\\"eth1/18\\\",\\\"transceiver\\\":{\\\"state\\\":{\\\"date-code\\\":\\\"0000-00-00T00:00:00Z+00:00\\\",\\\"form-factor\\\":\\\"OTHER\\\",\\\"present\\\":\\\"NOT_PRESENT\\\",\\\"serial-no\\\":\\\"\\\",\\\"vendor\\\":\\\"\\\",\\\"vendor-part\\\":\\\"\\\",\\\"vendor-rev\\\":\\\"\\\"}}},{\\\"name\\\":\\\"eth1/11\\\",\\\"transceiver\\\":{\\\"state\\\":{\\\"date-code\\\":\\\"0000-00-00T00:00:00Z+00:00\\\",\\\"form-factor\\\":\\\"OTHER\\\",\\\"present\\\":\\\"NOT_PRESENT\\\",\\\"serial-no\\\":\\\"\\\",\\\"vendor\\\":\\\"\\\",\\\"vendor-part\\\":\\\"\\\",\\\"vendor-rev\\\":\\\"\\\"}}},{\\\"name\\\":\\\"eth1/10\\\",\\\"transceiver\\\":{\\\"state\\\":{\\\"date-code\\\":\\\"0000-00-00T00:00:00Z+00:00\\\",\\\"form-factor\\\":\\\"OTHER\\\",\\\"present\\\":\\\"NOT_PRESENT\\\",\\\"serial-no\\\":\\\"\\\",\\\"vendor\\\":\\\"\\\",\\\"vendor-part\\\":\\\"\\\",\\\"vendor-rev\\\":\\\"\\\"}}},{\\\"name\\\":\\\"eth1/7\\\",\\\"transceiver\\\":{\\\"state\\\":{\\\"date-code\\\":\\\"0000-00-00T00:00:00Z+00:00\\\",\\\"form-factor\\\":\\\"OTHER\\\",\\\"present\\\":\\\"NOT_PRESENT\\\",\\\"serial-no\\\":\\\"\\\",\\\"vendor\\\":\\\"\\\",\\\"vendor-part\\\":\\\"\\\",\\\"vendor-rev\\\":\\\"\\\"}}},{\\\"name\\\":\\\"eth1/4\\\",\\\"transceiver\\\":{\\\"state\\\":{\\\"date-code\\\":\\\"0000-00-00T00:00:00Z+00:00\\\",\\\"form-factor\\\":\\\"OTHER\\\",\\\"present\\\":\\\"NOT_PRESENT\\\",\\\"serial-no\\\":\\\"\\\",\\\"vendor\\\":\\\"\\\",\\\"vendor-part\\\":\\\"\\\",\\\"vendor-rev\\\":\\\"\\\"}}},{\\\"name\\\":\\\"eth1/2\\\",\\\"transceiver\\\":{\\\"state\\\":{\\\"date-code\\\":\\\"0000-00-00T00:00:00Z+00:00\\\",\\\"form-factor\\\":\\\"OTHER\\\",\\\"present\\\":\\\"NOT_PRESENT\\\",\\\"serial-no\\\":\\\"\\\",\\\"vendor\\\":\\\"\\\",\\\"vendor-part\\\":\\\"\\\",\\\"vendor-rev\\\":\\\"\\\"}}},{\\\"name\\\":\\\"eth1/45\\\",\\\"transceiver\\\":{\\\"state\\\":{\\\"date-code\\\":\\\"0000-00-00T00:00:00Z+00:00\\\",\\\"form-factor\\\":\\\"OTHER\\\",\\\"present\\\":\\\"NOT_PRESENT\\\",\\\"serial-no\\\":\\\"\\\",\\\"vendor\\\":\\\"\\\",\\\"vendor-part\\\":\\\"\\\",\\\"vendor-rev\\\":\\\"\\\"}}},{\\\"name\\\":\\\"eth1/63\\\",\\\"transceiver\\\":{\\\"state\\\":{\\\"date-code\\\":\\\"0000-00-00T00:00:00Z+00:00\\\",\\\"form-factor\\\":\\\"OTHER\\\",\\\"present\\\":\\\"NOT_PRESENT\\\",\\\"serial-no\\\":\\\"\\\",\\\"vendor\\\":\\\"\\\",\\\"vendor-part\\\":\\\"\\\",\\\"vendor-rev\\\":\\\"\\\"}}},{\\\"name\\\":\\\"eth1/60\\\",\\\"transceiver\\\":{\\\"state\\\":{\\\"date-code\\\":\\\"0000-00-00T00:00:00Z+00:00\\\",\\\"form-factor\\\":\\\"OTHER\\\",\\\"present\\\":\\\"NOT_PRESENT\\\",\\\"serial-no\\\":\\\"\\\",\\\"vendor\\\":\\\"\\\",\\\"vendor-part\\\":\\\"\\\",\\\"vendor-rev\\\":\\\"\\\"}}},{\\\"name\\\":\\\"eth1/62\\\",\\\"transceiver\\\":{\\\"state\\\":{\\\"date-code\\\":\\\"0000-00-00T00:00:00Z+00:00\\\",\\\"form-factor\\\":\\\"OTHER\\\",\\\"present\\\":\\\"NOT_PRESENT\\\",\\\"serial-no\\\":\\\"\\\",\\\"vendor\\\":\\\"\\\",\\\"vendor-part\\\":\\\"\\\",\\\"vendor-rev\\\":\\\"\\\"}}},{\\\"name\\\":\\\"eth1/58\\\",\\\"transceiver\\\":{\\\"state\\\":{\\\"date-code\\\":\\\"0000-00-00T00:00:00Z+00:00\\\",\\\"form-factor\\\":\\\"OTHER\\\",\\\"present\\\":\\\"NOT_PRESENT\\\",\\\"serial-no\\\":\\\"\\\",\\\"vendor\\\":\\\"\\\",\\\"vendor-part\\\":\\\"\\\",\\\"vendor-rev\\\":\\\"\\\"}}},{\\\"name\\\":\\\"eth1/56\\\",\\\"transceiver\\\":{\\\"state\\\":{\\\"date-code\\\":\\\"0000-00-00T00:00:00Z+00:00\\\",\\\"form-factor\\\":\\\"OTHER\\\",\\\"present\\\":\\\"NOT_PRESENT\\\",\\\"serial-no\\\":\\\"\\\",\\\"vendor\\\":\\\"\\\",\\\"vendor-part\\\":\\\"\\\",\\\"vendor-rev\\\":\\\"\\\"}}},{\\\"name\\\":\\\"eth1/50\\\",\\\"transceiver\\\":{\\\"state\\\":{\\\"date-code\\\":\\\"0000-00-00T00:00:00Z+00:00\\\",\\\"form-factor\\\":\\\"OTHER\\\",\\\"present\\\":\\\"NOT_PRESENT\\\",\\\"serial-no\\\":\\\"\\\",\\\"vendor\\\":\\\"\\\",\\\"vendor-part\\\":\\\"\\\",\\\"vendor-rev\\\":\\\"\\\"}}},{\\\"name\\\":\\\"eth1/48\\\",\\\"transceiver\\\":{\\\"state\\\":{\\\"date-code\\\":\\\"0000-00-00T00:00:00Z+00:00\\\",\\\"form-factor\\\":\\\"OTHER\\\",\\\"present\\\":\\\"NOT_PRESENT\\\",\\\"serial-no\\\":\\\"\\\",\\\"vendor\\\":\\\"\\\",\\\"vendor-part\\\":\\\"\\\",\\\"vendor-rev\\\":\\\"\\\"}}},{\\\"name\\\":\\\"eth1/51\\\",\\\"transceiver\\\":{\\\"state\\\":{\\\"date-code\\\":\\\"0000-00-00T00:00:00Z+00:00\\\",\\\"form-factor\\\":\\\"OTHER\\\",\\\"present\\\":\\\"NOT_PRESENT\\\",\\\"serial-no\\\":\\\"\\\",\\\"vendor\\\":\\\"\\\",\\\"vendor-part\\\":\\\"\\\",\\\"vendor-rev\\\":\\\"\\\"}}},{\\\"name\\\":\\\"eth1/15\\\",\\\"transceiver\\\":{\\\"state\\\":{\\\"date-code\\\":\\\"0000-00-00T00:00:00Z+00:00\\\",\\\"form-factor\\\":\\\"OTHER\\\",\\\"present\\\":\\\"NOT_PRESENT\\\",\\\"serial-no\\\":\\\"\\\",\\\"vendor\\\":\\\"\\\",\\\"vendor-part\\\":\\\"\\\",\\\"vendor-rev\\\":\\\"\\\"}}},{\\\"name\\\":\\\"eth1/49\\\",\\\"transceiver\\\":{\\\"state\\\":{\\\"date-code\\\":\\\"0000-00-00T00:00:00Z+00:00\\\",\\\"form-factor\\\":\\\"OTHER\\\",\\\"present\\\":\\\"NOT_PRESENT\\\",\\\"serial-no\\\":\\\"\\\",\\\"vendor\\\":\\\"\\\",\\\"vendor-part\\\":\\\"\\\",\\\"vendor-rev\\\":\\\"\\\"}}},{\\\"name\\\":\\\"eth1/59\\\",\\\"transceiver\\\":{\\\"state\\\":{\\\"date-code\\\":\\\"0000-00-00T00:00:00Z+00:00\\\",\\\"form-factor\\\":\\\"OTHER\\\",\\\"present\\\":\\\"NOT_PRESENT\\\",\\\"serial-no\\\":\\\"\\\",\\\"vendor\\\":\\\"\\\",\\\"vendor-part\\\":\\\"\\\",\\\"vendor-rev\\\":\\\"\\\"}}},{\\\"name\\\":\\\"eth1/17\\\",\\\"transceiver\\\":{\\\"state\\\":{\\\"date-code\\\":\\\"0000-00-00T00:00:00Z+00:00\\\",\\\"form-factor\\\":\\\"OTHER\\\",\\\"present\\\":\\\"NOT_PRESENT\\\",\\\"serial-no\\\":\\\"\\\",\\\"vendor\\\":\\\"\\\",\\\"vendor-part\\\":\\\"\\\",\\\"vendor-rev\\\":\\\"\\\"}}},{\\\"name\\\":\\\"eth1/36\\\",\\\"transceiver\\\":{\\\"state\\\":{\\\"date-code\\\":\\\"0000-00-00T00:00:00Z+00:00\\\",\\\"form-factor\\\":\\\"OTHER\\\",\\\"present\\\":\\\"NOT_PRESENT\\\",\\\"serial-no\\\":\\\"\\\",\\\"vendor\\\":\\\"\\\",\\\"vendor-part\\\":\\\"\\\",\\\"vendor-rev\\\":\\\"\\\"}}},{\\\"name\\\":\\\"eth1/26\\\",\\\"transceiver\\\":{\\\"state\\\":{\\\"date-code\\\":\\\"0000-00-00T00:00:00Z+00:00\\\",\\\"form-factor\\\":\\\"OTHER\\\",\\\"present\\\":\\\"NOT_PRESENT\\\",\\\"serial-no\\\":\\\"\\\",\\\"vendor\\\":\\\"\\\",\\\"vendor-part\\\":\\\"\\\",\\\"vendor-rev\\\":\\\"\\\"}}},{\\\"name\\\":\\\"eth1/16\\\",\\\"transceiver\\\":{\\\"state\\\":{\\\"date-code\\\":\\\"0000-00-00T00:00:00Z+00:00\\\",\\\"form-factor\\\":\\\"OTHER\\\",\\\"present\\\":\\\"NOT_PRESENT\\\",\\\"serial-no\\\":\\\"\\\",\\\"vendor\\\":\\\"\\\",\\\"vendor-part\\\":\\\"\\\",\\\"vendor-rev\\\":\\\"\\\"}}},{\\\"name\\\":\\\"eth1/31\\\",\\\"transceiver\\\":{\\\"state\\\":{\\\"date-code\\\":\\\"0000-00-00T00:00:00Z+00:00\\\",\\\"form-factor\\\":\\\"OTHER\\\",\\\"present\\\":\\\"NOT_PRESENT\\\",\\\"serial-no\\\":\\\"\\\",\\\"vendor\\\":\\\"\\\",\\\"vendor-part\\\":\\\"\\\",\\\"vendor-rev\\\":\\\"\\\"}}},{\\\"name\\\":\\\"eth1/22\\\",\\\"transceiver\\\":{\\\"state\\\":{\\\"date-code\\\":\\\"0000-00-00T00:00:00Z+00:00\\\",\\\"form-factor\\\":\\\"OTHER\\\",\\\"present\\\":\\\"NOT_PRESENT\\\",\\\"serial-no\\\":\\\"\\\",\\\"vendor\\\":\\\"\\\",\\\"vendor-part\\\":\\\"\\\",\\\"vendor-rev\\\":\\\"\\\"}}},{\\\"name\\\":\\\"eth1/28\\\",\\\"transceiver\\\":{\\\"state\\\":{\\\"date-code\\\":\\\"0000-00-00T00:00:00Z+00:00\\\",\\\"form-factor\\\":\\\"OTHER\\\",\\\"present\\\":\\\"NOT_PRESENT\\\",\\\"serial-no\\\":\\\"\\\",\\\"vendor\\\":\\\"\\\",\\\"vendor-part\\\":\\\"\\\",\\\"vendor-rev\\\":\\\"\\\"}}},{\\\"name\\\":\\\"eth1/8\\\",\\\"transceiver\\\":{\\\"state\\\":{\\\"date-code\\\":\\\"0000-00-00T00:00:00Z+00:00\\\",\\\"form-factor\\\":\\\"OTHER\\\",\\\"present\\\":\\\"NOT_PRESENT\\\",\\\"serial-no\\\":\\\"\\\",\\\"vendor\\\":\\\"\\\",\\\"vendor-part\\\":\\\"\\\",\\\"vendor-rev\\\":\\\"\\\"}}},{\\\"name\\\":\\\"eth1/25\\\",\\\"transceiver\\\":{\\\"state\\\":{\\\"date-code\\\":\\\"0000-00-00T00:00:00Z+00:00\\\",\\\"form-factor\\\":\\\"OTHER\\\",\\\"present\\\":\\\"NOT_PRESENT\\\",\\\"serial-no\\\":\\\"\\\",\\\"vendor\\\":\\\"\\\",\\\"vendor-part\\\":\\\"\\\",\\\"vendor-rev\\\":\\\"\\\"}}},{\\\"name\\\":\\\"eth1/42\\\",\\\"transceiver\\\":{\\\"state\\\":{\\\"date-code\\\":\\\"0000-00-00T00:00:00Z+00:00\\\",\\\"form-factor\\\":\\\"OTHER\\\",\\\"present\\\":\\\"NOT_PRESENT\\\",\\\"serial-no\\\":\\\"\\\",\\\"vendor\\\":\\\"\\\",\\\"vendor-part\\\":\\\"\\\",\\\"vendor-rev\\\":\\\"\\\"}}},{\\\"name\\\":\\\"eth1/23\\\",\\\"transceiver\\\":{\\\"state\\\":{\\\"date-code\\\":\\\"0000-00-00T00:00:00Z+00:00\\\",\\\"form-factor\\\":\\\"OTHER\\\",\\\"present\\\":\\\"NOT_PRESENT\\\",\\\"serial-no\\\":\\\"\\\",\\\"vendor\\\":\\\"\\\",\\\"vendor-part\\\":\\\"\\\",\\\"vendor-rev\\\":\\\"\\\"}}},{\\\"name\\\":\\\"eth1/30\\\",\\\"transceiver\\\":{\\\"state\\\":{\\\"date-code\\\":\\\"0000-00-00T00:00:00Z+00:00\\\",\\\"form-factor\\\":\\\"OTHER\\\",\\\"present\\\":\\\"NOT_PRESENT\\\",\\\"serial-no\\\":\\\"\\\",\\\"vendor\\\":\\\"\\\",\\\"vendor-part\\\":\\\"\\\",\\\"vendor-rev\\\":\\\"\\\"}}},{\\\"name\\\":\\\"eth1/32\\\",\\\"transceiver\\\":{\\\"state\\\":{\\\"date-code\\\":\\\"0000-00-00T00:00:00Z+00:00\\\",\\\"form-factor\\\":\\\"OTHER\\\",\\\"present\\\":\\\"NOT_PRESENT\\\",\\\"serial-no\\\":\\\"\\\",\\\"vendor\\\":\\\"\\\",\\\"vendor-part\\\":\\\"\\\",\\\"vendor-rev\\\":\\\"\\\"}}},{\\\"name\\\":\\\"eth1/5\\\",\\\"transceiver\\\":{\\\"state\\\":{\\\"date-code\\\":\\\"0000-00-00T00:00:00Z+00:00\\\",\\\"form-factor\\\":\\\"OTHER\\\",\\\"present\\\":\\\"NOT_PRESENT\\\",\\\"serial-no\\\":\\\"\\\",\\\"vendor\\\":\\\"\\\",\\\"vendor-part\\\":\\\"\\\",\\\"vendor-rev\\\":\\\"\\\"}}},{\\\"name\\\":\\\"eth1/34\\\",\\\"transceiver\\\":{\\\"state\\\":{\\\"date-code\\\":\\\"0000-00-00T00:00:00Z+00:00\\\",\\\"form-factor\\\":\\\"OTHER\\\",\\\"present\\\":\\\"NOT_PRESENT\\\",\\\"serial-no\\\":\\\"\\\",\\\"vendor\\\":\\\"\\\",\\\"vendor-part\\\":\\\"\\\",\\\"vendor-rev\\\":\\\"\\\"}}},{\\\"name\\\":\\\"eth1/61\\\",\\\"transceiver\\\":{\\\"state\\\":{\\\"date-code\\\":\\\"0000-00-00T00:00:00Z+00:00\\\",\\\"form-factor\\\":\\\"OTHER\\\",\\\"present\\\":\\\"NOT_PRESENT\\\",\\\"serial-no\\\":\\\"\\\",\\\"vendor\\\":\\\"\\\",\\\"vendor-part\\\":\\\"\\\",\\\"vendor-rev\\\":\\\"\\\"}}},{\\\"name\\\":\\\"eth1/52\\\",\\\"transceiver\\\":{\\\"state\\\":{\\\"date-code\\\":\\\"0000-00-00T00:00:00Z+00:00\\\",\\\"form-factor\\\":\\\"OTHER\\\",\\\"present\\\":\\\"NOT_PRESENT\\\",\\\"serial-no\\\":\\\"\\\",\\\"vendor\\\":\\\"\\\",\\\"vendor-part\\\":\\\"\\\",\\\"vendor-rev\\\":\\\"\\\"}}},{\\\"name\\\":\\\"eth1/54\\\",\\\"transceiver\\\":{\\\"state\\\":{\\\"date-code\\\":\\\"0000-00-00T00:00:00Z+00:00\\\",\\\"form-factor\\\":\\\"OTHER\\\",\\\"present\\\":\\\"NOT_PRESENT\\\",\\\"serial-no\\\":\\\"\\\",\\\"vendor\\\":\\\"\\\",\\\"vendor-part\\\":\\\"\\\",\\\"vendor-rev\\\":\\\"\\\"}}},{\\\"name\\\":\\\"eth1/21\\\",\\\"transceiver\\\":{\\\"state\\\":{\\\"date-code\\\":\\\"0000-00-00T00:00:00Z+00:00\\\",\\\"form-factor\\\":\\\"OTHER\\\",\\\"present\\\":\\\"NOT_PRESENT\\\",\\\"serial-no\\\":\\\"\\\",\\\"vendor\\\":\\\"\\\",\\\"vendor-part\\\":\\\"\\\",\\\"vendor-rev\\\":\\\"\\\"}}},{\\\"name\\\":\\\"eth1/37\\\",\\\"transceiver\\\":{\\\"state\\\":{\\\"date-code\\\":\\\"0000-00-00T00:00:00Z+00:00\\\",\\\"form-factor\\\":\\\"OTHER\\\",\\\"present\\\":\\\"NOT_PRESENT\\\",\\\"serial-no\\\":\\\"\\\",\\\"vendor\\\":\\\"\\\",\\\"vendor-part\\\":\\\"\\\",\\\"vendor-rev\\\":\\\"\\\"}}},{\\\"name\\\":\\\"eth1/35\\\",\\\"transceiver\\\":{\\\"state\\\":{\\\"date-code\\\":\\\"0000-00-00T00:00:00Z+00:00\\\",\\\"form-factor\\\":\\\"OTHER\\\",\\\"present\\\":\\\"NOT_PRESENT\\\",\\\"serial-no\\\":\\\"\\\",\\\"vendor\\\":\\\"\\\",\\\"vendor-part\\\":\\\"\\\",\\\"vendor-rev\\\":\\\"\\\"}}},{\\\"name\\\":\\\"eth1/64\\\",\\\"transceiver\\\":{\\\"state\\\":{\\\"date-code\\\":\\\"0000-00-00T00:00:00Z+00:00\\\",\\\"form-factor\\\":\\\"OTHER\\\",\\\"present\\\":\\\"NOT_PRESENT\\\",\\\"serial-no\\\":\\\"\\\",\\\"vendor\\\":\\\"\\\",\\\"vendor-part\\\":\\\"\\\",\\\"vendor-rev\\\":\\\"\\\"}}},{\\\"name\\\":\\\"eth1/53\\\",\\\"transceiver\\\":{\\\"state\\\":{\\\"date-code\\\":\\\"0000-00-00T00:00:00Z+00:00\\\",\\\"form-factor\\\":\\\"OTHER\\\",\\\"present\\\":\\\"NOT_PRESENT\\\",\\\"serial-no\\\":\\\"\\\",\\\"vendor\\\":\\\"\\\",\\\"vendor-part\\\":\\\"\\\",\\\"vendor-rev\\\":\\\"\\\"}}},{\\\"name\\\":\\\"eth1/38\\\",\\\"transceiver\\\":{\\\"state\\\":{\\\"date-code\\\":\\\"0000-00-00T00:00:00Z+00:00\\\",\\\"form-factor\\\":\\\"OTHER\\\",\\\"present\\\":\\\"NOT_PRESENT\\\",\\\"serial-no\\\":\\\"\\\",\\\"vendor\\\":\\\"\\\",\\\"vendor-part\\\":\\\"\\\",\\\"vendor-rev\\\":\\\"\\\"}}},{\\\"name\\\":\\\"eth1/19\\\",\\\"transceiver\\\":{\\\"state\\\":{\\\"date-code\\\":\\\"0000-00-00T00:00:00Z+00:00\\\",\\\"form-factor\\\":\\\"OTHER\\\",\\\"present\\\":\\\"NOT_PRESENT\\\",\\\"serial-no\\\":\\\"\\\",\\\"vendor\\\":\\\"\\\",\\\"vendor-part\\\":\\\"\\\",\\\"vendor-rev\\\":\\\"\\\"}}},{\\\"name\\\":\\\"eth1/3\\\",\\\"transceiver\\\":{\\\"state\\\":{\\\"date-code\\\":\\\"0000-00-00T00:00:00Z+00:00\\\",\\\"form-factor\\\":\\\"OTHER\\\",\\\"present\\\":\\\"NOT_PRESENT\\\",\\\"serial-no\\\":\\\"\\\",\\\"vendor\\\":\\\"\\\",\\\"vendor-part\\\":\\\"\\\",\\\"vendor-rev\\\":\\\"\\\"}}},{\\\"name\\\":\\\"eth1/27\\\",\\\"transceiver\\\":{\\\"state\\\":{\\\"date-code\\\":\\\"0000-00-00T00:00:00Z+00:00\\\",\\\"form-factor\\\":\\\"OTHER\\\",\\\"present\\\":\\\"NOT_PRESENT\\\",\\\"serial-no\\\":\\\"\\\",\\\"vendor\\\":\\\"\\\",\\\"vendor-part\\\":\\\"\\\",\\\"vendor-rev\\\":\\\"\\\"}}},{\\\"name\\\":\\\"eth1/46\\\",\\\"transceiver\\\":{\\\"state\\\":{\\\"date-code\\\":\\\"0000-00-00T00:00:00Z+00:00\\\",\\\"form-factor\\\":\\\"OTHER\\\",\\\"present\\\":\\\"NOT_PRESENT\\\",\\\"serial-no\\\":\\\"\\\",\\\"vendor\\\":\\\"\\\",\\\"vendor-part\\\":\\\"\\\",\\\"vendor-rev\\\":\\\"\\\"}}},{\\\"name\\\":\\\"eth1/43\\\",\\\"transceiver\\\":{\\\"state\\\":{\\\"date-code\\\":\\\"0000-00-00T00:00:00Z+00:00\\\",\\\"form-factor\\\":\\\"OTHER\\\",\\\"present\\\":\\\"NOT_PRESENT\\\",\\\"serial-no\\\":\\\"\\\",\\\"vendor\\\":\\\"\\\",\\\"vendor-part\\\":\\\"\\\",\\\"vendor-rev\\\":\\\"\\\"}}},{\\\"name\\\":\\\"eth1/44\\\",\\\"transceiver\\\":{\\\"state\\\":{\\\"date-code\\\":\\\"0000-00-00T00:00:00Z+00:00\\\",\\\"form-factor\\\":\\\"OTHER\\\",\\\"present\\\":\\\"NOT_PRESENT\\\",\\\"serial-no\\\":\\\"\\\",\\\"vendor\\\":\\\"\\\",\\\"vendor-part\\\":\\\"\\\",\\\"vendor-rev\\\":\\\"\\\"}}},{\\\"name\\\":\\\"eth1/39\\\",\\\"transceiver\\\":{\\\"state\\\":{\\\"date-code\\\":\\\"0000-00-00T00:00:00Z+00:00\\\",\\\"form-factor\\\":\\\"OTHER\\\",\\\"present\\\":\\\"NOT_PRESENT\\\",\\\"serial-no\\\":\\\"\\\",\\\"vendor\\\":\\\"\\\",\\\"vendor-part\\\":\\\"\\\",\\\"vendor-rev\\\":\\\"\\\"}}},{\\\"name\\\":\\\"eth1/33\\\",\\\"transceiver\\\":{\\\"state\\\":{\\\"date-code\\\":\\\"0000-00-00T00:00:00Z+00:00\\\",\\\"form-factor\\\":\\\"OTHER\\\",\\\"present\\\":\\\"NOT_PRESENT\\\",\\\"serial-no\\\":\\\"\\\",\\\"vendor\\\":\\\"\\\",\\\"vendor-part\\\":\\\"\\\",\\\"vendor-rev\\\":\\\"\\\"}}},{\\\"name\\\":\\\"eth1/41\\\",\\\"transceiver\\\":{\\\"state\\\":{\\\"date-code\\\":\\\"0000-00-00T00:00:00Z+00:00\\\",\\\"form-factor\\\":\\\"OTHER\\\",\\\"present\\\":\\\"NOT_PRESENT\\\",\\\"serial-no\\\":\\\"\\\",\\\"vendor\\\":\\\"\\\",\\\"vendor-part\\\":\\\"\\\",\\\"vendor-rev\\\":\\\"\\\"}}},{\\\"name\\\":\\\"eth1/1\\\",\\\"transceiver\\\":{\\\"state\\\":{\\\"date-code\\\":\\\"0000-00-00T00:00:00Z+00:00\\\",\\\"form-factor\\\":\\\"OTHER\\\",\\\"present\\\":\\\"NOT_PRESENT\\\",\\\"serial-no\\\":\\\"\\\",\\\"vendor\\\":\\\"\\\",\\\"vendor-part\\\":\\\"\\\",\\\"vendor-rev\\\":\\\"\\\"}}},{\\\"name\\\":\\\"eth1/55\\\",\\\"transceiver\\\":{\\\"state\\\":{\\\"date-code\\\":\\\"0000-00-00T00:00:00Z+00:00\\\",\\\"form-factor\\\":\\\"OTHER\\\",\\\"present\\\":\\\"NOT_PRESENT\\\",\\\"serial-no\\\":\\\"\\\",\\\"vendor\\\":\\\"\\\",\\\"vendor-part\\\":\\\"\\\",\\\"vendor-rev\\\":\\\"\\\"}}},{\\\"name\\\":\\\"eth1/24\\\",\\\"transceiver\\\":{\\\"state\\\":{\\\"date-code\\\":\\\"0000-00-00T00:00:00Z+00:00\\\",\\\"form-factor\\\":\\\"OTHER\\\",\\\"present\\\":\\\"NOT_PRESENT\\\",\\\"serial-no\\\":\\\"\\\",\\\"vendor\\\":\\\"\\\",\\\"vendor-part\\\":\\\"\\\",\\\"vendor-rev\\\":\\\"\\\"}}},{\\\"name\\\":\\\"eth1/6\\\",\\\"transceiver\\\":{\\\"state\\\":{\\\"date-code\\\":\\\"0000-00-00T00:00:00Z+00:00\\\",\\\"form-factor\\\":\\\"OTHER\\\",\\\"present\\\":\\\"NOT_PRESENT\\\",\\\"serial-no\\\":\\\"\\\",\\\"vendor\\\":\\\"\\\",\\\"vendor-part\\\":\\\"\\\",\\\"vendor-rev\\\":\\\"\\\"}}},{\\\"name\\\":\\\"eth1/20\\\",\\\"transceiver\\\":{\\\"state\\\":{\\\"date-code\\\":\\\"0000-00-00T00:00:00Z+00:00\\\",\\\"form-factor\\\":\\\"OTHER\\\",\\\"present\\\":\\\"NOT_PRESENT\\\",\\\"serial-no\\\":\\\"\\\",\\\"vendor\\\":\\\"\\\",\\\"vendor-part\\\":\\\"\\\",\\\"vendor-rev\\\":\\\"\\\"}}},{\\\"name\\\":\\\"eth1/57\\\",\\\"transceiver\\\":{\\\"state\\\":{\\\"date-code\\\":\\\"0000-00-00T00:00:00Z+00:00\\\",\\\"form-factor\\\":\\\"OTHER\\\",\\\"present\\\":\\\"NOT_PRESENT\\\",\\\"serial-no\\\":\\\"\\\",\\\"vendor\\\":\\\"\\\",\\\"vendor-part\\\":\\\"\\\",\\\"vendor-rev\\\":\\\"\\\"}}}]\"\n",
      "    }\n",
      "  }\n",
      "}\n",
      "\n"
     ]
    }
   ],
   "source": [
    "# Pretty Print the available OpenConfig XPaths, from the ClientBuilder object (client)\n",
    "pp(xpaths)"
   ]
  },
  {
   "cell_type": "code",
   "execution_count": 30,
   "id": "dd38fd55-d65e-4547-8f54-853398493112",
   "metadata": {},
   "outputs": [],
   "source": [
    "# Create a JSON array (as a string) of the available data point for the xPath in the gNMI subscription \n",
    "j_xpaths = \"[{\\\"name\\\":\\\"15\\\",\\\"state\\\":{\\\"empty\\\":true,\\\"id\\\":\\\"15\\\",\\\"location\\\":\\\"front\\\",\\\"type\\\":\\\"LINECARD\\\"},\\\"linecard\\\":{\\\"state\\\":{\\\"slot-id\\\":\\\"15\\\"}}},{\\\"name\\\":\\\"3\\\",\\\"state\\\":{\\\"empty\\\":true,\\\"id\\\":\\\"3\\\",\\\"location\\\":\\\"front\\\",\\\"type\\\":\\\"LINECARD\\\"},\\\"linecard\\\":{\\\"state\\\":{\\\"slot-id\\\":\\\"3\\\"}}},{\\\"name\\\":\\\"4\\\",\\\"state\\\":{\\\"empty\\\":true,\\\"id\\\":\\\"4\\\",\\\"location\\\":\\\"front\\\",\\\"type\\\":\\\"LINECARD\\\"},\\\"linecard\\\":{\\\"state\\\":{\\\"slot-id\\\":\\\"4\\\"}}},{\\\"name\\\":\\\"12\\\",\\\"state\\\":{\\\"empty\\\":true,\\\"id\\\":\\\"12\\\",\\\"location\\\":\\\"front\\\",\\\"type\\\":\\\"LINECARD\\\"},\\\"linecard\\\":{\\\"state\\\":{\\\"slot-id\\\":\\\"12\\\"}}},{\\\"name\\\":\\\"11\\\",\\\"state\\\":{\\\"empty\\\":true,\\\"id\\\":\\\"11\\\",\\\"location\\\":\\\"front\\\",\\\"type\\\":\\\"LINECARD\\\"},\\\"linecard\\\":{\\\"state\\\":{\\\"slot-id\\\":\\\"11\\\"}}},{\\\"name\\\":\\\"2\\\",\\\"state\\\":{\\\"empty\\\":true,\\\"id\\\":\\\"2\\\",\\\"location\\\":\\\"front\\\",\\\"type\\\":\\\"LINECARD\\\"},\\\"linecard\\\":{\\\"state\\\":{\\\"slot-id\\\":\\\"2\\\"}}},{\\\"name\\\":\\\"1\\\",\\\"state\\\":{\\\"name\\\":\\\"N9K-X9564v\\\",\\\"memory\\\":{\\\"available\\\":\\\"8129609728\\\",\\\"utilized\\\":\\\"4085252096\\\"},\\\"description\\\":\\\"Nexus 9000v 64 port Ethernet Module\\\",\\\"empty\\\":false,\\\"hardware-version\\\":\\\"0.0\\\",\\\"id\\\":\\\"1\\\",\\\"location\\\":\\\"front\\\",\\\"mfg-date\\\":\\\"2006-12-25\\\",\\\"mfg-name\\\":\\\"Cisco Systems, Inc.\\\",\\\"oper-status\\\":\\\"ACTIVE\\\",\\\"part-no\\\":\\\"73-99064-01\\\",\\\"removable\\\":true,\\\"serial-no\\\":\\\"9OW8JB5XF53\\\",\\\"software-version\\\":\\\"9.3(5)\\\",\\\"type\\\":\\\"LINECARD\\\"},\\\"linecard\\\":{\\\"state\\\":{\\\"power-admin-state\\\":\\\"POWER_ENABLED\\\",\\\"slot-id\\\":\\\"1\\\"}}},{\\\"name\\\":\\\"5\\\",\\\"state\\\":{\\\"empty\\\":true,\\\"id\\\":\\\"5\\\",\\\"location\\\":\\\"front\\\",\\\"type\\\":\\\"LINECARD\\\"},\\\"linecard\\\":{\\\"state\\\":{\\\"slot-id\\\":\\\"5\\\"}}},{\\\"name\\\":\\\"7\\\",\\\"state\\\":{\\\"empty\\\":true,\\\"id\\\":\\\"7\\\",\\\"location\\\":\\\"front\\\",\\\"type\\\":\\\"LINECARD\\\"},\\\"linecard\\\":{\\\"state\\\":{\\\"slot-id\\\":\\\"7\\\"}}},{\\\"name\\\":\\\"16\\\",\\\"state\\\":{\\\"empty\\\":true,\\\"id\\\":\\\"16\\\",\\\"location\\\":\\\"front\\\",\\\"type\\\":\\\"LINECARD\\\"},\\\"linecard\\\":{\\\"state\\\":{\\\"slot-id\\\":\\\"16\\\"}}},{\\\"name\\\":\\\"6\\\",\\\"state\\\":{\\\"empty\\\":true,\\\"id\\\":\\\"6\\\",\\\"location\\\":\\\"front\\\",\\\"type\\\":\\\"LINECARD\\\"},\\\"linecard\\\":{\\\"state\\\":{\\\"slot-id\\\":\\\"6\\\"}}},{\\\"name\\\":\\\"14\\\",\\\"state\\\":{\\\"empty\\\":true,\\\"id\\\":\\\"14\\\",\\\"location\\\":\\\"front\\\",\\\"type\\\":\\\"LINECARD\\\"},\\\"linecard\\\":{\\\"state\\\":{\\\"slot-id\\\":\\\"14\\\"}}},{\\\"name\\\":\\\"8\\\",\\\"state\\\":{\\\"empty\\\":true,\\\"id\\\":\\\"8\\\",\\\"location\\\":\\\"front\\\",\\\"type\\\":\\\"LINECARD\\\"},\\\"linecard\\\":{\\\"state\\\":{\\\"slot-id\\\":\\\"8\\\"}}},{\\\"name\\\":\\\"13\\\",\\\"state\\\":{\\\"empty\\\":true,\\\"id\\\":\\\"13\\\",\\\"location\\\":\\\"front\\\",\\\"type\\\":\\\"LINECARD\\\"},\\\"linecard\\\":{\\\"state\\\":{\\\"slot-id\\\":\\\"13\\\"}}},{\\\"name\\\":\\\"9\\\",\\\"state\\\":{\\\"empty\\\":true,\\\"id\\\":\\\"9\\\",\\\"location\\\":\\\"front\\\",\\\"type\\\":\\\"LINECARD\\\"},\\\"linecard\\\":{\\\"state\\\":{\\\"slot-id\\\":\\\"9\\\"}}},{\\\"name\\\":\\\"10\\\",\\\"state\\\":{\\\"empty\\\":true,\\\"id\\\":\\\"10\\\",\\\"location\\\":\\\"front\\\",\\\"type\\\":\\\"LINECARD\\\"},\\\"linecard\\\":{\\\"state\\\":{\\\"slot-id\\\":\\\"10\\\"}}},{\\\"name\\\":\\\"25\\\",\\\"state\\\":{\\\"empty\\\":true,\\\"id\\\":\\\"25\\\",\\\"location\\\":\\\"rear\\\",\\\"type\\\":\\\"FABRIC\\\"},\\\"linecard\\\":{\\\"state\\\":{\\\"slot-id\\\":\\\"25\\\"}}},{\\\"name\\\":\\\"21\\\",\\\"state\\\":{\\\"empty\\\":true,\\\"id\\\":\\\"21\\\",\\\"location\\\":\\\"rear\\\",\\\"type\\\":\\\"FABRIC\\\"},\\\"linecard\\\":{\\\"state\\\":{\\\"slot-id\\\":\\\"21\\\"}}},{\\\"name\\\":\\\"22\\\",\\\"state\\\":{\\\"empty\\\":true,\\\"id\\\":\\\"22\\\",\\\"location\\\":\\\"rear\\\",\\\"type\\\":\\\"FABRIC\\\"},\\\"linecard\\\":{\\\"state\\\":{\\\"slot-id\\\":\\\"22\\\"}}},{\\\"name\\\":\\\"23\\\",\\\"state\\\":{\\\"empty\\\":true,\\\"id\\\":\\\"23\\\",\\\"location\\\":\\\"rear\\\",\\\"type\\\":\\\"FABRIC\\\"},\\\"linecard\\\":{\\\"state\\\":{\\\"slot-id\\\":\\\"23\\\"}}},{\\\"name\\\":\\\"26\\\",\\\"state\\\":{\\\"empty\\\":true,\\\"id\\\":\\\"26\\\",\\\"location\\\":\\\"rear\\\",\\\"type\\\":\\\"FABRIC\\\"},\\\"linecard\\\":{\\\"state\\\":{\\\"slot-id\\\":\\\"26\\\"}}},{\\\"name\\\":\\\"24\\\",\\\"state\\\":{\\\"empty\\\":true,\\\"id\\\":\\\"24\\\",\\\"location\\\":\\\"rear\\\",\\\"type\\\":\\\"FABRIC\\\"},\\\"linecard\\\":{\\\"state\\\":{\\\"slot-id\\\":\\\"24\\\"}}},{\\\"name\\\":\\\"28\\\",\\\"state\\\":{\\\"empty\\\":true,\\\"id\\\":\\\"28\\\",\\\"location\\\":\\\"front\\\",\\\"type\\\":\\\"CPU\\\"},\\\"linecard\\\":{\\\"state\\\":{\\\"slot-id\\\":\\\"28\\\"}}},{\\\"name\\\":\\\"27\\\",\\\"state\\\":{\\\"name\\\":\\\"N9K-vSUP\\\",\\\"memory\\\":{\\\"available\\\":\\\"8129609728\\\",\\\"utilized\\\":\\\"4085252096\\\"},\\\"description\\\":\\\"Virtual Supervisor Module\\\",\\\"empty\\\":false,\\\"hardware-version\\\":\\\"0.0\\\",\\\"id\\\":\\\"27\\\",\\\"location\\\":\\\"front\\\",\\\"mfg-date\\\":\\\"2006-12-25\\\",\\\"mfg-name\\\":\\\"Cisco Systems, Inc.\\\",\\\"oper-status\\\":\\\"ACTIVE\\\",\\\"part-no\\\":\\\"73-15279-01\\\",\\\"removable\\\":true,\\\"serial-no\\\":\\\"9FJTZNHQ62X\\\",\\\"software-version\\\":\\\"9.3(5)\\\",\\\"type\\\":\\\"CPU\\\"},\\\"linecard\\\":{\\\"state\\\":{\\\"power-admin-state\\\":\\\"POWER_ENABLED\\\",\\\"slot-id\\\":\\\"27\\\"}}},{\\\"name\\\":\\\"30\\\",\\\"state\\\":{\\\"empty\\\":true,\\\"id\\\":\\\"30\\\",\\\"location\\\":\\\"rear\\\",\\\"type\\\":\\\"FRU\\\"},\\\"linecard\\\":{\\\"state\\\":{\\\"slot-id\\\":\\\"30\\\"}}},{\\\"name\\\":\\\"29\\\",\\\"state\\\":{\\\"empty\\\":true,\\\"id\\\":\\\"29\\\",\\\"location\\\":\\\"rear\\\",\\\"type\\\":\\\"FRU\\\"},\\\"linecard\\\":{\\\"state\\\":{\\\"slot-id\\\":\\\"29\\\"}}},{\\\"name\\\":\\\"cpu2\\\",\\\"cpu\\\":{\\\"utilization\\\":{\\\"state\\\":{\\\"avg\\\":6,\\\"instant\\\":2,\\\"max\\\":18,\\\"min\\\":2,\\\"max-time\\\":\\\"1620891503\\\",\\\"min-time\\\":\\\"1620891491\\\"}}}},{\\\"name\\\":\\\"cpu3\\\",\\\"cpu\\\":{\\\"utilization\\\":{\\\"state\\\":{\\\"avg\\\":11,\\\"instant\\\":3,\\\"max\\\":49,\\\"min\\\":1,\\\"max-time\\\":\\\"1620891503\\\",\\\"min-time\\\":\\\"1620891491\\\"}}}},{\\\"name\\\":\\\"ALL\\\",\\\"cpu\\\":{\\\"utilization\\\":{\\\"state\\\":{\\\"avg\\\":7,\\\"instant\\\":2,\\\"max\\\":28,\\\"min\\\":2,\\\"max-time\\\":\\\"1620891503\\\",\\\"min-time\\\":\\\"1620891509\\\"}}}},{\\\"name\\\":\\\"cpu1\\\",\\\"cpu\\\":{\\\"utilization\\\":{\\\"state\\\":{\\\"avg\\\":5,\\\"instant\\\":0,\\\"max\\\":20,\\\"min\\\":0,\\\"max-time\\\":\\\"1620891503\\\",\\\"min-time\\\":\\\"1620891509\\\"}}}},{\\\"name\\\":\\\"cpu0\\\",\\\"cpu\\\":{\\\"utilization\\\":{\\\"state\\\":{\\\"avg\\\":6,\\\"instant\\\":2,\\\"max\\\":22,\\\"min\\\":2,\\\"max-time\\\":\\\"1620891503\\\",\\\"min-time\\\":\\\"1620891485\\\"}}}},{\\\"name\\\":\\\"eth1/14\\\",\\\"transceiver\\\":{\\\"state\\\":{\\\"date-code\\\":\\\"0000-00-00T00:00:00Z+00:00\\\",\\\"form-factor\\\":\\\"OTHER\\\",\\\"present\\\":\\\"NOT_PRESENT\\\",\\\"serial-no\\\":\\\"\\\",\\\"vendor\\\":\\\"\\\",\\\"vendor-part\\\":\\\"\\\",\\\"vendor-rev\\\":\\\"\\\"}}},{\\\"name\\\":\\\"eth1/9\\\",\\\"transceiver\\\":{\\\"state\\\":{\\\"date-code\\\":\\\"0000-00-00T00:00:00Z+00:00\\\",\\\"form-factor\\\":\\\"OTHER\\\",\\\"present\\\":\\\"NOT_PRESENT\\\",\\\"serial-no\\\":\\\"\\\",\\\"vendor\\\":\\\"\\\",\\\"vendor-part\\\":\\\"\\\",\\\"vendor-rev\\\":\\\"\\\"}}},{\\\"name\\\":\\\"eth1/47\\\",\\\"transceiver\\\":{\\\"state\\\":{\\\"date-code\\\":\\\"0000-00-00T00:00:00Z+00:00\\\",\\\"form-factor\\\":\\\"OTHER\\\",\\\"present\\\":\\\"NOT_PRESENT\\\",\\\"serial-no\\\":\\\"\\\",\\\"vendor\\\":\\\"\\\",\\\"vendor-part\\\":\\\"\\\",\\\"vendor-rev\\\":\\\"\\\"}}},{\\\"name\\\":\\\"eth1/29\\\",\\\"transceiver\\\":{\\\"state\\\":{\\\"date-code\\\":\\\"0000-00-00T00:00:00Z+00:00\\\",\\\"form-factor\\\":\\\"OTHER\\\",\\\"present\\\":\\\"NOT_PRESENT\\\",\\\"serial-no\\\":\\\"\\\",\\\"vendor\\\":\\\"\\\",\\\"vendor-part\\\":\\\"\\\",\\\"vendor-rev\\\":\\\"\\\"}}},{\\\"name\\\":\\\"eth1/13\\\",\\\"transceiver\\\":{\\\"state\\\":{\\\"date-code\\\":\\\"0000-00-00T00:00:00Z+00:00\\\",\\\"form-factor\\\":\\\"OTHER\\\",\\\"present\\\":\\\"NOT_PRESENT\\\",\\\"serial-no\\\":\\\"\\\",\\\"vendor\\\":\\\"\\\",\\\"vendor-part\\\":\\\"\\\",\\\"vendor-rev\\\":\\\"\\\"}}},{\\\"name\\\":\\\"eth1/12\\\",\\\"transceiver\\\":{\\\"state\\\":{\\\"date-code\\\":\\\"0000-00-00T00:00:00Z+00:00\\\",\\\"form-factor\\\":\\\"OTHER\\\",\\\"present\\\":\\\"NOT_PRESENT\\\",\\\"serial-no\\\":\\\"\\\",\\\"vendor\\\":\\\"\\\",\\\"vendor-part\\\":\\\"\\\",\\\"vendor-rev\\\":\\\"\\\"}}},{\\\"name\\\":\\\"eth1/40\\\",\\\"transceiver\\\":{\\\"state\\\":{\\\"date-code\\\":\\\"0000-00-00T00:00:00Z+00:00\\\",\\\"form-factor\\\":\\\"OTHER\\\",\\\"present\\\":\\\"NOT_PRESENT\\\",\\\"serial-no\\\":\\\"\\\",\\\"vendor\\\":\\\"\\\",\\\"vendor-part\\\":\\\"\\\",\\\"vendor-rev\\\":\\\"\\\"}}},{\\\"name\\\":\\\"eth1/18\\\",\\\"transceiver\\\":{\\\"state\\\":{\\\"date-code\\\":\\\"0000-00-00T00:00:00Z+00:00\\\",\\\"form-factor\\\":\\\"OTHER\\\",\\\"present\\\":\\\"NOT_PRESENT\\\",\\\"serial-no\\\":\\\"\\\",\\\"vendor\\\":\\\"\\\",\\\"vendor-part\\\":\\\"\\\",\\\"vendor-rev\\\":\\\"\\\"}}},{\\\"name\\\":\\\"eth1/11\\\",\\\"transceiver\\\":{\\\"state\\\":{\\\"date-code\\\":\\\"0000-00-00T00:00:00Z+00:00\\\",\\\"form-factor\\\":\\\"OTHER\\\",\\\"present\\\":\\\"NOT_PRESENT\\\",\\\"serial-no\\\":\\\"\\\",\\\"vendor\\\":\\\"\\\",\\\"vendor-part\\\":\\\"\\\",\\\"vendor-rev\\\":\\\"\\\"}}},{\\\"name\\\":\\\"eth1/10\\\",\\\"transceiver\\\":{\\\"state\\\":{\\\"date-code\\\":\\\"0000-00-00T00:00:00Z+00:00\\\",\\\"form-factor\\\":\\\"OTHER\\\",\\\"present\\\":\\\"NOT_PRESENT\\\",\\\"serial-no\\\":\\\"\\\",\\\"vendor\\\":\\\"\\\",\\\"vendor-part\\\":\\\"\\\",\\\"vendor-rev\\\":\\\"\\\"}}},{\\\"name\\\":\\\"eth1/7\\\",\\\"transceiver\\\":{\\\"state\\\":{\\\"date-code\\\":\\\"0000-00-00T00:00:00Z+00:00\\\",\\\"form-factor\\\":\\\"OTHER\\\",\\\"present\\\":\\\"NOT_PRESENT\\\",\\\"serial-no\\\":\\\"\\\",\\\"vendor\\\":\\\"\\\",\\\"vendor-part\\\":\\\"\\\",\\\"vendor-rev\\\":\\\"\\\"}}},{\\\"name\\\":\\\"eth1/4\\\",\\\"transceiver\\\":{\\\"state\\\":{\\\"date-code\\\":\\\"0000-00-00T00:00:00Z+00:00\\\",\\\"form-factor\\\":\\\"OTHER\\\",\\\"present\\\":\\\"NOT_PRESENT\\\",\\\"serial-no\\\":\\\"\\\",\\\"vendor\\\":\\\"\\\",\\\"vendor-part\\\":\\\"\\\",\\\"vendor-rev\\\":\\\"\\\"}}},{\\\"name\\\":\\\"eth1/2\\\",\\\"transceiver\\\":{\\\"state\\\":{\\\"date-code\\\":\\\"0000-00-00T00:00:00Z+00:00\\\",\\\"form-factor\\\":\\\"OTHER\\\",\\\"present\\\":\\\"NOT_PRESENT\\\",\\\"serial-no\\\":\\\"\\\",\\\"vendor\\\":\\\"\\\",\\\"vendor-part\\\":\\\"\\\",\\\"vendor-rev\\\":\\\"\\\"}}},{\\\"name\\\":\\\"eth1/45\\\",\\\"transceiver\\\":{\\\"state\\\":{\\\"date-code\\\":\\\"0000-00-00T00:00:00Z+00:00\\\",\\\"form-factor\\\":\\\"OTHER\\\",\\\"present\\\":\\\"NOT_PRESENT\\\",\\\"serial-no\\\":\\\"\\\",\\\"vendor\\\":\\\"\\\",\\\"vendor-part\\\":\\\"\\\",\\\"vendor-rev\\\":\\\"\\\"}}},{\\\"name\\\":\\\"eth1/63\\\",\\\"transceiver\\\":{\\\"state\\\":{\\\"date-code\\\":\\\"0000-00-00T00:00:00Z+00:00\\\",\\\"form-factor\\\":\\\"OTHER\\\",\\\"present\\\":\\\"NOT_PRESENT\\\",\\\"serial-no\\\":\\\"\\\",\\\"vendor\\\":\\\"\\\",\\\"vendor-part\\\":\\\"\\\",\\\"vendor-rev\\\":\\\"\\\"}}},{\\\"name\\\":\\\"eth1/60\\\",\\\"transceiver\\\":{\\\"state\\\":{\\\"date-code\\\":\\\"0000-00-00T00:00:00Z+00:00\\\",\\\"form-factor\\\":\\\"OTHER\\\",\\\"present\\\":\\\"NOT_PRESENT\\\",\\\"serial-no\\\":\\\"\\\",\\\"vendor\\\":\\\"\\\",\\\"vendor-part\\\":\\\"\\\",\\\"vendor-rev\\\":\\\"\\\"}}},{\\\"name\\\":\\\"eth1/62\\\",\\\"transceiver\\\":{\\\"state\\\":{\\\"date-code\\\":\\\"0000-00-00T00:00:00Z+00:00\\\",\\\"form-factor\\\":\\\"OTHER\\\",\\\"present\\\":\\\"NOT_PRESENT\\\",\\\"serial-no\\\":\\\"\\\",\\\"vendor\\\":\\\"\\\",\\\"vendor-part\\\":\\\"\\\",\\\"vendor-rev\\\":\\\"\\\"}}},{\\\"name\\\":\\\"eth1/58\\\",\\\"transceiver\\\":{\\\"state\\\":{\\\"date-code\\\":\\\"0000-00-00T00:00:00Z+00:00\\\",\\\"form-factor\\\":\\\"OTHER\\\",\\\"present\\\":\\\"NOT_PRESENT\\\",\\\"serial-no\\\":\\\"\\\",\\\"vendor\\\":\\\"\\\",\\\"vendor-part\\\":\\\"\\\",\\\"vendor-rev\\\":\\\"\\\"}}},{\\\"name\\\":\\\"eth1/56\\\",\\\"transceiver\\\":{\\\"state\\\":{\\\"date-code\\\":\\\"0000-00-00T00:00:00Z+00:00\\\",\\\"form-factor\\\":\\\"OTHER\\\",\\\"present\\\":\\\"NOT_PRESENT\\\",\\\"serial-no\\\":\\\"\\\",\\\"vendor\\\":\\\"\\\",\\\"vendor-part\\\":\\\"\\\",\\\"vendor-rev\\\":\\\"\\\"}}},{\\\"name\\\":\\\"eth1/50\\\",\\\"transceiver\\\":{\\\"state\\\":{\\\"date-code\\\":\\\"0000-00-00T00:00:00Z+00:00\\\",\\\"form-factor\\\":\\\"OTHER\\\",\\\"present\\\":\\\"NOT_PRESENT\\\",\\\"serial-no\\\":\\\"\\\",\\\"vendor\\\":\\\"\\\",\\\"vendor-part\\\":\\\"\\\",\\\"vendor-rev\\\":\\\"\\\"}}},{\\\"name\\\":\\\"eth1/48\\\",\\\"transceiver\\\":{\\\"state\\\":{\\\"date-code\\\":\\\"0000-00-00T00:00:00Z+00:00\\\",\\\"form-factor\\\":\\\"OTHER\\\",\\\"present\\\":\\\"NOT_PRESENT\\\",\\\"serial-no\\\":\\\"\\\",\\\"vendor\\\":\\\"\\\",\\\"vendor-part\\\":\\\"\\\",\\\"vendor-rev\\\":\\\"\\\"}}},{\\\"name\\\":\\\"eth1/51\\\",\\\"transceiver\\\":{\\\"state\\\":{\\\"date-code\\\":\\\"0000-00-00T00:00:00Z+00:00\\\",\\\"form-factor\\\":\\\"OTHER\\\",\\\"present\\\":\\\"NOT_PRESENT\\\",\\\"serial-no\\\":\\\"\\\",\\\"vendor\\\":\\\"\\\",\\\"vendor-part\\\":\\\"\\\",\\\"vendor-rev\\\":\\\"\\\"}}},{\\\"name\\\":\\\"eth1/15\\\",\\\"transceiver\\\":{\\\"state\\\":{\\\"date-code\\\":\\\"0000-00-00T00:00:00Z+00:00\\\",\\\"form-factor\\\":\\\"OTHER\\\",\\\"present\\\":\\\"NOT_PRESENT\\\",\\\"serial-no\\\":\\\"\\\",\\\"vendor\\\":\\\"\\\",\\\"vendor-part\\\":\\\"\\\",\\\"vendor-rev\\\":\\\"\\\"}}},{\\\"name\\\":\\\"eth1/49\\\",\\\"transceiver\\\":{\\\"state\\\":{\\\"date-code\\\":\\\"0000-00-00T00:00:00Z+00:00\\\",\\\"form-factor\\\":\\\"OTHER\\\",\\\"present\\\":\\\"NOT_PRESENT\\\",\\\"serial-no\\\":\\\"\\\",\\\"vendor\\\":\\\"\\\",\\\"vendor-part\\\":\\\"\\\",\\\"vendor-rev\\\":\\\"\\\"}}},{\\\"name\\\":\\\"eth1/59\\\",\\\"transceiver\\\":{\\\"state\\\":{\\\"date-code\\\":\\\"0000-00-00T00:00:00Z+00:00\\\",\\\"form-factor\\\":\\\"OTHER\\\",\\\"present\\\":\\\"NOT_PRESENT\\\",\\\"serial-no\\\":\\\"\\\",\\\"vendor\\\":\\\"\\\",\\\"vendor-part\\\":\\\"\\\",\\\"vendor-rev\\\":\\\"\\\"}}},{\\\"name\\\":\\\"eth1/17\\\",\\\"transceiver\\\":{\\\"state\\\":{\\\"date-code\\\":\\\"0000-00-00T00:00:00Z+00:00\\\",\\\"form-factor\\\":\\\"OTHER\\\",\\\"present\\\":\\\"NOT_PRESENT\\\",\\\"serial-no\\\":\\\"\\\",\\\"vendor\\\":\\\"\\\",\\\"vendor-part\\\":\\\"\\\",\\\"vendor-rev\\\":\\\"\\\"}}},{\\\"name\\\":\\\"eth1/36\\\",\\\"transceiver\\\":{\\\"state\\\":{\\\"date-code\\\":\\\"0000-00-00T00:00:00Z+00:00\\\",\\\"form-factor\\\":\\\"OTHER\\\",\\\"present\\\":\\\"NOT_PRESENT\\\",\\\"serial-no\\\":\\\"\\\",\\\"vendor\\\":\\\"\\\",\\\"vendor-part\\\":\\\"\\\",\\\"vendor-rev\\\":\\\"\\\"}}},{\\\"name\\\":\\\"eth1/26\\\",\\\"transceiver\\\":{\\\"state\\\":{\\\"date-code\\\":\\\"0000-00-00T00:00:00Z+00:00\\\",\\\"form-factor\\\":\\\"OTHER\\\",\\\"present\\\":\\\"NOT_PRESENT\\\",\\\"serial-no\\\":\\\"\\\",\\\"vendor\\\":\\\"\\\",\\\"vendor-part\\\":\\\"\\\",\\\"vendor-rev\\\":\\\"\\\"}}},{\\\"name\\\":\\\"eth1/16\\\",\\\"transceiver\\\":{\\\"state\\\":{\\\"date-code\\\":\\\"0000-00-00T00:00:00Z+00:00\\\",\\\"form-factor\\\":\\\"OTHER\\\",\\\"present\\\":\\\"NOT_PRESENT\\\",\\\"serial-no\\\":\\\"\\\",\\\"vendor\\\":\\\"\\\",\\\"vendor-part\\\":\\\"\\\",\\\"vendor-rev\\\":\\\"\\\"}}},{\\\"name\\\":\\\"eth1/31\\\",\\\"transceiver\\\":{\\\"state\\\":{\\\"date-code\\\":\\\"0000-00-00T00:00:00Z+00:00\\\",\\\"form-factor\\\":\\\"OTHER\\\",\\\"present\\\":\\\"NOT_PRESENT\\\",\\\"serial-no\\\":\\\"\\\",\\\"vendor\\\":\\\"\\\",\\\"vendor-part\\\":\\\"\\\",\\\"vendor-rev\\\":\\\"\\\"}}},{\\\"name\\\":\\\"eth1/22\\\",\\\"transceiver\\\":{\\\"state\\\":{\\\"date-code\\\":\\\"0000-00-00T00:00:00Z+00:00\\\",\\\"form-factor\\\":\\\"OTHER\\\",\\\"present\\\":\\\"NOT_PRESENT\\\",\\\"serial-no\\\":\\\"\\\",\\\"vendor\\\":\\\"\\\",\\\"vendor-part\\\":\\\"\\\",\\\"vendor-rev\\\":\\\"\\\"}}},{\\\"name\\\":\\\"eth1/28\\\",\\\"transceiver\\\":{\\\"state\\\":{\\\"date-code\\\":\\\"0000-00-00T00:00:00Z+00:00\\\",\\\"form-factor\\\":\\\"OTHER\\\",\\\"present\\\":\\\"NOT_PRESENT\\\",\\\"serial-no\\\":\\\"\\\",\\\"vendor\\\":\\\"\\\",\\\"vendor-part\\\":\\\"\\\",\\\"vendor-rev\\\":\\\"\\\"}}},{\\\"name\\\":\\\"eth1/8\\\",\\\"transceiver\\\":{\\\"state\\\":{\\\"date-code\\\":\\\"0000-00-00T00:00:00Z+00:00\\\",\\\"form-factor\\\":\\\"OTHER\\\",\\\"present\\\":\\\"NOT_PRESENT\\\",\\\"serial-no\\\":\\\"\\\",\\\"vendor\\\":\\\"\\\",\\\"vendor-part\\\":\\\"\\\",\\\"vendor-rev\\\":\\\"\\\"}}},{\\\"name\\\":\\\"eth1/25\\\",\\\"transceiver\\\":{\\\"state\\\":{\\\"date-code\\\":\\\"0000-00-00T00:00:00Z+00:00\\\",\\\"form-factor\\\":\\\"OTHER\\\",\\\"present\\\":\\\"NOT_PRESENT\\\",\\\"serial-no\\\":\\\"\\\",\\\"vendor\\\":\\\"\\\",\\\"vendor-part\\\":\\\"\\\",\\\"vendor-rev\\\":\\\"\\\"}}},{\\\"name\\\":\\\"eth1/42\\\",\\\"transceiver\\\":{\\\"state\\\":{\\\"date-code\\\":\\\"0000-00-00T00:00:00Z+00:00\\\",\\\"form-factor\\\":\\\"OTHER\\\",\\\"present\\\":\\\"NOT_PRESENT\\\",\\\"serial-no\\\":\\\"\\\",\\\"vendor\\\":\\\"\\\",\\\"vendor-part\\\":\\\"\\\",\\\"vendor-rev\\\":\\\"\\\"}}},{\\\"name\\\":\\\"eth1/23\\\",\\\"transceiver\\\":{\\\"state\\\":{\\\"date-code\\\":\\\"0000-00-00T00:00:00Z+00:00\\\",\\\"form-factor\\\":\\\"OTHER\\\",\\\"present\\\":\\\"NOT_PRESENT\\\",\\\"serial-no\\\":\\\"\\\",\\\"vendor\\\":\\\"\\\",\\\"vendor-part\\\":\\\"\\\",\\\"vendor-rev\\\":\\\"\\\"}}},{\\\"name\\\":\\\"eth1/30\\\",\\\"transceiver\\\":{\\\"state\\\":{\\\"date-code\\\":\\\"0000-00-00T00:00:00Z+00:00\\\",\\\"form-factor\\\":\\\"OTHER\\\",\\\"present\\\":\\\"NOT_PRESENT\\\",\\\"serial-no\\\":\\\"\\\",\\\"vendor\\\":\\\"\\\",\\\"vendor-part\\\":\\\"\\\",\\\"vendor-rev\\\":\\\"\\\"}}},{\\\"name\\\":\\\"eth1/32\\\",\\\"transceiver\\\":{\\\"state\\\":{\\\"date-code\\\":\\\"0000-00-00T00:00:00Z+00:00\\\",\\\"form-factor\\\":\\\"OTHER\\\",\\\"present\\\":\\\"NOT_PRESENT\\\",\\\"serial-no\\\":\\\"\\\",\\\"vendor\\\":\\\"\\\",\\\"vendor-part\\\":\\\"\\\",\\\"vendor-rev\\\":\\\"\\\"}}},{\\\"name\\\":\\\"eth1/5\\\",\\\"transceiver\\\":{\\\"state\\\":{\\\"date-code\\\":\\\"0000-00-00T00:00:00Z+00:00\\\",\\\"form-factor\\\":\\\"OTHER\\\",\\\"present\\\":\\\"NOT_PRESENT\\\",\\\"serial-no\\\":\\\"\\\",\\\"vendor\\\":\\\"\\\",\\\"vendor-part\\\":\\\"\\\",\\\"vendor-rev\\\":\\\"\\\"}}},{\\\"name\\\":\\\"eth1/34\\\",\\\"transceiver\\\":{\\\"state\\\":{\\\"date-code\\\":\\\"0000-00-00T00:00:00Z+00:00\\\",\\\"form-factor\\\":\\\"OTHER\\\",\\\"present\\\":\\\"NOT_PRESENT\\\",\\\"serial-no\\\":\\\"\\\",\\\"vendor\\\":\\\"\\\",\\\"vendor-part\\\":\\\"\\\",\\\"vendor-rev\\\":\\\"\\\"}}},{\\\"name\\\":\\\"eth1/61\\\",\\\"transceiver\\\":{\\\"state\\\":{\\\"date-code\\\":\\\"0000-00-00T00:00:00Z+00:00\\\",\\\"form-factor\\\":\\\"OTHER\\\",\\\"present\\\":\\\"NOT_PRESENT\\\",\\\"serial-no\\\":\\\"\\\",\\\"vendor\\\":\\\"\\\",\\\"vendor-part\\\":\\\"\\\",\\\"vendor-rev\\\":\\\"\\\"}}},{\\\"name\\\":\\\"eth1/52\\\",\\\"transceiver\\\":{\\\"state\\\":{\\\"date-code\\\":\\\"0000-00-00T00:00:00Z+00:00\\\",\\\"form-factor\\\":\\\"OTHER\\\",\\\"present\\\":\\\"NOT_PRESENT\\\",\\\"serial-no\\\":\\\"\\\",\\\"vendor\\\":\\\"\\\",\\\"vendor-part\\\":\\\"\\\",\\\"vendor-rev\\\":\\\"\\\"}}},{\\\"name\\\":\\\"eth1/54\\\",\\\"transceiver\\\":{\\\"state\\\":{\\\"date-code\\\":\\\"0000-00-00T00:00:00Z+00:00\\\",\\\"form-factor\\\":\\\"OTHER\\\",\\\"present\\\":\\\"NOT_PRESENT\\\",\\\"serial-no\\\":\\\"\\\",\\\"vendor\\\":\\\"\\\",\\\"vendor-part\\\":\\\"\\\",\\\"vendor-rev\\\":\\\"\\\"}}},{\\\"name\\\":\\\"eth1/21\\\",\\\"transceiver\\\":{\\\"state\\\":{\\\"date-code\\\":\\\"0000-00-00T00:00:00Z+00:00\\\",\\\"form-factor\\\":\\\"OTHER\\\",\\\"present\\\":\\\"NOT_PRESENT\\\",\\\"serial-no\\\":\\\"\\\",\\\"vendor\\\":\\\"\\\",\\\"vendor-part\\\":\\\"\\\",\\\"vendor-rev\\\":\\\"\\\"}}},{\\\"name\\\":\\\"eth1/37\\\",\\\"transceiver\\\":{\\\"state\\\":{\\\"date-code\\\":\\\"0000-00-00T00:00:00Z+00:00\\\",\\\"form-factor\\\":\\\"OTHER\\\",\\\"present\\\":\\\"NOT_PRESENT\\\",\\\"serial-no\\\":\\\"\\\",\\\"vendor\\\":\\\"\\\",\\\"vendor-part\\\":\\\"\\\",\\\"vendor-rev\\\":\\\"\\\"}}},{\\\"name\\\":\\\"eth1/35\\\",\\\"transceiver\\\":{\\\"state\\\":{\\\"date-code\\\":\\\"0000-00-00T00:00:00Z+00:00\\\",\\\"form-factor\\\":\\\"OTHER\\\",\\\"present\\\":\\\"NOT_PRESENT\\\",\\\"serial-no\\\":\\\"\\\",\\\"vendor\\\":\\\"\\\",\\\"vendor-part\\\":\\\"\\\",\\\"vendor-rev\\\":\\\"\\\"}}},{\\\"name\\\":\\\"eth1/64\\\",\\\"transceiver\\\":{\\\"state\\\":{\\\"date-code\\\":\\\"0000-00-00T00:00:00Z+00:00\\\",\\\"form-factor\\\":\\\"OTHER\\\",\\\"present\\\":\\\"NOT_PRESENT\\\",\\\"serial-no\\\":\\\"\\\",\\\"vendor\\\":\\\"\\\",\\\"vendor-part\\\":\\\"\\\",\\\"vendor-rev\\\":\\\"\\\"}}},{\\\"name\\\":\\\"eth1/53\\\",\\\"transceiver\\\":{\\\"state\\\":{\\\"date-code\\\":\\\"0000-00-00T00:00:00Z+00:00\\\",\\\"form-factor\\\":\\\"OTHER\\\",\\\"present\\\":\\\"NOT_PRESENT\\\",\\\"serial-no\\\":\\\"\\\",\\\"vendor\\\":\\\"\\\",\\\"vendor-part\\\":\\\"\\\",\\\"vendor-rev\\\":\\\"\\\"}}},{\\\"name\\\":\\\"eth1/38\\\",\\\"transceiver\\\":{\\\"state\\\":{\\\"date-code\\\":\\\"0000-00-00T00:00:00Z+00:00\\\",\\\"form-factor\\\":\\\"OTHER\\\",\\\"present\\\":\\\"NOT_PRESENT\\\",\\\"serial-no\\\":\\\"\\\",\\\"vendor\\\":\\\"\\\",\\\"vendor-part\\\":\\\"\\\",\\\"vendor-rev\\\":\\\"\\\"}}},{\\\"name\\\":\\\"eth1/19\\\",\\\"transceiver\\\":{\\\"state\\\":{\\\"date-code\\\":\\\"0000-00-00T00:00:00Z+00:00\\\",\\\"form-factor\\\":\\\"OTHER\\\",\\\"present\\\":\\\"NOT_PRESENT\\\",\\\"serial-no\\\":\\\"\\\",\\\"vendor\\\":\\\"\\\",\\\"vendor-part\\\":\\\"\\\",\\\"vendor-rev\\\":\\\"\\\"}}},{\\\"name\\\":\\\"eth1/3\\\",\\\"transceiver\\\":{\\\"state\\\":{\\\"date-code\\\":\\\"0000-00-00T00:00:00Z+00:00\\\",\\\"form-factor\\\":\\\"OTHER\\\",\\\"present\\\":\\\"NOT_PRESENT\\\",\\\"serial-no\\\":\\\"\\\",\\\"vendor\\\":\\\"\\\",\\\"vendor-part\\\":\\\"\\\",\\\"vendor-rev\\\":\\\"\\\"}}},{\\\"name\\\":\\\"eth1/27\\\",\\\"transceiver\\\":{\\\"state\\\":{\\\"date-code\\\":\\\"0000-00-00T00:00:00Z+00:00\\\",\\\"form-factor\\\":\\\"OTHER\\\",\\\"present\\\":\\\"NOT_PRESENT\\\",\\\"serial-no\\\":\\\"\\\",\\\"vendor\\\":\\\"\\\",\\\"vendor-part\\\":\\\"\\\",\\\"vendor-rev\\\":\\\"\\\"}}},{\\\"name\\\":\\\"eth1/46\\\",\\\"transceiver\\\":{\\\"state\\\":{\\\"date-code\\\":\\\"0000-00-00T00:00:00Z+00:00\\\",\\\"form-factor\\\":\\\"OTHER\\\",\\\"present\\\":\\\"NOT_PRESENT\\\",\\\"serial-no\\\":\\\"\\\",\\\"vendor\\\":\\\"\\\",\\\"vendor-part\\\":\\\"\\\",\\\"vendor-rev\\\":\\\"\\\"}}},{\\\"name\\\":\\\"eth1/43\\\",\\\"transceiver\\\":{\\\"state\\\":{\\\"date-code\\\":\\\"0000-00-00T00:00:00Z+00:00\\\",\\\"form-factor\\\":\\\"OTHER\\\",\\\"present\\\":\\\"NOT_PRESENT\\\",\\\"serial-no\\\":\\\"\\\",\\\"vendor\\\":\\\"\\\",\\\"vendor-part\\\":\\\"\\\",\\\"vendor-rev\\\":\\\"\\\"}}},{\\\"name\\\":\\\"eth1/44\\\",\\\"transceiver\\\":{\\\"state\\\":{\\\"date-code\\\":\\\"0000-00-00T00:00:00Z+00:00\\\",\\\"form-factor\\\":\\\"OTHER\\\",\\\"present\\\":\\\"NOT_PRESENT\\\",\\\"serial-no\\\":\\\"\\\",\\\"vendor\\\":\\\"\\\",\\\"vendor-part\\\":\\\"\\\",\\\"vendor-rev\\\":\\\"\\\"}}},{\\\"name\\\":\\\"eth1/39\\\",\\\"transceiver\\\":{\\\"state\\\":{\\\"date-code\\\":\\\"0000-00-00T00:00:00Z+00:00\\\",\\\"form-factor\\\":\\\"OTHER\\\",\\\"present\\\":\\\"NOT_PRESENT\\\",\\\"serial-no\\\":\\\"\\\",\\\"vendor\\\":\\\"\\\",\\\"vendor-part\\\":\\\"\\\",\\\"vendor-rev\\\":\\\"\\\"}}},{\\\"name\\\":\\\"eth1/33\\\",\\\"transceiver\\\":{\\\"state\\\":{\\\"date-code\\\":\\\"0000-00-00T00:00:00Z+00:00\\\",\\\"form-factor\\\":\\\"OTHER\\\",\\\"present\\\":\\\"NOT_PRESENT\\\",\\\"serial-no\\\":\\\"\\\",\\\"vendor\\\":\\\"\\\",\\\"vendor-part\\\":\\\"\\\",\\\"vendor-rev\\\":\\\"\\\"}}},{\\\"name\\\":\\\"eth1/41\\\",\\\"transceiver\\\":{\\\"state\\\":{\\\"date-code\\\":\\\"0000-00-00T00:00:00Z+00:00\\\",\\\"form-factor\\\":\\\"OTHER\\\",\\\"present\\\":\\\"NOT_PRESENT\\\",\\\"serial-no\\\":\\\"\\\",\\\"vendor\\\":\\\"\\\",\\\"vendor-part\\\":\\\"\\\",\\\"vendor-rev\\\":\\\"\\\"}}},{\\\"name\\\":\\\"eth1/1\\\",\\\"transceiver\\\":{\\\"state\\\":{\\\"date-code\\\":\\\"0000-00-00T00:00:00Z+00:00\\\",\\\"form-factor\\\":\\\"OTHER\\\",\\\"present\\\":\\\"NOT_PRESENT\\\",\\\"serial-no\\\":\\\"\\\",\\\"vendor\\\":\\\"\\\",\\\"vendor-part\\\":\\\"\\\",\\\"vendor-rev\\\":\\\"\\\"}}},{\\\"name\\\":\\\"eth1/55\\\",\\\"transceiver\\\":{\\\"state\\\":{\\\"date-code\\\":\\\"0000-00-00T00:00:00Z+00:00\\\",\\\"form-factor\\\":\\\"OTHER\\\",\\\"present\\\":\\\"NOT_PRESENT\\\",\\\"serial-no\\\":\\\"\\\",\\\"vendor\\\":\\\"\\\",\\\"vendor-part\\\":\\\"\\\",\\\"vendor-rev\\\":\\\"\\\"}}},{\\\"name\\\":\\\"eth1/24\\\",\\\"transceiver\\\":{\\\"state\\\":{\\\"date-code\\\":\\\"0000-00-00T00:00:00Z+00:00\\\",\\\"form-factor\\\":\\\"OTHER\\\",\\\"present\\\":\\\"NOT_PRESENT\\\",\\\"serial-no\\\":\\\"\\\",\\\"vendor\\\":\\\"\\\",\\\"vendor-part\\\":\\\"\\\",\\\"vendor-rev\\\":\\\"\\\"}}},{\\\"name\\\":\\\"eth1/6\\\",\\\"transceiver\\\":{\\\"state\\\":{\\\"date-code\\\":\\\"0000-00-00T00:00:00Z+00:00\\\",\\\"form-factor\\\":\\\"OTHER\\\",\\\"present\\\":\\\"NOT_PRESENT\\\",\\\"serial-no\\\":\\\"\\\",\\\"vendor\\\":\\\"\\\",\\\"vendor-part\\\":\\\"\\\",\\\"vendor-rev\\\":\\\"\\\"}}},{\\\"name\\\":\\\"eth1/20\\\",\\\"transceiver\\\":{\\\"state\\\":{\\\"date-code\\\":\\\"0000-00-00T00:00:00Z+00:00\\\",\\\"form-factor\\\":\\\"OTHER\\\",\\\"present\\\":\\\"NOT_PRESENT\\\",\\\"serial-no\\\":\\\"\\\",\\\"vendor\\\":\\\"\\\",\\\"vendor-part\\\":\\\"\\\",\\\"vendor-rev\\\":\\\"\\\"}}},{\\\"name\\\":\\\"eth1/57\\\",\\\"transceiver\\\":{\\\"state\\\":{\\\"date-code\\\":\\\"0000-00-00T00:00:00Z+00:00\\\",\\\"form-factor\\\":\\\"OTHER\\\",\\\"present\\\":\\\"NOT_PRESENT\\\",\\\"serial-no\\\":\\\"\\\",\\\"vendor\\\":\\\"\\\",\\\"vendor-part\\\":\\\"\\\",\\\"vendor-rev\\\":\\\"\\\"}}}]\""
   ]
  },
  {
   "cell_type": "code",
   "execution_count": null,
   "id": "f9a894a7-90f6-4d62-9269-caaf99088dbd",
   "metadata": {},
   "outputs": [],
   "source": [
    "# Convert the JSON string array of XPath data to a Python dictionary object with the 'json.loads' method\n",
    "j_x = loads(j_xpaths)"
   ]
  },
  {
   "cell_type": "code",
   "execution_count": 52,
   "id": "f9e38689-1dfe-4dc2-aebb-e03bc654093f",
   "metadata": {},
   "outputs": [
    {
     "name": "stdout",
     "output_type": "stream",
     "text": [
      "{'cpu': {'utilization': {'state': {'avg': 6,\n",
      "                                   'instant': 2,\n",
      "                                   'max': 22,\n",
      "                                   'max-time': '1620891503',\n",
      "                                   'min': 2,\n",
      "                                   'min-time': '1620891485'}}},\n",
      " 'name': 'cpu0'}\n"
     ]
    }
   ],
   "source": [
    "# Pretty print list item 30, the equivalent to the XPath declared as a constant\n",
    "pp(j_x[30])"
   ]
  },
  {
   "cell_type": "code",
   "execution_count": null,
   "id": "ae3673ed-95e7-4e5d-9c6f-a160c5790104",
   "metadata": {},
   "outputs": [],
   "source": [
    "# Use the 'xmltodict' method 'unparse' to convert the 'j_x' Python dictionary object to an XML document\n",
    "x_j = unparse(\n",
    "    j_x[30],\n",
    "    full_document=False,\n",
    "    short_empty_elements=True,\n",
    "    pretty=True\n",
    ")"
   ]
  },
  {
   "cell_type": "code",
   "execution_count": 55,
   "id": "d5abea0c-0732-4e48-9f2d-8c481f45d073",
   "metadata": {},
   "outputs": [
    {
     "name": "stdout",
     "output_type": "stream",
     "text": [
      "<name>cpu0</name><cpu>\n",
      "\t<utilization>\n",
      "\t\t<state>\n",
      "\t\t\t<avg>6</avg>\n",
      "\t\t\t<instant>2</instant>\n",
      "\t\t\t<max>22</max>\n",
      "\t\t\t<min>2</min>\n",
      "\t\t\t<max-time>1620891503</max-time>\n",
      "\t\t\t<min-time>1620891485</min-time>\n",
      "\t\t</state>\n",
      "\t</utilization>\n",
      "</cpu>\n"
     ]
    }
   ],
   "source": [
    "# Display the resulting XML document\n",
    "print(x_j)"
   ]
  },
  {
   "cell_type": "code",
   "execution_count": 111,
   "id": "bac22d9d-41f5-40ac-95e2-4146b52809d2",
   "metadata": {
    "tags": []
   },
   "outputs": [
    {
     "data": {
      "text/plain": [
       "True"
      ]
     },
     "execution_count": 111,
     "metadata": {},
     "output_type": "execute_result"
    }
   ],
   "source": [
    "# Cancel the active gNMI subscription\n",
    "sub.cancel()"
   ]
  }
 ],
 "metadata": {
  "kernelspec": {
   "display_name": "Python 3",
   "language": "python",
   "name": "python3"
  },
  "language_info": {
   "codemirror_mode": {
    "name": "ipython",
    "version": 3
   },
   "file_extension": ".py",
   "mimetype": "text/x-python",
   "name": "python",
   "nbconvert_exporter": "python",
   "pygments_lexer": "ipython3",
   "version": "3.9.4"
  }
 },
 "nbformat": 4,
 "nbformat_minor": 5
}
