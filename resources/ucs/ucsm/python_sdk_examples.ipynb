{
 "cells": [
  {
   "cell_type": "markdown",
   "source": [
    "# UCS Manager Python SDK Examples"
   ],
   "metadata": {}
  },
  {
   "cell_type": "markdown",
   "source": [
    "---\n",
    "\n",
    "## Connect to UCS"
   ],
   "metadata": {}
  },
  {
   "cell_type": "code",
   "execution_count": null,
   "source": [
    "from ucsmsdk.ucshandle import UcsHandle\n",
    "\n",
    "UCS_CONN = {\n",
    "  'ip': '192.168.72.4',\n",
    "\t'username': 'admin',\n",
    "\t'password': 'admin',\n",
    "  'secure': False\n",
    "}\n",
    "\n",
    "handle = UcsHandle(**UCS_CONN)\n",
    "handle.login()"
   ],
   "outputs": [],
   "metadata": {}
  },
  {
   "cell_type": "markdown",
   "source": [
    "---\n",
    "\n",
    "## Review handle object attributes"
   ],
   "metadata": {}
  },
  {
   "cell_type": "code",
   "execution_count": null,
   "source": [
    "vars(handle)\n",
    "\n",
    "handle.ip\n",
    "handle.ucs\n",
    "handle.cookie"
   ],
   "outputs": [],
   "metadata": {}
  },
  {
   "cell_type": "markdown",
   "source": [
    "---\n",
    "\n",
    "## Query and display all compute blade objects"
   ],
   "metadata": {}
  },
  {
   "cell_type": "code",
   "execution_count": null,
   "source": [
    "blades = handle.query_classid('computeBlade')\n",
    "\n",
    "for blade in blades:\n",
    "  print(blade)"
   ],
   "outputs": [],
   "metadata": {}
  },
  {
   "cell_type": "markdown",
   "source": [
    "---\n",
    "\n",
    "## Display specific blade attributes"
   ],
   "metadata": {}
  },
  {
   "cell_type": "code",
   "execution_count": null,
   "source": [
    "for blade in blades:\n",
    "  print(blade.dn, blade.num_of_cpus, blade.available_memory)"
   ],
   "outputs": [],
   "metadata": {}
  },
  {
   "cell_type": "markdown",
   "source": [
    "---\n",
    "\n",
    "## SDK Query Methods\n",
    "\n",
    "### Get objects from a single class\n",
    "\n",
    "Returns a list of objects: `query_classid`"
   ],
   "metadata": {}
  },
  {
   "cell_type": "code",
   "execution_count": null,
   "source": [
    "handle.query_classid('computeBlade')"
   ],
   "outputs": [],
   "metadata": {}
  },
  {
   "cell_type": "markdown",
   "source": [
    "---\n",
    "\n",
    "### Get objects from multiple classes\n",
    "\n",
    "Return a dictionary where `classid` is the key and objects are values: `query_classids`"
   ],
   "metadata": {}
  },
  {
   "cell_type": "code",
   "execution_count": null,
   "source": [
    "handle.query_classids('computeBlade', 'computeRackUnit')"
   ],
   "outputs": [],
   "metadata": {}
  },
  {
   "cell_type": "markdown",
   "source": [
    "---\n",
    "\n",
    "### Get a single object by DN\n",
    "\n",
    "Return an object: `query_dn`"
   ],
   "metadata": {}
  },
  {
   "cell_type": "code",
   "execution_count": null,
   "source": [
    "handle.query_dn('sys/chassis-3/blade-1')"
   ],
   "outputs": [],
   "metadata": {}
  },
  {
   "cell_type": "markdown",
   "source": [
    "---\n",
    "\n",
    "### Get multiple objects by DN\n",
    "\n",
    "Return a dictionary where the DN is the key and the object is the value: `query_dns`"
   ],
   "metadata": {}
  },
  {
   "cell_type": "code",
   "execution_count": null,
   "source": [
    "\n",
    "handle.query_dn('sys/chassis-3/blade-1', 'sys/chassis-3/blade-3')"
   ],
   "outputs": [],
   "metadata": {}
  },
  {
   "cell_type": "markdown",
   "source": [
    "---\n",
    "\n",
    "### Get child objects for a specific object\n",
    "\n",
    "Return a list of child objects: `query_children`"
   ],
   "metadata": {}
  },
  {
   "cell_type": "code",
   "execution_count": null,
   "source": [
    "handle.query_children(handle.query_dn('sys/chassis-3/blade-1'))"
   ],
   "outputs": [],
   "metadata": {}
  },
  {
   "cell_type": "markdown",
   "source": [
    "---\n",
    "\n",
    "## Get Server DN and LED State"
   ],
   "metadata": {}
  },
  {
   "cell_type": "code",
   "execution_count": null,
   "source": [
    "# Get all server objects, using classes\n",
    "servers = handle.query_children('computeBlade', 'computeRackUnit')\n",
    "\n",
    "# Loop over all servers\n",
    "for server_class in servers.values():\n",
    "    # Loop over each server class object\n",
    "    for server in server_class:\n",
    "      # Assign the equipmentLocatorLed class data to a variable\n",
    "      led = handle.query_children(server, class_id='equipmentLocatorLed')\n",
    "      print(server.dn, led[0].oper_state)"
   ],
   "outputs": [],
   "metadata": {}
  },
  {
   "cell_type": "markdown",
   "source": [
    "---\n",
    "\n",
    "## Chanege the state of all LEDs"
   ],
   "metadata": {}
  },
  {
   "cell_type": "code",
   "execution_count": null,
   "source": [
    "# Get a list of all server objects, by class\n",
    "# Each class becomes its own dictionary key\n",
    "server_classes = handle.query_classids('computeBlade', 'computeRackUnit')\n",
    "\n",
    "# Loop over each server class object list (computeBlade and computeRackUnit)\n",
    "for server_list in server_classes.values():\n",
    "      # Loop over each server object within the list\n",
    "      for server in server_list:\n",
    "        # Get server LED status\n",
    "        led = handle.query_children(server, class_id='equipmentLocatorLed')\n",
    "        # Set previous LED status\n",
    "        prev_led_status = led[0].oper_state\n",
    "\n",
    "        # Set the new LED status\n",
    "        if led[0].oper_state == 'off':\n",
    "            led[0].admin_state = 'on'\n",
    "        else:\n",
    "          led[0].admin_state = 'off'\n",
    "\n",
    "        # Set the handle MO value and commit the change\n",
    "        handle.set_mo(led[0])\n",
    "        handle.commit()\n",
    "        \n",
    "        # Display output\n",
    "        print(f'DN {server.dn}:\\n'\n",
    "              f'\\tPrevious - {prev_led_status}\\n'\n",
    "              f'\\tNew - {led[0].admin_state}')"
   ],
   "outputs": [],
   "metadata": {}
  },
  {
   "cell_type": "markdown",
   "source": [
    "---\n",
    "\n",
    "## Query the locator LED status for all servers, reverse the setting, and display results"
   ],
   "metadata": {}
  },
  {
   "cell_type": "code",
   "execution_count": null,
   "source": [
    "# Get lists of all servers (returns a dict)\n",
    "servers = handle.query_classids('computeBlade', 'computeRackUnit')\n",
    "\n",
    "# Loop over each of the dict values (separate lists of server classes)\n",
    "for server_classes in servers.values():\n",
    "  # Loop over each individual server class\n",
    "\n",
    "  for server in server_classes:\n",
    "  \t# Get the LED subclass status for each server\n",
    "\t  led = handle.query_children(server, class_id='EquipmentLocatorLed')\n",
    "\n",
    "    # Get the current LED properties\n",
    "    led_dn = led[0].dn\n",
    "    led_oper_state = led[0].oper_state\n",
    "\n",
    "    # Reverse the LED state\n",
    "    if led_oper_state == 'off':\n",
    "    \tled[0].admin_state = 'on'\n",
    "    else:\n",
    "      led[0].admin_state = 'off'\n",
    "     \n",
    "\t\t# Set the new LED state\n",
    "    handle.set_mo(led[0])\n",
    "    handle.commit()\n",
    "\n",
    "    # Get the updated status\n",
    "    led_new_props = handle.query_dn(led_dn)\n",
    "\n",
    "    # Display the results\n",
    "    print(f'Locator LED State for {server.dn}:\\n'\n",
    "          f'\\tPrevious state - {led_oper_state}\\n'\n",
    "          f'\\tNew state - {led_new_props.admin_state}')"
   ],
   "outputs": [],
   "metadata": {}
  },
  {
   "cell_type": "markdown",
   "source": [
    "---\n",
    "\n",
    "## Create a new VLAN"
   ],
   "metadata": {}
  },
  {
   "cell_type": "code",
   "execution_count": null,
   "source": [
    "# Import the UcsHandle and FabricVlan modules\n",
    "from ucsmsdk.ucshandle import UcsHandle\n",
    "from ucsmsdk.mometa.fabric.FabricVlan import FabricVlan\n",
    "\n",
    "# Connect to the UCSM\n",
    "UCSM_CONN = {\n",
    "  'ip': '192.168.72.4',\n",
    "  'username': 'admin',\n",
    "  'password': 'admin',\n",
    "  'secure': False\n",
    "}\n",
    "\n",
    "handle = UcsHandle(**UCSM_CONN)\n",
    "handle.login()\n",
    "\n",
    "# Get the FabricLanCloud class\n",
    "lan_cloud = handle.query_classid('FabricLanCloud')\n",
    "\n",
    "# Display the lan_cloud DN\n",
    "# lan_cloud[0].dn\n",
    "\n",
    "# Create a MO for the VLAN\n",
    "vlan_mo = FabricVlan(lan_cloud[0].dn, name='vlan100', id='100')\n",
    "\n",
    "# Add the VLAN MO to the UCS\n",
    "handle.add_mo(vlan_mo)\n",
    "# handle.add_mo(mo=vlan_mo, modify_present=True)\n",
    "handle.commit()"
   ],
   "outputs": [],
   "metadata": {}
  },
  {
   "cell_type": "markdown",
   "source": [
    "---\n",
    "\n",
    "## Create multiple VLANs in a transaction"
   ],
   "metadata": {}
  },
  {
   "cell_type": "code",
   "execution_count": null,
   "source": [
    "# Import the UcsHandle and FabricVlan modules\n",
    "from ucsmsdk.ucshandle import UcsHandle\n",
    "from ucsmsdk.mometa.fabric.FabricVlan import FabricVlan\n",
    "\n",
    "# Connect to the UCSM\n",
    "UCSM_CONN = {\n",
    "  'ip': '192.168.72.4',\n",
    "  'username': 'admin',\n",
    "  'password': 'admin',\n",
    "  'secure': False\n",
    "}\n",
    "\n",
    "handle = UcsHandle(**UCSM_CONN)\n",
    "handle.login()\n",
    "\n",
    "# Create a FabricLanCloud MO\n",
    "lan_cloud = handle.query_classid('FabricLanCloud')\n",
    "\n",
    "# Loop over a range of VLAN numbers\n",
    "for vlan in range (300, 303):\n",
    "  # Create a MO for each VLAN\n",
    "  vlan_mo = FabricVlan(\n",
    "    parent_mo_or_dn=lan_cloud[0].dn,\n",
    "    name=f'vlan{vlan}',\n",
    "    id=str(vlan)\n",
    "  )\n",
    "\n",
    "  # Add each MO to the handle object\n",
    "  handle.add_mo(vlan_mo)\n",
    "\n",
    "# Commit the changes to UCSM\n",
    "handle.commit()"
   ],
   "outputs": [],
   "metadata": {}
  },
  {
   "cell_type": "markdown",
   "source": [
    "---\n",
    "\n",
    "## Delete multiple VLANs in a transaction"
   ],
   "metadata": {}
  },
  {
   "cell_type": "code",
   "execution_count": null,
   "source": [
    "# Import modules\n",
    "from ucsmsdk.ucshandle import UcsHandle\n",
    "from ucsmsdk.mometa.fabric.FabricVlan import FabricVlan\n",
    "\n",
    "# Log in\n",
    "CONN = {\n",
    "  'ip': '192.168.72.4',\n",
    "  'username': 'admin',\n",
    "  'password': 'admin',\n",
    "  'secure': False\n",
    "}\n",
    "\n",
    "handle = UcsHandle(**CONN)\n",
    "handle.login()\n",
    "\n",
    "# Create a MO for all VLANs\n",
    "vlans_mo = handle.query_classid('FabricVlan')\n",
    "\n",
    "# Loop over the list of VLANs (in the vlans_mo), and remove them, except for VLAN 1\n",
    "for vlan_mo in vlans_mo:\n",
    "  if vlan_mo.id != '1':\n",
    "\t  handle.add_mo(vlan_mo)\n",
    "\n",
    "handle.commit()"
   ],
   "outputs": [],
   "metadata": {}
  },
  {
   "cell_type": "markdown",
   "source": [
    "---\n",
    "\n",
    "## UCSM time zone and NTP settings\n",
    "\n",
    "### Import UcsHandle"
   ],
   "metadata": {}
  },
  {
   "cell_type": "code",
   "execution_count": null,
   "source": [
    "from ucsmsdk.ucshandle import UcsHandle\n",
    "\n",
    "# Login\n",
    "UCSM = {\n",
    "  'ip': '192.168.72.4',\n",
    "  'username': 'admin',\n",
    "  'password': 'admin',\n",
    "  'secure': 'false'\n",
    "}\n",
    "\n",
    "handle = UcsHandle(**UCSM)\n",
    "handle.login()"
   ],
   "outputs": [],
   "metadata": {}
  },
  {
   "cell_type": "markdown",
   "source": [
    "---\n",
    "\n",
    "### Get time zones"
   ],
   "metadata": {}
  },
  {
   "cell_type": "code",
   "execution_count": null,
   "source": [
    "# Import the CommDateTime class\n",
    "from ucsmsdk.mometa.comm.CommDateTime import CommDateTime\n",
    "\n",
    "# Query the CommDateTime DN that is a reference to the 'Timezone-managed' object\n",
    "timezone_mo = handle.query_dn('sys/svc-ext/datetime-svc')\n",
    "# timezone_mo = handle.query_classid('CommDateTime') # Also works the same way"
   ],
   "outputs": [],
   "metadata": {}
  },
  {
   "cell_type": "markdown",
   "source": [
    "---\n",
    "\n",
    "Get NTP"
   ],
   "metadata": {}
  },
  {
   "cell_type": "code",
   "execution_count": null,
   "source": [
    "# Import the CommNtpProvider class\n",
    "from ucsmsdk.mometa.comm.CommNtpProvider import CommNtpProvider\n",
    "\n",
    "# Create a MO for the NTP objects\n",
    "ntp_mos = handle.query_classid('CommNtpProvider')\n",
    "\n",
    "# Display NTP object details\n",
    "for n in ntp_mos:\n",
    "  print(n)"
   ],
   "outputs": [],
   "metadata": {}
  },
  {
   "cell_type": "markdown",
   "source": [
    "---\n",
    "\n",
    "### Get DNS"
   ],
   "metadata": {}
  },
  {
   "cell_type": "code",
   "execution_count": null,
   "source": [
    "# Import classes and create MOs\n",
    "from ucsmsdk.mometa.comm.CommDns import CommDns\n",
    "dns_mo = handle.query_classid('CommDns')\n",
    "print(dns_mo[0])\n",
    "\n",
    "from ucsmsdk.mometa.comm.CommDnsProvider import CommDnsProvider\n",
    "dns_mos = handle.query_classid('CommDnsProvider')\n",
    "print(dns_mos[0])"
   ],
   "outputs": [],
   "metadata": {}
  },
  {
   "cell_type": "markdown",
   "source": [
    "---\n",
    "\n",
    "### Set Time Zones"
   ],
   "metadata": {}
  },
  {
   "cell_type": "code",
   "execution_count": null,
   "source": [
    "# Create a time zone variable\n",
    "tz = 'America/Chicago'\n",
    "\n",
    "# Update the time zone MO with the new value\n",
    "timezone_mo[0].timezone = tz\n",
    "\n",
    "# Update the MO\n",
    "handle.set_mo(timezone_mo[0])"
   ],
   "outputs": [],
   "metadata": {}
  },
  {
   "cell_type": "markdown",
   "source": [
    "### Add and remove NTP servers"
   ],
   "metadata": {}
  },
  {
   "cell_type": "code",
   "execution_count": null,
   "source": [
    "# Create NTP server veriable\n",
    "ntp_server = '172.16.20.5'\n",
    "\n",
    "# Create an NTP parent MO\n",
    "datetime_mo = handle.query_dn('sys/svc-ext/datetime-svc')\n",
    "\n",
    "# Create an NTP MO\n",
    "ntp_mo = CommNtpProvider(\n",
    "\tdatetime_mo,\n",
    "  name='172.16.20.5'\n",
    ")\n",
    "\n",
    "# Add and commit the MO\n",
    "handle.add_mo(\n",
    "\tmo=ntp_mo,\n",
    "  modify_present=True\n",
    ")\n",
    "handle.commit()\n",
    "\n",
    "# Get a new MO for the new NTP provider\n",
    "ntp_class = handle.query_classid('CommNtpProvider')\n",
    "ntp_mo = ntp_class[0]\n",
    "\n",
    "# Remove the NTP provider\n",
    "handle.remove_mo(ntp_mo)\n",
    "handle.commit()"
   ],
   "outputs": [],
   "metadata": {}
  },
  {
   "cell_type": "markdown",
   "source": [
    "---\n",
    "\n",
    "### Add and remove DNS servers"
   ],
   "metadata": {}
  },
  {
   "cell_type": "code",
   "execution_count": null,
   "source": [
    "# Get parent DNS service object\n",
    "dns_svc_mo = handle.query_dn('sys/svc-ext/dns-svc')\n",
    "\n",
    "# Create a DNS provider MO\n",
    "dns_provider_mo = CommDnsProvider(dns_svc_mo, name='8.8.8.8')\n",
    "\n",
    "# Add and commit the MO to UCSM\n",
    "handle.add_mo(dns_provider_mo, True)\n",
    "handle.commit()\n",
    "\n",
    "# Remove the DNS Provider\n",
    "dns_providers_mo = handle.query_classid('CommDnsProvider')\n",
    "\n",
    "### Option #1, loop ###\n",
    "# Loop over the DNS providers and remove the entry for 8.8.8.8\n",
    "for dns_server in dns_providers_mo:\n",
    "  if dns_server.name == '8.8.8.8':\n",
    "    dns_server_mo = dns_server\n",
    "    handle.remove_mo(dns_server_mo)\n",
    "    handle.commit()\n",
    "    \n",
    "### Option #2, user a filter string in the query_classid method ###\n",
    "dns_provider_mos = handle.query_classid(\n",
    "  class_id='CommDnsProvider',\n",
    "  filter_str='(dn, \"sys/svc-ext/dns-svc/*\", type=\"re\")'\n",
    ")"
   ],
   "outputs": [],
   "metadata": {}
  },
  {
   "cell_type": "markdown",
   "source": [
    "---\n",
    "\n",
    "### Handle query filter"
   ],
   "metadata": {}
  },
  {
   "cell_type": "code",
   "execution_count": null,
   "source": [
    "handle.query_classid(\n",
    "    class_id=None,\n",
    "    filter_str=None,\n",
    "    hierarchy=False,\n",
    "    need_response=False,\n",
    "    timeout=None,\n",
    ")\n",
    "\"\"\" Finds an object using it's class id.\n",
    "\n",
    "    Args:\n",
    "        class_id (str): class id of the object to be queried for.\n",
    "        filter_str(str): query objects with specific property with specific value or pattern specifying value.\n",
    "\n",
    "                (property_name, \"property_value, type=\"filter_type\")\n",
    "\n",
    "                property_name: Name of the Property\n",
    "                ## example, dn (without quotes) ##\n",
    "\n",
    "                property_value: Value of the property (str or regular expression)\n",
    "                ## example, \"sys/svc-ext/dns-svc/*\" (with quotes) ##\n",
    "\n",
    "                filter_type: eq - equal to\n",
    "\n",
    "                            ne - not equal to\n",
    "\n",
    "                            ge - greater than or equal to\n",
    "\n",
    "                            gt - greater than\n",
    "\n",
    "                            le - less than or equal to\n",
    "\n",
    "                            lt - less than\n",
    "\n",
    "                            re - regular expression\n",
    "\n",
    "                            ## example, \"re\" (with quotes) ##\n",
    "\n",
    "                logical filter type: not, and, or\n",
    "\"\"\""
   ],
   "outputs": [],
   "metadata": {}
  },
  {
   "cell_type": "markdown",
   "source": [
    "---\n",
    "\n",
    "### Backup UCS configuration"
   ],
   "metadata": {}
  },
  {
   "cell_type": "code",
   "execution_count": null,
   "source": [
    "# Import the backup_ucs class\n",
    "from ucsmsdk.utils.ucsbackup import backup_ucs\n",
    "\n",
    "# Perform the backup\n",
    "backup_ucs(\n",
    "  handle,\n",
    "  'config-all',\n",
    "  './',\n",
    "  'py-sdk-config-all.xml'\n",
    ")"
   ],
   "outputs": [],
   "metadata": {}
  },
  {
   "cell_type": "code",
   "execution_count": null,
   "source": [
    "backup_ucs(\n",
    "    handle,\n",
    "    backup_type,\n",
    "    file_dir,\n",
    "    file_name,\n",
    "    timeout_in_sec=600,\n",
    "    preserve_pooled_values=False,\n",
    ")\n",
    "\"\"\" Docstring:\n",
    "    backup_ucs helps create and download Ucs backups.\n",
    "\n",
    "    Args:\n",
    "        handle (UcsHandle): Ucs Connection handle\n",
    "        backup_type (str): type of backup\n",
    "                        i.e. fullstate/config-logical/config-system/config-all\n",
    "        file_dir (str): directory to download ucs backup file to\n",
    "        file_name (str): name for the backup file\n",
    "                        (supported file extension are '.tar.gz' and '.xml')\n",
    "        timeout_in_sec (number) : time in seconds for which method waits\n",
    "                            for the backUp file to generate before it exits.\n",
    "        preserve_pooled_values (boolean): True/False,\n",
    "                                            False - by default\n",
    "\n",
    "    Example:\n",
    "        file_dir = \"/home/user/backup\"\n",
    "\n",
    "        file_name = \"config_backup.xml\"\n",
    "\n",
    "        backup_ucs(handle, backup_type=\"config-logical\",\n",
    "                    file_dir=file_dir, file_name=file_name)\n",
    "\"\"\""
   ],
   "outputs": [],
   "metadata": {}
  },
  {
   "cell_type": "markdown",
   "source": [
    "---\n",
    "\n",
    "### Import UCS configuration"
   ],
   "metadata": {}
  },
  {
   "cell_type": "code",
   "execution_count": null,
   "source": [
    "# Import UCS configuration\n",
    "from ucsmsdk.utils.ucsbackup import import_ucs_backup\n",
    "\n",
    "# Import configuration\n",
    "import_ucs_backup(\n",
    "\thandle,\n",
    "  './',\n",
    "  'py-sdk-config-all.xml',\n",
    "  merge=True\n",
    ")"
   ],
   "outputs": [],
   "metadata": {}
  }
 ],
 "metadata": {
  "orig_nbformat": 4,
  "language_info": {
   "name": "python",
   "version": "3.9.7"
  },
  "kernelspec": {
   "name": "python3",
   "display_name": "Python 3.9.7 64-bit"
  },
  "interpreter": {
   "hash": "4cd7ab41f5fca4b9b44701077e38c5ffd31fe66a6cab21e0214b68d958d0e462"
  }
 },
 "nbformat": 4,
 "nbformat_minor": 2
}