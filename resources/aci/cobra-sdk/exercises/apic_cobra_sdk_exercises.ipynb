{
 "cells": [
  {
   "cell_type": "markdown",
   "id": "8f2c3175-e432-4ce5-baea-6df9d4a471f8",
   "metadata": {},
   "source": [
    "## ACI COBRA SDK Exercises\n",
    "---\n"
   ]
  },
  {
   "cell_type": "markdown",
   "id": "892399d4-d3f8-402c-89b1-d69348fe8a07",
   "metadata": {},
   "source": [
    "### Created an authenticated session to ACI"
   ]
  },
  {
   "cell_type": "code",
   "execution_count": null,
   "id": "8aaa9089-a6c8-496b-8756-75ea4479628e",
   "metadata": {},
   "outputs": [],
   "source": [
    "# Import HTTP library\n"
   ]
  },
  {
   "cell_type": "code",
   "execution_count": null,
   "id": "6cfcbed9-6fe2-4090-b1be-cb6337eaeea3",
   "metadata": {},
   "outputs": [],
   "source": [
    "# Disable certificate warnings\n"
   ]
  },
  {
   "cell_type": "code",
   "execution_count": null,
   "id": "3625cc73-08c9-4c05-8345-b7a26c6d368b",
   "metadata": {},
   "outputs": [],
   "source": [
    "# Setup authentication constants\n",
    "APIC = 'https://sandboxapicdc.cisco.com'\n",
    "USER = 'admin'\n",
    "PW = 'ciscopsdt'"
   ]
  },
  {
   "cell_type": "code",
   "execution_count": null,
   "id": "c764a8a4-b983-473a-83b4-fddf53358835",
   "metadata": {},
   "outputs": [],
   "source": [
    "# Import classes for authentication\n"
   ]
  },
  {
   "cell_type": "code",
   "execution_count": null,
   "id": "73da5d83-69e5-45b6-9d1e-e3f0f207467e",
   "metadata": {},
   "outputs": [],
   "source": [
    "# Create and setup login session\n"
   ]
  },
  {
   "cell_type": "code",
   "execution_count": null,
   "id": "0ed95789-7f8e-4b14-99bc-2e4b6ce16c77",
   "metadata": {},
   "outputs": [],
   "source": [
    "# Log on to APIC\n"
   ]
  },
  {
   "cell_type": "markdown",
   "id": "266990e0-e10c-4e25-bb14-d527ad414c65",
   "metadata": {},
   "source": [
    "---\n",
    "### Create ACI fv objects\n",
    "\n",
    "#### Tenant, VRF, Bridge Domain, Subnet, Application Profile, EPG"
   ]
  },
  {
   "cell_type": "code",
   "execution_count": null,
   "id": "1754bafb-70dd-480f-bf09-4421d2e0e6ea",
   "metadata": {},
   "outputs": [],
   "source": [
    "# Import object classes\n"
   ]
  },
  {
   "cell_type": "code",
   "execution_count": null,
   "id": "9e89d3fb-fc45-40cf-b9e5-2731be33fd51",
   "metadata": {
    "tags": []
   },
   "outputs": [],
   "source": [
    "# Create object name constants\n",
    "TENANT_NAME = '514_tenant'\n",
    "VRF_1_NAME = 'vrf_1'\n",
    "BD_1_NAME = 'bd_1'\n",
    "SUBNET_1 = '172.16.30.1/24'\n",
    "APP_1_NAME = 'app_1'\n",
    "EPG_1_NAME = 'epg_1'\n",
    "CONTRACT_1_NAME = 'web_contract'\n",
    "FILTER_1_NAME = 'web_filter'\n",
    "ENTRY_1_NAME = 'web_entry'\n",
    "SUBJECT_1_NAME = 'web_subject'"
   ]
  },
  {
   "cell_type": "code",
   "execution_count": null,
   "id": "512f3a04-c6f0-4a1c-b097-fb9b1b3449c2",
   "metadata": {},
   "outputs": [],
   "source": [
    "# Create Tenant object\n"
   ]
  },
  {
   "cell_type": "code",
   "execution_count": null,
   "id": "319cc501-6c98-4af7-983a-96db8a8c8750",
   "metadata": {},
   "outputs": [],
   "source": [
    "# Create VRF object\n"
   ]
  },
  {
   "cell_type": "code",
   "execution_count": null,
   "id": "067ea4f2-2f9f-4688-a67a-fe0b8c215c27",
   "metadata": {},
   "outputs": [],
   "source": [
    "# Create Bridge Domain object\n"
   ]
  },
  {
   "cell_type": "code",
   "execution_count": null,
   "id": "5c7021ad-a26a-4027-a219-21e304189930",
   "metadata": {},
   "outputs": [],
   "source": [
    "# Create Subnet object\n"
   ]
  },
  {
   "cell_type": "code",
   "execution_count": null,
   "id": "c5e56b8f-6262-4fcd-b558-0e55ebbe5152",
   "metadata": {},
   "outputs": [],
   "source": [
    "# Create Application Profile object\n"
   ]
  },
  {
   "cell_type": "code",
   "execution_count": null,
   "id": "7fb69a2a-3e0f-495e-bae7-fb71a54f200a",
   "metadata": {
    "tags": []
   },
   "outputs": [],
   "source": [
    "# Create EPG object\n"
   ]
  },
  {
   "cell_type": "markdown",
   "id": "f68aa60b-5bac-4430-bdfb-bf90f506bd06",
   "metadata": {},
   "source": [
    "---\n",
    "### Create fv object relationships\n"
   ]
  },
  {
   "cell_type": "code",
   "execution_count": null,
   "id": "043bc0e6-97cf-418f-acb2-64eb763de324",
   "metadata": {},
   "outputs": [],
   "source": [
    "# Import object classes\n"
   ]
  },
  {
   "cell_type": "code",
   "execution_count": null,
   "id": "d6ac2db4-9a11-4385-a4af-438f05e71732",
   "metadata": {},
   "outputs": [],
   "source": [
    "# Associate Bridge Domain with VRF\n"
   ]
  },
  {
   "cell_type": "code",
   "execution_count": null,
   "id": "5caa8e71-5e00-422d-86ec-68c6184c17ff",
   "metadata": {},
   "outputs": [],
   "source": [
    "# Associate EPG with Bridge Domain\n"
   ]
  },
  {
   "cell_type": "markdown",
   "id": "9761130d-5dcf-45e6-964d-56ff00cd7e2b",
   "metadata": {},
   "source": [
    "---\n",
    "### Create vz objects\n",
    "#### Contract, Filter, Entry, Subject\n"
   ]
  },
  {
   "cell_type": "code",
   "execution_count": null,
   "id": "d70e93ec-1454-418b-b017-6d517a8b1529",
   "metadata": {
    "tags": []
   },
   "outputs": [],
   "source": [
    "# Import object classes\n"
   ]
  },
  {
   "cell_type": "code",
   "execution_count": null,
   "id": "b834e9d1-7edc-4b97-820c-af6c31571f9c",
   "metadata": {},
   "outputs": [],
   "source": [
    "# Create contract object\n"
   ]
  },
  {
   "cell_type": "code",
   "execution_count": null,
   "id": "cf5c4c03-7a18-4efb-bb3e-324deded20de",
   "metadata": {},
   "outputs": [],
   "source": [
    "# Create filter object\n"
   ]
  },
  {
   "cell_type": "code",
   "execution_count": null,
   "id": "eabf4ad0-a0ea-4097-911d-d1638dcb8520",
   "metadata": {},
   "outputs": [],
   "source": [
    "# Create entry object\n"
   ]
  },
  {
   "cell_type": "code",
   "execution_count": null,
   "id": "0c68eb9d-2fdc-4a67-91a6-e109cf9b0566",
   "metadata": {},
   "outputs": [],
   "source": [
    "# Populate the entry object\n"
   ]
  },
  {
   "cell_type": "code",
   "execution_count": null,
   "id": "81a0d1c6-eeac-4eb3-9086-1e355a96a0a1",
   "metadata": {},
   "outputs": [],
   "source": [
    "# Create a subject object\n"
   ]
  },
  {
   "cell_type": "markdown",
   "id": "147be23f-bede-4ff8-8dab-882226040d6b",
   "metadata": {},
   "source": [
    "---\n",
    "### Create vz object relationships\n"
   ]
  },
  {
   "cell_type": "code",
   "execution_count": null,
   "id": "3ea8641f-5726-4d71-9587-e8c8a267307c",
   "metadata": {},
   "outputs": [],
   "source": [
    "# Associate the filter with the subject\n"
   ]
  },
  {
   "cell_type": "markdown",
   "id": "8d54cf07-600b-4128-94a4-bbfee336e381",
   "metadata": {},
   "source": [
    "---\n",
    "### Build and send a request to ACI\n"
   ]
  },
  {
   "cell_type": "code",
   "execution_count": null,
   "id": "59a6ab09-aa4b-4fcd-8fe9-61190b2827ce",
   "metadata": {},
   "outputs": [],
   "source": [
    "# Import configuration object\n"
   ]
  },
  {
   "cell_type": "code",
   "execution_count": null,
   "id": "b22ee995-81af-4232-bf5d-499f265ae8a9",
   "metadata": {},
   "outputs": [],
   "source": [
    "# Create request\n"
   ]
  },
  {
   "cell_type": "code",
   "execution_count": null,
   "id": "580bfda3-16f5-4129-ad23-4f9b41003e0e",
   "metadata": {},
   "outputs": [],
   "source": [
    "# Send request\n"
   ]
  },
  {
   "cell_type": "markdown",
   "id": "c988d6a9-79d2-4db3-a483-331d13438737",
   "metadata": {},
   "source": [
    "---\n",
    "### Pause for review\n"
   ]
  },
  {
   "cell_type": "code",
   "execution_count": null,
   "id": "555224a2-2d35-49eb-a9f5-32d77ef76c77",
   "metadata": {},
   "outputs": [],
   "source": [
    "_ = input('Press Return/Enter to continue ')"
   ]
  },
  {
   "cell_type": "markdown",
   "id": "f03d0a37-1dbd-43d5-95a1-afeeed35e480",
   "metadata": {},
   "source": [
    "---\n",
    "### Remove objects fom ACI\n"
   ]
  },
  {
   "cell_type": "code",
   "execution_count": null,
   "id": "50138aaa-a5f8-40cb-8cff-44f030681777",
   "metadata": {},
   "outputs": [],
   "source": [
    "# Mark object(s) for removal\n"
   ]
  },
  {
   "cell_type": "code",
   "execution_count": null,
   "id": "17b13a84-d7d7-43d9-bf54-5c97dea02637",
   "metadata": {},
   "outputs": [],
   "source": [
    "# Create request\n"
   ]
  },
  {
   "cell_type": "code",
   "execution_count": null,
   "id": "614d026d-18e2-40ed-bb01-2633a3d9e719",
   "metadata": {},
   "outputs": [],
   "source": [
    "# Send request\n"
   ]
  }
 ],
 "metadata": {
  "kernelspec": {
   "display_name": "Python 3",
   "language": "python",
   "name": "python3"
  },
  "language_info": {
   "codemirror_mode": {
    "name": "ipython",
    "version": 3
   },
   "file_extension": ".py",
   "mimetype": "text/x-python",
   "name": "python",
   "nbconvert_exporter": "python",
   "pygments_lexer": "ipython3",
   "version": "3.9.4"
  }
 },
 "nbformat": 4,
 "nbformat_minor": 5
}
