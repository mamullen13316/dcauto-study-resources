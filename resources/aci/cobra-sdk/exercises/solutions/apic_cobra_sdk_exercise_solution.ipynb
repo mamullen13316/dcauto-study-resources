{
 "cells": [
  {
   "cell_type": "markdown",
   "id": "8f2c3175-e432-4ce5-baea-6df9d4a471f8",
   "metadata": {
    "tags": []
   },
   "source": [
    "## ACI COBRA SDK Exercises\n",
    "---\n"
   ]
  },
  {
   "cell_type": "markdown",
   "id": "892399d4-d3f8-402c-89b1-d69348fe8a07",
   "metadata": {
    "tags": []
   },
   "source": [
    "### Created authenticated session"
   ]
  },
  {
   "cell_type": "code",
   "execution_count": null,
   "id": "6cfcbed9-6fe2-4090-b1be-cb6337eaeea3",
   "metadata": {},
   "outputs": [],
   "source": [
    "# Disable certificate warnings\n",
    "from urllib3 import disable_warnings; disable_warnings()"
   ]
  },
  {
   "cell_type": "code",
   "execution_count": null,
   "id": "3625cc73-08c9-4c05-8345-b7a26c6d368b",
   "metadata": {},
   "outputs": [],
   "source": [
    "# Setup authentication constants\n",
    "APIC = 'https://sandboxapicdc.cisco.com'\n",
    "USER = 'admin'\n",
    "PW = 'ciscopsdt'"
   ]
  },
  {
   "cell_type": "code",
   "execution_count": null,
   "id": "c764a8a4-b983-473a-83b4-fddf53358835",
   "metadata": {},
   "outputs": [],
   "source": [
    "# Import classes for authentication\n",
    "from cobra.mit.access import MoDirectory\n",
    "from cobra.mit.session import LoginSession"
   ]
  },
  {
   "cell_type": "code",
   "execution_count": null,
   "id": "73da5d83-69e5-45b6-9d1e-e3f0f207467e",
   "metadata": {},
   "outputs": [],
   "source": [
    "# Create and setup login session\n",
    "session = LoginSession(APIC, USER, PW)\n",
    "moDir = MoDirectory(session)"
   ]
  },
  {
   "cell_type": "code",
   "execution_count": null,
   "id": "0ed95789-7f8e-4b14-99bc-2e4b6ce16c77",
   "metadata": {},
   "outputs": [],
   "source": [
    "# Log on to APIC\n",
    "moDir.login()"
   ]
  },
  {
   "cell_type": "markdown",
   "id": "266990e0-e10c-4e25-bb14-d527ad414c65",
   "metadata": {},
   "source": [
    "---\n",
    "### Create ACI fv objects\n",
    "\n",
    "#### Tenant, VRF, Bridge Domain, Subnet, Application Profile, EPG"
   ]
  },
  {
   "cell_type": "code",
   "execution_count": null,
   "id": "1754bafb-70dd-480f-bf09-4421d2e0e6ea",
   "metadata": {},
   "outputs": [],
   "source": [
    "# Import object classes\n",
    "from cobra.model.fv import Tenant, Ctx, BD, Subnet, Ap, AEPg"
   ]
  },
  {
   "cell_type": "code",
   "execution_count": null,
   "id": "9e89d3fb-fc45-40cf-b9e5-2731be33fd51",
   "metadata": {
    "tags": []
   },
   "outputs": [],
   "source": [
    "# Create object name constants\n",
    "TENANT_NAME = '514_tenant'\n",
    "VRF_1_NAME = 'vrf_1'\n",
    "BD_1_NAME = 'bd_1'\n",
    "SUBNET_1 = '172.16.30.1/24'\n",
    "APP_1_NAME = 'app_1'\n",
    "EPG_1_NAME = 'epg_1'\n",
    "CONTRACT_1_NAME = 'web_contract'\n",
    "FILTER_1_NAME = 'web_filter'\n",
    "ENTRY_1_NAME = 'web_entry'\n",
    "SUBJECT_1_NAME = 'web_subject'"
   ]
  },
  {
   "cell_type": "code",
   "execution_count": null,
   "id": "512f3a04-c6f0-4a1c-b097-fb9b1b3449c2",
   "metadata": {},
   "outputs": [],
   "source": [
    "# Create Tenant object\n",
    "uniMo = moDir.lookupByDn('uni')\n",
    "fvTenantMo = Tenant(uniMo, TENANT_NAME)"
   ]
  },
  {
   "cell_type": "code",
   "execution_count": null,
   "id": "319cc501-6c98-4af7-983a-96db8a8c8750",
   "metadata": {},
   "outputs": [],
   "source": [
    "# Create VRF object\n",
    "fvCtxMo = Ctx(fvTenantMo, VRF_1_NAME)"
   ]
  },
  {
   "cell_type": "code",
   "execution_count": null,
   "id": "067ea4f2-2f9f-4688-a67a-fe0b8c215c27",
   "metadata": {},
   "outputs": [],
   "source": [
    "# Create Bridge Domain object\n",
    "fvBDMo = BD(fvTenantMo, BD_1_NAME)"
   ]
  },
  {
   "cell_type": "code",
   "execution_count": null,
   "id": "5c7021ad-a26a-4027-a219-21e304189930",
   "metadata": {},
   "outputs": [],
   "source": [
    "# Create Subnet object\n",
    "fvSubnetMo = Subnet(fvBDMo, SUBNET_1)"
   ]
  },
  {
   "cell_type": "code",
   "execution_count": null,
   "id": "c5e56b8f-6262-4fcd-b558-0e55ebbe5152",
   "metadata": {},
   "outputs": [],
   "source": [
    "# Create Application Profile object\n",
    "fvApMo = Ap(fvTenantMo, APP_1_NAME)"
   ]
  },
  {
   "cell_type": "code",
   "execution_count": null,
   "id": "7fb69a2a-3e0f-495e-bae7-fb71a54f200a",
   "metadata": {},
   "outputs": [],
   "source": [
    "# Create EPG object\n",
    "fvAEPgMo = AEPg(fvApMo, EPG_1_NAME)"
   ]
  },
  {
   "cell_type": "markdown",
   "id": "5a76c1a9-3fe5-472b-9e11-c576c68f658a",
   "metadata": {},
   "source": [
    "---\n",
    "### Create fv object relationships\n"
   ]
  },
  {
   "cell_type": "code",
   "execution_count": null,
   "id": "8bc4f349-c67c-41c6-92c4-356f6e6cd7e6",
   "metadata": {},
   "outputs": [],
   "source": [
    "# Import object classes\n",
    "from cobra.model.fv import RsCtx, RsBd"
   ]
  },
  {
   "cell_type": "code",
   "execution_count": null,
   "id": "60eacbd9-26dc-4deb-b262-c3601825429a",
   "metadata": {},
   "outputs": [],
   "source": [
    "# Associate Bridge Domain with VRF\n",
    "RsCtx(fvBDMo, tnFvCtxName=fvCtxMo.name)"
   ]
  },
  {
   "cell_type": "code",
   "execution_count": null,
   "id": "92e346bd-455a-4469-b1e6-7d46e256a753",
   "metadata": {},
   "outputs": [],
   "source": [
    "# Associate EPG with Bridge Domain\n",
    "RsBd(fvAEPgMo, tnFvBDName=fvBDMo.name)"
   ]
  },
  {
   "cell_type": "markdown",
   "id": "e4b67352-67c1-45ce-9602-82ad5f8a1f61",
   "metadata": {},
   "source": [
    "---\n",
    "### Create vz objects\n",
    "#### Contract, Filter, Entry, Subject\n"
   ]
  },
  {
   "cell_type": "code",
   "execution_count": null,
   "id": "4f464af2-a284-4d51-ac31-524740c7baf4",
   "metadata": {
    "tags": []
   },
   "outputs": [],
   "source": [
    "# Import object classes\n",
    "from cobra.model.vz import Entry, Filter, BrCP, Subj, RsSubjFiltAtt"
   ]
  },
  {
   "cell_type": "code",
   "execution_count": null,
   "id": "febe28b6-8ae2-4382-98c8-1a0f0c4054bf",
   "metadata": {},
   "outputs": [],
   "source": [
    "# Create contract object\n",
    "vzBrCPMo = BrCP(fvTenantMo, CONTRACT_1_NAME)"
   ]
  },
  {
   "cell_type": "code",
   "execution_count": null,
   "id": "75547adc-e157-41b8-930b-8fb5d2773c2e",
   "metadata": {},
   "outputs": [],
   "source": [
    "# Create filter object\n",
    "vzFilterMo = Filter(fvTenantMo, FILTER_1_NAME)"
   ]
  },
  {
   "cell_type": "code",
   "execution_count": null,
   "id": "f5194976-70d9-4682-9d8d-c369d750af89",
   "metadata": {},
   "outputs": [],
   "source": [
    "# Create entry object\n",
    "vzEntryMo = Entry(vzFilterMo, ENTRY_1_NAME)"
   ]
  },
  {
   "cell_type": "code",
   "execution_count": null,
   "id": "6cf3e62b-9d9b-4169-ab1f-986049c80fb8",
   "metadata": {},
   "outputs": [],
   "source": [
    "# Populate the entry object\n",
    "vzEntryMo.dFromPort = 80\n",
    "vzEntryMo.dToPort = 80\n",
    "vzEntryMo.prot = 6\n",
    "vzEntryMo.etherT = 'ip'"
   ]
  },
  {
   "cell_type": "code",
   "execution_count": null,
   "id": "4721cc49-3859-4811-b48d-1d7a129d69a6",
   "metadata": {},
   "outputs": [],
   "source": [
    "# Create a subject object\n",
    "vzSubjMo = Subj(vzBrCPMo, SUBJECT_1_NAME)"
   ]
  },
  {
   "cell_type": "markdown",
   "id": "fa2be20c-fd67-4fb9-918e-c4427f6e8adf",
   "metadata": {},
   "source": [
    "---\n",
    "### Create vz object relationships\n"
   ]
  },
  {
   "cell_type": "code",
   "execution_count": null,
   "id": "6890d06b-6e32-451e-bfa6-3f6d5829fc0c",
   "metadata": {},
   "outputs": [],
   "source": [
    "# Associate the filter with the subject\n",
    "RsSubjFiltAtt(vzSubjMo, tnVzFilterName=vzFilterMo.name)"
   ]
  },
  {
   "cell_type": "markdown",
   "id": "8d54cf07-600b-4128-94a4-bbfee336e381",
   "metadata": {},
   "source": [
    "---\n",
    "### Build and send request to APIC\n"
   ]
  },
  {
   "cell_type": "code",
   "execution_count": null,
   "id": "59a6ab09-aa4b-4fcd-8fe9-61190b2827ce",
   "metadata": {},
   "outputs": [],
   "source": [
    "# Import configuration object\n",
    "from cobra.mit.request import ConfigRequest"
   ]
  },
  {
   "cell_type": "code",
   "execution_count": null,
   "id": "b22ee995-81af-4232-bf5d-499f265ae8a9",
   "metadata": {},
   "outputs": [],
   "source": [
    "# Create request\n",
    "cfgReq = ConfigRequest()\n",
    "cfgReq.addMo(fvTenantMo)"
   ]
  },
  {
   "cell_type": "code",
   "execution_count": null,
   "id": "580bfda3-16f5-4129-ad23-4f9b41003e0e",
   "metadata": {},
   "outputs": [],
   "source": [
    "# Send request\n",
    "moDir.login()\n",
    "moDir.commit(cfgReq)"
   ]
  },
  {
   "cell_type": "markdown",
   "id": "c988d6a9-79d2-4db3-a483-331d13438737",
   "metadata": {},
   "source": [
    "---\n",
    "### Pause for review\n"
   ]
  },
  {
   "cell_type": "code",
   "execution_count": null,
   "id": "555224a2-2d35-49eb-a9f5-32d77ef76c77",
   "metadata": {},
   "outputs": [],
   "source": [
    "_ = input('Press Return/Enter to continue ')"
   ]
  },
  {
   "cell_type": "markdown",
   "id": "f03d0a37-1dbd-43d5-95a1-afeeed35e480",
   "metadata": {},
   "source": [
    "---\n",
    "### Remove objects\n"
   ]
  },
  {
   "cell_type": "code",
   "execution_count": null,
   "id": "50138aaa-a5f8-40cb-8cff-44f030681777",
   "metadata": {},
   "outputs": [],
   "source": [
    "# Mark object(s) for removal\n",
    "fvTenantMo.delete()"
   ]
  },
  {
   "cell_type": "code",
   "execution_count": null,
   "id": "17b13a84-d7d7-43d9-bf54-5c97dea02637",
   "metadata": {},
   "outputs": [],
   "source": [
    "# Create request\n",
    "cfgReq = ConfigRequest()\n",
    "cfgReq.addMo(fvTenantMo)"
   ]
  },
  {
   "cell_type": "code",
   "execution_count": null,
   "id": "614d026d-18e2-40ed-bb01-2633a3d9e719",
   "metadata": {},
   "outputs": [],
   "source": [
    "# Send request\n",
    "moDir.login()\n",
    "moDir.commit(cfgReq)"
   ]
  }
 ],
 "metadata": {
  "kernelspec": {
   "display_name": "Python 3",
   "language": "python",
   "name": "python3"
  },
  "language_info": {
   "codemirror_mode": {
    "name": "ipython",
    "version": 3
   },
   "file_extension": ".py",
   "mimetype": "text/x-python",
   "name": "python",
   "nbconvert_exporter": "python",
   "pygments_lexer": "ipython3",
   "version": "3.8.0rc1"
  }
 },
 "nbformat": 4,
 "nbformat_minor": 5
}
