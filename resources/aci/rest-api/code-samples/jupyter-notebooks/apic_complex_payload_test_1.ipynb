{
 "cells": [
  {
   "cell_type": "code",
   "execution_count": 6,
   "id": "b71916e7-5999-493b-b8db-db7be9c2bbd2",
   "metadata": {},
   "outputs": [],
   "source": [
    "import requests\n",
    "requests.packages.urllib3.disable_warnings()"
   ]
  },
  {
   "cell_type": "code",
   "execution_count": 7,
   "id": "8fefb23c-cfb2-45e4-9cf0-cc98d4f21e0c",
   "metadata": {},
   "outputs": [],
   "source": [
    "APIC = 'https://sandboxapicdc.cisco.com/api'\n",
    "NAME = 'admin'\n",
    "PWD = 'ciscopsdt'"
   ]
  },
  {
   "cell_type": "code",
   "execution_count": 8,
   "id": "424c1958-efbd-4bac-af96-ce241378da35",
   "metadata": {},
   "outputs": [],
   "source": [
    "login_json = {\n",
    "    'aaaUser': {\n",
    "        'attributes': {\n",
    "            'name': NAME,\n",
    "            'pwd': PWD\n",
    "        }\n",
    "    }\n",
    "}"
   ]
  },
  {
   "cell_type": "code",
   "execution_count": 17,
   "id": "f1f79bbb-5bba-4317-a93f-7a49a3477b13",
   "metadata": {},
   "outputs": [],
   "source": [
    "def apic_login():\n",
    "    url = f'{APIC}/aaaLogin.json'\n",
    "    r = requests.post(\n",
    "        url=url,\n",
    "        json=login_json,\n",
    "        verify=False,\n",
    "        timeout=3\n",
    "    )\n",
    "\n",
    "    print(f'{r.status_code} {r.reason}')\n",
    "\n",
    "    token = r.json()['imdata'][0]['aaaLogin']['attributes']['token']\n",
    "    cookie = {'APIC-cookie': token}\n",
    "    \n",
    "    return cookie"
   ]
  },
  {
   "cell_type": "code",
   "execution_count": 18,
   "id": "c1e36aca-dfe8-4c71-bedc-8e55397cc55a",
   "metadata": {},
   "outputs": [
    {
     "name": "stdout",
     "output_type": "stream",
     "text": [
      "200 OK\n",
      "{'APIC-cookie': 'pzkBAAAAAAAAAAAAAAAAALOFPPb6wrMq9/3ScFrN43Mbr4hgU1Fl9gCkTud3VAqke3yX36uMgGs3PACRcje7TFKENidenKn1Dy8ItcDj23nAumEfl1DUqEJYr+2o1YnwRdG6fQskrDCqS+nJn+jceGmPsMMwdLcjp1nMmtbk92aHWhONNCzMi66iflsH9FQFdIrstxDKFxOcWdGLkaOAkw=='}\n"
     ]
    }
   ],
   "source": [
    "cookie = apic_login()\n",
    "print(cookie)"
   ]
  },
  {
   "cell_type": "code",
   "execution_count": 38,
   "id": "4e7e3d68-cf88-49f7-86bd-e408fb8cca1b",
   "metadata": {
    "tags": []
   },
   "outputs": [],
   "source": [
    "# Create and associate the following objects\n",
    "\"\"\"\n",
    "*Tenant\n",
    "*VRF\n",
    "*BD\n",
    "*App Profile\n",
    "*EPG\n",
    "Contract\n",
    "Filter\n",
    "Entry\n",
    "Subject\n",
    "\"\"\"\n",
    "json = {\n",
    "    'fvTenant': {\n",
    "        'attributes': {\n",
    "            'name': '_th_tenant'\n",
    "        },\n",
    "        'children': [\n",
    "            {\n",
    "                'fvCtx': {\n",
    "                    'attributes': {\n",
    "                        'name': 'th_ctx',\n",
    "                        'descr': 'TH CTX'\n",
    "                    }\n",
    "                }\n",
    "            },\n",
    "            {\n",
    "                'fvBD': {\n",
    "                    'attributes': {\n",
    "                        'name': 'th_bd',\n",
    "                        'descr': 'TH BD'\n",
    "                    }\n",
    "                }\n",
    "            },\n",
    "            {\n",
    "                'fvAp': {\n",
    "                    'attributes': {\n",
    "                        'name': 'th_ap',\n",
    "                        'descr': 'TH AP'\n",
    "                    },\n",
    "                    'children': [\n",
    "                        {\n",
    "                            'fvAEPg': {\n",
    "                                'attributes': {\n",
    "                                    'name': 'th_epg',\n",
    "                                    'descr': 'TH EPG'\n",
    "                                }\n",
    "                            }\n",
    "                        }\n",
    "                    ]\n",
    "                }\n",
    "            },\n",
    "            {\n",
    "                'vzBrCP': {\n",
    "                    'attributes': {\n",
    "                        'name': 'th_contract',\n",
    "                        'descr': 'TH Contract'\n",
    "                    }\n",
    "                }\n",
    "            }\n",
    "        ]\n",
    "    }\n",
    "}"
   ]
  },
  {
   "cell_type": "code",
   "execution_count": 39,
   "id": "a627271d-7c3f-4bc6-b302-70b8d795abf9",
   "metadata": {},
   "outputs": [
    {
     "name": "stdout",
     "output_type": "stream",
     "text": [
      "200 OK\n",
      "200 OK\n",
      "{'totalCount': '1', 'imdata': [{'fvTenant': {'attributes': {'annotation': '', 'childAction': 'deleteNonPresent', 'descr': '', 'dn': 'uni/tn-_squiggle', 'extMngdBy': '', 'lcOwn': 'local', 'modTs': '2021-05-10T08:48:29.845', 'monPolDn': '', 'name': '_squiggle', 'nameAlias': '', 'ownerKey': '', 'ownerTag': '', 'rn': '', 'status': 'created', 'uid': '15374'}, 'children': [{'fvAp': {'attributes': {'annotation': '', 'childAction': 'deleteNonPresent', 'descr': 'Get the bag - please', 'extMngdBy': '', 'lcOwn': 'local', 'modTs': '2021-05-10T08:48:29.845', 'monPolDn': '', 'name': 'pea_flakes', 'nameAlias': '', 'ownerKey': '', 'ownerTag': '', 'prio': 'unspecified', 'rn': 'ap-pea_flakes', 'status': 'created', 'uid': '15374'}, 'children': [{'fvAEPg': {'attributes': {'annotation': '', 'childAction': 'deleteNonPresent', 'configIssues': '', 'configSt': 'not-applied', 'descr': 'Octothorpe Cute Noises', 'exceptionTag': '', 'extMngdBy': '', 'floodOnEncap': 'disabled', 'fwdCtrl': '', 'hasMcastSource': 'no', 'isAttrBasedEPg': 'no', 'isSharedSrvMsiteEPg': 'no', 'lcOwn': 'local', 'matchT': 'AtleastOne', 'modTs': '2021-05-10T08:48:29.845', 'monPolDn': '', 'name': 'week_week_tribble_tribble', 'nameAlias': '', 'pcEnfPref': 'unenforced', 'pcTag': 'any', 'prefGrMemb': 'exclude', 'prio': 'unspecified', 'rn': 'epg-week_week_tribble_tribble', 'scope': '0', 'shutdown': 'no', 'status': 'created', 'triggerSt': 'not_triggerable', 'txId': '0', 'uid': '15374'}, 'children': [{'fvRsBd': {'attributes': {'annotation': '', 'childAction': 'deleteNonPresent', 'extMngdBy': '', 'forceResolve': 'yes', 'lcOwn': 'local', 'modTs': '2021-05-10T08:48:29.845', 'monPolDn': '', 'rType': 'mo', 'rn': 'rsbd', 'state': 'unformed', 'stateQual': 'none', 'status': 'created', 'tCl': 'fvBD', 'tContextDn': '', 'tDn': '', 'tRn': '', 'tType': 'name', 'tnFvBDName': '', 'uid': '0'}}}, {'fvRsCustQosPol': {'attributes': {'annotation': '', 'childAction': 'deleteNonPresent', 'extMngdBy': '', 'forceResolve': 'yes', 'lcOwn': 'local', 'modTs': '2021-05-10T08:48:29.845', 'monPolDn': '', 'rType': 'mo', 'rn': 'rscustQosPol', 'state': 'unformed', 'stateQual': 'none', 'status': 'created', 'tCl': 'qosCustomPol', 'tContextDn': '', 'tDn': '', 'tRn': '', 'tType': 'name', 'tnQosCustomPolName': '', 'uid': '0'}}}]}}]}}, {'fvRsTenantMonPol': {'attributes': {'annotation': '', 'childAction': 'deleteNonPresent', 'extMngdBy': '', 'forceResolve': 'yes', 'lcOwn': 'local', 'modTs': '2021-05-10T08:48:29.845', 'monPolDn': '', 'rType': 'mo', 'rn': 'rsTenantMonPol', 'state': 'unformed', 'stateQual': 'none', 'status': 'created', 'tCl': 'monEPGPol', 'tContextDn': '', 'tDn': '', 'tRn': '', 'tType': 'name', 'tnMonEPGPolName': '', 'uid': '0'}}}, {'fvBD': {'attributes': {'OptimizeWanBandwidth': 'no', 'annotation': '', 'arpFlood': 'no', 'bcastP': '0.0.0.0', 'childAction': 'deleteNonPresent', 'configIssues': '', 'descr': 'Darcys Gofer', 'epClear': 'no', 'epMoveDetectMode': '', 'extMngdBy': '', 'hostBasedRouting': 'no', 'intersiteBumTrafficAllow': 'no', 'intersiteL2Stretch': 'no', 'ipLearning': 'yes', 'lcOwn': 'local', 'limitIpLearnToSubnets': 'yes', 'llAddr': '0.0.0.0', 'mac': '00:22:BD:F8:19:FF', 'mcastAllow': 'no', 'modTs': '2021-05-10T08:48:29.845', 'monPolDn': '', 'mtu': 'inherit', 'multiDstPktAct': 'bd-flood', 'name': 'Sookie', 'nameAlias': '', 'ownerKey': '', 'ownerTag': '', 'pcTag': 'any', 'rn': 'BD-Sookie', 'scope': '0', 'seg': '0', 'status': 'created', 'type': 'regular', 'uid': '15374', 'unicastRoute': 'yes', 'unkMacUcastAct': 'proxy', 'unkMcastAct': 'flood', 'v6unkMcastAct': 'flood', 'vmac': 'not-applicable'}, 'children': [{'fvRsBDToNdP': {'attributes': {'annotation': '', 'childAction': 'deleteNonPresent', 'extMngdBy': '', 'forceResolve': 'yes', 'lcOwn': 'local', 'modTs': '2021-05-10T08:48:29.845', 'monPolDn': '', 'rType': 'mo', 'rn': 'rsBDToNdP', 'state': 'unformed', 'stateQual': 'none', 'status': 'created', 'tCl': 'ndIfPol', 'tContextDn': '', 'tDn': '', 'tRn': '', 'tType': 'name', 'tnNdIfPolName': '', 'uid': '0'}}}, {'fvRsBdToEpRet': {'attributes': {'annotation': '', 'childAction': 'deleteNonPresent', 'extMngdBy': '', 'forceResolve': 'yes', 'lcOwn': 'local', 'modTs': '2021-05-10T08:48:29.845', 'monPolDn': '', 'rType': 'mo', 'resolveAct': 'resolve', 'rn': 'rsbdToEpRet', 'state': 'unformed', 'stateQual': 'none', 'status': 'created', 'tCl': 'fvEpRetPol', 'tContextDn': '', 'tDn': '', 'tRn': '', 'tType': 'name', 'tnFvEpRetPolName': '', 'uid': '0'}}}, {'fvRsCtx': {'attributes': {'annotation': '', 'childAction': 'deleteNonPresent', 'extMngdBy': '', 'forceResolve': 'yes', 'lcOwn': 'local', 'modTs': '2021-05-10T08:48:29.845', 'monPolDn': '', 'rType': 'mo', 'rn': 'rsctx', 'state': 'unformed', 'stateQual': 'none', 'status': 'created', 'tCl': 'fvCtx', 'tContextDn': '', 'tDn': '', 'tRn': '', 'tType': 'name', 'tnFvCtxName': '', 'uid': '0'}}}, {'fvRsIgmpsn': {'attributes': {'annotation': '', 'childAction': 'deleteNonPresent', 'extMngdBy': '', 'forceResolve': 'yes', 'lcOwn': 'local', 'modTs': '2021-05-10T08:48:29.845', 'monPolDn': '', 'rType': 'mo', 'rn': 'rsigmpsn', 'state': 'unformed', 'stateQual': 'none', 'status': 'created', 'tCl': 'igmpSnoopPol', 'tContextDn': '', 'tDn': '', 'tRn': '', 'tType': 'name', 'tnIgmpSnoopPolName': '', 'uid': '0'}}}, {'fvRsMldsn': {'attributes': {'annotation': '', 'childAction': 'deleteNonPresent', 'extMngdBy': '', 'forceResolve': 'yes', 'lcOwn': 'local', 'modTs': '2021-05-10T08:48:29.845', 'monPolDn': '', 'rType': 'mo', 'rn': 'rsmldsn', 'state': 'unformed', 'stateQual': 'none', 'status': 'created', 'tCl': 'mldSnoopPol', 'tContextDn': '', 'tDn': '', 'tRn': '', 'tType': 'name', 'tnMldSnoopPolName': '', 'uid': '0'}}}]}}, {'fvCtx': {'attributes': {'annotation': '', 'bdEnforcedEnable': 'no', 'childAction': 'deleteNonPresent', 'descr': 'Fluff Muffin', 'extMngdBy': '', 'ipDataPlaneLearning': 'enabled', 'knwMcastAct': 'permit', 'lcOwn': 'local', 'modTs': '2021-05-10T08:48:29.845', 'monPolDn': '', 'name': 'Darcy', 'nameAlias': '', 'ownerKey': '', 'ownerTag': '', 'pcEnfDir': 'ingress', 'pcEnfDirUpdated': 'no', 'pcEnfPref': 'enforced', 'pcTag': 'any', 'rn': 'ctx-Darcy', 'scope': '0', 'seg': '0', 'status': 'created', 'uid': '15374'}, 'children': [{'fvRsBgpCtxPol': {'attributes': {'annotation': '', 'childAction': 'deleteNonPresent', 'extMngdBy': '', 'forceResolve': 'yes', 'lcOwn': 'local', 'modTs': '2021-05-10T08:48:29.845', 'monPolDn': '', 'rType': 'mo', 'rn': 'rsbgpCtxPol', 'state': 'unformed', 'stateQual': 'none', 'status': 'created', 'tCl': 'bgpCtxPol', 'tContextDn': '', 'tDn': '', 'tRn': '', 'tType': 'name', 'tnBgpCtxPolName': '', 'uid': '0'}}}, {'fvRsCtxToExtRouteTagPol': {'attributes': {'annotation': '', 'childAction': 'deleteNonPresent', 'extMngdBy': '', 'forceResolve': 'yes', 'lcOwn': 'local', 'modTs': '2021-05-10T08:48:29.845', 'monPolDn': '', 'rType': 'mo', 'rn': 'rsctxToExtRouteTagPol', 'state': 'unformed', 'stateQual': 'none', 'status': 'created', 'tCl': 'l3extRouteTagPol', 'tContextDn': '', 'tDn': '', 'tRn': '', 'tType': 'name', 'tnL3extRouteTagPolName': '', 'uid': '0'}}}, {'fvRsCtxToEpRet': {'attributes': {'annotation': '', 'childAction': 'deleteNonPresent', 'extMngdBy': '', 'forceResolve': 'yes', 'lcOwn': 'local', 'modTs': '2021-05-10T08:48:29.845', 'monPolDn': '', 'rType': 'mo', 'rn': 'rsctxToEpRet', 'state': 'unformed', 'stateQual': 'none', 'status': 'created', 'tCl': 'fvEpRetPol', 'tContextDn': '', 'tDn': '', 'tRn': '', 'tType': 'name', 'tnFvEpRetPolName': '', 'uid': '0'}}}, {'fvRsOspfCtxPol': {'attributes': {'annotation': '', 'childAction': 'deleteNonPresent', 'extMngdBy': '', 'forceResolve': 'yes', 'lcOwn': 'local', 'modTs': '2021-05-10T08:48:29.845', 'monPolDn': '', 'rType': 'mo', 'rn': 'rsospfCtxPol', 'state': 'unformed', 'stateQual': 'none', 'status': 'created', 'tCl': 'ospfCtxPol', 'tContextDn': '', 'tDn': '', 'tRn': '', 'tType': 'name', 'tnOspfCtxPolName': '', 'uid': '0'}}}, {'vzAny': {'attributes': {'annotation': '', 'childAction': 'deleteNonPresent', 'configSt': 'not-applied', 'descr': '', 'extMngdBy': '', 'lcOwn': 'local', 'matchT': 'AtleastOne', 'modTs': '2021-05-10T08:48:29.845', 'monPolDn': '', 'name': '', 'nameAlias': '', 'pcTag': 'any', 'prefGrMemb': 'disabled', 'rn': 'any', 'status': 'created', 'txId': '0', 'uid': '0', 'useAnyDef': 'no'}}}, {'fvRsVrfValidationPol': {'attributes': {'annotation': '', 'childAction': 'deleteNonPresent', 'extMngdBy': '', 'forceResolve': 'yes', 'lcOwn': 'local', 'modTs': '2021-05-10T08:48:29.845', 'monPolDn': '', 'rType': 'mo', 'rn': 'rsvrfValidationPol', 'state': 'unformed', 'stateQual': 'none', 'status': 'created', 'tCl': 'l3extVrfValidationPol', 'tContextDn': '', 'tDn': '', 'tRn': '', 'tType': 'name', 'tnL3extVrfValidationPolName': '', 'uid': '0'}}}]}}, {'vnsSvcCont': {'attributes': {'annotation': '', 'childAction': 'deleteNonPresent', 'extMngdBy': '', 'lcOwn': 'local', 'modTs': '2021-05-10T08:48:29.845', 'monPolDn': '', 'rn': 'svcCont', 'status': 'created', 'uid': '0'}}}, {'vzBrCP': {'attributes': {'annotation': '', 'childAction': 'deleteNonPresent', 'configIssues': '', 'descr': 'IDK', 'extMngdBy': '', 'lcOwn': 'local', 'modTs': '2021-05-10T08:48:29.845', 'monPolDn': '', 'name': 'idk_wtf_lolmfao', 'nameAlias': '', 'ownerKey': '', 'ownerTag': '', 'prio': 'unspecified', 'reevaluateAll': 'no', 'rn': 'brc-idk_wtf_lolmfao', 'scope': 'context', 'status': 'created', 'targetDscp': 'unspecified', 'uid': '15374'}}}]}}]}\n"
     ]
    }
   ],
   "source": [
    "cookie = apic_login()\n",
    "url = f'{APIC}/mo/uni.json?rsp-subtree=modified'\n",
    "r = requests.post(\n",
    "    url=url,\n",
    "    json=json,\n",
    "    cookies=cookie,\n",
    "    verify=False,\n",
    "    timeout=3\n",
    ")\n",
    "\n",
    "print(f'{r.status_code} {r.reason}')\n",
    "if r.ok is True:\n",
    "    print(r.json())\n",
    "else:\n",
    "    print(r.text)"
   ]
  },
  {
   "cell_type": "code",
   "execution_count": 41,
   "id": "4b27eedf-6a9b-444b-af70-f5b66f16cfc3",
   "metadata": {},
   "outputs": [
    {
     "name": "stdout",
     "output_type": "stream",
     "text": [
      "200 OK\n",
      "{'totalCount': '1', 'imdata': [{'fvTenant': {'attributes': {'annotation': '', 'childAction': 'deleteNonPresent', 'descr': '', 'dn': 'uni/tn-_squiggle', 'extMngdBy': '', 'lcOwn': 'local', 'modTs': '2021-05-10T08:53:42.708', 'monPolDn': '', 'name': '_squiggle', 'nameAlias': '', 'ownerKey': '', 'ownerTag': '', 'rn': '', 'status': 'deleted', 'uid': '15374'}}}]}\n"
     ]
    }
   ],
   "source": [
    "cookie = apic_login()\n",
    "url = f'{APIC}/mo/uni/tn-_squiggle.json?rsp-subtree=modified'\n",
    "\n",
    "r = requests.delete(\n",
    "    url=url,\n",
    "    cookies=cookie,\n",
    "    verify=False,\n",
    "    timeout=5\n",
    ")\n",
    "\n",
    "print(r.json())"
   ]
  }
 ],
 "metadata": {
  "kernelspec": {
   "display_name": "Python 3",
   "language": "python",
   "name": "python3"
  },
  "language_info": {
   "codemirror_mode": {
    "name": "ipython",
    "version": 3
   },
   "file_extension": ".py",
   "mimetype": "text/x-python",
   "name": "python",
   "nbconvert_exporter": "python",
   "pygments_lexer": "ipython3",
   "version": "3.8.0rc1"
  }
 },
 "nbformat": 4,
 "nbformat_minor": 5
}
