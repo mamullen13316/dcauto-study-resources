{
 "cells": [
  {
   "cell_type": "markdown",
   "id": "1111ca46-1beb-4d06-8d5a-c3aee95142a8",
   "metadata": {},
   "source": [
    "## ACI REST Exercises\n",
    "---\n"
   ]
  },
  {
   "cell_type": "markdown",
   "id": "af81b694-3894-4282-a382-9e2ca646d27b",
   "metadata": {},
   "source": [
    "### Authenticate and get cookie (no requests.sessions object)\n"
   ]
  },
  {
   "cell_type": "code",
   "execution_count": null,
   "id": "9b577e8b-9f74-4623-9e74-3cf4168c6599",
   "metadata": {
    "tags": []
   },
   "outputs": [],
   "source": [
    "# Import HTTP libraries\n"
   ]
  },
  {
   "cell_type": "code",
   "execution_count": null,
   "id": "cf70fb5a-d8b0-4013-9c7b-0c0d9a7eb6b9",
   "metadata": {},
   "outputs": [],
   "source": [
    "# Disable certificate warnings\n"
   ]
  },
  {
   "cell_type": "code",
   "execution_count": null,
   "id": "25696318-686f-4dbf-8e7a-839f70f31190",
   "metadata": {},
   "outputs": [],
   "source": [
    "# Setup authentication constants\n",
    "APIC_URL = 'https://sandboxapicdc.cisco.com/api'\n",
    "USER = 'admin'\n",
    "PASSWORD = 'ciscopsdt'"
   ]
  },
  {
   "cell_type": "code",
   "execution_count": null,
   "id": "9ebe5822-f51c-4bf3-a59c-51fb38e02439",
   "metadata": {},
   "outputs": [],
   "source": [
    "# JSON Payload\n",
    "\n",
    "# XML Payload\n"
   ]
  },
  {
   "cell_type": "code",
   "execution_count": null,
   "id": "0205aaef-a110-40f0-8cd7-fbf615070613",
   "metadata": {},
   "outputs": [],
   "source": [
    "# Create JSON login function\n",
    "def apic_login():\n",
    "    pass\n",
    "\n",
    "    # Display JSON cookie\n",
    "\n",
    "    # Prepare cookie for reuse\n",
    "\n",
    "    # Return cookie\n"
   ]
  },
  {
   "cell_type": "code",
   "execution_count": null,
   "id": "7437857a-26c2-4cd2-aea2-4b7ee060ecfb",
   "metadata": {},
   "outputs": [],
   "source": [
    "# Create XML login function\n",
    "def xml_apic_login():\n",
    "    pass\n",
    "    \n",
    "    # Display XML cookie\n",
    "\n",
    "    # Prepare cookie for reuse\n",
    "\n",
    "    # Return cookie\n"
   ]
  },
  {
   "cell_type": "markdown",
   "id": "75d397eb-76f5-45a2-ba46-13e88f7bd00f",
   "metadata": {},
   "source": [
    "---\n",
    "### Create new object with a payload body (no DN in the URL)\n",
    "#### Add query paramater to return a response body with new object details\n"
   ]
  },
  {
   "cell_type": "code",
   "execution_count": null,
   "id": "0d452086-fae1-4dfc-955d-1ad425eefec9",
   "metadata": {
    "tags": []
   },
   "outputs": [],
   "source": [
    "# Create and send API request\n"
   ]
  },
  {
   "cell_type": "code",
   "execution_count": null,
   "id": "8ce89acc-0454-442b-9e01-1303e6b97759",
   "metadata": {},
   "outputs": [],
   "source": [
    "# Display status code and reason\n"
   ]
  },
  {
   "cell_type": "code",
   "execution_count": null,
   "id": "c2165dbd-9f80-4093-85f1-accbd3b34e8f",
   "metadata": {},
   "outputs": [],
   "source": [
    "# Display response body\n"
   ]
  },
  {
   "cell_type": "markdown",
   "id": "85a291e1-b06d-455c-b6c1-17b9161df592",
   "metadata": {},
   "source": [
    "---\n",
    "## Create new object with DN in the URL\n",
    "#### Add query paramater to return a response body with new object details\n"
   ]
  },
  {
   "cell_type": "code",
   "execution_count": null,
   "id": "06c10bda-0e42-442a-9285-79d8268ceddc",
   "metadata": {
    "tags": []
   },
   "outputs": [],
   "source": [
    "# Create and send API request\n"
   ]
  },
  {
   "cell_type": "code",
   "execution_count": null,
   "id": "0452a553-8893-4df2-96cf-0cef1332658c",
   "metadata": {},
   "outputs": [],
   "source": [
    "# Display status code and reason\n"
   ]
  },
  {
   "cell_type": "code",
   "execution_count": null,
   "id": "bfae316c-c3a3-4e75-9939-5bd4da8b7355",
   "metadata": {},
   "outputs": [],
   "source": [
    "# Display response body\n"
   ]
  },
  {
   "cell_type": "markdown",
   "id": "1878f36c-f9fb-410d-bf56-a26b351910c4",
   "metadata": {},
   "source": [
    "---\n",
    "## Get object with class URL\n",
    "#### Add query paramater to filter by object name\n"
   ]
  },
  {
   "cell_type": "code",
   "execution_count": null,
   "id": "0a0b18f7-5bd6-4015-a94d-05e4d4412aa2",
   "metadata": {
    "tags": []
   },
   "outputs": [],
   "source": [
    "# Create and send API request\n"
   ]
  },
  {
   "cell_type": "code",
   "execution_count": null,
   "id": "370e05cc-f827-4068-a118-2e922ddf80c0",
   "metadata": {},
   "outputs": [],
   "source": [
    "# Display status code and reason\n"
   ]
  },
  {
   "cell_type": "code",
   "execution_count": null,
   "id": "94ee8b21-d12d-4406-aff3-198593e1ad1f",
   "metadata": {},
   "outputs": [],
   "source": [
    "# Display response body\n"
   ]
  },
  {
   "cell_type": "markdown",
   "id": "08c703ce-01da-4c19-8b02-04c02925543e",
   "metadata": {},
   "source": [
    "---\n",
    "## Get object with DN URL\n"
   ]
  },
  {
   "cell_type": "code",
   "execution_count": null,
   "id": "0bdc6007-cb97-4c8f-aab0-f975f6e5515f",
   "metadata": {
    "tags": []
   },
   "outputs": [],
   "source": [
    "# Create and send API request\n"
   ]
  },
  {
   "cell_type": "code",
   "execution_count": null,
   "id": "28b2b852-2e9d-4642-b28f-72b6c7f08c0a",
   "metadata": {},
   "outputs": [],
   "source": [
    "# Display status code and reason\n"
   ]
  },
  {
   "cell_type": "code",
   "execution_count": null,
   "id": "521e80f8-ec9e-47f0-b51f-9a6b925fb0e3",
   "metadata": {},
   "outputs": [],
   "source": [
    "# Display response body\n"
   ]
  },
  {
   "cell_type": "markdown",
   "id": "d58c10d2-cbcc-4a9c-b986-9cc28b0e5f18",
   "metadata": {},
   "source": [
    "---\n",
    "### Pause for review\n"
   ]
  },
  {
   "cell_type": "code",
   "execution_count": null,
   "id": "8cd61b1a-cf03-45c5-99d2-bb27b3d963ab",
   "metadata": {},
   "outputs": [],
   "source": [
    "_ = input('Press Return/Enter to continue ')"
   ]
  },
  {
   "cell_type": "markdown",
   "id": "5acc0a5e-f97a-46b6-a7ff-df97ffe0e33b",
   "metadata": {},
   "source": [
    "---\n",
    "## Delete object with a payload body\n",
    "#### Add query paramater to return a response body with new object details\n"
   ]
  },
  {
   "cell_type": "code",
   "execution_count": null,
   "id": "5764906d-1a21-4e8f-8d8a-303b7eab46ca",
   "metadata": {
    "tags": []
   },
   "outputs": [],
   "source": [
    "# Create and send API request\n"
   ]
  },
  {
   "cell_type": "code",
   "execution_count": null,
   "id": "ad2230fe-0866-4429-b308-9d28a256326d",
   "metadata": {},
   "outputs": [],
   "source": [
    "# Display status code and reason\n"
   ]
  },
  {
   "cell_type": "code",
   "execution_count": null,
   "id": "7f056595-37b6-44e8-8e8d-7f9c7b6b7640",
   "metadata": {},
   "outputs": [],
   "source": [
    "# Display response body\n"
   ]
  },
  {
   "cell_type": "markdown",
   "id": "2758b9d7-41b2-42f2-862b-3693ebe657e3",
   "metadata": {},
   "source": [
    "---\n",
    "## Delete object with DN URL\n"
   ]
  },
  {
   "cell_type": "code",
   "execution_count": null,
   "id": "7e8ae317-0c69-4c3c-9f41-4be737b3854d",
   "metadata": {
    "tags": []
   },
   "outputs": [],
   "source": [
    "# Create and send API request\n"
   ]
  },
  {
   "cell_type": "code",
   "execution_count": null,
   "id": "3aae4a26-904e-4a6d-8b91-6b9065d57c38",
   "metadata": {},
   "outputs": [],
   "source": [
    "# Display status code and reason\n"
   ]
  },
  {
   "cell_type": "code",
   "execution_count": null,
   "id": "00b7de33-6cf3-4170-8911-c5530aea9677",
   "metadata": {},
   "outputs": [],
   "source": [
    "# Display response body\n"
   ]
  }
 ],
 "metadata": {
  "kernelspec": {
   "display_name": "Python 3",
   "language": "python",
   "name": "python3"
  },
  "language_info": {
   "codemirror_mode": {
    "name": "ipython",
    "version": 3
   },
   "file_extension": ".py",
   "mimetype": "text/x-python",
   "name": "python",
   "nbconvert_exporter": "python",
   "pygments_lexer": "ipython3",
   "version": "3.8.0rc1"
  }
 },
 "nbformat": 4,
 "nbformat_minor": 5
}
