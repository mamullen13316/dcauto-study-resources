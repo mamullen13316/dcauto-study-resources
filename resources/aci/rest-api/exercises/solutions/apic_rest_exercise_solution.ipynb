{
 "cells": [
  {
   "cell_type": "markdown",
   "id": "1111ca46-1beb-4d06-8d5a-c3aee95142a8",
   "metadata": {
    "tags": []
   },
   "source": [
    "## ACI REST Exercises\n",
    "---\n"
   ]
  },
  {
   "cell_type": "markdown",
   "id": "af81b694-3894-4282-a382-9e2ca646d27b",
   "metadata": {},
   "source": [
    "### Authenticate and get cookie (no requests.sessions object)\n"
   ]
  },
  {
   "cell_type": "code",
   "execution_count": null,
   "id": "cf70fb5a-d8b0-4013-9c7b-0c0d9a7eb6b9",
   "metadata": {},
   "outputs": [],
   "source": [
    "# Disable certificate warnings\n",
    "import requests\n",
    "requests.packages.urllib3.disable_warnings()"
   ]
  },
  {
   "cell_type": "code",
   "execution_count": null,
   "id": "25696318-686f-4dbf-8e7a-839f70f31190",
   "metadata": {},
   "outputs": [],
   "source": [
    "# Setup authentication constants\n",
    "APIC_URL = 'https://sandboxapicdc.cisco.com/api'\n",
    "USER = 'admin'\n",
    "PASSWORD = 'ciscopsdt'"
   ]
  },
  {
   "cell_type": "code",
   "execution_count": null,
   "id": "9ebe5822-f51c-4bf3-a59c-51fb38e02439",
   "metadata": {},
   "outputs": [],
   "source": [
    "# JSON Payload\n",
    "login_json = {\n",
    "    'aaaUser': {\n",
    "        'attributes': {\n",
    "            'name': USER,\n",
    "            'pwd': PASSWORD\n",
    "        }\n",
    "    }\n",
    "}\n",
    "\n",
    "# XML Payload\n",
    "login_xml = f'<aaaUser name=\"{USER}\" pwd=\"{PASSWORD}\" />'"
   ]
  },
  {
   "cell_type": "code",
   "execution_count": null,
   "id": "0205aaef-a110-40f0-8cd7-fbf615070613",
   "metadata": {},
   "outputs": [],
   "source": [
    "# Create JSON login function\n",
    "def apic_login():\n",
    "    endpoint = '/aaaLogin.json'\n",
    "    url = f'{APIC_URL}{endpoint}'\n",
    "    r = requests.post(\n",
    "        url,\n",
    "        verify=False,\n",
    "        timeout=3,\n",
    "        json=login_json\n",
    "    )\n",
    "\n",
    "    r.raise_for_status()\n",
    "\n",
    "    # Display JSON cookie\n",
    "    token = r.json()['imdata'][0]['aaaLogin']['attributes']['token']\n",
    "\n",
    "    # Prepare cookie for reuse\n",
    "    cookie = {'APIC-Cookie': token}\n",
    "\n",
    "    # Return cookie\n",
    "    return cookie"
   ]
  },
  {
   "cell_type": "code",
   "execution_count": null,
   "id": "65809bd1-b973-4a15-adce-c416974f7553",
   "metadata": {},
   "outputs": [],
   "source": [
    "# Create XML login function\n",
    "def xml_apic_login():\n",
    "    endpoint = '/aaaLogin.json'\n",
    "    url = f'{APIC_URL}{endpoint}'\n",
    "    r = requests.post(\n",
    "        url,\n",
    "        verify=False,\n",
    "        timeout=3,\n",
    "        data=login_xml\n",
    "    )\n",
    "\n",
    "    r.raise_for_status()\n",
    "    print(f'{r.status_code} {r.reason}')\n",
    "    \n",
    "    # Display XML cookie\n",
    "    token = r.cookies['APIC-cookie']\n",
    "\n",
    "    # Prepare cookie for reuse\n",
    "    cookie = {'APIC-Cookie': token}\n",
    "\n",
    "    # Return cookie\n",
    "    return cookie"
   ]
  },
  {
   "cell_type": "markdown",
   "id": "ce041c93-6ec3-457a-b2d9-152519303831",
   "metadata": {},
   "source": [
    "---\n",
    "### Create new object with a payload body (no DN in the URL)\n",
    "#### Add query paramater to return a response body with new object details\n"
   ]
  },
  {
   "cell_type": "code",
   "execution_count": null,
   "id": "8dc8450c-b2a0-4f94-8e7f-a4895d8a9097",
   "metadata": {},
   "outputs": [],
   "source": [
    "# Create and send API request\n",
    "cookie = apic_login()\n",
    "\n",
    "endpoint = '/mo/uni.json'\n",
    "url = f'{APIC_URL}{endpoint}?rsp-subtree=modified'\n",
    "json = {\n",
    "    'fvTenant': {\n",
    "        'attributes': {\n",
    "            'name': 'JT_Consulting',\n",
    "            'descr': 'JT_Consulting',\n",
    "            'nameAlias': 'JTC'\n",
    "        }\n",
    "    }\n",
    "}\n",
    "\n",
    "r = requests.post(\n",
    "    url=url,\n",
    "    json=json,\n",
    "    cookies=cookie,\n",
    "    verify=False,\n",
    "    timeout=3\n",
    ")"
   ]
  },
  {
   "cell_type": "code",
   "execution_count": null,
   "id": "e01799ee-08cc-42db-9399-4e4be0ea6a6b",
   "metadata": {},
   "outputs": [],
   "source": [
    "# Display status code and reason\n",
    "r.raise_for_status()\n",
    "print(f'{r.status_code} {r.reason}')"
   ]
  },
  {
   "cell_type": "code",
   "execution_count": null,
   "id": "c2165dbd-9f80-4093-85f1-accbd3b34e8f",
   "metadata": {},
   "outputs": [],
   "source": [
    "# Display response body\n",
    "r.json()"
   ]
  },
  {
   "cell_type": "markdown",
   "id": "85a291e1-b06d-455c-b6c1-17b9161df592",
   "metadata": {
    "tags": []
   },
   "source": [
    "---\n",
    "## Create new object with DN in the URL\n"
   ]
  },
  {
   "cell_type": "code",
   "execution_count": null,
   "id": "8ee5ebc9-1f24-4ec6-9652-883ca98a63c0",
   "metadata": {},
   "outputs": [],
   "source": [
    "# Create and send API request\n",
    "endpoint = '/mo/uni/tn-JT_Consulting/ctx-Test_1.json'\n",
    "# endpoint = '/mo/uni/tn-JT_Consulting.json'\n",
    "url = f'{APIC_URL}{endpoint}?rsp-subtree=modified'\n",
    "json = {\n",
    "    'fvCtx': {\n",
    "        'attributes': {\n",
    "            'name': 'Test_1'\n",
    "        }\n",
    "    }\n",
    "}\n",
    "cookie = apic_login()\n",
    "\n",
    "r = requests.post(\n",
    "    url,\n",
    "    json=json,\n",
    "    cookies=cookie,\n",
    "    verify=False,\n",
    "    timeout=3\n",
    ")"
   ]
  },
  {
   "cell_type": "code",
   "execution_count": null,
   "id": "7b3b44e6-e6d7-4cc5-b5ea-b00635da64d3",
   "metadata": {},
   "outputs": [],
   "source": [
    "# Display status code and reason\n",
    "r.raise_for_status()\n",
    "print(f'{r.status_code} {r.reason}')"
   ]
  },
  {
   "cell_type": "code",
   "execution_count": null,
   "id": "897cffa3-3a3a-427f-b8fb-12aa2b80f917",
   "metadata": {},
   "outputs": [],
   "source": [
    "# Display response body\n",
    "r.json()"
   ]
  },
  {
   "cell_type": "markdown",
   "id": "1878f36c-f9fb-410d-bf56-a26b351910c4",
   "metadata": {},
   "source": [
    "---\n",
    "## Get object with class URL\n",
    "#### Add query paramater to filter by object name\n"
   ]
  },
  {
   "cell_type": "code",
   "execution_count": null,
   "id": "e32545e1-7fbe-48b5-9497-ff08792a778b",
   "metadata": {},
   "outputs": [],
   "source": [
    "# Create and send API request\n",
    "# endpoint = '/class/fvTenant.json'\n",
    "endpoint = '/class/fvCtx.json'\n",
    "url = f'{APIC_URL}{endpoint}?query-target-filter=eq(fvCtx.name, \"Test_1\")'\n",
    "cookie = apic_login()\n",
    "\n",
    "r = requests.get(\n",
    "    url,\n",
    "    cookies=cookie,\n",
    "    verify=False,\n",
    "    timeout=3\n",
    ")"
   ]
  },
  {
   "cell_type": "code",
   "execution_count": null,
   "id": "9744f0c8-be4c-43ab-9c09-040d28ffa6fc",
   "metadata": {},
   "outputs": [],
   "source": [
    "# Display status code and reason\n",
    "r.raise_for_status()\n",
    "print(f'{r.status_code} {r.reason}')"
   ]
  },
  {
   "cell_type": "code",
   "execution_count": null,
   "id": "5493c506-2d1a-40e6-8924-97b762a6b9f8",
   "metadata": {},
   "outputs": [],
   "source": [
    "# Display response body\n",
    "r.json()"
   ]
  },
  {
   "cell_type": "markdown",
   "id": "08c703ce-01da-4c19-8b02-04c02925543e",
   "metadata": {},
   "source": [
    "---\n",
    "## Get object with DN URL\n"
   ]
  },
  {
   "cell_type": "code",
   "execution_count": null,
   "id": "c72dfa8f-da42-4ba8-a26c-6761ba586965",
   "metadata": {},
   "outputs": [],
   "source": [
    "# Create and send API request\n",
    "endpoint = '/mo/uni/tn-JT_Consulting/ctx-Test_1.json'\n",
    "url = f'{APIC_URL}{endpoint}'\n",
    "cookie = apic_login()\n",
    "\n",
    "r = requests.get(\n",
    "    url,\n",
    "    cookies=cookie,\n",
    "    verify=False,\n",
    "    timeout=3\n",
    ")"
   ]
  },
  {
   "cell_type": "code",
   "execution_count": null,
   "id": "10a0a848-1280-4d10-92a9-ea0e73e6d65e",
   "metadata": {},
   "outputs": [],
   "source": [
    "# Display status code and reason\n",
    "r.raise_for_status()\n",
    "print(f'{r.status_code} {r.reason}')"
   ]
  },
  {
   "cell_type": "code",
   "execution_count": null,
   "id": "2590e6d1-d36e-4b6c-ada8-448c2697a708",
   "metadata": {},
   "outputs": [],
   "source": [
    "# Display response body\n",
    "r.json()"
   ]
  },
  {
   "cell_type": "markdown",
   "id": "164d5440-d6c7-444f-a9a1-baac84d15b2c",
   "metadata": {},
   "source": [
    "---\n",
    "### Pause for review\n"
   ]
  },
  {
   "cell_type": "code",
   "execution_count": null,
   "id": "916ca479-ff4b-4920-90cb-a4edeb87203d",
   "metadata": {},
   "outputs": [],
   "source": [
    "_ = input('Press Return/Enter to continue ')"
   ]
  },
  {
   "cell_type": "markdown",
   "id": "5acc0a5e-f97a-46b6-a7ff-df97ffe0e33b",
   "metadata": {},
   "source": [
    "---\n",
    "## Delete object with a payload body"
   ]
  },
  {
   "cell_type": "code",
   "execution_count": null,
   "id": "5985a30f-5d94-4289-a81a-952b24bbdcfc",
   "metadata": {},
   "outputs": [],
   "source": [
    "# Create and send API request\n",
    "endpoint = '/mo/uni.json'\n",
    "url = f'{APIC_URL}{endpoint}?rsp-subtree=modified'\n",
    "json = {\n",
    "    'fvTenant': {\n",
    "        'attributes': {\n",
    "            'name': 'JT_Consulting',\n",
    "        },\n",
    "        'children': [{\n",
    "            'fvCtx': {\n",
    "                'attributes': {\n",
    "                    'name': 'Test_1',\n",
    "                    'status': 'deleted'\n",
    "                    }\n",
    "                }\n",
    "            }\n",
    "        ]\n",
    "    }\n",
    "}\n",
    "cookie = apic_login()\n",
    "\n",
    "r = requests.post(\n",
    "    url,\n",
    "    json=json,\n",
    "    cookies=cookie,\n",
    "    verify=False,\n",
    "    timeout=3\n",
    ")"
   ]
  },
  {
   "cell_type": "code",
   "execution_count": null,
   "id": "1d2db23c-a141-48a4-8f09-54c3c0954eb7",
   "metadata": {},
   "outputs": [],
   "source": [
    "# Display status code and reason\n",
    "r.raise_for_status()\n",
    "print(f'{r.status_code} {r.reason}')"
   ]
  },
  {
   "cell_type": "code",
   "execution_count": null,
   "id": "0b52e251-fede-4538-8600-87e38b686a03",
   "metadata": {},
   "outputs": [],
   "source": [
    "# Display response body\n",
    "r.json()"
   ]
  },
  {
   "cell_type": "markdown",
   "id": "2758b9d7-41b2-42f2-862b-3693ebe657e3",
   "metadata": {},
   "source": [
    "---\n",
    "## Delete object with DN URL\n"
   ]
  },
  {
   "cell_type": "code",
   "execution_count": null,
   "id": "7e8ae317-0c69-4c3c-9f41-4be737b3854d",
   "metadata": {},
   "outputs": [],
   "source": [
    "# Create and send API request\n",
    "# endpoint = '/mo/uni/tn-JT_Consulting/ctx-Test_2.json'\n",
    "endpoint = '/mo/uni/tn-JT_Consulting.json'\n",
    "url = f'{APIC_URL}{endpoint}?rsp-subtree=modified'\n",
    "cookie = apic_login()\n",
    "\n",
    "r = requests.delete(\n",
    "    url,\n",
    "    cookies=cookie,\n",
    "    verify=False,\n",
    "    timeout=3\n",
    ")"
   ]
  },
  {
   "cell_type": "code",
   "execution_count": null,
   "id": "7aab96cb-74bf-4185-bef1-0576b92e17b9",
   "metadata": {},
   "outputs": [],
   "source": [
    "# Display status code and reason\n",
    "r.raise_for_status()\n",
    "print(f'{r.status_code} {r.reason}')"
   ]
  },
  {
   "cell_type": "code",
   "execution_count": null,
   "id": "b748ec3e-f12b-4625-a52d-0942b13b1d29",
   "metadata": {},
   "outputs": [],
   "source": [
    "# Display response body\n",
    "r.json()"
   ]
  }
 ],
 "metadata": {
  "kernelspec": {
   "display_name": "Python 3",
   "language": "python",
   "name": "python3"
  },
  "language_info": {
   "codemirror_mode": {
    "name": "ipython",
    "version": 3
   },
   "file_extension": ".py",
   "mimetype": "text/x-python",
   "name": "python",
   "nbconvert_exporter": "python",
   "pygments_lexer": "ipython3",
   "version": "3.8.0rc1"
  }
 },
 "nbformat": 4,
 "nbformat_minor": 5
}
